{
  "nbformat": 4,
  "nbformat_minor": 0,
  "metadata": {
    "colab": {
      "provenance": [],
      "toc_visible": true
    },
    "kernelspec": {
      "name": "python3",
      "display_name": "Python 3"
    },
    "language_info": {
      "name": "python"
    },
    "widgets": {
      "application/vnd.jupyter.widget-state+json": {
        "5e305bd6393e4b959dc4668831fee6b8": {
          "model_module": "@jupyter-widgets/controls",
          "model_name": "HBoxModel",
          "model_module_version": "1.5.0",
          "state": {
            "_dom_classes": [],
            "_model_module": "@jupyter-widgets/controls",
            "_model_module_version": "1.5.0",
            "_model_name": "HBoxModel",
            "_view_count": null,
            "_view_module": "@jupyter-widgets/controls",
            "_view_module_version": "1.5.0",
            "_view_name": "HBoxView",
            "box_style": "",
            "children": [
              "IPY_MODEL_51b6177658df41bba89091cb9354e872",
              "IPY_MODEL_3fc3a2b6ebf54fc38aa9f535320108b0",
              "IPY_MODEL_14cd25fc54a748b0bbd258b953c5c913"
            ],
            "layout": "IPY_MODEL_8cbf18fa3d1b425ab24fb3bd598ef503"
          }
        },
        "51b6177658df41bba89091cb9354e872": {
          "model_module": "@jupyter-widgets/controls",
          "model_name": "HTMLModel",
          "model_module_version": "1.5.0",
          "state": {
            "_dom_classes": [],
            "_model_module": "@jupyter-widgets/controls",
            "_model_module_version": "1.5.0",
            "_model_name": "HTMLModel",
            "_view_count": null,
            "_view_module": "@jupyter-widgets/controls",
            "_view_module_version": "1.5.0",
            "_view_name": "HTMLView",
            "description": "",
            "description_tooltip": null,
            "layout": "IPY_MODEL_75fa1fa1e8b742d7ab2540d3b24acc1b",
            "placeholder": "​",
            "style": "IPY_MODEL_bd612f558fa44187a19ac1d11ed1e9b0",
            "value": "Building tree: 100%"
          }
        },
        "3fc3a2b6ebf54fc38aa9f535320108b0": {
          "model_module": "@jupyter-widgets/controls",
          "model_name": "FloatProgressModel",
          "model_module_version": "1.5.0",
          "state": {
            "_dom_classes": [],
            "_model_module": "@jupyter-widgets/controls",
            "_model_module_version": "1.5.0",
            "_model_name": "FloatProgressModel",
            "_view_count": null,
            "_view_module": "@jupyter-widgets/controls",
            "_view_module_version": "1.5.0",
            "_view_name": "ProgressView",
            "bar_style": "success",
            "description": "",
            "description_tooltip": null,
            "layout": "IPY_MODEL_ec0370cc72cd44faa2d6f653a0640bf3",
            "max": 45,
            "min": 0,
            "orientation": "horizontal",
            "style": "IPY_MODEL_a09b2910a73743348394f7edf67a92b2",
            "value": 45
          }
        },
        "14cd25fc54a748b0bbd258b953c5c913": {
          "model_module": "@jupyter-widgets/controls",
          "model_name": "HTMLModel",
          "model_module_version": "1.5.0",
          "state": {
            "_dom_classes": [],
            "_model_module": "@jupyter-widgets/controls",
            "_model_module_version": "1.5.0",
            "_model_name": "HTMLModel",
            "_view_count": null,
            "_view_module": "@jupyter-widgets/controls",
            "_view_module_version": "1.5.0",
            "_view_name": "HTMLView",
            "description": "",
            "description_tooltip": null,
            "layout": "IPY_MODEL_b2d61d328c8445dea031f53202db5d2d",
            "placeholder": "​",
            "style": "IPY_MODEL_b3dc955a07c844daa257647919b4e477",
            "value": " 45/45.0 [00:11&lt;00:00,  3.44it/s]"
          }
        },
        "8cbf18fa3d1b425ab24fb3bd598ef503": {
          "model_module": "@jupyter-widgets/base",
          "model_name": "LayoutModel",
          "model_module_version": "1.2.0",
          "state": {
            "_model_module": "@jupyter-widgets/base",
            "_model_module_version": "1.2.0",
            "_model_name": "LayoutModel",
            "_view_count": null,
            "_view_module": "@jupyter-widgets/base",
            "_view_module_version": "1.2.0",
            "_view_name": "LayoutView",
            "align_content": null,
            "align_items": null,
            "align_self": null,
            "border": null,
            "bottom": null,
            "display": null,
            "flex": null,
            "flex_flow": null,
            "grid_area": null,
            "grid_auto_columns": null,
            "grid_auto_flow": null,
            "grid_auto_rows": null,
            "grid_column": null,
            "grid_gap": null,
            "grid_row": null,
            "grid_template_areas": null,
            "grid_template_columns": null,
            "grid_template_rows": null,
            "height": null,
            "justify_content": null,
            "justify_items": null,
            "left": null,
            "margin": null,
            "max_height": null,
            "max_width": null,
            "min_height": null,
            "min_width": null,
            "object_fit": null,
            "object_position": null,
            "order": null,
            "overflow": null,
            "overflow_x": null,
            "overflow_y": null,
            "padding": null,
            "right": null,
            "top": null,
            "visibility": null,
            "width": null
          }
        },
        "75fa1fa1e8b742d7ab2540d3b24acc1b": {
          "model_module": "@jupyter-widgets/base",
          "model_name": "LayoutModel",
          "model_module_version": "1.2.0",
          "state": {
            "_model_module": "@jupyter-widgets/base",
            "_model_module_version": "1.2.0",
            "_model_name": "LayoutModel",
            "_view_count": null,
            "_view_module": "@jupyter-widgets/base",
            "_view_module_version": "1.2.0",
            "_view_name": "LayoutView",
            "align_content": null,
            "align_items": null,
            "align_self": null,
            "border": null,
            "bottom": null,
            "display": null,
            "flex": null,
            "flex_flow": null,
            "grid_area": null,
            "grid_auto_columns": null,
            "grid_auto_flow": null,
            "grid_auto_rows": null,
            "grid_column": null,
            "grid_gap": null,
            "grid_row": null,
            "grid_template_areas": null,
            "grid_template_columns": null,
            "grid_template_rows": null,
            "height": null,
            "justify_content": null,
            "justify_items": null,
            "left": null,
            "margin": null,
            "max_height": null,
            "max_width": null,
            "min_height": null,
            "min_width": null,
            "object_fit": null,
            "object_position": null,
            "order": null,
            "overflow": null,
            "overflow_x": null,
            "overflow_y": null,
            "padding": null,
            "right": null,
            "top": null,
            "visibility": null,
            "width": null
          }
        },
        "bd612f558fa44187a19ac1d11ed1e9b0": {
          "model_module": "@jupyter-widgets/controls",
          "model_name": "DescriptionStyleModel",
          "model_module_version": "1.5.0",
          "state": {
            "_model_module": "@jupyter-widgets/controls",
            "_model_module_version": "1.5.0",
            "_model_name": "DescriptionStyleModel",
            "_view_count": null,
            "_view_module": "@jupyter-widgets/base",
            "_view_module_version": "1.2.0",
            "_view_name": "StyleView",
            "description_width": ""
          }
        },
        "ec0370cc72cd44faa2d6f653a0640bf3": {
          "model_module": "@jupyter-widgets/base",
          "model_name": "LayoutModel",
          "model_module_version": "1.2.0",
          "state": {
            "_model_module": "@jupyter-widgets/base",
            "_model_module_version": "1.2.0",
            "_model_name": "LayoutModel",
            "_view_count": null,
            "_view_module": "@jupyter-widgets/base",
            "_view_module_version": "1.2.0",
            "_view_name": "LayoutView",
            "align_content": null,
            "align_items": null,
            "align_self": null,
            "border": null,
            "bottom": null,
            "display": null,
            "flex": null,
            "flex_flow": null,
            "grid_area": null,
            "grid_auto_columns": null,
            "grid_auto_flow": null,
            "grid_auto_rows": null,
            "grid_column": null,
            "grid_gap": null,
            "grid_row": null,
            "grid_template_areas": null,
            "grid_template_columns": null,
            "grid_template_rows": null,
            "height": null,
            "justify_content": null,
            "justify_items": null,
            "left": null,
            "margin": null,
            "max_height": null,
            "max_width": null,
            "min_height": null,
            "min_width": null,
            "object_fit": null,
            "object_position": null,
            "order": null,
            "overflow": null,
            "overflow_x": null,
            "overflow_y": null,
            "padding": null,
            "right": null,
            "top": null,
            "visibility": null,
            "width": null
          }
        },
        "a09b2910a73743348394f7edf67a92b2": {
          "model_module": "@jupyter-widgets/controls",
          "model_name": "ProgressStyleModel",
          "model_module_version": "1.5.0",
          "state": {
            "_model_module": "@jupyter-widgets/controls",
            "_model_module_version": "1.5.0",
            "_model_name": "ProgressStyleModel",
            "_view_count": null,
            "_view_module": "@jupyter-widgets/base",
            "_view_module_version": "1.2.0",
            "_view_name": "StyleView",
            "bar_color": null,
            "description_width": ""
          }
        },
        "b2d61d328c8445dea031f53202db5d2d": {
          "model_module": "@jupyter-widgets/base",
          "model_name": "LayoutModel",
          "model_module_version": "1.2.0",
          "state": {
            "_model_module": "@jupyter-widgets/base",
            "_model_module_version": "1.2.0",
            "_model_name": "LayoutModel",
            "_view_count": null,
            "_view_module": "@jupyter-widgets/base",
            "_view_module_version": "1.2.0",
            "_view_name": "LayoutView",
            "align_content": null,
            "align_items": null,
            "align_self": null,
            "border": null,
            "bottom": null,
            "display": null,
            "flex": null,
            "flex_flow": null,
            "grid_area": null,
            "grid_auto_columns": null,
            "grid_auto_flow": null,
            "grid_auto_rows": null,
            "grid_column": null,
            "grid_gap": null,
            "grid_row": null,
            "grid_template_areas": null,
            "grid_template_columns": null,
            "grid_template_rows": null,
            "height": null,
            "justify_content": null,
            "justify_items": null,
            "left": null,
            "margin": null,
            "max_height": null,
            "max_width": null,
            "min_height": null,
            "min_width": null,
            "object_fit": null,
            "object_position": null,
            "order": null,
            "overflow": null,
            "overflow_x": null,
            "overflow_y": null,
            "padding": null,
            "right": null,
            "top": null,
            "visibility": null,
            "width": null
          }
        },
        "b3dc955a07c844daa257647919b4e477": {
          "model_module": "@jupyter-widgets/controls",
          "model_name": "DescriptionStyleModel",
          "model_module_version": "1.5.0",
          "state": {
            "_model_module": "@jupyter-widgets/controls",
            "_model_module_version": "1.5.0",
            "_model_name": "DescriptionStyleModel",
            "_view_count": null,
            "_view_module": "@jupyter-widgets/base",
            "_view_module_version": "1.2.0",
            "_view_name": "StyleView",
            "description_width": ""
          }
        },
        "29ae5a6635f444d190a7d0a859b9a773": {
          "model_module": "@jupyter-widgets/controls",
          "model_name": "HBoxModel",
          "model_module_version": "1.5.0",
          "state": {
            "_dom_classes": [],
            "_model_module": "@jupyter-widgets/controls",
            "_model_module_version": "1.5.0",
            "_model_name": "HBoxModel",
            "_view_count": null,
            "_view_module": "@jupyter-widgets/controls",
            "_view_module_version": "1.5.0",
            "_view_name": "HBoxView",
            "box_style": "",
            "children": [
              "IPY_MODEL_821052c59b2d4a18aed21dbbdf1f74c4",
              "IPY_MODEL_80fb5de88929454ca6a5757b28e75d87",
              "IPY_MODEL_5faa0855b920436d86d2cd1db6d2955d"
            ],
            "layout": "IPY_MODEL_d5407de0c47a413eaf00074f01406424"
          }
        },
        "821052c59b2d4a18aed21dbbdf1f74c4": {
          "model_module": "@jupyter-widgets/controls",
          "model_name": "HTMLModel",
          "model_module_version": "1.5.0",
          "state": {
            "_dom_classes": [],
            "_model_module": "@jupyter-widgets/controls",
            "_model_module_version": "1.5.0",
            "_model_name": "HTMLModel",
            "_view_count": null,
            "_view_module": "@jupyter-widgets/controls",
            "_view_module_version": "1.5.0",
            "_view_name": "HTMLView",
            "description": "",
            "description_tooltip": null,
            "layout": "IPY_MODEL_04b4139c81f84fac8fe33f2fcdd6db13",
            "placeholder": "​",
            "style": "IPY_MODEL_3b48706f657443c893e9a58fd64051b6",
            "value": "Building tree: 100%"
          }
        },
        "80fb5de88929454ca6a5757b28e75d87": {
          "model_module": "@jupyter-widgets/controls",
          "model_name": "FloatProgressModel",
          "model_module_version": "1.5.0",
          "state": {
            "_dom_classes": [],
            "_model_module": "@jupyter-widgets/controls",
            "_model_module_version": "1.5.0",
            "_model_name": "FloatProgressModel",
            "_view_count": null,
            "_view_module": "@jupyter-widgets/controls",
            "_view_module_version": "1.5.0",
            "_view_name": "ProgressView",
            "bar_style": "success",
            "description": "",
            "description_tooltip": null,
            "layout": "IPY_MODEL_a44a296d256346c086a7b2e0e66ecfae",
            "max": 45,
            "min": 0,
            "orientation": "horizontal",
            "style": "IPY_MODEL_fb489bdc68d3420980820f28511b72ac",
            "value": 45
          }
        },
        "5faa0855b920436d86d2cd1db6d2955d": {
          "model_module": "@jupyter-widgets/controls",
          "model_name": "HTMLModel",
          "model_module_version": "1.5.0",
          "state": {
            "_dom_classes": [],
            "_model_module": "@jupyter-widgets/controls",
            "_model_module_version": "1.5.0",
            "_model_name": "HTMLModel",
            "_view_count": null,
            "_view_module": "@jupyter-widgets/controls",
            "_view_module_version": "1.5.0",
            "_view_name": "HTMLView",
            "description": "",
            "description_tooltip": null,
            "layout": "IPY_MODEL_284dc1c0ead942908e509a50b6521b17",
            "placeholder": "​",
            "style": "IPY_MODEL_4cace55d60bc4bdfa9eaab0d81248a39",
            "value": " 45/45.0 [00:08&lt;00:00,  5.58it/s]"
          }
        },
        "d5407de0c47a413eaf00074f01406424": {
          "model_module": "@jupyter-widgets/base",
          "model_name": "LayoutModel",
          "model_module_version": "1.2.0",
          "state": {
            "_model_module": "@jupyter-widgets/base",
            "_model_module_version": "1.2.0",
            "_model_name": "LayoutModel",
            "_view_count": null,
            "_view_module": "@jupyter-widgets/base",
            "_view_module_version": "1.2.0",
            "_view_name": "LayoutView",
            "align_content": null,
            "align_items": null,
            "align_self": null,
            "border": null,
            "bottom": null,
            "display": null,
            "flex": null,
            "flex_flow": null,
            "grid_area": null,
            "grid_auto_columns": null,
            "grid_auto_flow": null,
            "grid_auto_rows": null,
            "grid_column": null,
            "grid_gap": null,
            "grid_row": null,
            "grid_template_areas": null,
            "grid_template_columns": null,
            "grid_template_rows": null,
            "height": null,
            "justify_content": null,
            "justify_items": null,
            "left": null,
            "margin": null,
            "max_height": null,
            "max_width": null,
            "min_height": null,
            "min_width": null,
            "object_fit": null,
            "object_position": null,
            "order": null,
            "overflow": null,
            "overflow_x": null,
            "overflow_y": null,
            "padding": null,
            "right": null,
            "top": null,
            "visibility": null,
            "width": null
          }
        },
        "04b4139c81f84fac8fe33f2fcdd6db13": {
          "model_module": "@jupyter-widgets/base",
          "model_name": "LayoutModel",
          "model_module_version": "1.2.0",
          "state": {
            "_model_module": "@jupyter-widgets/base",
            "_model_module_version": "1.2.0",
            "_model_name": "LayoutModel",
            "_view_count": null,
            "_view_module": "@jupyter-widgets/base",
            "_view_module_version": "1.2.0",
            "_view_name": "LayoutView",
            "align_content": null,
            "align_items": null,
            "align_self": null,
            "border": null,
            "bottom": null,
            "display": null,
            "flex": null,
            "flex_flow": null,
            "grid_area": null,
            "grid_auto_columns": null,
            "grid_auto_flow": null,
            "grid_auto_rows": null,
            "grid_column": null,
            "grid_gap": null,
            "grid_row": null,
            "grid_template_areas": null,
            "grid_template_columns": null,
            "grid_template_rows": null,
            "height": null,
            "justify_content": null,
            "justify_items": null,
            "left": null,
            "margin": null,
            "max_height": null,
            "max_width": null,
            "min_height": null,
            "min_width": null,
            "object_fit": null,
            "object_position": null,
            "order": null,
            "overflow": null,
            "overflow_x": null,
            "overflow_y": null,
            "padding": null,
            "right": null,
            "top": null,
            "visibility": null,
            "width": null
          }
        },
        "3b48706f657443c893e9a58fd64051b6": {
          "model_module": "@jupyter-widgets/controls",
          "model_name": "DescriptionStyleModel",
          "model_module_version": "1.5.0",
          "state": {
            "_model_module": "@jupyter-widgets/controls",
            "_model_module_version": "1.5.0",
            "_model_name": "DescriptionStyleModel",
            "_view_count": null,
            "_view_module": "@jupyter-widgets/base",
            "_view_module_version": "1.2.0",
            "_view_name": "StyleView",
            "description_width": ""
          }
        },
        "a44a296d256346c086a7b2e0e66ecfae": {
          "model_module": "@jupyter-widgets/base",
          "model_name": "LayoutModel",
          "model_module_version": "1.2.0",
          "state": {
            "_model_module": "@jupyter-widgets/base",
            "_model_module_version": "1.2.0",
            "_model_name": "LayoutModel",
            "_view_count": null,
            "_view_module": "@jupyter-widgets/base",
            "_view_module_version": "1.2.0",
            "_view_name": "LayoutView",
            "align_content": null,
            "align_items": null,
            "align_self": null,
            "border": null,
            "bottom": null,
            "display": null,
            "flex": null,
            "flex_flow": null,
            "grid_area": null,
            "grid_auto_columns": null,
            "grid_auto_flow": null,
            "grid_auto_rows": null,
            "grid_column": null,
            "grid_gap": null,
            "grid_row": null,
            "grid_template_areas": null,
            "grid_template_columns": null,
            "grid_template_rows": null,
            "height": null,
            "justify_content": null,
            "justify_items": null,
            "left": null,
            "margin": null,
            "max_height": null,
            "max_width": null,
            "min_height": null,
            "min_width": null,
            "object_fit": null,
            "object_position": null,
            "order": null,
            "overflow": null,
            "overflow_x": null,
            "overflow_y": null,
            "padding": null,
            "right": null,
            "top": null,
            "visibility": null,
            "width": null
          }
        },
        "fb489bdc68d3420980820f28511b72ac": {
          "model_module": "@jupyter-widgets/controls",
          "model_name": "ProgressStyleModel",
          "model_module_version": "1.5.0",
          "state": {
            "_model_module": "@jupyter-widgets/controls",
            "_model_module_version": "1.5.0",
            "_model_name": "ProgressStyleModel",
            "_view_count": null,
            "_view_module": "@jupyter-widgets/base",
            "_view_module_version": "1.2.0",
            "_view_name": "StyleView",
            "bar_color": null,
            "description_width": ""
          }
        },
        "284dc1c0ead942908e509a50b6521b17": {
          "model_module": "@jupyter-widgets/base",
          "model_name": "LayoutModel",
          "model_module_version": "1.2.0",
          "state": {
            "_model_module": "@jupyter-widgets/base",
            "_model_module_version": "1.2.0",
            "_model_name": "LayoutModel",
            "_view_count": null,
            "_view_module": "@jupyter-widgets/base",
            "_view_module_version": "1.2.0",
            "_view_name": "LayoutView",
            "align_content": null,
            "align_items": null,
            "align_self": null,
            "border": null,
            "bottom": null,
            "display": null,
            "flex": null,
            "flex_flow": null,
            "grid_area": null,
            "grid_auto_columns": null,
            "grid_auto_flow": null,
            "grid_auto_rows": null,
            "grid_column": null,
            "grid_gap": null,
            "grid_row": null,
            "grid_template_areas": null,
            "grid_template_columns": null,
            "grid_template_rows": null,
            "height": null,
            "justify_content": null,
            "justify_items": null,
            "left": null,
            "margin": null,
            "max_height": null,
            "max_width": null,
            "min_height": null,
            "min_width": null,
            "object_fit": null,
            "object_position": null,
            "order": null,
            "overflow": null,
            "overflow_x": null,
            "overflow_y": null,
            "padding": null,
            "right": null,
            "top": null,
            "visibility": null,
            "width": null
          }
        },
        "4cace55d60bc4bdfa9eaab0d81248a39": {
          "model_module": "@jupyter-widgets/controls",
          "model_name": "DescriptionStyleModel",
          "model_module_version": "1.5.0",
          "state": {
            "_model_module": "@jupyter-widgets/controls",
            "_model_module_version": "1.5.0",
            "_model_name": "DescriptionStyleModel",
            "_view_count": null,
            "_view_module": "@jupyter-widgets/base",
            "_view_module_version": "1.2.0",
            "_view_name": "StyleView",
            "description_width": ""
          }
        },
        "625d25e291874b089bbe3c38e1472d68": {
          "model_module": "@jupyter-widgets/controls",
          "model_name": "HBoxModel",
          "model_module_version": "1.5.0",
          "state": {
            "_dom_classes": [],
            "_model_module": "@jupyter-widgets/controls",
            "_model_module_version": "1.5.0",
            "_model_name": "HBoxModel",
            "_view_count": null,
            "_view_module": "@jupyter-widgets/controls",
            "_view_module_version": "1.5.0",
            "_view_name": "HBoxView",
            "box_style": "",
            "children": [
              "IPY_MODEL_b5223ae3fab642e7b7f9fe62286e862f",
              "IPY_MODEL_fa02d2535dcf421fa05ce4931aa518ce",
              "IPY_MODEL_ecd36ec479ec4fe0b95c6f65c844a84f"
            ],
            "layout": "IPY_MODEL_9b358cbc10b34c9193952d7f54b2ffe2"
          }
        },
        "b5223ae3fab642e7b7f9fe62286e862f": {
          "model_module": "@jupyter-widgets/controls",
          "model_name": "HTMLModel",
          "model_module_version": "1.5.0",
          "state": {
            "_dom_classes": [],
            "_model_module": "@jupyter-widgets/controls",
            "_model_module_version": "1.5.0",
            "_model_name": "HTMLModel",
            "_view_count": null,
            "_view_module": "@jupyter-widgets/controls",
            "_view_module_version": "1.5.0",
            "_view_name": "HTMLView",
            "description": "",
            "description_tooltip": null,
            "layout": "IPY_MODEL_5a948ceac89746218b8c68785b648a27",
            "placeholder": "​",
            "style": "IPY_MODEL_0d13fecbe51548ea96fd93d27e5c1521",
            "value": "Building tree: 100%"
          }
        },
        "fa02d2535dcf421fa05ce4931aa518ce": {
          "model_module": "@jupyter-widgets/controls",
          "model_name": "FloatProgressModel",
          "model_module_version": "1.5.0",
          "state": {
            "_dom_classes": [],
            "_model_module": "@jupyter-widgets/controls",
            "_model_module_version": "1.5.0",
            "_model_name": "FloatProgressModel",
            "_view_count": null,
            "_view_module": "@jupyter-widgets/controls",
            "_view_module_version": "1.5.0",
            "_view_name": "ProgressView",
            "bar_style": "success",
            "description": "",
            "description_tooltip": null,
            "layout": "IPY_MODEL_5df319b2d935496f8af9ca73984db5ef",
            "max": 45,
            "min": 0,
            "orientation": "horizontal",
            "style": "IPY_MODEL_962f23194b744af38f365c42e3a999c5",
            "value": 45
          }
        },
        "ecd36ec479ec4fe0b95c6f65c844a84f": {
          "model_module": "@jupyter-widgets/controls",
          "model_name": "HTMLModel",
          "model_module_version": "1.5.0",
          "state": {
            "_dom_classes": [],
            "_model_module": "@jupyter-widgets/controls",
            "_model_module_version": "1.5.0",
            "_model_name": "HTMLModel",
            "_view_count": null,
            "_view_module": "@jupyter-widgets/controls",
            "_view_module_version": "1.5.0",
            "_view_name": "HTMLView",
            "description": "",
            "description_tooltip": null,
            "layout": "IPY_MODEL_47a74efed7b54263a5cdfadcd3333f0b",
            "placeholder": "​",
            "style": "IPY_MODEL_430df672cf49417eacbe5ac405b88672",
            "value": " 45/45.0 [00:11&lt;00:00,  2.56it/s]"
          }
        },
        "9b358cbc10b34c9193952d7f54b2ffe2": {
          "model_module": "@jupyter-widgets/base",
          "model_name": "LayoutModel",
          "model_module_version": "1.2.0",
          "state": {
            "_model_module": "@jupyter-widgets/base",
            "_model_module_version": "1.2.0",
            "_model_name": "LayoutModel",
            "_view_count": null,
            "_view_module": "@jupyter-widgets/base",
            "_view_module_version": "1.2.0",
            "_view_name": "LayoutView",
            "align_content": null,
            "align_items": null,
            "align_self": null,
            "border": null,
            "bottom": null,
            "display": null,
            "flex": null,
            "flex_flow": null,
            "grid_area": null,
            "grid_auto_columns": null,
            "grid_auto_flow": null,
            "grid_auto_rows": null,
            "grid_column": null,
            "grid_gap": null,
            "grid_row": null,
            "grid_template_areas": null,
            "grid_template_columns": null,
            "grid_template_rows": null,
            "height": null,
            "justify_content": null,
            "justify_items": null,
            "left": null,
            "margin": null,
            "max_height": null,
            "max_width": null,
            "min_height": null,
            "min_width": null,
            "object_fit": null,
            "object_position": null,
            "order": null,
            "overflow": null,
            "overflow_x": null,
            "overflow_y": null,
            "padding": null,
            "right": null,
            "top": null,
            "visibility": null,
            "width": null
          }
        },
        "5a948ceac89746218b8c68785b648a27": {
          "model_module": "@jupyter-widgets/base",
          "model_name": "LayoutModel",
          "model_module_version": "1.2.0",
          "state": {
            "_model_module": "@jupyter-widgets/base",
            "_model_module_version": "1.2.0",
            "_model_name": "LayoutModel",
            "_view_count": null,
            "_view_module": "@jupyter-widgets/base",
            "_view_module_version": "1.2.0",
            "_view_name": "LayoutView",
            "align_content": null,
            "align_items": null,
            "align_self": null,
            "border": null,
            "bottom": null,
            "display": null,
            "flex": null,
            "flex_flow": null,
            "grid_area": null,
            "grid_auto_columns": null,
            "grid_auto_flow": null,
            "grid_auto_rows": null,
            "grid_column": null,
            "grid_gap": null,
            "grid_row": null,
            "grid_template_areas": null,
            "grid_template_columns": null,
            "grid_template_rows": null,
            "height": null,
            "justify_content": null,
            "justify_items": null,
            "left": null,
            "margin": null,
            "max_height": null,
            "max_width": null,
            "min_height": null,
            "min_width": null,
            "object_fit": null,
            "object_position": null,
            "order": null,
            "overflow": null,
            "overflow_x": null,
            "overflow_y": null,
            "padding": null,
            "right": null,
            "top": null,
            "visibility": null,
            "width": null
          }
        },
        "0d13fecbe51548ea96fd93d27e5c1521": {
          "model_module": "@jupyter-widgets/controls",
          "model_name": "DescriptionStyleModel",
          "model_module_version": "1.5.0",
          "state": {
            "_model_module": "@jupyter-widgets/controls",
            "_model_module_version": "1.5.0",
            "_model_name": "DescriptionStyleModel",
            "_view_count": null,
            "_view_module": "@jupyter-widgets/base",
            "_view_module_version": "1.2.0",
            "_view_name": "StyleView",
            "description_width": ""
          }
        },
        "5df319b2d935496f8af9ca73984db5ef": {
          "model_module": "@jupyter-widgets/base",
          "model_name": "LayoutModel",
          "model_module_version": "1.2.0",
          "state": {
            "_model_module": "@jupyter-widgets/base",
            "_model_module_version": "1.2.0",
            "_model_name": "LayoutModel",
            "_view_count": null,
            "_view_module": "@jupyter-widgets/base",
            "_view_module_version": "1.2.0",
            "_view_name": "LayoutView",
            "align_content": null,
            "align_items": null,
            "align_self": null,
            "border": null,
            "bottom": null,
            "display": null,
            "flex": null,
            "flex_flow": null,
            "grid_area": null,
            "grid_auto_columns": null,
            "grid_auto_flow": null,
            "grid_auto_rows": null,
            "grid_column": null,
            "grid_gap": null,
            "grid_row": null,
            "grid_template_areas": null,
            "grid_template_columns": null,
            "grid_template_rows": null,
            "height": null,
            "justify_content": null,
            "justify_items": null,
            "left": null,
            "margin": null,
            "max_height": null,
            "max_width": null,
            "min_height": null,
            "min_width": null,
            "object_fit": null,
            "object_position": null,
            "order": null,
            "overflow": null,
            "overflow_x": null,
            "overflow_y": null,
            "padding": null,
            "right": null,
            "top": null,
            "visibility": null,
            "width": null
          }
        },
        "962f23194b744af38f365c42e3a999c5": {
          "model_module": "@jupyter-widgets/controls",
          "model_name": "ProgressStyleModel",
          "model_module_version": "1.5.0",
          "state": {
            "_model_module": "@jupyter-widgets/controls",
            "_model_module_version": "1.5.0",
            "_model_name": "ProgressStyleModel",
            "_view_count": null,
            "_view_module": "@jupyter-widgets/base",
            "_view_module_version": "1.2.0",
            "_view_name": "StyleView",
            "bar_color": null,
            "description_width": ""
          }
        },
        "47a74efed7b54263a5cdfadcd3333f0b": {
          "model_module": "@jupyter-widgets/base",
          "model_name": "LayoutModel",
          "model_module_version": "1.2.0",
          "state": {
            "_model_module": "@jupyter-widgets/base",
            "_model_module_version": "1.2.0",
            "_model_name": "LayoutModel",
            "_view_count": null,
            "_view_module": "@jupyter-widgets/base",
            "_view_module_version": "1.2.0",
            "_view_name": "LayoutView",
            "align_content": null,
            "align_items": null,
            "align_self": null,
            "border": null,
            "bottom": null,
            "display": null,
            "flex": null,
            "flex_flow": null,
            "grid_area": null,
            "grid_auto_columns": null,
            "grid_auto_flow": null,
            "grid_auto_rows": null,
            "grid_column": null,
            "grid_gap": null,
            "grid_row": null,
            "grid_template_areas": null,
            "grid_template_columns": null,
            "grid_template_rows": null,
            "height": null,
            "justify_content": null,
            "justify_items": null,
            "left": null,
            "margin": null,
            "max_height": null,
            "max_width": null,
            "min_height": null,
            "min_width": null,
            "object_fit": null,
            "object_position": null,
            "order": null,
            "overflow": null,
            "overflow_x": null,
            "overflow_y": null,
            "padding": null,
            "right": null,
            "top": null,
            "visibility": null,
            "width": null
          }
        },
        "430df672cf49417eacbe5ac405b88672": {
          "model_module": "@jupyter-widgets/controls",
          "model_name": "DescriptionStyleModel",
          "model_module_version": "1.5.0",
          "state": {
            "_model_module": "@jupyter-widgets/controls",
            "_model_module_version": "1.5.0",
            "_model_name": "DescriptionStyleModel",
            "_view_count": null,
            "_view_module": "@jupyter-widgets/base",
            "_view_module_version": "1.2.0",
            "_view_name": "StyleView",
            "description_width": ""
          }
        },
        "a2d7b8c0031c4bbea459137131b2268c": {
          "model_module": "@jupyter-widgets/controls",
          "model_name": "HBoxModel",
          "model_module_version": "1.5.0",
          "state": {
            "_dom_classes": [],
            "_model_module": "@jupyter-widgets/controls",
            "_model_module_version": "1.5.0",
            "_model_name": "HBoxModel",
            "_view_count": null,
            "_view_module": "@jupyter-widgets/controls",
            "_view_module_version": "1.5.0",
            "_view_name": "HBoxView",
            "box_style": "",
            "children": [
              "IPY_MODEL_cccd1537d9174198a0123a9992cdbb61",
              "IPY_MODEL_e96301e8945d4bcaaf813af58525a954",
              "IPY_MODEL_532c043ad8054c7098bd0f7356880e83"
            ],
            "layout": "IPY_MODEL_a21000f9ab404e03b85600e7b344a7b3"
          }
        },
        "cccd1537d9174198a0123a9992cdbb61": {
          "model_module": "@jupyter-widgets/controls",
          "model_name": "HTMLModel",
          "model_module_version": "1.5.0",
          "state": {
            "_dom_classes": [],
            "_model_module": "@jupyter-widgets/controls",
            "_model_module_version": "1.5.0",
            "_model_name": "HTMLModel",
            "_view_count": null,
            "_view_module": "@jupyter-widgets/controls",
            "_view_module_version": "1.5.0",
            "_view_name": "HTMLView",
            "description": "",
            "description_tooltip": null,
            "layout": "IPY_MODEL_a92c1442af224553a55e3a585336cff1",
            "placeholder": "​",
            "style": "IPY_MODEL_bc6568d676ad4abe874a634320b4b9f5",
            "value": "100%"
          }
        },
        "e96301e8945d4bcaaf813af58525a954": {
          "model_module": "@jupyter-widgets/controls",
          "model_name": "FloatProgressModel",
          "model_module_version": "1.5.0",
          "state": {
            "_dom_classes": [],
            "_model_module": "@jupyter-widgets/controls",
            "_model_module_version": "1.5.0",
            "_model_name": "FloatProgressModel",
            "_view_count": null,
            "_view_module": "@jupyter-widgets/controls",
            "_view_module_version": "1.5.0",
            "_view_name": "ProgressView",
            "bar_style": "success",
            "description": "",
            "description_tooltip": null,
            "layout": "IPY_MODEL_8892f72ccb9f4dc9b449fc4c38042632",
            "max": 2559,
            "min": 0,
            "orientation": "horizontal",
            "style": "IPY_MODEL_c94f7a5ae8bd4846a74b087991358a45",
            "value": 2559
          }
        },
        "532c043ad8054c7098bd0f7356880e83": {
          "model_module": "@jupyter-widgets/controls",
          "model_name": "HTMLModel",
          "model_module_version": "1.5.0",
          "state": {
            "_dom_classes": [],
            "_model_module": "@jupyter-widgets/controls",
            "_model_module_version": "1.5.0",
            "_model_name": "HTMLModel",
            "_view_count": null,
            "_view_module": "@jupyter-widgets/controls",
            "_view_module_version": "1.5.0",
            "_view_name": "HTMLView",
            "description": "",
            "description_tooltip": null,
            "layout": "IPY_MODEL_951f8f80625a435bbc7376da98932c2c",
            "placeholder": "​",
            "style": "IPY_MODEL_9a1e7ace94694184b3b3ef288f56c5c9",
            "value": " 2559/2559 [00:16&lt;00:00, 286.04it/s]"
          }
        },
        "a21000f9ab404e03b85600e7b344a7b3": {
          "model_module": "@jupyter-widgets/base",
          "model_name": "LayoutModel",
          "model_module_version": "1.2.0",
          "state": {
            "_model_module": "@jupyter-widgets/base",
            "_model_module_version": "1.2.0",
            "_model_name": "LayoutModel",
            "_view_count": null,
            "_view_module": "@jupyter-widgets/base",
            "_view_module_version": "1.2.0",
            "_view_name": "LayoutView",
            "align_content": null,
            "align_items": null,
            "align_self": null,
            "border": null,
            "bottom": null,
            "display": null,
            "flex": null,
            "flex_flow": null,
            "grid_area": null,
            "grid_auto_columns": null,
            "grid_auto_flow": null,
            "grid_auto_rows": null,
            "grid_column": null,
            "grid_gap": null,
            "grid_row": null,
            "grid_template_areas": null,
            "grid_template_columns": null,
            "grid_template_rows": null,
            "height": null,
            "justify_content": null,
            "justify_items": null,
            "left": null,
            "margin": null,
            "max_height": null,
            "max_width": null,
            "min_height": null,
            "min_width": null,
            "object_fit": null,
            "object_position": null,
            "order": null,
            "overflow": null,
            "overflow_x": null,
            "overflow_y": null,
            "padding": null,
            "right": null,
            "top": null,
            "visibility": null,
            "width": null
          }
        },
        "a92c1442af224553a55e3a585336cff1": {
          "model_module": "@jupyter-widgets/base",
          "model_name": "LayoutModel",
          "model_module_version": "1.2.0",
          "state": {
            "_model_module": "@jupyter-widgets/base",
            "_model_module_version": "1.2.0",
            "_model_name": "LayoutModel",
            "_view_count": null,
            "_view_module": "@jupyter-widgets/base",
            "_view_module_version": "1.2.0",
            "_view_name": "LayoutView",
            "align_content": null,
            "align_items": null,
            "align_self": null,
            "border": null,
            "bottom": null,
            "display": null,
            "flex": null,
            "flex_flow": null,
            "grid_area": null,
            "grid_auto_columns": null,
            "grid_auto_flow": null,
            "grid_auto_rows": null,
            "grid_column": null,
            "grid_gap": null,
            "grid_row": null,
            "grid_template_areas": null,
            "grid_template_columns": null,
            "grid_template_rows": null,
            "height": null,
            "justify_content": null,
            "justify_items": null,
            "left": null,
            "margin": null,
            "max_height": null,
            "max_width": null,
            "min_height": null,
            "min_width": null,
            "object_fit": null,
            "object_position": null,
            "order": null,
            "overflow": null,
            "overflow_x": null,
            "overflow_y": null,
            "padding": null,
            "right": null,
            "top": null,
            "visibility": null,
            "width": null
          }
        },
        "bc6568d676ad4abe874a634320b4b9f5": {
          "model_module": "@jupyter-widgets/controls",
          "model_name": "DescriptionStyleModel",
          "model_module_version": "1.5.0",
          "state": {
            "_model_module": "@jupyter-widgets/controls",
            "_model_module_version": "1.5.0",
            "_model_name": "DescriptionStyleModel",
            "_view_count": null,
            "_view_module": "@jupyter-widgets/base",
            "_view_module_version": "1.2.0",
            "_view_name": "StyleView",
            "description_width": ""
          }
        },
        "8892f72ccb9f4dc9b449fc4c38042632": {
          "model_module": "@jupyter-widgets/base",
          "model_name": "LayoutModel",
          "model_module_version": "1.2.0",
          "state": {
            "_model_module": "@jupyter-widgets/base",
            "_model_module_version": "1.2.0",
            "_model_name": "LayoutModel",
            "_view_count": null,
            "_view_module": "@jupyter-widgets/base",
            "_view_module_version": "1.2.0",
            "_view_name": "LayoutView",
            "align_content": null,
            "align_items": null,
            "align_self": null,
            "border": null,
            "bottom": null,
            "display": null,
            "flex": null,
            "flex_flow": null,
            "grid_area": null,
            "grid_auto_columns": null,
            "grid_auto_flow": null,
            "grid_auto_rows": null,
            "grid_column": null,
            "grid_gap": null,
            "grid_row": null,
            "grid_template_areas": null,
            "grid_template_columns": null,
            "grid_template_rows": null,
            "height": null,
            "justify_content": null,
            "justify_items": null,
            "left": null,
            "margin": null,
            "max_height": null,
            "max_width": null,
            "min_height": null,
            "min_width": null,
            "object_fit": null,
            "object_position": null,
            "order": null,
            "overflow": null,
            "overflow_x": null,
            "overflow_y": null,
            "padding": null,
            "right": null,
            "top": null,
            "visibility": null,
            "width": null
          }
        },
        "c94f7a5ae8bd4846a74b087991358a45": {
          "model_module": "@jupyter-widgets/controls",
          "model_name": "ProgressStyleModel",
          "model_module_version": "1.5.0",
          "state": {
            "_model_module": "@jupyter-widgets/controls",
            "_model_module_version": "1.5.0",
            "_model_name": "ProgressStyleModel",
            "_view_count": null,
            "_view_module": "@jupyter-widgets/base",
            "_view_module_version": "1.2.0",
            "_view_name": "StyleView",
            "bar_color": null,
            "description_width": ""
          }
        },
        "951f8f80625a435bbc7376da98932c2c": {
          "model_module": "@jupyter-widgets/base",
          "model_name": "LayoutModel",
          "model_module_version": "1.2.0",
          "state": {
            "_model_module": "@jupyter-widgets/base",
            "_model_module_version": "1.2.0",
            "_model_name": "LayoutModel",
            "_view_count": null,
            "_view_module": "@jupyter-widgets/base",
            "_view_module_version": "1.2.0",
            "_view_name": "LayoutView",
            "align_content": null,
            "align_items": null,
            "align_self": null,
            "border": null,
            "bottom": null,
            "display": null,
            "flex": null,
            "flex_flow": null,
            "grid_area": null,
            "grid_auto_columns": null,
            "grid_auto_flow": null,
            "grid_auto_rows": null,
            "grid_column": null,
            "grid_gap": null,
            "grid_row": null,
            "grid_template_areas": null,
            "grid_template_columns": null,
            "grid_template_rows": null,
            "height": null,
            "justify_content": null,
            "justify_items": null,
            "left": null,
            "margin": null,
            "max_height": null,
            "max_width": null,
            "min_height": null,
            "min_width": null,
            "object_fit": null,
            "object_position": null,
            "order": null,
            "overflow": null,
            "overflow_x": null,
            "overflow_y": null,
            "padding": null,
            "right": null,
            "top": null,
            "visibility": null,
            "width": null
          }
        },
        "9a1e7ace94694184b3b3ef288f56c5c9": {
          "model_module": "@jupyter-widgets/controls",
          "model_name": "DescriptionStyleModel",
          "model_module_version": "1.5.0",
          "state": {
            "_model_module": "@jupyter-widgets/controls",
            "_model_module_version": "1.5.0",
            "_model_name": "DescriptionStyleModel",
            "_view_count": null,
            "_view_module": "@jupyter-widgets/base",
            "_view_module_version": "1.2.0",
            "_view_name": "StyleView",
            "description_width": ""
          }
        },
        "fda1d2918a9e4efc8fa3ff19f8904000": {
          "model_module": "@jupyter-widgets/controls",
          "model_name": "HBoxModel",
          "model_module_version": "1.5.0",
          "state": {
            "_dom_classes": [],
            "_model_module": "@jupyter-widgets/controls",
            "_model_module_version": "1.5.0",
            "_model_name": "HBoxModel",
            "_view_count": null,
            "_view_module": "@jupyter-widgets/controls",
            "_view_module_version": "1.5.0",
            "_view_name": "HBoxView",
            "box_style": "",
            "children": [
              "IPY_MODEL_af641415c1344c78aee5a1f8bf1a74d5",
              "IPY_MODEL_fbf4d0c846b845abbb913212be1bc9eb",
              "IPY_MODEL_5641b7f278204a79b4a6ebe1fbe3eccd"
            ],
            "layout": "IPY_MODEL_7315278765ee418290ac46ea6bde3353"
          }
        },
        "af641415c1344c78aee5a1f8bf1a74d5": {
          "model_module": "@jupyter-widgets/controls",
          "model_name": "HTMLModel",
          "model_module_version": "1.5.0",
          "state": {
            "_dom_classes": [],
            "_model_module": "@jupyter-widgets/controls",
            "_model_module_version": "1.5.0",
            "_model_name": "HTMLModel",
            "_view_count": null,
            "_view_module": "@jupyter-widgets/controls",
            "_view_module_version": "1.5.0",
            "_view_name": "HTMLView",
            "description": "",
            "description_tooltip": null,
            "layout": "IPY_MODEL_ec64f1663a354c61a61a7149aff37410",
            "placeholder": "​",
            "style": "IPY_MODEL_c2b48b76366447ca9fc11932bc6f07a9",
            "value": "100%"
          }
        },
        "fbf4d0c846b845abbb913212be1bc9eb": {
          "model_module": "@jupyter-widgets/controls",
          "model_name": "FloatProgressModel",
          "model_module_version": "1.5.0",
          "state": {
            "_dom_classes": [],
            "_model_module": "@jupyter-widgets/controls",
            "_model_module_version": "1.5.0",
            "_model_name": "FloatProgressModel",
            "_view_count": null,
            "_view_module": "@jupyter-widgets/controls",
            "_view_module_version": "1.5.0",
            "_view_name": "ProgressView",
            "bar_style": "success",
            "description": "",
            "description_tooltip": null,
            "layout": "IPY_MODEL_46a372c1654847fea68d5d62ac0e413b",
            "max": 2559,
            "min": 0,
            "orientation": "horizontal",
            "style": "IPY_MODEL_09ce2ff5e380472c91b7e05f12f0face",
            "value": 2559
          }
        },
        "5641b7f278204a79b4a6ebe1fbe3eccd": {
          "model_module": "@jupyter-widgets/controls",
          "model_name": "HTMLModel",
          "model_module_version": "1.5.0",
          "state": {
            "_dom_classes": [],
            "_model_module": "@jupyter-widgets/controls",
            "_model_module_version": "1.5.0",
            "_model_name": "HTMLModel",
            "_view_count": null,
            "_view_module": "@jupyter-widgets/controls",
            "_view_module_version": "1.5.0",
            "_view_name": "HTMLView",
            "description": "",
            "description_tooltip": null,
            "layout": "IPY_MODEL_26c63dcc4cbe4f7ba2fd072e39c0961d",
            "placeholder": "​",
            "style": "IPY_MODEL_e26e9dd47f4b4137a615a508bc3b93c0",
            "value": " 2559/2559 [00:11&lt;00:00, 151.00it/s]"
          }
        },
        "7315278765ee418290ac46ea6bde3353": {
          "model_module": "@jupyter-widgets/base",
          "model_name": "LayoutModel",
          "model_module_version": "1.2.0",
          "state": {
            "_model_module": "@jupyter-widgets/base",
            "_model_module_version": "1.2.0",
            "_model_name": "LayoutModel",
            "_view_count": null,
            "_view_module": "@jupyter-widgets/base",
            "_view_module_version": "1.2.0",
            "_view_name": "LayoutView",
            "align_content": null,
            "align_items": null,
            "align_self": null,
            "border": null,
            "bottom": null,
            "display": null,
            "flex": null,
            "flex_flow": null,
            "grid_area": null,
            "grid_auto_columns": null,
            "grid_auto_flow": null,
            "grid_auto_rows": null,
            "grid_column": null,
            "grid_gap": null,
            "grid_row": null,
            "grid_template_areas": null,
            "grid_template_columns": null,
            "grid_template_rows": null,
            "height": null,
            "justify_content": null,
            "justify_items": null,
            "left": null,
            "margin": null,
            "max_height": null,
            "max_width": null,
            "min_height": null,
            "min_width": null,
            "object_fit": null,
            "object_position": null,
            "order": null,
            "overflow": null,
            "overflow_x": null,
            "overflow_y": null,
            "padding": null,
            "right": null,
            "top": null,
            "visibility": null,
            "width": null
          }
        },
        "ec64f1663a354c61a61a7149aff37410": {
          "model_module": "@jupyter-widgets/base",
          "model_name": "LayoutModel",
          "model_module_version": "1.2.0",
          "state": {
            "_model_module": "@jupyter-widgets/base",
            "_model_module_version": "1.2.0",
            "_model_name": "LayoutModel",
            "_view_count": null,
            "_view_module": "@jupyter-widgets/base",
            "_view_module_version": "1.2.0",
            "_view_name": "LayoutView",
            "align_content": null,
            "align_items": null,
            "align_self": null,
            "border": null,
            "bottom": null,
            "display": null,
            "flex": null,
            "flex_flow": null,
            "grid_area": null,
            "grid_auto_columns": null,
            "grid_auto_flow": null,
            "grid_auto_rows": null,
            "grid_column": null,
            "grid_gap": null,
            "grid_row": null,
            "grid_template_areas": null,
            "grid_template_columns": null,
            "grid_template_rows": null,
            "height": null,
            "justify_content": null,
            "justify_items": null,
            "left": null,
            "margin": null,
            "max_height": null,
            "max_width": null,
            "min_height": null,
            "min_width": null,
            "object_fit": null,
            "object_position": null,
            "order": null,
            "overflow": null,
            "overflow_x": null,
            "overflow_y": null,
            "padding": null,
            "right": null,
            "top": null,
            "visibility": null,
            "width": null
          }
        },
        "c2b48b76366447ca9fc11932bc6f07a9": {
          "model_module": "@jupyter-widgets/controls",
          "model_name": "DescriptionStyleModel",
          "model_module_version": "1.5.0",
          "state": {
            "_model_module": "@jupyter-widgets/controls",
            "_model_module_version": "1.5.0",
            "_model_name": "DescriptionStyleModel",
            "_view_count": null,
            "_view_module": "@jupyter-widgets/base",
            "_view_module_version": "1.2.0",
            "_view_name": "StyleView",
            "description_width": ""
          }
        },
        "46a372c1654847fea68d5d62ac0e413b": {
          "model_module": "@jupyter-widgets/base",
          "model_name": "LayoutModel",
          "model_module_version": "1.2.0",
          "state": {
            "_model_module": "@jupyter-widgets/base",
            "_model_module_version": "1.2.0",
            "_model_name": "LayoutModel",
            "_view_count": null,
            "_view_module": "@jupyter-widgets/base",
            "_view_module_version": "1.2.0",
            "_view_name": "LayoutView",
            "align_content": null,
            "align_items": null,
            "align_self": null,
            "border": null,
            "bottom": null,
            "display": null,
            "flex": null,
            "flex_flow": null,
            "grid_area": null,
            "grid_auto_columns": null,
            "grid_auto_flow": null,
            "grid_auto_rows": null,
            "grid_column": null,
            "grid_gap": null,
            "grid_row": null,
            "grid_template_areas": null,
            "grid_template_columns": null,
            "grid_template_rows": null,
            "height": null,
            "justify_content": null,
            "justify_items": null,
            "left": null,
            "margin": null,
            "max_height": null,
            "max_width": null,
            "min_height": null,
            "min_width": null,
            "object_fit": null,
            "object_position": null,
            "order": null,
            "overflow": null,
            "overflow_x": null,
            "overflow_y": null,
            "padding": null,
            "right": null,
            "top": null,
            "visibility": null,
            "width": null
          }
        },
        "09ce2ff5e380472c91b7e05f12f0face": {
          "model_module": "@jupyter-widgets/controls",
          "model_name": "ProgressStyleModel",
          "model_module_version": "1.5.0",
          "state": {
            "_model_module": "@jupyter-widgets/controls",
            "_model_module_version": "1.5.0",
            "_model_name": "ProgressStyleModel",
            "_view_count": null,
            "_view_module": "@jupyter-widgets/base",
            "_view_module_version": "1.2.0",
            "_view_name": "StyleView",
            "bar_color": null,
            "description_width": ""
          }
        },
        "26c63dcc4cbe4f7ba2fd072e39c0961d": {
          "model_module": "@jupyter-widgets/base",
          "model_name": "LayoutModel",
          "model_module_version": "1.2.0",
          "state": {
            "_model_module": "@jupyter-widgets/base",
            "_model_module_version": "1.2.0",
            "_model_name": "LayoutModel",
            "_view_count": null,
            "_view_module": "@jupyter-widgets/base",
            "_view_module_version": "1.2.0",
            "_view_name": "LayoutView",
            "align_content": null,
            "align_items": null,
            "align_self": null,
            "border": null,
            "bottom": null,
            "display": null,
            "flex": null,
            "flex_flow": null,
            "grid_area": null,
            "grid_auto_columns": null,
            "grid_auto_flow": null,
            "grid_auto_rows": null,
            "grid_column": null,
            "grid_gap": null,
            "grid_row": null,
            "grid_template_areas": null,
            "grid_template_columns": null,
            "grid_template_rows": null,
            "height": null,
            "justify_content": null,
            "justify_items": null,
            "left": null,
            "margin": null,
            "max_height": null,
            "max_width": null,
            "min_height": null,
            "min_width": null,
            "object_fit": null,
            "object_position": null,
            "order": null,
            "overflow": null,
            "overflow_x": null,
            "overflow_y": null,
            "padding": null,
            "right": null,
            "top": null,
            "visibility": null,
            "width": null
          }
        },
        "e26e9dd47f4b4137a615a508bc3b93c0": {
          "model_module": "@jupyter-widgets/controls",
          "model_name": "DescriptionStyleModel",
          "model_module_version": "1.5.0",
          "state": {
            "_model_module": "@jupyter-widgets/controls",
            "_model_module_version": "1.5.0",
            "_model_name": "DescriptionStyleModel",
            "_view_count": null,
            "_view_module": "@jupyter-widgets/base",
            "_view_module_version": "1.2.0",
            "_view_name": "StyleView",
            "description_width": ""
          }
        },
        "ea8a2d59d66a4474b1488896a817d82f": {
          "model_module": "@jupyter-widgets/controls",
          "model_name": "HBoxModel",
          "model_module_version": "1.5.0",
          "state": {
            "_dom_classes": [],
            "_model_module": "@jupyter-widgets/controls",
            "_model_module_version": "1.5.0",
            "_model_name": "HBoxModel",
            "_view_count": null,
            "_view_module": "@jupyter-widgets/controls",
            "_view_module_version": "1.5.0",
            "_view_name": "HBoxView",
            "box_style": "",
            "children": [
              "IPY_MODEL_1643f3f57e63476b88d6899daf229c8c",
              "IPY_MODEL_02b088d852e84896af71e8ad818344dc",
              "IPY_MODEL_df5ebbc8d08d4316946cf0e007e8bc67"
            ],
            "layout": "IPY_MODEL_e63ef7cbe9214e3c95a58d8ca7cea35f"
          }
        },
        "1643f3f57e63476b88d6899daf229c8c": {
          "model_module": "@jupyter-widgets/controls",
          "model_name": "HTMLModel",
          "model_module_version": "1.5.0",
          "state": {
            "_dom_classes": [],
            "_model_module": "@jupyter-widgets/controls",
            "_model_module_version": "1.5.0",
            "_model_name": "HTMLModel",
            "_view_count": null,
            "_view_module": "@jupyter-widgets/controls",
            "_view_module_version": "1.5.0",
            "_view_name": "HTMLView",
            "description": "",
            "description_tooltip": null,
            "layout": "IPY_MODEL_40c124d421a840939d8e6504a2ed320e",
            "placeholder": "​",
            "style": "IPY_MODEL_648e594795724e3cac228e6b1667c39e",
            "value": "100%"
          }
        },
        "02b088d852e84896af71e8ad818344dc": {
          "model_module": "@jupyter-widgets/controls",
          "model_name": "FloatProgressModel",
          "model_module_version": "1.5.0",
          "state": {
            "_dom_classes": [],
            "_model_module": "@jupyter-widgets/controls",
            "_model_module_version": "1.5.0",
            "_model_name": "FloatProgressModel",
            "_view_count": null,
            "_view_module": "@jupyter-widgets/controls",
            "_view_module_version": "1.5.0",
            "_view_name": "ProgressView",
            "bar_style": "success",
            "description": "",
            "description_tooltip": null,
            "layout": "IPY_MODEL_9193c9905ca040d29b787abe7efe8148",
            "max": 2559,
            "min": 0,
            "orientation": "horizontal",
            "style": "IPY_MODEL_9ed0fc9802804d59ba1e97a98db202e3",
            "value": 2559
          }
        },
        "df5ebbc8d08d4316946cf0e007e8bc67": {
          "model_module": "@jupyter-widgets/controls",
          "model_name": "HTMLModel",
          "model_module_version": "1.5.0",
          "state": {
            "_dom_classes": [],
            "_model_module": "@jupyter-widgets/controls",
            "_model_module_version": "1.5.0",
            "_model_name": "HTMLModel",
            "_view_count": null,
            "_view_module": "@jupyter-widgets/controls",
            "_view_module_version": "1.5.0",
            "_view_name": "HTMLView",
            "description": "",
            "description_tooltip": null,
            "layout": "IPY_MODEL_91fc20845c0b4f3ebc7a0e0f37e3565c",
            "placeholder": "​",
            "style": "IPY_MODEL_7d68be22eec14cfa81bcd2b874e243dd",
            "value": " 2559/2559 [00:08&lt;00:00, 220.10it/s]"
          }
        },
        "e63ef7cbe9214e3c95a58d8ca7cea35f": {
          "model_module": "@jupyter-widgets/base",
          "model_name": "LayoutModel",
          "model_module_version": "1.2.0",
          "state": {
            "_model_module": "@jupyter-widgets/base",
            "_model_module_version": "1.2.0",
            "_model_name": "LayoutModel",
            "_view_count": null,
            "_view_module": "@jupyter-widgets/base",
            "_view_module_version": "1.2.0",
            "_view_name": "LayoutView",
            "align_content": null,
            "align_items": null,
            "align_self": null,
            "border": null,
            "bottom": null,
            "display": null,
            "flex": null,
            "flex_flow": null,
            "grid_area": null,
            "grid_auto_columns": null,
            "grid_auto_flow": null,
            "grid_auto_rows": null,
            "grid_column": null,
            "grid_gap": null,
            "grid_row": null,
            "grid_template_areas": null,
            "grid_template_columns": null,
            "grid_template_rows": null,
            "height": null,
            "justify_content": null,
            "justify_items": null,
            "left": null,
            "margin": null,
            "max_height": null,
            "max_width": null,
            "min_height": null,
            "min_width": null,
            "object_fit": null,
            "object_position": null,
            "order": null,
            "overflow": null,
            "overflow_x": null,
            "overflow_y": null,
            "padding": null,
            "right": null,
            "top": null,
            "visibility": null,
            "width": null
          }
        },
        "40c124d421a840939d8e6504a2ed320e": {
          "model_module": "@jupyter-widgets/base",
          "model_name": "LayoutModel",
          "model_module_version": "1.2.0",
          "state": {
            "_model_module": "@jupyter-widgets/base",
            "_model_module_version": "1.2.0",
            "_model_name": "LayoutModel",
            "_view_count": null,
            "_view_module": "@jupyter-widgets/base",
            "_view_module_version": "1.2.0",
            "_view_name": "LayoutView",
            "align_content": null,
            "align_items": null,
            "align_self": null,
            "border": null,
            "bottom": null,
            "display": null,
            "flex": null,
            "flex_flow": null,
            "grid_area": null,
            "grid_auto_columns": null,
            "grid_auto_flow": null,
            "grid_auto_rows": null,
            "grid_column": null,
            "grid_gap": null,
            "grid_row": null,
            "grid_template_areas": null,
            "grid_template_columns": null,
            "grid_template_rows": null,
            "height": null,
            "justify_content": null,
            "justify_items": null,
            "left": null,
            "margin": null,
            "max_height": null,
            "max_width": null,
            "min_height": null,
            "min_width": null,
            "object_fit": null,
            "object_position": null,
            "order": null,
            "overflow": null,
            "overflow_x": null,
            "overflow_y": null,
            "padding": null,
            "right": null,
            "top": null,
            "visibility": null,
            "width": null
          }
        },
        "648e594795724e3cac228e6b1667c39e": {
          "model_module": "@jupyter-widgets/controls",
          "model_name": "DescriptionStyleModel",
          "model_module_version": "1.5.0",
          "state": {
            "_model_module": "@jupyter-widgets/controls",
            "_model_module_version": "1.5.0",
            "_model_name": "DescriptionStyleModel",
            "_view_count": null,
            "_view_module": "@jupyter-widgets/base",
            "_view_module_version": "1.2.0",
            "_view_name": "StyleView",
            "description_width": ""
          }
        },
        "9193c9905ca040d29b787abe7efe8148": {
          "model_module": "@jupyter-widgets/base",
          "model_name": "LayoutModel",
          "model_module_version": "1.2.0",
          "state": {
            "_model_module": "@jupyter-widgets/base",
            "_model_module_version": "1.2.0",
            "_model_name": "LayoutModel",
            "_view_count": null,
            "_view_module": "@jupyter-widgets/base",
            "_view_module_version": "1.2.0",
            "_view_name": "LayoutView",
            "align_content": null,
            "align_items": null,
            "align_self": null,
            "border": null,
            "bottom": null,
            "display": null,
            "flex": null,
            "flex_flow": null,
            "grid_area": null,
            "grid_auto_columns": null,
            "grid_auto_flow": null,
            "grid_auto_rows": null,
            "grid_column": null,
            "grid_gap": null,
            "grid_row": null,
            "grid_template_areas": null,
            "grid_template_columns": null,
            "grid_template_rows": null,
            "height": null,
            "justify_content": null,
            "justify_items": null,
            "left": null,
            "margin": null,
            "max_height": null,
            "max_width": null,
            "min_height": null,
            "min_width": null,
            "object_fit": null,
            "object_position": null,
            "order": null,
            "overflow": null,
            "overflow_x": null,
            "overflow_y": null,
            "padding": null,
            "right": null,
            "top": null,
            "visibility": null,
            "width": null
          }
        },
        "9ed0fc9802804d59ba1e97a98db202e3": {
          "model_module": "@jupyter-widgets/controls",
          "model_name": "ProgressStyleModel",
          "model_module_version": "1.5.0",
          "state": {
            "_model_module": "@jupyter-widgets/controls",
            "_model_module_version": "1.5.0",
            "_model_name": "ProgressStyleModel",
            "_view_count": null,
            "_view_module": "@jupyter-widgets/base",
            "_view_module_version": "1.2.0",
            "_view_name": "StyleView",
            "bar_color": null,
            "description_width": ""
          }
        },
        "91fc20845c0b4f3ebc7a0e0f37e3565c": {
          "model_module": "@jupyter-widgets/base",
          "model_name": "LayoutModel",
          "model_module_version": "1.2.0",
          "state": {
            "_model_module": "@jupyter-widgets/base",
            "_model_module_version": "1.2.0",
            "_model_name": "LayoutModel",
            "_view_count": null,
            "_view_module": "@jupyter-widgets/base",
            "_view_module_version": "1.2.0",
            "_view_name": "LayoutView",
            "align_content": null,
            "align_items": null,
            "align_self": null,
            "border": null,
            "bottom": null,
            "display": null,
            "flex": null,
            "flex_flow": null,
            "grid_area": null,
            "grid_auto_columns": null,
            "grid_auto_flow": null,
            "grid_auto_rows": null,
            "grid_column": null,
            "grid_gap": null,
            "grid_row": null,
            "grid_template_areas": null,
            "grid_template_columns": null,
            "grid_template_rows": null,
            "height": null,
            "justify_content": null,
            "justify_items": null,
            "left": null,
            "margin": null,
            "max_height": null,
            "max_width": null,
            "min_height": null,
            "min_width": null,
            "object_fit": null,
            "object_position": null,
            "order": null,
            "overflow": null,
            "overflow_x": null,
            "overflow_y": null,
            "padding": null,
            "right": null,
            "top": null,
            "visibility": null,
            "width": null
          }
        },
        "7d68be22eec14cfa81bcd2b874e243dd": {
          "model_module": "@jupyter-widgets/controls",
          "model_name": "DescriptionStyleModel",
          "model_module_version": "1.5.0",
          "state": {
            "_model_module": "@jupyter-widgets/controls",
            "_model_module_version": "1.5.0",
            "_model_name": "DescriptionStyleModel",
            "_view_count": null,
            "_view_module": "@jupyter-widgets/base",
            "_view_module_version": "1.2.0",
            "_view_name": "StyleView",
            "description_width": ""
          }
        },
        "c69e118b229d4cffbb0410ead8c13891": {
          "model_module": "@jupyter-widgets/controls",
          "model_name": "HBoxModel",
          "model_module_version": "1.5.0",
          "state": {
            "_dom_classes": [],
            "_model_module": "@jupyter-widgets/controls",
            "_model_module_version": "1.5.0",
            "_model_name": "HBoxModel",
            "_view_count": null,
            "_view_module": "@jupyter-widgets/controls",
            "_view_module_version": "1.5.0",
            "_view_name": "HBoxView",
            "box_style": "",
            "children": [
              "IPY_MODEL_013dedf8409848149f3361874246647d",
              "IPY_MODEL_6f9284f08c0241d4a67dd3e8cfebd95e",
              "IPY_MODEL_ef853cf1e91e43228a88c5688572ff18"
            ],
            "layout": "IPY_MODEL_bfaf64f416634d8da63f9e14dcc9a0c6"
          }
        },
        "013dedf8409848149f3361874246647d": {
          "model_module": "@jupyter-widgets/controls",
          "model_name": "HTMLModel",
          "model_module_version": "1.5.0",
          "state": {
            "_dom_classes": [],
            "_model_module": "@jupyter-widgets/controls",
            "_model_module_version": "1.5.0",
            "_model_name": "HTMLModel",
            "_view_count": null,
            "_view_module": "@jupyter-widgets/controls",
            "_view_module_version": "1.5.0",
            "_view_name": "HTMLView",
            "description": "",
            "description_tooltip": null,
            "layout": "IPY_MODEL_8db1b90a88c642a5bca1162e153c9444",
            "placeholder": "​",
            "style": "IPY_MODEL_a325013d9e704352bec4fb357e158679",
            "value": "100%"
          }
        },
        "6f9284f08c0241d4a67dd3e8cfebd95e": {
          "model_module": "@jupyter-widgets/controls",
          "model_name": "FloatProgressModel",
          "model_module_version": "1.5.0",
          "state": {
            "_dom_classes": [],
            "_model_module": "@jupyter-widgets/controls",
            "_model_module_version": "1.5.0",
            "_model_name": "FloatProgressModel",
            "_view_count": null,
            "_view_module": "@jupyter-widgets/controls",
            "_view_module_version": "1.5.0",
            "_view_name": "ProgressView",
            "bar_style": "success",
            "description": "",
            "description_tooltip": null,
            "layout": "IPY_MODEL_539b92959f5c49a88edf861f8a07e4fe",
            "max": 2559,
            "min": 0,
            "orientation": "horizontal",
            "style": "IPY_MODEL_db3cdabfaa234bac92c1f2136f317380",
            "value": 2559
          }
        },
        "ef853cf1e91e43228a88c5688572ff18": {
          "model_module": "@jupyter-widgets/controls",
          "model_name": "HTMLModel",
          "model_module_version": "1.5.0",
          "state": {
            "_dom_classes": [],
            "_model_module": "@jupyter-widgets/controls",
            "_model_module_version": "1.5.0",
            "_model_name": "HTMLModel",
            "_view_count": null,
            "_view_module": "@jupyter-widgets/controls",
            "_view_module_version": "1.5.0",
            "_view_name": "HTMLView",
            "description": "",
            "description_tooltip": null,
            "layout": "IPY_MODEL_623d7caa78224fc0a1f40df1b8f6ccfe",
            "placeholder": "​",
            "style": "IPY_MODEL_9e697a5f20fc410585f0c6abf91cb246",
            "value": " 2559/2559 [00:08&lt;00:00, 299.15it/s]"
          }
        },
        "bfaf64f416634d8da63f9e14dcc9a0c6": {
          "model_module": "@jupyter-widgets/base",
          "model_name": "LayoutModel",
          "model_module_version": "1.2.0",
          "state": {
            "_model_module": "@jupyter-widgets/base",
            "_model_module_version": "1.2.0",
            "_model_name": "LayoutModel",
            "_view_count": null,
            "_view_module": "@jupyter-widgets/base",
            "_view_module_version": "1.2.0",
            "_view_name": "LayoutView",
            "align_content": null,
            "align_items": null,
            "align_self": null,
            "border": null,
            "bottom": null,
            "display": null,
            "flex": null,
            "flex_flow": null,
            "grid_area": null,
            "grid_auto_columns": null,
            "grid_auto_flow": null,
            "grid_auto_rows": null,
            "grid_column": null,
            "grid_gap": null,
            "grid_row": null,
            "grid_template_areas": null,
            "grid_template_columns": null,
            "grid_template_rows": null,
            "height": null,
            "justify_content": null,
            "justify_items": null,
            "left": null,
            "margin": null,
            "max_height": null,
            "max_width": null,
            "min_height": null,
            "min_width": null,
            "object_fit": null,
            "object_position": null,
            "order": null,
            "overflow": null,
            "overflow_x": null,
            "overflow_y": null,
            "padding": null,
            "right": null,
            "top": null,
            "visibility": null,
            "width": null
          }
        },
        "8db1b90a88c642a5bca1162e153c9444": {
          "model_module": "@jupyter-widgets/base",
          "model_name": "LayoutModel",
          "model_module_version": "1.2.0",
          "state": {
            "_model_module": "@jupyter-widgets/base",
            "_model_module_version": "1.2.0",
            "_model_name": "LayoutModel",
            "_view_count": null,
            "_view_module": "@jupyter-widgets/base",
            "_view_module_version": "1.2.0",
            "_view_name": "LayoutView",
            "align_content": null,
            "align_items": null,
            "align_self": null,
            "border": null,
            "bottom": null,
            "display": null,
            "flex": null,
            "flex_flow": null,
            "grid_area": null,
            "grid_auto_columns": null,
            "grid_auto_flow": null,
            "grid_auto_rows": null,
            "grid_column": null,
            "grid_gap": null,
            "grid_row": null,
            "grid_template_areas": null,
            "grid_template_columns": null,
            "grid_template_rows": null,
            "height": null,
            "justify_content": null,
            "justify_items": null,
            "left": null,
            "margin": null,
            "max_height": null,
            "max_width": null,
            "min_height": null,
            "min_width": null,
            "object_fit": null,
            "object_position": null,
            "order": null,
            "overflow": null,
            "overflow_x": null,
            "overflow_y": null,
            "padding": null,
            "right": null,
            "top": null,
            "visibility": null,
            "width": null
          }
        },
        "a325013d9e704352bec4fb357e158679": {
          "model_module": "@jupyter-widgets/controls",
          "model_name": "DescriptionStyleModel",
          "model_module_version": "1.5.0",
          "state": {
            "_model_module": "@jupyter-widgets/controls",
            "_model_module_version": "1.5.0",
            "_model_name": "DescriptionStyleModel",
            "_view_count": null,
            "_view_module": "@jupyter-widgets/base",
            "_view_module_version": "1.2.0",
            "_view_name": "StyleView",
            "description_width": ""
          }
        },
        "539b92959f5c49a88edf861f8a07e4fe": {
          "model_module": "@jupyter-widgets/base",
          "model_name": "LayoutModel",
          "model_module_version": "1.2.0",
          "state": {
            "_model_module": "@jupyter-widgets/base",
            "_model_module_version": "1.2.0",
            "_model_name": "LayoutModel",
            "_view_count": null,
            "_view_module": "@jupyter-widgets/base",
            "_view_module_version": "1.2.0",
            "_view_name": "LayoutView",
            "align_content": null,
            "align_items": null,
            "align_self": null,
            "border": null,
            "bottom": null,
            "display": null,
            "flex": null,
            "flex_flow": null,
            "grid_area": null,
            "grid_auto_columns": null,
            "grid_auto_flow": null,
            "grid_auto_rows": null,
            "grid_column": null,
            "grid_gap": null,
            "grid_row": null,
            "grid_template_areas": null,
            "grid_template_columns": null,
            "grid_template_rows": null,
            "height": null,
            "justify_content": null,
            "justify_items": null,
            "left": null,
            "margin": null,
            "max_height": null,
            "max_width": null,
            "min_height": null,
            "min_width": null,
            "object_fit": null,
            "object_position": null,
            "order": null,
            "overflow": null,
            "overflow_x": null,
            "overflow_y": null,
            "padding": null,
            "right": null,
            "top": null,
            "visibility": null,
            "width": null
          }
        },
        "db3cdabfaa234bac92c1f2136f317380": {
          "model_module": "@jupyter-widgets/controls",
          "model_name": "ProgressStyleModel",
          "model_module_version": "1.5.0",
          "state": {
            "_model_module": "@jupyter-widgets/controls",
            "_model_module_version": "1.5.0",
            "_model_name": "ProgressStyleModel",
            "_view_count": null,
            "_view_module": "@jupyter-widgets/base",
            "_view_module_version": "1.2.0",
            "_view_name": "StyleView",
            "bar_color": null,
            "description_width": ""
          }
        },
        "623d7caa78224fc0a1f40df1b8f6ccfe": {
          "model_module": "@jupyter-widgets/base",
          "model_name": "LayoutModel",
          "model_module_version": "1.2.0",
          "state": {
            "_model_module": "@jupyter-widgets/base",
            "_model_module_version": "1.2.0",
            "_model_name": "LayoutModel",
            "_view_count": null,
            "_view_module": "@jupyter-widgets/base",
            "_view_module_version": "1.2.0",
            "_view_name": "LayoutView",
            "align_content": null,
            "align_items": null,
            "align_self": null,
            "border": null,
            "bottom": null,
            "display": null,
            "flex": null,
            "flex_flow": null,
            "grid_area": null,
            "grid_auto_columns": null,
            "grid_auto_flow": null,
            "grid_auto_rows": null,
            "grid_column": null,
            "grid_gap": null,
            "grid_row": null,
            "grid_template_areas": null,
            "grid_template_columns": null,
            "grid_template_rows": null,
            "height": null,
            "justify_content": null,
            "justify_items": null,
            "left": null,
            "margin": null,
            "max_height": null,
            "max_width": null,
            "min_height": null,
            "min_width": null,
            "object_fit": null,
            "object_position": null,
            "order": null,
            "overflow": null,
            "overflow_x": null,
            "overflow_y": null,
            "padding": null,
            "right": null,
            "top": null,
            "visibility": null,
            "width": null
          }
        },
        "9e697a5f20fc410585f0c6abf91cb246": {
          "model_module": "@jupyter-widgets/controls",
          "model_name": "DescriptionStyleModel",
          "model_module_version": "1.5.0",
          "state": {
            "_model_module": "@jupyter-widgets/controls",
            "_model_module_version": "1.5.0",
            "_model_name": "DescriptionStyleModel",
            "_view_count": null,
            "_view_module": "@jupyter-widgets/base",
            "_view_module_version": "1.2.0",
            "_view_name": "StyleView",
            "description_width": ""
          }
        }
      }
    }
  },
  "cells": [
    {
      "cell_type": "markdown",
      "source": [
        "# 1. Dataset"
      ],
      "metadata": {
        "id": "bs16gcAz_4qg"
      }
    },
    {
      "cell_type": "code",
      "execution_count": 2,
      "metadata": {
        "id": "Q-D9_nhRZvTX"
      },
      "outputs": [],
      "source": [
        "import pandas as pd"
      ]
    },
    {
      "cell_type": "markdown",
      "source": [
        "## 1.1. Carga del dataset"
      ],
      "metadata": {
        "id": "eSxwCXQvAZnD"
      }
    },
    {
      "cell_type": "code",
      "source": [
        "uri = 'https://raw.githubusercontent.com/maribcs/mgp-bayesian-network-retail/main/data/db_mgp_t1.csv'\n",
        "df = pd.read_csv(uri, sep=',')\n",
        "df.head()"
      ],
      "metadata": {
        "colab": {
          "base_uri": "https://localhost:8080/",
          "height": 357
        },
        "id": "Jt2C7vbdADWQ",
        "outputId": "754741fd-6c65-4009-fb02-05538a3b419a"
      },
      "execution_count": 3,
      "outputs": [
        {
          "output_type": "execute_result",
          "data": {
            "text/plain": [
              "   row_num  flag_nuevo  fl_omni  fl_fcom  fl_tienda  flag_tienetarjeta  \\\n",
              "0       27           1        0        0          1                  0   \n",
              "1       36           1        0        0          1                  0   \n",
              "2       62           1        0        0          1                  1   \n",
              "3       65           0        0        0          1                  0   \n",
              "4       99           0        0        0          1                  1   \n",
              "\n",
              "   flag_metodopago  flag_tienepromocion Genero NSE  Rango_edad estado_marital  \\\n",
              "0                0                    0      M   C  26-35 AÑOS              C   \n",
              "1                0                    0      F   B  36-45 AÑOS              C   \n",
              "2                1                    0      F   B  26-35 AÑOS              S   \n",
              "3                0                    0      M   C  36-45 AÑOS              C   \n",
              "4                0                    0      F   B  36-45 AÑOS              S   \n",
              "\n",
              "   flag_tiene_hijo  rango_gasto  \n",
              "0                1   gasto bajo  \n",
              "1                0   gasto alto  \n",
              "2                0  gasto medio  \n",
              "3                1   gasto bajo  \n",
              "4                0   gasto alto  "
            ],
            "text/html": [
              "\n",
              "  <div id=\"df-1e6884a4-473e-4ea7-8c33-d6935a94a411\">\n",
              "    <div class=\"colab-df-container\">\n",
              "      <div>\n",
              "<style scoped>\n",
              "    .dataframe tbody tr th:only-of-type {\n",
              "        vertical-align: middle;\n",
              "    }\n",
              "\n",
              "    .dataframe tbody tr th {\n",
              "        vertical-align: top;\n",
              "    }\n",
              "\n",
              "    .dataframe thead th {\n",
              "        text-align: right;\n",
              "    }\n",
              "</style>\n",
              "<table border=\"1\" class=\"dataframe\">\n",
              "  <thead>\n",
              "    <tr style=\"text-align: right;\">\n",
              "      <th></th>\n",
              "      <th>row_num</th>\n",
              "      <th>flag_nuevo</th>\n",
              "      <th>fl_omni</th>\n",
              "      <th>fl_fcom</th>\n",
              "      <th>fl_tienda</th>\n",
              "      <th>flag_tienetarjeta</th>\n",
              "      <th>flag_metodopago</th>\n",
              "      <th>flag_tienepromocion</th>\n",
              "      <th>Genero</th>\n",
              "      <th>NSE</th>\n",
              "      <th>Rango_edad</th>\n",
              "      <th>estado_marital</th>\n",
              "      <th>flag_tiene_hijo</th>\n",
              "      <th>rango_gasto</th>\n",
              "    </tr>\n",
              "  </thead>\n",
              "  <tbody>\n",
              "    <tr>\n",
              "      <th>0</th>\n",
              "      <td>27</td>\n",
              "      <td>1</td>\n",
              "      <td>0</td>\n",
              "      <td>0</td>\n",
              "      <td>1</td>\n",
              "      <td>0</td>\n",
              "      <td>0</td>\n",
              "      <td>0</td>\n",
              "      <td>M</td>\n",
              "      <td>C</td>\n",
              "      <td>26-35 AÑOS</td>\n",
              "      <td>C</td>\n",
              "      <td>1</td>\n",
              "      <td>gasto bajo</td>\n",
              "    </tr>\n",
              "    <tr>\n",
              "      <th>1</th>\n",
              "      <td>36</td>\n",
              "      <td>1</td>\n",
              "      <td>0</td>\n",
              "      <td>0</td>\n",
              "      <td>1</td>\n",
              "      <td>0</td>\n",
              "      <td>0</td>\n",
              "      <td>0</td>\n",
              "      <td>F</td>\n",
              "      <td>B</td>\n",
              "      <td>36-45 AÑOS</td>\n",
              "      <td>C</td>\n",
              "      <td>0</td>\n",
              "      <td>gasto alto</td>\n",
              "    </tr>\n",
              "    <tr>\n",
              "      <th>2</th>\n",
              "      <td>62</td>\n",
              "      <td>1</td>\n",
              "      <td>0</td>\n",
              "      <td>0</td>\n",
              "      <td>1</td>\n",
              "      <td>1</td>\n",
              "      <td>1</td>\n",
              "      <td>0</td>\n",
              "      <td>F</td>\n",
              "      <td>B</td>\n",
              "      <td>26-35 AÑOS</td>\n",
              "      <td>S</td>\n",
              "      <td>0</td>\n",
              "      <td>gasto medio</td>\n",
              "    </tr>\n",
              "    <tr>\n",
              "      <th>3</th>\n",
              "      <td>65</td>\n",
              "      <td>0</td>\n",
              "      <td>0</td>\n",
              "      <td>0</td>\n",
              "      <td>1</td>\n",
              "      <td>0</td>\n",
              "      <td>0</td>\n",
              "      <td>0</td>\n",
              "      <td>M</td>\n",
              "      <td>C</td>\n",
              "      <td>36-45 AÑOS</td>\n",
              "      <td>C</td>\n",
              "      <td>1</td>\n",
              "      <td>gasto bajo</td>\n",
              "    </tr>\n",
              "    <tr>\n",
              "      <th>4</th>\n",
              "      <td>99</td>\n",
              "      <td>0</td>\n",
              "      <td>0</td>\n",
              "      <td>0</td>\n",
              "      <td>1</td>\n",
              "      <td>1</td>\n",
              "      <td>0</td>\n",
              "      <td>0</td>\n",
              "      <td>F</td>\n",
              "      <td>B</td>\n",
              "      <td>36-45 AÑOS</td>\n",
              "      <td>S</td>\n",
              "      <td>0</td>\n",
              "      <td>gasto alto</td>\n",
              "    </tr>\n",
              "  </tbody>\n",
              "</table>\n",
              "</div>\n",
              "      <button class=\"colab-df-convert\" onclick=\"convertToInteractive('df-1e6884a4-473e-4ea7-8c33-d6935a94a411')\"\n",
              "              title=\"Convert this dataframe to an interactive table.\"\n",
              "              style=\"display:none;\">\n",
              "        \n",
              "  <svg xmlns=\"http://www.w3.org/2000/svg\" height=\"24px\"viewBox=\"0 0 24 24\"\n",
              "       width=\"24px\">\n",
              "    <path d=\"M0 0h24v24H0V0z\" fill=\"none\"/>\n",
              "    <path d=\"M18.56 5.44l.94 2.06.94-2.06 2.06-.94-2.06-.94-.94-2.06-.94 2.06-2.06.94zm-11 1L8.5 8.5l.94-2.06 2.06-.94-2.06-.94L8.5 2.5l-.94 2.06-2.06.94zm10 10l.94 2.06.94-2.06 2.06-.94-2.06-.94-.94-2.06-.94 2.06-2.06.94z\"/><path d=\"M17.41 7.96l-1.37-1.37c-.4-.4-.92-.59-1.43-.59-.52 0-1.04.2-1.43.59L10.3 9.45l-7.72 7.72c-.78.78-.78 2.05 0 2.83L4 21.41c.39.39.9.59 1.41.59.51 0 1.02-.2 1.41-.59l7.78-7.78 2.81-2.81c.8-.78.8-2.07 0-2.86zM5.41 20L4 18.59l7.72-7.72 1.47 1.35L5.41 20z\"/>\n",
              "  </svg>\n",
              "      </button>\n",
              "      \n",
              "  <style>\n",
              "    .colab-df-container {\n",
              "      display:flex;\n",
              "      flex-wrap:wrap;\n",
              "      gap: 12px;\n",
              "    }\n",
              "\n",
              "    .colab-df-convert {\n",
              "      background-color: #E8F0FE;\n",
              "      border: none;\n",
              "      border-radius: 50%;\n",
              "      cursor: pointer;\n",
              "      display: none;\n",
              "      fill: #1967D2;\n",
              "      height: 32px;\n",
              "      padding: 0 0 0 0;\n",
              "      width: 32px;\n",
              "    }\n",
              "\n",
              "    .colab-df-convert:hover {\n",
              "      background-color: #E2EBFA;\n",
              "      box-shadow: 0px 1px 2px rgba(60, 64, 67, 0.3), 0px 1px 3px 1px rgba(60, 64, 67, 0.15);\n",
              "      fill: #174EA6;\n",
              "    }\n",
              "\n",
              "    [theme=dark] .colab-df-convert {\n",
              "      background-color: #3B4455;\n",
              "      fill: #D2E3FC;\n",
              "    }\n",
              "\n",
              "    [theme=dark] .colab-df-convert:hover {\n",
              "      background-color: #434B5C;\n",
              "      box-shadow: 0px 1px 3px 1px rgba(0, 0, 0, 0.15);\n",
              "      filter: drop-shadow(0px 1px 2px rgba(0, 0, 0, 0.3));\n",
              "      fill: #FFFFFF;\n",
              "    }\n",
              "  </style>\n",
              "\n",
              "      <script>\n",
              "        const buttonEl =\n",
              "          document.querySelector('#df-1e6884a4-473e-4ea7-8c33-d6935a94a411 button.colab-df-convert');\n",
              "        buttonEl.style.display =\n",
              "          google.colab.kernel.accessAllowed ? 'block' : 'none';\n",
              "\n",
              "        async function convertToInteractive(key) {\n",
              "          const element = document.querySelector('#df-1e6884a4-473e-4ea7-8c33-d6935a94a411');\n",
              "          const dataTable =\n",
              "            await google.colab.kernel.invokeFunction('convertToInteractive',\n",
              "                                                     [key], {});\n",
              "          if (!dataTable) return;\n",
              "\n",
              "          const docLinkHtml = 'Like what you see? Visit the ' +\n",
              "            '<a target=\"_blank\" href=https://colab.research.google.com/notebooks/data_table.ipynb>data table notebook</a>'\n",
              "            + ' to learn more about interactive tables.';\n",
              "          element.innerHTML = '';\n",
              "          dataTable['output_type'] = 'display_data';\n",
              "          await google.colab.output.renderOutput(dataTable, element);\n",
              "          const docLink = document.createElement('div');\n",
              "          docLink.innerHTML = docLinkHtml;\n",
              "          element.appendChild(docLink);\n",
              "        }\n",
              "      </script>\n",
              "    </div>\n",
              "  </div>\n",
              "  "
            ]
          },
          "metadata": {},
          "execution_count": 3
        }
      ]
    },
    {
      "cell_type": "code",
      "source": [
        "# Tamaño del dataset\n",
        "df.shape"
      ],
      "metadata": {
        "colab": {
          "base_uri": "https://localhost:8080/"
        },
        "id": "J32qvegub4wb",
        "outputId": "a08535f9-ff2d-4e08-ae25-191c873b5932"
      },
      "execution_count": 4,
      "outputs": [
        {
          "output_type": "execute_result",
          "data": {
            "text/plain": [
              "(990392, 14)"
            ]
          },
          "metadata": {},
          "execution_count": 4
        }
      ]
    },
    {
      "cell_type": "markdown",
      "source": [
        "## 1.2. Pre pocesamiento del dataset"
      ],
      "metadata": {
        "id": "CXK7gt8XAx0g"
      }
    },
    {
      "cell_type": "code",
      "source": [
        "# Seleccionar columnas a utilizar\n",
        "df_model = df[['NSE','Rango_edad','Genero','estado_marital','flag_tienetarjeta','flag_nuevo','flag_metodopago','flag_tienepromocion','fl_fcom','rango_gasto']]"
      ],
      "metadata": {
        "id": "MFHutuXPA4tJ"
      },
      "execution_count": 5,
      "outputs": []
    },
    {
      "cell_type": "code",
      "source": [
        "# Renombrar columnas\n",
        "\n",
        "# 1. NSE: Nivel socioeconómico\n",
        "# 2. E: Rango de edad\n",
        "# 3. G: Género\n",
        "# 4. EC: Estado civil\n",
        "# 5. TR: Tiene tarjeta del retail\n",
        "# 6. TC: Tipo de cliente\n",
        "# 7. PTR: Usa tarjeta del retail\n",
        "# 8. PP: Producto en promoción\n",
        "# 9. CC: Canal de compra\n",
        "# 10. RG: Rango de gasto\n",
        "\n",
        "df_model = df_model.rename(columns = {'Rango_edad':'E','Genero':'G','estado_marital':'EC','flag_tienetarjeta':'TR','flag_nuevo':'TC','flag_metodopago':'PTR','flag_tienepromocion':'PP','fl_fcom':'CC','rango_gasto':'RG'})\n",
        "df_model.head()"
      ],
      "metadata": {
        "colab": {
          "base_uri": "https://localhost:8080/",
          "height": 206
        },
        "id": "I0LP9MlqDnaY",
        "outputId": "2fde1631-e6fe-4f1e-fbc2-fdca54fa712b"
      },
      "execution_count": 6,
      "outputs": [
        {
          "output_type": "execute_result",
          "data": {
            "text/plain": [
              "  NSE           E  G EC  TR  TC  PTR  PP  CC           RG\n",
              "0   C  26-35 AÑOS  M  C   0   1    0   0   0   gasto bajo\n",
              "1   B  36-45 AÑOS  F  C   0   1    0   0   0   gasto alto\n",
              "2   B  26-35 AÑOS  F  S   1   1    1   0   0  gasto medio\n",
              "3   C  36-45 AÑOS  M  C   0   0    0   0   0   gasto bajo\n",
              "4   B  36-45 AÑOS  F  S   1   0    0   0   0   gasto alto"
            ],
            "text/html": [
              "\n",
              "  <div id=\"df-786b68ef-4fb8-4307-af36-b2ba692fa84d\">\n",
              "    <div class=\"colab-df-container\">\n",
              "      <div>\n",
              "<style scoped>\n",
              "    .dataframe tbody tr th:only-of-type {\n",
              "        vertical-align: middle;\n",
              "    }\n",
              "\n",
              "    .dataframe tbody tr th {\n",
              "        vertical-align: top;\n",
              "    }\n",
              "\n",
              "    .dataframe thead th {\n",
              "        text-align: right;\n",
              "    }\n",
              "</style>\n",
              "<table border=\"1\" class=\"dataframe\">\n",
              "  <thead>\n",
              "    <tr style=\"text-align: right;\">\n",
              "      <th></th>\n",
              "      <th>NSE</th>\n",
              "      <th>E</th>\n",
              "      <th>G</th>\n",
              "      <th>EC</th>\n",
              "      <th>TR</th>\n",
              "      <th>TC</th>\n",
              "      <th>PTR</th>\n",
              "      <th>PP</th>\n",
              "      <th>CC</th>\n",
              "      <th>RG</th>\n",
              "    </tr>\n",
              "  </thead>\n",
              "  <tbody>\n",
              "    <tr>\n",
              "      <th>0</th>\n",
              "      <td>C</td>\n",
              "      <td>26-35 AÑOS</td>\n",
              "      <td>M</td>\n",
              "      <td>C</td>\n",
              "      <td>0</td>\n",
              "      <td>1</td>\n",
              "      <td>0</td>\n",
              "      <td>0</td>\n",
              "      <td>0</td>\n",
              "      <td>gasto bajo</td>\n",
              "    </tr>\n",
              "    <tr>\n",
              "      <th>1</th>\n",
              "      <td>B</td>\n",
              "      <td>36-45 AÑOS</td>\n",
              "      <td>F</td>\n",
              "      <td>C</td>\n",
              "      <td>0</td>\n",
              "      <td>1</td>\n",
              "      <td>0</td>\n",
              "      <td>0</td>\n",
              "      <td>0</td>\n",
              "      <td>gasto alto</td>\n",
              "    </tr>\n",
              "    <tr>\n",
              "      <th>2</th>\n",
              "      <td>B</td>\n",
              "      <td>26-35 AÑOS</td>\n",
              "      <td>F</td>\n",
              "      <td>S</td>\n",
              "      <td>1</td>\n",
              "      <td>1</td>\n",
              "      <td>1</td>\n",
              "      <td>0</td>\n",
              "      <td>0</td>\n",
              "      <td>gasto medio</td>\n",
              "    </tr>\n",
              "    <tr>\n",
              "      <th>3</th>\n",
              "      <td>C</td>\n",
              "      <td>36-45 AÑOS</td>\n",
              "      <td>M</td>\n",
              "      <td>C</td>\n",
              "      <td>0</td>\n",
              "      <td>0</td>\n",
              "      <td>0</td>\n",
              "      <td>0</td>\n",
              "      <td>0</td>\n",
              "      <td>gasto bajo</td>\n",
              "    </tr>\n",
              "    <tr>\n",
              "      <th>4</th>\n",
              "      <td>B</td>\n",
              "      <td>36-45 AÑOS</td>\n",
              "      <td>F</td>\n",
              "      <td>S</td>\n",
              "      <td>1</td>\n",
              "      <td>0</td>\n",
              "      <td>0</td>\n",
              "      <td>0</td>\n",
              "      <td>0</td>\n",
              "      <td>gasto alto</td>\n",
              "    </tr>\n",
              "  </tbody>\n",
              "</table>\n",
              "</div>\n",
              "      <button class=\"colab-df-convert\" onclick=\"convertToInteractive('df-786b68ef-4fb8-4307-af36-b2ba692fa84d')\"\n",
              "              title=\"Convert this dataframe to an interactive table.\"\n",
              "              style=\"display:none;\">\n",
              "        \n",
              "  <svg xmlns=\"http://www.w3.org/2000/svg\" height=\"24px\"viewBox=\"0 0 24 24\"\n",
              "       width=\"24px\">\n",
              "    <path d=\"M0 0h24v24H0V0z\" fill=\"none\"/>\n",
              "    <path d=\"M18.56 5.44l.94 2.06.94-2.06 2.06-.94-2.06-.94-.94-2.06-.94 2.06-2.06.94zm-11 1L8.5 8.5l.94-2.06 2.06-.94-2.06-.94L8.5 2.5l-.94 2.06-2.06.94zm10 10l.94 2.06.94-2.06 2.06-.94-2.06-.94-.94-2.06-.94 2.06-2.06.94z\"/><path d=\"M17.41 7.96l-1.37-1.37c-.4-.4-.92-.59-1.43-.59-.52 0-1.04.2-1.43.59L10.3 9.45l-7.72 7.72c-.78.78-.78 2.05 0 2.83L4 21.41c.39.39.9.59 1.41.59.51 0 1.02-.2 1.41-.59l7.78-7.78 2.81-2.81c.8-.78.8-2.07 0-2.86zM5.41 20L4 18.59l7.72-7.72 1.47 1.35L5.41 20z\"/>\n",
              "  </svg>\n",
              "      </button>\n",
              "      \n",
              "  <style>\n",
              "    .colab-df-container {\n",
              "      display:flex;\n",
              "      flex-wrap:wrap;\n",
              "      gap: 12px;\n",
              "    }\n",
              "\n",
              "    .colab-df-convert {\n",
              "      background-color: #E8F0FE;\n",
              "      border: none;\n",
              "      border-radius: 50%;\n",
              "      cursor: pointer;\n",
              "      display: none;\n",
              "      fill: #1967D2;\n",
              "      height: 32px;\n",
              "      padding: 0 0 0 0;\n",
              "      width: 32px;\n",
              "    }\n",
              "\n",
              "    .colab-df-convert:hover {\n",
              "      background-color: #E2EBFA;\n",
              "      box-shadow: 0px 1px 2px rgba(60, 64, 67, 0.3), 0px 1px 3px 1px rgba(60, 64, 67, 0.15);\n",
              "      fill: #174EA6;\n",
              "    }\n",
              "\n",
              "    [theme=dark] .colab-df-convert {\n",
              "      background-color: #3B4455;\n",
              "      fill: #D2E3FC;\n",
              "    }\n",
              "\n",
              "    [theme=dark] .colab-df-convert:hover {\n",
              "      background-color: #434B5C;\n",
              "      box-shadow: 0px 1px 3px 1px rgba(0, 0, 0, 0.15);\n",
              "      filter: drop-shadow(0px 1px 2px rgba(0, 0, 0, 0.3));\n",
              "      fill: #FFFFFF;\n",
              "    }\n",
              "  </style>\n",
              "\n",
              "      <script>\n",
              "        const buttonEl =\n",
              "          document.querySelector('#df-786b68ef-4fb8-4307-af36-b2ba692fa84d button.colab-df-convert');\n",
              "        buttonEl.style.display =\n",
              "          google.colab.kernel.accessAllowed ? 'block' : 'none';\n",
              "\n",
              "        async function convertToInteractive(key) {\n",
              "          const element = document.querySelector('#df-786b68ef-4fb8-4307-af36-b2ba692fa84d');\n",
              "          const dataTable =\n",
              "            await google.colab.kernel.invokeFunction('convertToInteractive',\n",
              "                                                     [key], {});\n",
              "          if (!dataTable) return;\n",
              "\n",
              "          const docLinkHtml = 'Like what you see? Visit the ' +\n",
              "            '<a target=\"_blank\" href=https://colab.research.google.com/notebooks/data_table.ipynb>data table notebook</a>'\n",
              "            + ' to learn more about interactive tables.';\n",
              "          element.innerHTML = '';\n",
              "          dataTable['output_type'] = 'display_data';\n",
              "          await google.colab.output.renderOutput(dataTable, element);\n",
              "          const docLink = document.createElement('div');\n",
              "          docLink.innerHTML = docLinkHtml;\n",
              "          element.appendChild(docLink);\n",
              "        }\n",
              "      </script>\n",
              "    </div>\n",
              "  </div>\n",
              "  "
            ]
          },
          "metadata": {},
          "execution_count": 6
        }
      ]
    },
    {
      "cell_type": "code",
      "source": [
        "# Verificar la existencia de nulos o valores faltantes\n",
        "df_model.isnull().sum(axis=0)"
      ],
      "metadata": {
        "colab": {
          "base_uri": "https://localhost:8080/"
        },
        "id": "j9Fg-U7Tb5-i",
        "outputId": "bee31da9-0acc-4232-bebc-40fabcad3407"
      },
      "execution_count": 7,
      "outputs": [
        {
          "output_type": "execute_result",
          "data": {
            "text/plain": [
              "NSE    0\n",
              "E      0\n",
              "G      0\n",
              "EC     0\n",
              "TR     0\n",
              "TC     0\n",
              "PTR    0\n",
              "PP     0\n",
              "CC     0\n",
              "RG     0\n",
              "dtype: int64"
            ]
          },
          "metadata": {},
          "execution_count": 7
        }
      ]
    },
    {
      "cell_type": "code",
      "source": [
        "# Estandarizar valores\n",
        "# NSE\n",
        "df_model['NSE'] = df_model['NSE'].replace({'A':0,'B':1,'C':2,'D':3,'E':4})\n",
        "# Rango de edad\n",
        "df_model['E'] = df_model['E'].replace({'16-25 AÑOS':0,'26-35 AÑOS':1,'36-45 AÑOS':2,'46-55 AÑOS':3,'56 A MÁS':4})\n",
        "# Género\n",
        "df_model['G'] = df_model['G'].replace({'M':0,'F':1})\n",
        "# Estado civil\n",
        "df_model['EC'] = df_model['EC'].replace({'S':0,'C':1})\n",
        "# Rango compra\n",
        "df_model['RG'] = df_model['RG'].replace({'gasto bajo':0,'gasto medio':1,'gasto alto':2})\n"
      ],
      "metadata": {
        "id": "4J4mHkC-ayy_"
      },
      "execution_count": 8,
      "outputs": []
    },
    {
      "cell_type": "markdown",
      "source": [
        "# 2. Construcción del modelo"
      ],
      "metadata": {
        "id": "6nK7k885DzUf"
      }
    },
    {
      "cell_type": "code",
      "source": [
        "!pip install pgmpy"
      ],
      "metadata": {
        "colab": {
          "base_uri": "https://localhost:8080/"
        },
        "id": "SZOKplT9jOX7",
        "outputId": "f333c932-f348-46e4-ef27-2255e124b8d3"
      },
      "execution_count": 9,
      "outputs": [
        {
          "output_type": "stream",
          "name": "stdout",
          "text": [
            "Looking in indexes: https://pypi.org/simple, https://us-python.pkg.dev/colab-wheels/public/simple/\n",
            "Collecting pgmpy\n",
            "  Downloading pgmpy-0.1.22-py3-none-any.whl (1.9 MB)\n",
            "\u001b[2K     \u001b[90m━━━━━━━━━━━━━━━━━━━━━━━━━━━━━━━━━━━━━━━━\u001b[0m \u001b[32m1.9/1.9 MB\u001b[0m \u001b[31m20.9 MB/s\u001b[0m eta \u001b[36m0:00:00\u001b[0m\n",
            "\u001b[?25hRequirement already satisfied: networkx in /usr/local/lib/python3.10/dist-packages (from pgmpy) (3.1)\n",
            "Requirement already satisfied: numpy in /usr/local/lib/python3.10/dist-packages (from pgmpy) (1.22.4)\n",
            "Requirement already satisfied: scipy in /usr/local/lib/python3.10/dist-packages (from pgmpy) (1.10.1)\n",
            "Requirement already satisfied: scikit-learn in /usr/local/lib/python3.10/dist-packages (from pgmpy) (1.2.2)\n",
            "Requirement already satisfied: pandas in /usr/local/lib/python3.10/dist-packages (from pgmpy) (1.5.3)\n",
            "Requirement already satisfied: pyparsing in /usr/local/lib/python3.10/dist-packages (from pgmpy) (3.1.0)\n",
            "Requirement already satisfied: torch in /usr/local/lib/python3.10/dist-packages (from pgmpy) (2.0.1+cu118)\n",
            "Requirement already satisfied: statsmodels in /usr/local/lib/python3.10/dist-packages (from pgmpy) (0.13.5)\n",
            "Requirement already satisfied: tqdm in /usr/local/lib/python3.10/dist-packages (from pgmpy) (4.65.0)\n",
            "Requirement already satisfied: joblib in /usr/local/lib/python3.10/dist-packages (from pgmpy) (1.2.0)\n",
            "Requirement already satisfied: opt-einsum in /usr/local/lib/python3.10/dist-packages (from pgmpy) (3.3.0)\n",
            "Requirement already satisfied: python-dateutil>=2.8.1 in /usr/local/lib/python3.10/dist-packages (from pandas->pgmpy) (2.8.2)\n",
            "Requirement already satisfied: pytz>=2020.1 in /usr/local/lib/python3.10/dist-packages (from pandas->pgmpy) (2022.7.1)\n",
            "Requirement already satisfied: threadpoolctl>=2.0.0 in /usr/local/lib/python3.10/dist-packages (from scikit-learn->pgmpy) (3.1.0)\n",
            "Requirement already satisfied: patsy>=0.5.2 in /usr/local/lib/python3.10/dist-packages (from statsmodels->pgmpy) (0.5.3)\n",
            "Requirement already satisfied: packaging>=21.3 in /usr/local/lib/python3.10/dist-packages (from statsmodels->pgmpy) (23.1)\n",
            "Requirement already satisfied: filelock in /usr/local/lib/python3.10/dist-packages (from torch->pgmpy) (3.12.2)\n",
            "Requirement already satisfied: typing-extensions in /usr/local/lib/python3.10/dist-packages (from torch->pgmpy) (4.6.3)\n",
            "Requirement already satisfied: sympy in /usr/local/lib/python3.10/dist-packages (from torch->pgmpy) (1.11.1)\n",
            "Requirement already satisfied: jinja2 in /usr/local/lib/python3.10/dist-packages (from torch->pgmpy) (3.1.2)\n",
            "Requirement already satisfied: triton==2.0.0 in /usr/local/lib/python3.10/dist-packages (from torch->pgmpy) (2.0.0)\n",
            "Requirement already satisfied: cmake in /usr/local/lib/python3.10/dist-packages (from triton==2.0.0->torch->pgmpy) (3.25.2)\n",
            "Requirement already satisfied: lit in /usr/local/lib/python3.10/dist-packages (from triton==2.0.0->torch->pgmpy) (16.0.6)\n",
            "Requirement already satisfied: six in /usr/local/lib/python3.10/dist-packages (from patsy>=0.5.2->statsmodels->pgmpy) (1.16.0)\n",
            "Requirement already satisfied: MarkupSafe>=2.0 in /usr/local/lib/python3.10/dist-packages (from jinja2->torch->pgmpy) (2.1.3)\n",
            "Requirement already satisfied: mpmath>=0.19 in /usr/local/lib/python3.10/dist-packages (from sympy->torch->pgmpy) (1.3.0)\n",
            "Installing collected packages: pgmpy\n",
            "Successfully installed pgmpy-0.1.22\n"
          ]
        }
      ]
    },
    {
      "cell_type": "code",
      "source": [
        "from pgmpy.models import BayesianNetwork\n",
        "from pgmpy.estimators import ParameterEstimator\n",
        "from pgmpy.estimators import MaximumLikelihoodEstimator\n",
        "from pgmpy.estimators import BayesianEstimator\n",
        "from pgmpy.estimators import TreeSearch\n",
        "from pgmpy.inference import VariableElimination\n",
        "\n",
        "from sklearn.feature_selection import SelectKBest, chi2\n",
        "from sklearn.metrics import accuracy_score\n",
        "\n",
        "import networkx as nx\n",
        "import matplotlib.pyplot as plt\n",
        "import numpy as np"
      ],
      "metadata": {
        "id": "QGngEmo-ide_"
      },
      "execution_count": 12,
      "outputs": []
    },
    {
      "cell_type": "markdown",
      "source": [
        "## 2.1. Definición de nodos"
      ],
      "metadata": {
        "id": "3H2qCsrBHhTT"
      }
    },
    {
      "cell_type": "code",
      "source": [
        "model = BayesianNetwork([('NSE', 'TR'), ('TR', 'PTR'), ('PTR', 'PP'), ('CC', 'PP'),('PP', 'RG'),('CC', 'RG'),('E', 'TC'),('G', 'TC'),('EC', 'TC'),('TC', 'RG')])"
      ],
      "metadata": {
        "id": "IYrpQNYHiVvw"
      },
      "execution_count": 13,
      "outputs": []
    },
    {
      "cell_type": "markdown",
      "source": [
        "## 2.2. DAG del modelo"
      ],
      "metadata": {
        "id": "gaNrtRL4Fikw"
      }
    },
    {
      "cell_type": "code",
      "source": [
        "pos = {'NSE': (1, 0), 'TR': (1, -2), 'PTR': (1, -4), 'PP': (2, -6), 'CC': (3, -4), 'E': (3.5, -1),'G': (5, -1),'EC': (6.5, -1),'TC': (5, -4),'RG': (3, -8)}\n",
        "\n",
        "nx.draw_networkx(model, pos=pos, with_labels=True, node_color='#3cd194',\n",
        "                 node_size=1500, font_size=11, font_weight='bold', edge_color='gray')\n",
        "\n",
        "plt.axis('off')\n",
        "plt.show()"
      ],
      "metadata": {
        "colab": {
          "base_uri": "https://localhost:8080/",
          "height": 406
        },
        "id": "xCTRKPaMjrJX",
        "outputId": "dc8b70c8-1b6b-4e02-b316-53cad77f104b"
      },
      "execution_count": 14,
      "outputs": [
        {
          "output_type": "display_data",
          "data": {
            "text/plain": [
              "<Figure size 640x480 with 1 Axes>"
            ],
            "image/png": "[encoded data removed]"
          },
          "metadata": {}
        }
      ]
    },
    {
      "cell_type": "markdown",
      "source": [
        "## 2.3. Aprendizaje de parámetros"
      ],
      "metadata": {
        "id": "ZC26PocePE27"
      }
    },
    {
      "cell_type": "code",
      "source": [
        "pe = ParameterEstimator(model, df_model)"
      ],
      "metadata": {
        "id": "jaONNcFTPWTc"
      },
      "execution_count": 15,
      "outputs": []
    },
    {
      "cell_type": "markdown",
      "source": [
        "### 2.3.1. Frecuencia de estados"
      ],
      "metadata": {
        "id": "WtC-ZS64QnMi"
      }
    },
    {
      "cell_type": "code",
      "source": [
        "# 1. NSE: Nivel socioeconómico (Incondicional)\n",
        "print(pe.state_counts('NSE'))"
      ],
      "metadata": {
        "colab": {
          "base_uri": "https://localhost:8080/"
        },
        "id": "dp0eSrGLPf4L",
        "outputId": "32f1cdfe-3c98-4944-f732-9dd0b1f18bf5"
      },
      "execution_count": 16,
      "outputs": [
        {
          "output_type": "stream",
          "name": "stdout",
          "text": [
            "      NSE\n",
            "0  180269\n",
            "1  447575\n",
            "2  295641\n",
            "3   55556\n",
            "4   11351\n"
          ]
        }
      ]
    },
    {
      "cell_type": "code",
      "source": [
        "# 2. E: Rango de edad (Incondicional)\n",
        "print(pe.state_counts('E'))"
      ],
      "metadata": {
        "colab": {
          "base_uri": "https://localhost:8080/"
        },
        "id": "_9RgKlGOPrB6",
        "outputId": "9e8bf269-02a2-4b6e-d1cc-12d416203393"
      },
      "execution_count": 17,
      "outputs": [
        {
          "output_type": "stream",
          "name": "stdout",
          "text": [
            "        E\n",
            "0    8247\n",
            "1  261838\n",
            "2  320229\n",
            "3  227152\n",
            "4  172926\n"
          ]
        }
      ]
    },
    {
      "cell_type": "code",
      "source": [
        "# 3. G: Género (Incondicional)\n",
        "print(pe.state_counts('G'))"
      ],
      "metadata": {
        "colab": {
          "base_uri": "https://localhost:8080/"
        },
        "id": "X1AZgU2TQXTa",
        "outputId": "3bc6be6a-f7eb-4360-e945-d4def5afd685"
      },
      "execution_count": 18,
      "outputs": [
        {
          "output_type": "stream",
          "name": "stdout",
          "text": [
            "        G\n",
            "0  397432\n",
            "1  592960\n"
          ]
        }
      ]
    },
    {
      "cell_type": "code",
      "source": [
        "# 4. EC: Estado civil (Incondicional)\n",
        "print(pe.state_counts('EC'))"
      ],
      "metadata": {
        "colab": {
          "base_uri": "https://localhost:8080/"
        },
        "id": "KzCagQKPQXgE",
        "outputId": "9ec4a84a-5ca5-44bc-d277-d980b9155d34"
      },
      "execution_count": 19,
      "outputs": [
        {
          "output_type": "stream",
          "name": "stdout",
          "text": [
            "       EC\n",
            "0  581322\n",
            "1  409070\n"
          ]
        }
      ]
    },
    {
      "cell_type": "code",
      "source": [
        "# 5. TR: Tiene tarjeta del retail (Condicional)\n",
        "print(pe.state_counts('TR'))"
      ],
      "metadata": {
        "colab": {
          "base_uri": "https://localhost:8080/"
        },
        "id": "5LRT_99DQ8Cp",
        "outputId": "c6a05697-ae39-43a7-8603-4d331f400731"
      },
      "execution_count": 20,
      "outputs": [
        {
          "output_type": "stream",
          "name": "stdout",
          "text": [
            "NSE       0       1       2      3     4\n",
            "TR                                      \n",
            "0     72371  172164  126285  27136  5990\n",
            "1    107898  275411  169356  28420  5361\n"
          ]
        }
      ]
    },
    {
      "cell_type": "code",
      "source": [
        "# 6. TC: Tipo de cliente (Condicional)\n",
        "print(pe.state_counts('TC'))"
      ],
      "metadata": {
        "colab": {
          "base_uri": "https://localhost:8080/"
        },
        "id": "00ijjrgbRDF0",
        "outputId": "6cc9598a-53c4-41ca-e7cd-2bc9361d2063"
      },
      "execution_count": 21,
      "outputs": [
        {
          "output_type": "stream",
          "name": "stdout",
          "text": [
            "E      0                    1                          2                       \\\n",
            "EC     0         1          0            1             0             1          \n",
            "G      0     1   0   1      0      1     0      1      0      1      0      1   \n",
            "TC                                                                              \n",
            "0   1984  3307   6  23  63538  95850  4496  10922  54271  77219  26081  45386   \n",
            "1   1435  1455  12  25  38748  38635  3322   6327  36774  36967  19178  24353   \n",
            "\n",
            "E       3                          4                       \n",
            "EC      0             1            0             1         \n",
            "G       0      1      0      1     0      1      0      1  \n",
            "TC                                                         \n",
            "0   17180  34674  30547  52733  4524  18050  22021  48474  \n",
            "1   14912  21603  25799  29704  5656  14540  26948  32713  \n"
          ]
        }
      ]
    },
    {
      "cell_type": "code",
      "source": [
        "# 7. PTR: Usa tarjeta del retail (Condicional)\n",
        "print(pe.state_counts('PTR'))"
      ],
      "metadata": {
        "colab": {
          "base_uri": "https://localhost:8080/"
        },
        "id": "QZyN6a-wRDkZ",
        "outputId": "e7e40c3b-902d-45e7-bb27-c629c267c722"
      },
      "execution_count": 22,
      "outputs": [
        {
          "output_type": "stream",
          "name": "stdout",
          "text": [
            "TR        0       1\n",
            "PTR                \n",
            "0    377676  288425\n",
            "1     26270  298021\n"
          ]
        }
      ]
    },
    {
      "cell_type": "code",
      "source": [
        "# 8. PP: Producto en promoción o no (Condicional)\n",
        "print(pe.state_counts('PP'))"
      ],
      "metadata": {
        "colab": {
          "base_uri": "https://localhost:8080/"
        },
        "id": "RPsNWypsREIy",
        "outputId": "e9f79778-1374-490f-eaa2-5b284a825afb"
      },
      "execution_count": 23,
      "outputs": [
        {
          "output_type": "stream",
          "name": "stdout",
          "text": [
            "CC        0              1       \n",
            "PTR       0       1      0      1\n",
            "PP                               \n",
            "0    580214  199949  73406  78375\n",
            "1      8744   28316   3737  17651\n"
          ]
        }
      ]
    },
    {
      "cell_type": "code",
      "source": [
        "# 9. CC: Canal de compra (Incondicional)\n",
        "print(pe.state_counts('CC'))"
      ],
      "metadata": {
        "colab": {
          "base_uri": "https://localhost:8080/"
        },
        "id": "zVsQRjwXREgy",
        "outputId": "1267d439-d872-4e74-93d5-c5c6906889f7"
      },
      "execution_count": 24,
      "outputs": [
        {
          "output_type": "stream",
          "name": "stdout",
          "text": [
            "       CC\n",
            "0  817223\n",
            "1  173169\n"
          ]
        }
      ]
    },
    {
      "cell_type": "code",
      "source": [
        "# 10. RG: Rango de gasto (Condicional)\n",
        "print(pe.state_counts('RG'))"
      ],
      "metadata": {
        "colab": {
          "base_uri": "https://localhost:8080/"
        },
        "id": "lbctho0ZRE1i",
        "outputId": "8c73931d-f71a-42a7-a101-78385e15a778"
      },
      "execution_count": 25,
      "outputs": [
        {
          "output_type": "stream",
          "name": "stdout",
          "text": [
            "CC       0                           1                    \n",
            "PP       0              1            0             1      \n",
            "TC       0       1      0     1      0      1      0     1\n",
            "RG                                                        \n",
            "0   206831  210555   8149  3773  27691  12711   2058   552\n",
            "1   104249   68459   6968  1867  22244   6314   2682   410\n",
            "2   133439   56630  14172  2131  68243  14578  14560  1126\n"
          ]
        }
      ]
    },
    {
      "cell_type": "markdown",
      "source": [
        "### 2.3.2. Maxima Verosimilitud"
      ],
      "metadata": {
        "id": "UZLuculkPPWi"
      }
    },
    {
      "cell_type": "code",
      "source": [
        "mle = MaximumLikelihoodEstimator(model, df_model)"
      ],
      "metadata": {
        "id": "JixCx6qLX5XD"
      },
      "execution_count": 26,
      "outputs": []
    },
    {
      "cell_type": "code",
      "source": [
        "# 1. NSE: Nivel socioeconómico\n",
        "print(mle.estimate_cpd('NSE'))"
      ],
      "metadata": {
        "colab": {
          "base_uri": "https://localhost:8080/"
        },
        "id": "VUxhpHxe0bpX",
        "outputId": "64b7757b-86a5-4e50-bb91-38d49cdd5a37"
      },
      "execution_count": 27,
      "outputs": [
        {
          "output_type": "stream",
          "name": "stdout",
          "text": [
            "+--------+-----------+\n",
            "| NSE(0) | 0.182018  |\n",
            "+--------+-----------+\n",
            "| NSE(1) | 0.451917  |\n",
            "+--------+-----------+\n",
            "| NSE(2) | 0.298509  |\n",
            "+--------+-----------+\n",
            "| NSE(3) | 0.056095  |\n",
            "+--------+-----------+\n",
            "| NSE(4) | 0.0114611 |\n",
            "+--------+-----------+\n"
          ]
        }
      ]
    },
    {
      "cell_type": "code",
      "source": [
        "# 2. E: Rango d Edad\n",
        "print(mle.estimate_cpd('E'))"
      ],
      "metadata": {
        "colab": {
          "base_uri": "https://localhost:8080/"
        },
        "outputId": "8277d91e-4242-4305-a76b-489bec878a69",
        "id": "RwZbaS9L0wOl"
      },
      "execution_count": 28,
      "outputs": [
        {
          "output_type": "stream",
          "name": "stdout",
          "text": [
            "+------+------------+\n",
            "| E(0) | 0.00832701 |\n",
            "+------+------------+\n",
            "| E(1) | 0.264378   |\n",
            "+------+------------+\n",
            "| E(2) | 0.323336   |\n",
            "+------+------------+\n",
            "| E(3) | 0.229356   |\n",
            "+------+------------+\n",
            "| E(4) | 0.174604   |\n",
            "+------+------------+\n"
          ]
        }
      ]
    },
    {
      "cell_type": "code",
      "source": [
        "# 3. G: Género\n",
        "print(mle.estimate_cpd('G'))"
      ],
      "metadata": {
        "colab": {
          "base_uri": "https://localhost:8080/"
        },
        "outputId": "2ff5380b-41be-4e6e-b309-aa45dd74ff50",
        "id": "MGEurFT60wOm"
      },
      "execution_count": 29,
      "outputs": [
        {
          "output_type": "stream",
          "name": "stdout",
          "text": [
            "+------+----------+\n",
            "| G(0) | 0.401288 |\n",
            "+------+----------+\n",
            "| G(1) | 0.598712 |\n",
            "+------+----------+\n"
          ]
        }
      ]
    },
    {
      "cell_type": "code",
      "source": [
        "# 4. EC: Estado civil\n",
        "print(mle.estimate_cpd('EC'))"
      ],
      "metadata": {
        "colab": {
          "base_uri": "https://localhost:8080/"
        },
        "outputId": "c39c18c2-42bc-4c27-a096-281287a07b8e",
        "id": "zVBCULDc0wOm"
      },
      "execution_count": 30,
      "outputs": [
        {
          "output_type": "stream",
          "name": "stdout",
          "text": [
            "+-------+----------+\n",
            "| EC(0) | 0.586962 |\n",
            "+-------+----------+\n",
            "| EC(1) | 0.413038 |\n",
            "+-------+----------+\n"
          ]
        }
      ]
    },
    {
      "cell_type": "code",
      "source": [
        "# 5. TR: Tiene o no tarjeta del retail\n",
        "cpd_tr = mle.estimate_cpd('TR')\n",
        "print(cpd_tr)"
      ],
      "metadata": {
        "colab": {
          "base_uri": "https://localhost:8080/"
        },
        "outputId": "a7c01dce-4fd5-4b49-a347-21ed6648c5f3",
        "id": "F1LgcBQT0wOn"
      },
      "execution_count": 31,
      "outputs": [
        {
          "output_type": "stream",
          "name": "stdout",
          "text": [
            "+-------+---------------------+-----+---------------------+\n",
            "| NSE   | NSE(0)              | ... | NSE(4)              |\n",
            "+-------+---------------------+-----+---------------------+\n",
            "| TR(0) | 0.40146114972624247 | ... | 0.5277068099726896  |\n",
            "+-------+---------------------+-----+---------------------+\n",
            "| TR(1) | 0.5985388502737575  | ... | 0.47229319002731035 |\n",
            "+-------+---------------------+-----+---------------------+\n"
          ]
        }
      ]
    },
    {
      "cell_type": "code",
      "source": [
        "# 6. TC: Tipo de cliente (Condicional)\n",
        "cpd_tc = mle.estimate_cpd('TC')\n",
        "print(cpd_tc)"
      ],
      "metadata": {
        "colab": {
          "base_uri": "https://localhost:8080/"
        },
        "outputId": "a5588008-11b6-4437-ea90-6c04356c6198",
        "id": "kPgM3ywR0wOn"
      },
      "execution_count": 32,
      "outputs": [
        {
          "output_type": "stream",
          "name": "stdout",
          "text": [
            "+-------+--------------------+-----+---------------------+\n",
            "| E     | E(0)               | ... | E(4)                |\n",
            "+-------+--------------------+-----+---------------------+\n",
            "| EC    | EC(0)              | ... | EC(1)               |\n",
            "+-------+--------------------+-----+---------------------+\n",
            "| G     | G(0)               | ... | G(1)                |\n",
            "+-------+--------------------+-----+---------------------+\n",
            "| TC(0) | 0.5802866335185727 | ... | 0.5970660327392316  |\n",
            "+-------+--------------------+-----+---------------------+\n",
            "| TC(1) | 0.4197133664814273 | ... | 0.40293396726076836 |\n",
            "+-------+--------------------+-----+---------------------+\n"
          ]
        }
      ]
    },
    {
      "cell_type": "code",
      "source": [
        "# 7. PTR: Usa tarjeta del retail\n",
        "print(mle.estimate_cpd('PTR'))"
      ],
      "metadata": {
        "colab": {
          "base_uri": "https://localhost:8080/"
        },
        "outputId": "9f7f421e-b056-4216-8f49-86d1a4bc86c4",
        "id": "8BFJRNaX0wO3"
      },
      "execution_count": 33,
      "outputs": [
        {
          "output_type": "stream",
          "name": "stdout",
          "text": [
            "+--------+---------------------+---------------------+\n",
            "| TR     | TR(0)               | TR(1)               |\n",
            "+--------+---------------------+---------------------+\n",
            "| PTR(0) | 0.9349665549355607  | 0.49181851355453016 |\n",
            "+--------+---------------------+---------------------+\n",
            "| PTR(1) | 0.06503344506443931 | 0.5081814864454698  |\n",
            "+--------+---------------------+---------------------+\n"
          ]
        }
      ]
    },
    {
      "cell_type": "code",
      "source": [
        "# 8. PP: Producto en promoción\n",
        "cpd_pp = mle.estimate_cpd('PP')\n",
        "print(cpd_pp)"
      ],
      "metadata": {
        "colab": {
          "base_uri": "https://localhost:8080/"
        },
        "outputId": "8df8b65d-dd6f-4b9d-b319-31a05c3107bc",
        "id": "1bEHMSaU0wO3"
      },
      "execution_count": 34,
      "outputs": [
        {
          "output_type": "stream",
          "name": "stdout",
          "text": [
            "+-------+----------------------+-----+---------------------+\n",
            "| CC    | CC(0)                | ... | CC(1)               |\n",
            "+-------+----------------------+-----+---------------------+\n",
            "| PTR   | PTR(0)               | ... | PTR(1)              |\n",
            "+-------+----------------------+-----+---------------------+\n",
            "| PP(0) | 0.9851534404830226   | ... | 0.8161851998417096  |\n",
            "+-------+----------------------+-----+---------------------+\n",
            "| PP(1) | 0.014846559516977442 | ... | 0.18381480015829046 |\n",
            "+-------+----------------------+-----+---------------------+\n"
          ]
        }
      ]
    },
    {
      "cell_type": "code",
      "source": [
        "# 9. CC: Canal de compra\n",
        "print(mle.estimate_cpd('CC'))"
      ],
      "metadata": {
        "colab": {
          "base_uri": "https://localhost:8080/"
        },
        "outputId": "6263be51-5b8c-415a-dc0d-697e5317c6b7",
        "id": "OR8gd8Io0wO4"
      },
      "execution_count": 35,
      "outputs": [
        {
          "output_type": "stream",
          "name": "stdout",
          "text": [
            "+-------+----------+\n",
            "| CC(0) | 0.825151 |\n",
            "+-------+----------+\n",
            "| CC(1) | 0.174849 |\n",
            "+-------+----------+\n"
          ]
        }
      ]
    },
    {
      "cell_type": "code",
      "source": [
        "# 10. RG: Rango de gasto\n",
        "cpd_c = mle.estimate_cpd('RG')\n",
        "print(cpd_c)"
      ],
      "metadata": {
        "colab": {
          "base_uri": "https://localhost:8080/"
        },
        "outputId": "2783ec4a-1328-423b-b33f-05e325d60b30",
        "id": "iMO-oep_0wO4"
      },
      "execution_count": 36,
      "outputs": [
        {
          "output_type": "stream",
          "name": "stdout",
          "text": [
            "+-------+---------------------+-----+---------------------+\n",
            "| CC    | CC(0)               | ... | CC(1)               |\n",
            "+-------+---------------------+-----+---------------------+\n",
            "| PP    | PP(0)               | ... | PP(1)               |\n",
            "+-------+---------------------+-----+---------------------+\n",
            "| TC    | TC(0)               | ... | TC(1)               |\n",
            "+-------+---------------------+-----+---------------------+\n",
            "| RG(0) | 0.4652916973177749  | ... | 0.26436781609195403 |\n",
            "+-------+---------------------+-----+---------------------+\n",
            "| RG(1) | 0.23452090911749554 | ... | 0.19636015325670497 |\n",
            "+-------+---------------------+-----+---------------------+\n",
            "| RG(2) | 0.3001873935647295  | ... | 0.539272030651341   |\n",
            "+-------+---------------------+-----+---------------------+\n"
          ]
        }
      ]
    },
    {
      "cell_type": "markdown",
      "source": [
        "### 2.3.2. Estimar los parámetros bayesianos"
      ],
      "metadata": {
        "id": "wTekhy8kuBUD"
      }
    },
    {
      "cell_type": "code",
      "source": [
        "be = BayesianEstimator(model, df_model)"
      ],
      "metadata": {
        "id": "fxNyRItft-I7"
      },
      "execution_count": 37,
      "outputs": []
    },
    {
      "cell_type": "code",
      "source": [
        "# 1. NSE: Nivel socioeconómico\n",
        "cpd_nse = be.estimate_cpd('NSE', prior_type='BDeu')\n",
        "print(cpd_nse)"
      ],
      "metadata": {
        "id": "GUsE76W_vON7",
        "outputId": "7815690a-263e-43b6-9314-a1af81627c2c",
        "colab": {
          "base_uri": "https://localhost:8080/"
        }
      },
      "execution_count": 38,
      "outputs": [
        {
          "output_type": "stream",
          "name": "stdout",
          "text": [
            "+--------+-----------+\n",
            "| NSE(0) | 0.182018  |\n",
            "+--------+-----------+\n",
            "| NSE(1) | 0.451916  |\n",
            "+--------+-----------+\n",
            "| NSE(2) | 0.298509  |\n",
            "+--------+-----------+\n",
            "| NSE(3) | 0.0560957 |\n",
            "+--------+-----------+\n",
            "| NSE(4) | 0.0114621 |\n",
            "+--------+-----------+\n"
          ]
        }
      ]
    },
    {
      "cell_type": "code",
      "source": [
        "# 2. E: Rango de edad\n",
        "cpd_e = be.estimate_cpd('E', prior_type='BDeu')\n",
        "print(cpd_e)"
      ],
      "metadata": {
        "id": "cZywucfcvQ62",
        "outputId": "00fce225-e9c9-4e8a-cfa4-8e1ccd555c44",
        "colab": {
          "base_uri": "https://localhost:8080/"
        }
      },
      "execution_count": 39,
      "outputs": [
        {
          "output_type": "stream",
          "name": "stdout",
          "text": [
            "+------+------------+\n",
            "| E(0) | 0.00832797 |\n",
            "+------+------------+\n",
            "| E(1) | 0.264378   |\n",
            "+------+------------+\n",
            "| E(2) | 0.323335   |\n",
            "+------+------------+\n",
            "| E(3) | 0.229356   |\n",
            "+------+------------+\n",
            "| E(4) | 0.174604   |\n",
            "+------+------------+\n"
          ]
        }
      ]
    },
    {
      "cell_type": "code",
      "source": [
        "# 3. G: Género\n",
        "cpd_g = be.estimate_cpd('G', prior_type='BDeu')\n",
        "print(cpd_g)"
      ],
      "metadata": {
        "id": "0tZwYNAivf6j",
        "outputId": "16e54654-25d1-40ef-ee57-34405b08fa5a",
        "colab": {
          "base_uri": "https://localhost:8080/"
        }
      },
      "execution_count": 40,
      "outputs": [
        {
          "output_type": "stream",
          "name": "stdout",
          "text": [
            "+------+----------+\n",
            "| G(0) | 0.401288 |\n",
            "+------+----------+\n",
            "| G(1) | 0.598712 |\n",
            "+------+----------+\n"
          ]
        }
      ]
    },
    {
      "cell_type": "code",
      "source": [
        "# 4. EC: Estado civil\n",
        "cpd_ec = be.estimate_cpd('EC', prior_type='BDeu')\n",
        "print(cpd_ec)"
      ],
      "metadata": {
        "id": "Tkq0aQ4jvtWz",
        "outputId": "5e932398-ddd3-4bd9-9d3f-dae15ffaa1c7",
        "colab": {
          "base_uri": "https://localhost:8080/"
        }
      },
      "execution_count": 41,
      "outputs": [
        {
          "output_type": "stream",
          "name": "stdout",
          "text": [
            "+-------+----------+\n",
            "| EC(0) | 0.586961 |\n",
            "+-------+----------+\n",
            "| EC(1) | 0.413039 |\n",
            "+-------+----------+\n"
          ]
        }
      ]
    },
    {
      "cell_type": "code",
      "source": [
        "# 5. TR: Tiene tarjeta del retail\n",
        "cpd_tr = be.estimate_cpd('TR', prior_type='BDeu')\n",
        "print(cpd_tr)"
      ],
      "metadata": {
        "id": "-nTpUX8lv6WL",
        "outputId": "4aee8a32-8458-4bf9-f647-1b1152cab528",
        "colab": {
          "base_uri": "https://localhost:8080/"
        }
      },
      "execution_count": 42,
      "outputs": [
        {
          "output_type": "stream",
          "name": "stdout",
          "text": [
            "+-------+---------------------+-----+--------------------+\n",
            "| NSE   | NSE(0)              | ... | NSE(4)             |\n",
            "+-------+---------------------+-----+--------------------+\n",
            "| TR(0) | 0.40146169634437234 | ... | 0.5277043692741367 |\n",
            "+-------+---------------------+-----+--------------------+\n",
            "| TR(1) | 0.5985383036556277  | ... | 0.4722956307258633 |\n",
            "+-------+---------------------+-----+--------------------+\n"
          ]
        }
      ]
    },
    {
      "cell_type": "code",
      "source": [
        "for i in range(0, len(cpd_tr.values)):\n",
        "  for j in range(0, len(cpd_tr.values[i])):\n",
        "    print('tr_',i,'nse_',j,': ',cpd_tr.values[i][j])"
      ],
      "metadata": {
        "colab": {
          "base_uri": "https://localhost:8080/"
        },
        "id": "ghf_6lHbyQXL",
        "outputId": "02b20666-c2df-4745-dbb4-8c8cb71fbd81"
      },
      "execution_count": 43,
      "outputs": [
        {
          "output_type": "stream",
          "name": "stdout",
          "text": [
            "tr_ 0 nse_ 0 :  0.40146169634437234\n",
            "tr_ 0 nse_ 1 :  0.38465981196489535\n",
            "tr_ 0 nse_ 2 :  0.4271568315733218\n",
            "tr_ 0 nse_ 3 :  0.4884443004481884\n",
            "tr_ 0 nse_ 4 :  0.5277043692741367\n",
            "tr_ 1 nse_ 0 :  0.5985383036556277\n",
            "tr_ 1 nse_ 1 :  0.6153401880351047\n",
            "tr_ 1 nse_ 2 :  0.5728431684266783\n",
            "tr_ 1 nse_ 3 :  0.5115556995518117\n",
            "tr_ 1 nse_ 4 :  0.4722956307258633\n"
          ]
        }
      ]
    },
    {
      "cell_type": "code",
      "source": [
        "# 6. TC: Tipo de cliente (Condicional)\n",
        "cpd_tc = be.estimate_cpd('TC', prior_type='BDeu')\n",
        "print(cpd_tc)"
      ],
      "metadata": {
        "id": "CVbSbLfjv8TK",
        "outputId": "075d0432-fdde-440b-91c1-5f3483e55314",
        "colab": {
          "base_uri": "https://localhost:8080/"
        }
      },
      "execution_count": 44,
      "outputs": [
        {
          "output_type": "stream",
          "name": "stdout",
          "text": [
            "+-------+---------------------+-----+---------------------+\n",
            "| E     | E(0)                | ... | E(4)                |\n",
            "+-------+---------------------+-----+---------------------+\n",
            "| EC    | EC(0)               | ... | EC(1)               |\n",
            "+-------+---------------------+-----+---------------------+\n",
            "| G     | G(0)                | ... | G(1)                |\n",
            "+-------+---------------------+-----+---------------------+\n",
            "| TC(0) | 0.5802807633252907  | ... | 0.5970657338436762  |\n",
            "+-------+---------------------+-----+---------------------+\n",
            "| TC(1) | 0.41971923667470934 | ... | 0.40293426615632383 |\n",
            "+-------+---------------------+-----+---------------------+\n"
          ]
        }
      ]
    },
    {
      "cell_type": "code",
      "source": [
        "for i in range(0, len(cpd_tc.values)):\n",
        "  for j in range(0, len(cpd_tc.values[i])):\n",
        "    for k in range(0, len(cpd_tc.values[i][j])):\n",
        "      for l in range(0, len(cpd_tc.values[i][j][k])):\n",
        "        print('tc_',i,'e_',j,'ec_',k,'g_',l,': ',cpd_tc.values[i][j][k][l])"
      ],
      "metadata": {
        "colab": {
          "base_uri": "https://localhost:8080/"
        },
        "id": "y6zVABrayI1z",
        "outputId": "6d81a614-6e2a-4f0e-8a34-ffb5ade439fe"
      },
      "execution_count": 45,
      "outputs": [
        {
          "output_type": "stream",
          "name": "stdout",
          "text": [
            "tc_ 0 e_ 0 ec_ 0 g_ 0 :  0.5802807633252907\n",
            "tc_ 0 e_ 0 ec_ 0 g_ 1 :  0.6944459026720563\n",
            "tc_ 0 e_ 0 ec_ 1 g_ 0 :  0.3356164383561644\n",
            "tc_ 0 e_ 0 ec_ 1 g_ 1 :  0.4792746113989637\n",
            "tc_ 0 e_ 1 ec_ 0 g_ 0 :  0.6211795329284239\n",
            "tc_ 0 e_ 1 ec_ 0 g_ 1 :  0.7127184951509552\n",
            "tc_ 0 e_ 1 ec_ 1 g_ 0 :  0.5750807405749369\n",
            "tc_ 0 e_ 1 ec_ 1 g_ 1 :  0.6331941968491384\n",
            "tc_ 0 e_ 2 ec_ 0 g_ 0 :  0.5960895818288159\n",
            "tc_ 0 e_ 2 ec_ 0 g_ 1 :  0.6762558977109766\n",
            "tc_ 0 e_ 2 ec_ 1 g_ 0 :  0.5762606538994791\n",
            "tc_ 0 e_ 2 ec_ 1 g_ 1 :  0.6507974347300839\n",
            "tc_ 0 e_ 3 ec_ 0 g_ 0 :  0.5353356339926306\n",
            "tc_ 0 e_ 3 ec_ 0 g_ 1 :  0.6161304079357112\n",
            "tc_ 0 e_ 3 ec_ 1 g_ 0 :  0.5421323513099807\n",
            "tc_ 0 e_ 3 ec_ 1 g_ 1 :  0.6396759353326318\n",
            "tc_ 0 e_ 4 ec_ 0 g_ 0 :  0.4444021512241841\n",
            "tc_ 0 e_ 4 ec_ 0 g_ 1 :  0.5538504614110048\n",
            "tc_ 0 e_ 4 ec_ 1 g_ 0 :  0.4496929195362396\n",
            "tc_ 0 e_ 4 ec_ 1 g_ 1 :  0.5970657338436762\n",
            "tc_ 1 e_ 0 ec_ 0 g_ 0 :  0.41971923667470934\n",
            "tc_ 1 e_ 0 ec_ 0 g_ 1 :  0.3055540973279437\n",
            "tc_ 1 e_ 0 ec_ 1 g_ 0 :  0.6643835616438356\n",
            "tc_ 1 e_ 0 ec_ 1 g_ 1 :  0.5207253886010362\n",
            "tc_ 1 e_ 1 ec_ 0 g_ 0 :  0.3788204670715761\n",
            "tc_ 1 e_ 1 ec_ 0 g_ 1 :  0.2872815048490448\n",
            "tc_ 1 e_ 1 ec_ 1 g_ 0 :  0.42491925942506314\n",
            "tc_ 1 e_ 1 ec_ 1 g_ 1 :  0.36680580315086164\n",
            "tc_ 1 e_ 2 ec_ 0 g_ 0 :  0.4039104181711841\n",
            "tc_ 1 e_ 2 ec_ 0 g_ 1 :  0.3237441022890234\n",
            "tc_ 1 e_ 2 ec_ 1 g_ 0 :  0.4237393461005209\n",
            "tc_ 1 e_ 2 ec_ 1 g_ 1 :  0.34920256526991617\n",
            "tc_ 1 e_ 3 ec_ 0 g_ 0 :  0.4646643660073694\n",
            "tc_ 1 e_ 3 ec_ 0 g_ 1 :  0.38386959206428883\n",
            "tc_ 1 e_ 3 ec_ 1 g_ 0 :  0.4578676486900193\n",
            "tc_ 1 e_ 3 ec_ 1 g_ 1 :  0.3603240646673682\n",
            "tc_ 1 e_ 4 ec_ 0 g_ 0 :  0.555597848775816\n",
            "tc_ 1 e_ 4 ec_ 0 g_ 1 :  0.4461495385889952\n",
            "tc_ 1 e_ 4 ec_ 1 g_ 0 :  0.5503070804637604\n",
            "tc_ 1 e_ 4 ec_ 1 g_ 1 :  0.40293426615632383\n"
          ]
        }
      ]
    },
    {
      "cell_type": "code",
      "source": [
        "# 7. PTR: Usa tarjeta del retail\n",
        "cpd_ptr = be.estimate_cpd('PTR', prior_type='BDeu')\n",
        "print(cpd_ptr)"
      ],
      "metadata": {
        "id": "NFKbsiT2v-OJ",
        "outputId": "603930f7-2855-40bb-dbcd-8284b82f5b39",
        "colab": {
          "base_uri": "https://localhost:8080/"
        }
      },
      "execution_count": 46,
      "outputs": [
        {
          "output_type": "stream",
          "name": "stdout",
          "text": [
            "+--------+---------------------+---------------------+\n",
            "| TR     | TR(0)               | TR(1)               |\n",
            "+--------+---------------------+---------------------+\n",
            "| PTR(0) | 0.9349638629676803  | 0.49181854843178896 |\n",
            "+--------+---------------------+---------------------+\n",
            "| PTR(1) | 0.06503613703231971 | 0.508181451568211   |\n",
            "+--------+---------------------+---------------------+\n"
          ]
        }
      ]
    },
    {
      "cell_type": "code",
      "source": [
        "# 8. PP: Producto en promoción\n",
        "cpd_pp = be.estimate_cpd('PP', prior_type='BDeu')\n",
        "print(cpd_pp)"
      ],
      "metadata": {
        "id": "E02fimt0v-Vh",
        "outputId": "a252b7a3-9d5d-497f-ce66-68418982e77d",
        "colab": {
          "base_uri": "https://localhost:8080/"
        }
      },
      "execution_count": 47,
      "outputs": [
        {
          "output_type": "stream",
          "name": "stdout",
          "text": [
            "+-------+----------------------+-----+---------------------+\n",
            "| CC    | CC(0)                | ... | CC(1)               |\n",
            "+-------+----------------------+-----+---------------------+\n",
            "| PTR   | PTR(0)               | ... | PTR(1)              |\n",
            "+-------+----------------------+-----+---------------------+\n",
            "| PP(0) | 0.9851524107992191   | ... | 0.8161810840152144  |\n",
            "+-------+----------------------+-----+---------------------+\n",
            "| PP(1) | 0.014847589200780869 | ... | 0.18381891598478556 |\n",
            "+-------+----------------------+-----+---------------------+\n"
          ]
        }
      ]
    },
    {
      "cell_type": "code",
      "source": [
        "for i in range(0, len(cpd_pp.values)):\n",
        "  for j in range(0, len(cpd_pp.values[i])):\n",
        "    for k in range(0, len(cpd_pp.values[i][j])):\n",
        "        print('pp_',i,'cc_',j,'ptr_',k,': ',cpd_pp.values[i][j][k])"
      ],
      "metadata": {
        "colab": {
          "base_uri": "https://localhost:8080/"
        },
        "id": "o-b09ndyx_ir",
        "outputId": "f13a1331-e135-4fd6-e162-a8acc870343f"
      },
      "execution_count": 48,
      "outputs": [
        {
          "output_type": "stream",
          "name": "stdout",
          "text": [
            "pp_ 0 cc_ 0 ptr_ 0 :  0.9851524107992191\n",
            "pp_ 0 cc_ 0 ptr_ 1 :  0.875949138341739\n",
            "pp_ 0 cc_ 1 ptr_ 0 :  0.951550180343966\n",
            "pp_ 0 cc_ 1 ptr_ 1 :  0.8161810840152144\n",
            "pp_ 1 cc_ 0 ptr_ 0 :  0.014847589200780869\n",
            "pp_ 1 cc_ 0 ptr_ 1 :  0.12405086165826092\n",
            "pp_ 1 cc_ 1 ptr_ 0 :  0.04844981965603399\n",
            "pp_ 1 cc_ 1 ptr_ 1 :  0.18381891598478556\n"
          ]
        }
      ]
    },
    {
      "cell_type": "code",
      "source": [
        "# 9. CC: Canal de compra\n",
        "cpd_cc = be.estimate_cpd('CC', prior_type='BDeu')\n",
        "print(cpd_cc)"
      ],
      "metadata": {
        "id": "h3OdPxeHwC1Q",
        "outputId": "0702c0e6-0438-4d5c-c9d9-337565a180ea",
        "colab": {
          "base_uri": "https://localhost:8080/"
        }
      },
      "execution_count": 49,
      "outputs": [
        {
          "output_type": "stream",
          "name": "stdout",
          "text": [
            "+-------+----------+\n",
            "| CC(0) | 0.825149 |\n",
            "+-------+----------+\n",
            "| CC(1) | 0.174851 |\n",
            "+-------+----------+\n"
          ]
        }
      ]
    },
    {
      "cell_type": "code",
      "source": [
        "# 10. RG: Rango de gasto\n",
        "cpd_c = be.estimate_cpd('RG', prior_type='BDeu')\n",
        "print(cpd_c)"
      ],
      "metadata": {
        "id": "scrKu-KBwGRB",
        "outputId": "6245236a-a41c-41fb-8f6b-a4d240eda782",
        "colab": {
          "base_uri": "https://localhost:8080/"
        }
      },
      "execution_count": 50,
      "outputs": [
        {
          "output_type": "stream",
          "name": "stdout",
          "text": [
            "+-------+---------------------+-----+---------------------+\n",
            "| CC    | CC(0)               | ... | CC(1)               |\n",
            "+-------+---------------------+-----+---------------------+\n",
            "| PP    | PP(0)               | ... | PP(1)               |\n",
            "+-------+---------------------+-----+---------------------+\n",
            "| TC    | TC(0)               | ... | TC(1)               |\n",
            "+-------+---------------------+-----+---------------------+\n",
            "| RG(0) | 0.46529151178271005 | ... | 0.2643884533285455  |\n",
            "+-------+---------------------+-----+---------------------+\n",
            "| RG(1) | 0.23452104804896595 | ... | 0.19640114110160192 |\n",
            "+-------+---------------------+-----+---------------------+\n",
            "| RG(2) | 0.30018744016832405 | ... | 0.5392104055698526  |\n",
            "+-------+---------------------+-----+---------------------+\n"
          ]
        }
      ]
    },
    {
      "cell_type": "code",
      "source": [
        "for i in range(0, len(cpd_c.values)):\n",
        "  for j in range(0, len(cpd_c.values[i])):\n",
        "    for k in range(0, len(cpd_c.values[i][j])):\n",
        "      for l in range(0, len(cpd_c.values[i][j][k])):\n",
        "        print('c_',i,'cc_',j,'pp_',k,'tc_',l,': ',cpd_c.values[i][j][k][l])"
      ],
      "metadata": {
        "colab": {
          "base_uri": "https://localhost:8080/"
        },
        "id": "5q5PvwSdx5eC",
        "outputId": "5905122b-b133-454a-f469-6ac4584fe6ab"
      },
      "execution_count": 51,
      "outputs": [
        {
          "output_type": "stream",
          "name": "stdout",
          "text": [
            "c_ 0 cc_ 0 pp_ 0 tc_ 0 :  0.46529151178271005\n",
            "c_ 0 cc_ 0 pp_ 0 tc_ 1 :  0.6273158949985669\n",
            "c_ 0 cc_ 0 pp_ 1 tc_ 0 :  0.2782284967231002\n",
            "c_ 0 cc_ 0 pp_ 1 tc_ 1 :  0.48551085948348427\n",
            "c_ 0 cc_ 1 pp_ 0 tc_ 0 :  0.2343165554120581\n",
            "c_ 0 cc_ 1 pp_ 0 tc_ 1 :  0.37826896155796685\n",
            "c_ 0 cc_ 1 pp_ 1 tc_ 0 :  0.10663946547499542\n",
            "c_ 0 cc_ 1 pp_ 1 tc_ 1 :  0.2643884533285455\n",
            "c_ 1 cc_ 0 pp_ 0 tc_ 0 :  0.23452104804896595\n",
            "c_ 1 cc_ 0 pp_ 0 tc_ 1 :  0.20396336849825417\n",
            "c_ 1 cc_ 0 pp_ 1 tc_ 0 :  0.2379070518428738\n",
            "c_ 1 cc_ 0 pp_ 1 tc_ 1 :  0.2402597054455578\n",
            "c_ 1 cc_ 1 pp_ 0 tc_ 0 :  0.18822531006206353\n",
            "c_ 1 cc_ 1 pp_ 0 tc_ 1 :  0.18790259483413868\n",
            "c_ 1 cc_ 1 pp_ 1 tc_ 0 :  0.13897002471854322\n",
            "c_ 1 cc_ 1 pp_ 1 tc_ 1 :  0.19640114110160192\n",
            "c_ 2 cc_ 0 pp_ 0 tc_ 0 :  0.30018744016832405\n",
            "c_ 2 cc_ 0 pp_ 0 tc_ 1 :  0.16872073650317904\n",
            "c_ 2 cc_ 0 pp_ 1 tc_ 0 :  0.483864451434026\n",
            "c_ 2 cc_ 0 pp_ 1 tc_ 1 :  0.2742294350709579\n",
            "c_ 2 cc_ 1 pp_ 0 tc_ 0 :  0.5774581345258784\n",
            "c_ 2 cc_ 1 pp_ 0 tc_ 1 :  0.4338284436078945\n",
            "c_ 2 cc_ 1 pp_ 1 tc_ 0 :  0.7543905098064614\n",
            "c_ 2 cc_ 1 pp_ 1 tc_ 1 :  0.5392104055698526\n"
          ]
        }
      ]
    },
    {
      "cell_type": "code",
      "source": [
        "model.fit(df_model, estimator=BayesianEstimator, prior_type='BDeu')"
      ],
      "metadata": {
        "id": "5DEFkKC72-yz"
      },
      "execution_count": 52,
      "outputs": []
    },
    {
      "cell_type": "markdown",
      "source": [
        "## 2.4. Aprendizaje estructurado"
      ],
      "metadata": {
        "id": "PVhMwUKgarFv"
      }
    },
    {
      "cell_type": "markdown",
      "source": [
        "### 2.4.2. Grafico aciciclo dirigido"
      ],
      "metadata": {
        "id": "p0Qbwvs1iH5S"
      }
    },
    {
      "cell_type": "code",
      "source": [
        "# NSE\n",
        "ts = TreeSearch(df_model, root_node='NSE')\n",
        "dag_1 = ts.estimate(estimator_type='chow-liu')\n",
        "pos = {'NSE': (1, 1), 'TR': (1, 0), 'PTR': (1, -1), 'PP': (1, -2), 'CC': (2, -1), 'E': (2.5, 0),'G': (0, 0),'EC': (3.5, 0),'TC': (0, -1),'RG': (2, -2)}\n",
        "nx.draw(dag_1, pos=pos, with_labels=True, node_size=1200, node_color='#6e6edb', font_size=11, font_weight='bold', alpha=0.8)\n",
        "plt.show()"
      ],
      "metadata": {
        "colab": {
          "base_uri": "https://localhost:8080/",
          "height": 548,
          "referenced_widgets": [
            "5e305bd6393e4b959dc4668831fee6b8",
            "51b6177658df41bba89091cb9354e872",
            "3fc3a2b6ebf54fc38aa9f535320108b0",
            "14cd25fc54a748b0bbd258b953c5c913",
            "8cbf18fa3d1b425ab24fb3bd598ef503",
            "75fa1fa1e8b742d7ab2540d3b24acc1b",
            "bd612f558fa44187a19ac1d11ed1e9b0",
            "ec0370cc72cd44faa2d6f653a0640bf3",
            "a09b2910a73743348394f7edf67a92b2",
            "b2d61d328c8445dea031f53202db5d2d",
            "b3dc955a07c844daa257647919b4e477"
          ]
        },
        "id": "J547Ot5CiHJQ",
        "outputId": "b77b6ff8-f3af-4479-cf49-4755d8975786"
      },
      "execution_count": 53,
      "outputs": [
        {
          "output_type": "display_data",
          "data": {
            "text/plain": [
              "Building tree:   0%|          | 0/45.0 [00:00<?, ?it/s]"
            ],
            "application/vnd.jupyter.widget-view+json": {
              "version_major": 2,
              "version_minor": 0,
              "model_id": "5e305bd6393e4b959dc4668831fee6b8"
            }
          },
          "metadata": {}
        },
        {
          "output_type": "display_data",
          "data": {
            "text/plain": [
              "<Figure size 640x480 with 1 Axes>"
            ],
            "image/png": "[encoded data removed]"
          },
          "metadata": {}
        }
      ]
    },
    {
      "cell_type": "code",
      "source": [
        "# Género\n",
        "ts = TreeSearch(df_model, root_node='G')\n",
        "dag_2 = ts.estimate(estimator_type='chow-liu')\n",
        "pos = {'NSE': (1, 1), 'TR': (1, 0), 'PTR': (1, -1), 'PP': (1, -2), 'CC': (2, -1), 'E': (2.5, 0),'G': (0, 0),'EC': (3.5, 0),'TC': (0, -1),'RG': (2, -2)}\n",
        "nx.draw(dag_2, pos=pos, with_labels=True, node_size=1200, node_color='#5384a1', font_size=11, font_weight='bold', alpha=0.8)\n",
        "plt.show()"
      ],
      "metadata": {
        "colab": {
          "base_uri": "https://localhost:8080/",
          "height": 548,
          "referenced_widgets": [
            "29ae5a6635f444d190a7d0a859b9a773",
            "821052c59b2d4a18aed21dbbdf1f74c4",
            "80fb5de88929454ca6a5757b28e75d87",
            "5faa0855b920436d86d2cd1db6d2955d",
            "d5407de0c47a413eaf00074f01406424",
            "04b4139c81f84fac8fe33f2fcdd6db13",
            "3b48706f657443c893e9a58fd64051b6",
            "a44a296d256346c086a7b2e0e66ecfae",
            "fb489bdc68d3420980820f28511b72ac",
            "284dc1c0ead942908e509a50b6521b17",
            "4cace55d60bc4bdfa9eaab0d81248a39"
          ]
        },
        "id": "vnHgcjNEzB5T",
        "outputId": "cb5b5822-9193-4a62-9c8e-e90d1c54ccf2"
      },
      "execution_count": 68,
      "outputs": [
        {
          "output_type": "display_data",
          "data": {
            "text/plain": [
              "Building tree:   0%|          | 0/45.0 [00:00<?, ?it/s]"
            ],
            "application/vnd.jupyter.widget-view+json": {
              "version_major": 2,
              "version_minor": 0,
              "model_id": "29ae5a6635f444d190a7d0a859b9a773"
            }
          },
          "metadata": {}
        },
        {
          "output_type": "display_data",
          "data": {
            "text/plain": [
              "<Figure size 640x480 with 1 Axes>"
            ],
            "image/png": "[encoded data removed]"
          },
          "metadata": {}
        }
      ]
    },
    {
      "cell_type": "code",
      "source": [
        "# Rango edad\n",
        "ts = TreeSearch(df_model, root_node='E')\n",
        "dag_3 = ts.estimate(estimator_type='chow-liu')\n",
        "pos = {'NSE': (1, 1), 'TR': (1, 0), 'PTR': (1, -1), 'PP': (1, -2), 'CC': (2, -1), 'E': (2.5, 0),'G': (0, 0),'EC': (3.5, 0),'TC': (0, -1),'RG': (2, -2)}\n",
        "nx.draw(dag_3, pos=pos, with_labels=True, node_size=1200, node_color='#afd344', font_size=11, font_weight='bold', alpha=0.8)\n",
        "plt.show()"
      ],
      "metadata": {
        "colab": {
          "base_uri": "https://localhost:8080/",
          "height": 548,
          "referenced_widgets": [
            "625d25e291874b089bbe3c38e1472d68",
            "b5223ae3fab642e7b7f9fe62286e862f",
            "fa02d2535dcf421fa05ce4931aa518ce",
            "ecd36ec479ec4fe0b95c6f65c844a84f",
            "9b358cbc10b34c9193952d7f54b2ffe2",
            "5a948ceac89746218b8c68785b648a27",
            "0d13fecbe51548ea96fd93d27e5c1521",
            "5df319b2d935496f8af9ca73984db5ef",
            "962f23194b744af38f365c42e3a999c5",
            "47a74efed7b54263a5cdfadcd3333f0b",
            "430df672cf49417eacbe5ac405b88672"
          ]
        },
        "id": "SHd98h5gzxx7",
        "outputId": "4cbd5d7d-f8f7-4d14-d8d3-8cc2868ae85d"
      },
      "execution_count": 69,
      "outputs": [
        {
          "output_type": "display_data",
          "data": {
            "text/plain": [
              "Building tree:   0%|          | 0/45.0 [00:00<?, ?it/s]"
            ],
            "application/vnd.jupyter.widget-view+json": {
              "version_major": 2,
              "version_minor": 0,
              "model_id": "625d25e291874b089bbe3c38e1472d68"
            }
          },
          "metadata": {}
        },
        {
          "output_type": "display_data",
          "data": {
            "text/plain": [
              "<Figure size 640x480 with 1 Axes>"
            ],
            "image/png": "[encoded data removed]"
          },
          "metadata": {}
        }
      ]
    },
    {
      "cell_type": "markdown",
      "source": [
        "### 2.4.3. CPDs"
      ],
      "metadata": {
        "id": "zwrngPWTkfOi"
      }
    },
    {
      "cell_type": "code",
      "source": [
        "# dag_1 -> root_node='NSE'\n",
        "bn_1 = BayesianNetwork(dag_1)\n",
        "bn_1.fit(df_model)\n",
        "\n",
        "for i in df_model.columns:\n",
        "  print(i,'\\n',bn_1.get_cpds(i),'\\n')"
      ],
      "metadata": {
        "colab": {
          "base_uri": "https://localhost:8080/"
        },
        "id": "VOwn6tWuhZgb",
        "outputId": "2060205e-567c-4383-9dd5-ce8c0f7bde41"
      },
      "execution_count": 70,
      "outputs": [
        {
          "output_type": "stream",
          "name": "stdout",
          "text": [
            "NSE \n",
            " +--------+-----------+\n",
            "| NSE(0) | 0.182018  |\n",
            "+--------+-----------+\n",
            "| NSE(1) | 0.451917  |\n",
            "+--------+-----------+\n",
            "| NSE(2) | 0.298509  |\n",
            "+--------+-----------+\n",
            "| NSE(3) | 0.056095  |\n",
            "+--------+-----------+\n",
            "| NSE(4) | 0.0114611 |\n",
            "+--------+-----------+ \n",
            "\n",
            "E \n",
            " +------+-----------------------+-----+----------------------+\n",
            "| NSE  | NSE(0)                | ... | NSE(4)               |\n",
            "+------+-----------------------+-----+----------------------+\n",
            "| E(0) | 0.0024297022782619306 | ... | 0.012598008985992424 |\n",
            "+------+-----------------------+-----+----------------------+\n",
            "| E(1) | 0.17082804031752546   | ... | 0.3700995507003788   |\n",
            "+------+-----------------------+-----+----------------------+\n",
            "| E(2) | 0.33842757212831936   | ... | 0.3062285261210466   |\n",
            "+------+-----------------------+-----+----------------------+\n",
            "| E(3) | 0.26289045814865564   | ... | 0.19267024931724078  |\n",
            "+------+-----------------------+-----+----------------------+\n",
            "| E(4) | 0.22542422712723764   | ... | 0.11840366487534137  |\n",
            "+------+-----------------------+-----+----------------------+ \n",
            "\n",
            "G \n",
            " +------+---------------------+--------------------+\n",
            "| TC   | TC(0)               | TC(1)              |\n",
            "+------+---------------------+--------------------+\n",
            "| G(0) | 0.36750064617871175 | 0.4557669886522503 |\n",
            "+------+---------------------+--------------------+\n",
            "| G(1) | 0.6324993538212882  | 0.5442330113477497 |\n",
            "+------+---------------------+--------------------+ \n",
            "\n",
            "EC \n",
            " +-------+----------------------+-----+---------------------+\n",
            "| E     | E(0)                 | ... | E(4)                |\n",
            "+-------+----------------------+-----+---------------------+\n",
            "| EC(0) | 0.9919970898508549   | ... | 0.24733122838670876 |\n",
            "+-------+----------------------+-----+---------------------+\n",
            "| EC(1) | 0.008002910149145144 | ... | 0.7526687716132913  |\n",
            "+-------+----------------------+-----+---------------------+ \n",
            "\n",
            "TR \n",
            " +-------+---------------------+---------------------+\n",
            "| PTR   | PTR(0)              | PTR(1)              |\n",
            "+-------+---------------------+---------------------+\n",
            "| TR(0) | 0.5669950953383947  | 0.08100749018628331 |\n",
            "+-------+---------------------+---------------------+\n",
            "| TR(1) | 0.43300490466160535 | 0.9189925098137167  |\n",
            "+-------+---------------------+---------------------+ \n",
            "\n",
            "TC \n",
            " +-------+---------------------+---------------------+\n",
            "| PTR   | PTR(0)              | PTR(1)              |\n",
            "+-------+---------------------+---------------------+\n",
            "| TC(0) | 0.5353347315196945  | 0.7854026167855414  |\n",
            "+-------+---------------------+---------------------+\n",
            "| TC(1) | 0.46466526848030554 | 0.21459738321445862 |\n",
            "+-------+---------------------+---------------------+ \n",
            "\n",
            "PTR \n",
            " +--------+--------------------+---------------------+--------------------+\n",
            "| RG     | RG(0)              | RG(1)               | RG(2)              |\n",
            "+--------+--------------------+---------------------+--------------------+\n",
            "| PTR(0) | 0.7896045054200542 | 0.6618275459325588  | 0.4987486839041062 |\n",
            "+--------+--------------------+---------------------+--------------------+\n",
            "| PTR(1) | 0.2103954945799458 | 0.33817245406744123 | 0.5012513160958938 |\n",
            "+--------+--------------------+---------------------+--------------------+ \n",
            "\n",
            "PP \n",
            " +-------+---------------------+---------------------+\n",
            "| PTR   | PTR(0)              | PTR(1)              |\n",
            "+-------+---------------------+---------------------+\n",
            "| PP(0) | 0.9812626013172177  | 0.8582538522499854  |\n",
            "+-------+---------------------+---------------------+\n",
            "| PP(1) | 0.01873739868278234 | 0.14174614775001465 |\n",
            "+-------+---------------------+---------------------+ \n",
            "\n",
            "CC \n",
            " +-------+---------------------+-----+---------------------+\n",
            "| E     | E(0)                | ... | E(4)                |\n",
            "+-------+---------------------+-----+---------------------+\n",
            "| CC(0) | 0.7331150721474475  | ... | 0.9156980442501417  |\n",
            "+-------+---------------------+-----+---------------------+\n",
            "| CC(1) | 0.26688492785255247 | ... | 0.08430195574985833 |\n",
            "+-------+---------------------+-----+---------------------+ \n",
            "\n",
            "RG \n",
            " +-------+---------------------+---------------------+\n",
            "| CC    | CC(0)               | CC(1)               |\n",
            "+-------+---------------------+---------------------+\n",
            "| RG(0) | 0.5253254007780006  | 0.24838163874596492 |\n",
            "+-------+---------------------+---------------------+\n",
            "| RG(1) | 0.22214621957531788 | 0.1827694333281361  |\n",
            "+-------+---------------------+---------------------+\n",
            "| RG(2) | 0.2525283796466815  | 0.568848927925899   |\n",
            "+-------+---------------------+---------------------+ \n",
            "\n"
          ]
        }
      ]
    },
    {
      "cell_type": "code",
      "source": [
        "# dag_2 -> root_node='G'\n",
        "bn_2 = BayesianNetwork(dag_2)\n",
        "bn_2.fit(df_model)\n",
        "\n",
        "for i in df_model.columns:\n",
        "  print(i,'\\n',bn_2.get_cpds(i),'\\n')"
      ],
      "metadata": {
        "colab": {
          "base_uri": "https://localhost:8080/"
        },
        "id": "NOr6cU0nPykW",
        "outputId": "8e952d0f-2aaa-4e95-86cf-459fec1a1746"
      },
      "execution_count": 71,
      "outputs": [
        {
          "output_type": "stream",
          "name": "stdout",
          "text": [
            "NSE \n",
            " +--------+----------------------+-----+----------------------+\n",
            "| E      | E(0)                 | ... | E(4)                 |\n",
            "+--------+----------------------+-----+----------------------+\n",
            "| NSE(0) | 0.053110221898872316 | ... | 0.23499647247955774  |\n",
            "+--------+----------------------+-----+----------------------+\n",
            "| NSE(1) | 0.3629198496422942   | ... | 0.5023651735424401   |\n",
            "+--------+----------------------+-----+----------------------+\n",
            "| NSE(2) | 0.45737844064508304  | ... | 0.21789667256514347  |\n",
            "+--------+----------------------+-----+----------------------+\n",
            "| NSE(3) | 0.1092518491572693   | ... | 0.03696957079907012  |\n",
            "+--------+----------------------+-----+----------------------+\n",
            "| NSE(4) | 0.017339638656481145 | ... | 0.007772110613788557 |\n",
            "+--------+----------------------+-----+----------------------+ \n",
            "\n",
            "E \n",
            " +------+----------------------+----------------------+\n",
            "| CC   | CC(0)                | CC(1)                |\n",
            "+------+----------------------+----------------------+\n",
            "| E(0) | 0.007398225453762315 | 0.012710127101271012 |\n",
            "+------+----------------------+----------------------+\n",
            "| E(1) | 0.23974484320681136  | 0.3806281724789079   |\n",
            "+------+----------------------+----------------------+\n",
            "| E(2) | 0.3173784878790734   | 0.3514485849083843   |\n",
            "+------+----------------------+----------------------+\n",
            "| E(3) | 0.24171492970706893  | 0.17102945677344097  |\n",
            "+------+----------------------+----------------------+\n",
            "| E(4) | 0.193763513753284    | 0.08418365873799583  |\n",
            "+------+----------------------+----------------------+ \n",
            "\n",
            "G \n",
            " +------+----------+\n",
            "| G(0) | 0.401288 |\n",
            "+------+----------+\n",
            "| G(1) | 0.598712 |\n",
            "+------+----------+ \n",
            "\n",
            "EC \n",
            " +-------+----------------------+-----+---------------------+\n",
            "| E     | E(0)                 | ... | E(4)                |\n",
            "+-------+----------------------+-----+---------------------+\n",
            "| EC(0) | 0.9919970898508549   | ... | 0.24733122838670876 |\n",
            "+-------+----------------------+-----+---------------------+\n",
            "| EC(1) | 0.008002910149145144 | ... | 0.7526687716132913  |\n",
            "+-------+----------------------+-----+---------------------+ \n",
            "\n",
            "TR \n",
            " +-------+---------------------+---------------------+\n",
            "| PTR   | PTR(0)              | PTR(1)              |\n",
            "+-------+---------------------+---------------------+\n",
            "| TR(0) | 0.5669950953383947  | 0.08100749018628331 |\n",
            "+-------+---------------------+---------------------+\n",
            "| TR(1) | 0.43300490466160535 | 0.9189925098137167  |\n",
            "+-------+---------------------+---------------------+ \n",
            "\n",
            "TC \n",
            " +-------+--------------------+--------------------+\n",
            "| G     | G(0)               | G(1)               |\n",
            "+-------+--------------------+--------------------+\n",
            "| TC(0) | 0.5652488979246765 | 0.6520473556395036 |\n",
            "+-------+--------------------+--------------------+\n",
            "| TC(1) | 0.4347511020753236 | 0.3479526443604965 |\n",
            "+-------+--------------------+--------------------+ \n",
            "\n",
            "PTR \n",
            " +--------+--------------------+---------------------+\n",
            "| TC     | TC(0)              | TC(1)               |\n",
            "+--------+--------------------+---------------------+\n",
            "| PTR(0) | 0.5833390589674882 | 0.8164312883467948  |\n",
            "+--------+--------------------+---------------------+\n",
            "| PTR(1) | 0.4166609410325118 | 0.18356871165320518 |\n",
            "+--------+--------------------+---------------------+ \n",
            "\n",
            "PP \n",
            " +-------+---------------------+---------------------+\n",
            "| PTR   | PTR(0)              | PTR(1)              |\n",
            "+-------+---------------------+---------------------+\n",
            "| PP(0) | 0.9812626013172177  | 0.8582538522499854  |\n",
            "+-------+---------------------+---------------------+\n",
            "| PP(1) | 0.01873739868278234 | 0.14174614775001465 |\n",
            "+-------+---------------------+---------------------+ \n",
            "\n",
            "CC \n",
            " +-------+---------------------+-------------------+------------------+\n",
            "| RG    | RG(0)               | RG(1)             | RG(2)            |\n",
            "+-------+---------------------+-------------------+------------------+\n",
            "| CC(0) | 0.908934620596206   | 0.851542968108709 | 0.67689804807809 |\n",
            "+-------+---------------------+-------------------+------------------+\n",
            "| CC(1) | 0.09106537940379404 | 0.148457031891291 | 0.32310195192191 |\n",
            "+-------+---------------------+-------------------+------------------+ \n",
            "\n",
            "RG \n",
            " +-------+---------------------+---------------------+\n",
            "| PTR   | PTR(0)              | PTR(1)              |\n",
            "+-------+---------------------+---------------------+\n",
            "| RG(0) | 0.5598940701184956  | 0.3064346528272447  |\n",
            "+-------+---------------------+---------------------+\n",
            "| RG(1) | 0.2118252337108036  | 0.2223188432611451  |\n",
            "+-------+---------------------+---------------------+\n",
            "| RG(2) | 0.22828069617070085 | 0.47124650391161027 |\n",
            "+-------+---------------------+---------------------+ \n",
            "\n"
          ]
        }
      ]
    },
    {
      "cell_type": "code",
      "source": [
        "# dag_3 -> root_node='E'\n",
        "bn_3 = BayesianNetwork(dag_3)\n",
        "bn_3.fit(df_model)\n",
        "\n",
        "for i in df_model.columns:\n",
        "  print(i,'\\n',bn_3.get_cpds(i),'\\n')"
      ],
      "metadata": {
        "colab": {
          "base_uri": "https://localhost:8080/"
        },
        "id": "4d36_6wyQFK_",
        "outputId": "f8bbd67a-4dda-4101-e77f-4df65f67dcc1"
      },
      "execution_count": 72,
      "outputs": [
        {
          "output_type": "stream",
          "name": "stdout",
          "text": [
            "NSE \n",
            " +--------+----------------------+-----+----------------------+\n",
            "| E      | E(0)                 | ... | E(4)                 |\n",
            "+--------+----------------------+-----+----------------------+\n",
            "| NSE(0) | 0.053110221898872316 | ... | 0.23499647247955774  |\n",
            "+--------+----------------------+-----+----------------------+\n",
            "| NSE(1) | 0.3629198496422942   | ... | 0.5023651735424401   |\n",
            "+--------+----------------------+-----+----------------------+\n",
            "| NSE(2) | 0.45737844064508304  | ... | 0.21789667256514347  |\n",
            "+--------+----------------------+-----+----------------------+\n",
            "| NSE(3) | 0.1092518491572693   | ... | 0.03696957079907012  |\n",
            "+--------+----------------------+-----+----------------------+\n",
            "| NSE(4) | 0.017339638656481145 | ... | 0.007772110613788557 |\n",
            "+--------+----------------------+-----+----------------------+ \n",
            "\n",
            "E \n",
            " +------+------------+\n",
            "| E(0) | 0.00832701 |\n",
            "+------+------------+\n",
            "| E(1) | 0.264378   |\n",
            "+------+------------+\n",
            "| E(2) | 0.323336   |\n",
            "+------+------------+\n",
            "| E(3) | 0.229356   |\n",
            "+------+------------+\n",
            "| E(4) | 0.174604   |\n",
            "+------+------------+ \n",
            "\n",
            "G \n",
            " +------+---------------------+--------------------+\n",
            "| TC   | TC(0)               | TC(1)              |\n",
            "+------+---------------------+--------------------+\n",
            "| G(0) | 0.36750064617871175 | 0.4557669886522503 |\n",
            "+------+---------------------+--------------------+\n",
            "| G(1) | 0.6324993538212882  | 0.5442330113477497 |\n",
            "+------+---------------------+--------------------+ \n",
            "\n",
            "EC \n",
            " +-------+----------------------+-----+---------------------+\n",
            "| E     | E(0)                 | ... | E(4)                |\n",
            "+-------+----------------------+-----+---------------------+\n",
            "| EC(0) | 0.9919970898508549   | ... | 0.24733122838670876 |\n",
            "+-------+----------------------+-----+---------------------+\n",
            "| EC(1) | 0.008002910149145144 | ... | 0.7526687716132913  |\n",
            "+-------+----------------------+-----+---------------------+ \n",
            "\n",
            "TR \n",
            " +-------+---------------------+---------------------+\n",
            "| PTR   | PTR(0)              | PTR(1)              |\n",
            "+-------+---------------------+---------------------+\n",
            "| TR(0) | 0.5669950953383947  | 0.08100749018628331 |\n",
            "+-------+---------------------+---------------------+\n",
            "| TR(1) | 0.43300490466160535 | 0.9189925098137167  |\n",
            "+-------+---------------------+---------------------+ \n",
            "\n",
            "TC \n",
            " +-------+---------------------+---------------------+\n",
            "| PTR   | PTR(0)              | PTR(1)              |\n",
            "+-------+---------------------+---------------------+\n",
            "| TC(0) | 0.5353347315196945  | 0.7854026167855414  |\n",
            "+-------+---------------------+---------------------+\n",
            "| TC(1) | 0.46466526848030554 | 0.21459738321445862 |\n",
            "+-------+---------------------+---------------------+ \n",
            "\n",
            "PTR \n",
            " +--------+--------------------+---------------------+--------------------+\n",
            "| RG     | RG(0)              | RG(1)               | RG(2)              |\n",
            "+--------+--------------------+---------------------+--------------------+\n",
            "| PTR(0) | 0.7896045054200542 | 0.6618275459325588  | 0.4987486839041062 |\n",
            "+--------+--------------------+---------------------+--------------------+\n",
            "| PTR(1) | 0.2103954945799458 | 0.33817245406744123 | 0.5012513160958938 |\n",
            "+--------+--------------------+---------------------+--------------------+ \n",
            "\n",
            "PP \n",
            " +-------+---------------------+---------------------+\n",
            "| PTR   | PTR(0)              | PTR(1)              |\n",
            "+-------+---------------------+---------------------+\n",
            "| PP(0) | 0.9812626013172177  | 0.8582538522499854  |\n",
            "+-------+---------------------+---------------------+\n",
            "| PP(1) | 0.01873739868278234 | 0.14174614775001465 |\n",
            "+-------+---------------------+---------------------+ \n",
            "\n",
            "CC \n",
            " +-------+---------------------+-----+---------------------+\n",
            "| E     | E(0)                | ... | E(4)                |\n",
            "+-------+---------------------+-----+---------------------+\n",
            "| CC(0) | 0.7331150721474475  | ... | 0.9156980442501417  |\n",
            "+-------+---------------------+-----+---------------------+\n",
            "| CC(1) | 0.26688492785255247 | ... | 0.08430195574985833 |\n",
            "+-------+---------------------+-----+---------------------+ \n",
            "\n",
            "RG \n",
            " +-------+---------------------+---------------------+\n",
            "| CC    | CC(0)               | CC(1)               |\n",
            "+-------+---------------------+---------------------+\n",
            "| RG(0) | 0.5253254007780006  | 0.24838163874596492 |\n",
            "+-------+---------------------+---------------------+\n",
            "| RG(1) | 0.22214621957531788 | 0.1827694333281361  |\n",
            "+-------+---------------------+---------------------+\n",
            "| RG(2) | 0.2525283796466815  | 0.568848927925899   |\n",
            "+-------+---------------------+---------------------+ \n",
            "\n"
          ]
        }
      ]
    },
    {
      "cell_type": "markdown",
      "source": [
        "# 3. Inferencias"
      ],
      "metadata": {
        "id": "sLhheoUflBvS"
      }
    },
    {
      "cell_type": "code",
      "source": [
        "inference = VariableElimination(model)"
      ],
      "metadata": {
        "id": "iWDnd_KEFWec"
      },
      "execution_count": 54,
      "outputs": []
    },
    {
      "cell_type": "markdown",
      "source": [
        "1. Para cada nivel socioeconómico ¿cuáles son las probabilidades de comprar con rangos de gasto bajo?"
      ],
      "metadata": {
        "id": "0JWSrrvWlHGV"
      }
    },
    {
      "cell_type": "code",
      "source": [
        "nse_list = ['A', 'B', 'C', 'D','E']\n",
        "for index,value in enumerate(nse_list):\n",
        "  p_nse_rg = inference.query(variables=['RG'], evidence={'NSE':index})\n",
        "  print(p_nse_rg)\n",
        "  print('\\nLa probabilidad de que un cliente de NSE ',value,' tenga un rango de gasto bajo es del ',round(p_nse_rg.values[0]*100,2), '%')\n",
        "  print('\\nLa probabilidad de que un cliente de NSE ',value,' tenga un rango de gasto medio es del ',round(p_nse_rg.values[1]*100,2), '%')\n",
        "  print('\\nLa probabilidad de que un cliente de NSE ',value,' tenga un rango de gasto alto es del ',round(p_nse_rg.values[2]*100,2), '%\\n')"
      ],
      "metadata": {
        "colab": {
          "base_uri": "https://localhost:8080/"
        },
        "id": "5GLj5975gD0o",
        "outputId": "2a373f58-30df-4c99-ed84-f2f8e73b1049"
      },
      "execution_count": 55,
      "outputs": [
        {
          "output_type": "stream",
          "name": "stdout",
          "text": [
            "+-------+-----------+\n",
            "| RG    |   phi(RG) |\n",
            "+=======+===========+\n",
            "| RG(0) |    0.4781 |\n",
            "+-------+-----------+\n",
            "| RG(1) |    0.2168 |\n",
            "+-------+-----------+\n",
            "| RG(2) |    0.3051 |\n",
            "+-------+-----------+\n",
            "\n",
            "La probabilidad de que un cliente de NSE  A  tenga un rango de gasto bajo es del  47.81 %\n",
            "\n",
            "La probabilidad de que un cliente de NSE  A  tenga un rango de gasto medio es del  21.68 %\n",
            "\n",
            "La probabilidad de que un cliente de NSE  A  tenga un rango de gasto alto es del  30.51 %\n",
            "\n",
            "+-------+-----------+\n",
            "| RG    |   phi(RG) |\n",
            "+=======+===========+\n",
            "| RG(0) |    0.4780 |\n",
            "+-------+-----------+\n",
            "| RG(1) |    0.2168 |\n",
            "+-------+-----------+\n",
            "| RG(2) |    0.3053 |\n",
            "+-------+-----------+\n",
            "\n",
            "La probabilidad de que un cliente de NSE  B  tenga un rango de gasto bajo es del  47.8 %\n",
            "\n",
            "La probabilidad de que un cliente de NSE  B  tenga un rango de gasto medio es del  21.68 %\n",
            "\n",
            "La probabilidad de que un cliente de NSE  B  tenga un rango de gasto alto es del  30.53 %\n",
            "\n",
            "+-------+-----------+\n",
            "| RG    |   phi(RG) |\n",
            "+=======+===========+\n",
            "| RG(0) |    0.4783 |\n",
            "+-------+-----------+\n",
            "| RG(1) |    0.2168 |\n",
            "+-------+-----------+\n",
            "| RG(2) |    0.3049 |\n",
            "+-------+-----------+\n",
            "\n",
            "La probabilidad de que un cliente de NSE  C  tenga un rango de gasto bajo es del  47.83 %\n",
            "\n",
            "La probabilidad de que un cliente de NSE  C  tenga un rango de gasto medio es del  21.68 %\n",
            "\n",
            "La probabilidad de que un cliente de NSE  C  tenga un rango de gasto alto es del  30.49 %\n",
            "\n",
            "+-------+-----------+\n",
            "| RG    |   phi(RG) |\n",
            "+=======+===========+\n",
            "| RG(0) |    0.4788 |\n",
            "+-------+-----------+\n",
            "| RG(1) |    0.2167 |\n",
            "+-------+-----------+\n",
            "| RG(2) |    0.3045 |\n",
            "+-------+-----------+\n",
            "\n",
            "La probabilidad de que un cliente de NSE  D  tenga un rango de gasto bajo es del  47.88 %\n",
            "\n",
            "La probabilidad de que un cliente de NSE  D  tenga un rango de gasto medio es del  21.67 %\n",
            "\n",
            "La probabilidad de que un cliente de NSE  D  tenga un rango de gasto alto es del  30.45 %\n",
            "\n",
            "+-------+-----------+\n",
            "| RG    |   phi(RG) |\n",
            "+=======+===========+\n",
            "| RG(0) |    0.4791 |\n",
            "+-------+-----------+\n",
            "| RG(1) |    0.2167 |\n",
            "+-------+-----------+\n",
            "| RG(2) |    0.3042 |\n",
            "+-------+-----------+\n",
            "\n",
            "La probabilidad de que un cliente de NSE  E  tenga un rango de gasto bajo es del  47.91 %\n",
            "\n",
            "La probabilidad de que un cliente de NSE  E  tenga un rango de gasto medio es del  21.67 %\n",
            "\n",
            "La probabilidad de que un cliente de NSE  E  tenga un rango de gasto alto es del  30.42 %\n",
            "\n"
          ]
        }
      ]
    },
    {
      "cell_type": "markdown",
      "source": [
        "2. Para los clientes con una edad entre 16-25 años ¿cuáles son las probabilidades de comprar con rangos de gasto bajo y medio?"
      ],
      "metadata": {
        "id": "hta8lL5amHPi"
      }
    },
    {
      "cell_type": "code",
      "source": [
        "p_rg_e = inference.query(variables=['RG'], evidence={'E':0})\n",
        "print(p_rg_e)\n",
        "print('\\nLa probabilidad de que un cliente que tiene entre 16-25 años tenga un gasto bajo es del ',round(p_rg_e.values[0]*100,2), \"%\")\n",
        "print('\\nLa probabilidad de que un cliente que tiene entre 16-25 años tenga un gasto medio es del ',round(p_rg_e.values[1]*100,2), \"%\")"
      ],
      "metadata": {
        "colab": {
          "base_uri": "https://localhost:8080/"
        },
        "id": "p1d_r7qKmLRC",
        "outputId": "afc9e4a9-edeb-4efd-de66-45baf24d8fe6"
      },
      "execution_count": 56,
      "outputs": [
        {
          "output_type": "stream",
          "name": "stdout",
          "text": [
            "+-------+-----------+\n",
            "| RG    |   phi(RG) |\n",
            "+=======+===========+\n",
            "| RG(0) |    0.4867 |\n",
            "+-------+-----------+\n",
            "| RG(1) |    0.2155 |\n",
            "+-------+-----------+\n",
            "| RG(2) |    0.2978 |\n",
            "+-------+-----------+\n",
            "\n",
            "La probabilidad de que un cliente que tiene entre 16-25 años tenga un gasto bajo es del  48.67 %\n",
            "\n",
            "La probabilidad de que un cliente que tiene entre 16-25 años tenga un gasto medio es del  21.55 %\n"
          ]
        }
      ]
    },
    {
      "cell_type": "markdown",
      "source": [
        "3. Para los clientes con estado civil soltero y de género masculino ¿cuáles son las probabilidades de comprar con rangos de gasto bajo, medio y alto?"
      ],
      "metadata": {
        "id": "_3wngsG3mLZ7"
      }
    },
    {
      "cell_type": "code",
      "source": [
        "p_rg_ecg = inference.query(variables=['RG'], evidence={'EC':0,'G':0})\n",
        "print(p_rg_ecg)\n",
        "print('\\nLa probabilidad de que un cliente con estado civil soltero y de género masculino tenga un rango de gasto bajo es del ',round(p_rg_ecg.values[0]*100,2), '%')\n",
        "print('\\nLa probabilidad de que un cliente con estado civil soltero y de género masculino tenga un rango de gasto medio es del ',round(p_rg_ecg.values[1]*100,2), '%')\n",
        "print('\\nLa probabilidad de que un cliente con estado civil soltero y de género masculino tenga un rango de gasto alto es del ',round(p_rg_ecg.values[2]*100,2), '%')"
      ],
      "metadata": {
        "colab": {
          "base_uri": "https://localhost:8080/"
        },
        "id": "FUVJIS_imOZS",
        "outputId": "5dabc031-125a-41aa-f023-a6aa123576a7"
      },
      "execution_count": 57,
      "outputs": [
        {
          "output_type": "stream",
          "name": "stdout",
          "text": [
            "+-------+-----------+\n",
            "| RG    |   phi(RG) |\n",
            "+=======+===========+\n",
            "| RG(0) |    0.4855 |\n",
            "+-------+-----------+\n",
            "| RG(1) |    0.2157 |\n",
            "+-------+-----------+\n",
            "| RG(2) |    0.2988 |\n",
            "+-------+-----------+\n",
            "\n",
            "La probabilidad de que un cliente con estado civil soltero y de género masculino tenga un rango de gasto bajo es del  48.55 %\n",
            "\n",
            "La probabilidad de que un cliente con estado civil soltero y de género masculino tenga un rango de gasto medio es del  21.57 %\n",
            "\n",
            "La probabilidad de que un cliente con estado civil soltero y de género masculino tenga un rango de gasto alto es del  29.88 %\n"
          ]
        }
      ]
    },
    {
      "cell_type": "markdown",
      "source": [
        "4. Para los productos con y sin promoción ¿cuáles son las probabilidad de aplicar a compras con rango de gasto bajo y medio?"
      ],
      "metadata": {
        "id": "gAlPHrjLmOmS"
      }
    },
    {
      "cell_type": "code",
      "source": [
        "pp_list = ['sin promoción', 'con promoción']\n",
        "for index, value in enumerate(pp_list):\n",
        "  p_rg_pp = inference.query(variables=['RG'], evidence={'PP':index})\n",
        "  print(p_rg_pp)\n",
        "  print('\\nLa probabilidad de que un producto ',value,' genere un rango de gasto bajo ',round(p_rg_pp.values[0]*100,2), \"%\")\n",
        "  print('\\nLa probabilidad de que un producto ',value,' genere un rango de gasto medio ',round(p_rg_pp.values[1]*100,2), \"%\\n\")"
      ],
      "metadata": {
        "colab": {
          "base_uri": "https://localhost:8080/"
        },
        "id": "iOTCATKZmRKU",
        "outputId": "d0eec350-fc25-4110-dec2-c3769361c88c"
      },
      "execution_count": 58,
      "outputs": [
        {
          "output_type": "stream",
          "name": "stdout",
          "text": [
            "+-------+-----------+\n",
            "| RG    |   phi(RG) |\n",
            "+=======+===========+\n",
            "| RG(0) |    0.4887 |\n",
            "+-------+-----------+\n",
            "| RG(1) |    0.2167 |\n",
            "+-------+-----------+\n",
            "| RG(2) |    0.2945 |\n",
            "+-------+-----------+\n",
            "\n",
            "La probabilidad de que un producto  sin promoción  genere un rango de gasto bajo  48.87 %\n",
            "\n",
            "La probabilidad de que un producto  sin promoción  genere un rango de gasto medio  21.67 %\n",
            "\n",
            "+-------+-----------+\n",
            "| RG    |   phi(RG) |\n",
            "+=======+===========+\n",
            "| RG(0) |    0.3061 |\n",
            "+-------+-----------+\n",
            "| RG(1) |    0.2172 |\n",
            "+-------+-----------+\n",
            "| RG(2) |    0.4767 |\n",
            "+-------+-----------+\n",
            "\n",
            "La probabilidad de que un producto  con promoción  genere un rango de gasto bajo  30.61 %\n",
            "\n",
            "La probabilidad de que un producto  con promoción  genere un rango de gasto medio  21.72 %\n",
            "\n"
          ]
        }
      ]
    },
    {
      "cell_type": "markdown",
      "source": [
        "5. Para los clientes de género femenino y nivel socioeconómico B y C ¿cuáles son las probabilidades de comprar con rango de gasto bajo y medio?"
      ],
      "metadata": {
        "id": "CLrm5WrHmRbT"
      }
    },
    {
      "cell_type": "code",
      "source": [
        "p_g_nse1 = inference.query(variables=['RG'], evidence={'G':1,'NSE':1})\n",
        "print(p_g_nse1)\n",
        "print('\\nLa probabilidad de que un cliente de género femenino y nivel socioeconómico B tenga un rango de gasto bajo es del',round(p_g_nse1.values[0]*100,2), \"%\")\n",
        "print('\\nLa probabilidad de que un cliente de género femenino y nivel socioeconómico B tenga un rango de gasto medio es del',round(p_g_nse1.values[1]*100,2), \"%\\n\")\n",
        "\n",
        "p_g_nse2 = inference.query(variables=['RG'], evidence={'G':1,'NSE':2})\n",
        "print(p_g_nse2)\n",
        "print('\\nLa probabilidad de que un cliente de género femenino y nivel socioeconómico C tenga un rango de gasto bajo es del',round(p_g_nse2.values[0]*100,2), \"%\")\n",
        "print('\\nLa probabilidad de que un cliente de género femenino y nivel socioeconómico C tenga un rango de gasto medio es del',round(p_g_nse2.values[1]*100,2), \"%\")"
      ],
      "metadata": {
        "colab": {
          "base_uri": "https://localhost:8080/"
        },
        "id": "g-J27i8lme90",
        "outputId": "072eca4e-d5eb-47ba-86b7-1d11a17ae901"
      },
      "execution_count": 59,
      "outputs": [
        {
          "output_type": "stream",
          "name": "stdout",
          "text": [
            "+-------+-----------+\n",
            "| RG    |   phi(RG) |\n",
            "+=======+===========+\n",
            "| RG(0) |    0.4722 |\n",
            "+-------+-----------+\n",
            "| RG(1) |    0.2176 |\n",
            "+-------+-----------+\n",
            "| RG(2) |    0.3102 |\n",
            "+-------+-----------+\n",
            "\n",
            "La probabilidad de que un cliente de género femenino y nivel socioeconómico B tenga un rango de gasto bajo es del 47.22 %\n",
            "\n",
            "La probabilidad de que un cliente de género femenino y nivel socioeconómico B tenga un rango de gasto medio es del 21.76 %\n",
            "\n",
            "+-------+-----------+\n",
            "| RG    |   phi(RG) |\n",
            "+=======+===========+\n",
            "| RG(0) |    0.4726 |\n",
            "+-------+-----------+\n",
            "| RG(1) |    0.2176 |\n",
            "+-------+-----------+\n",
            "| RG(2) |    0.3098 |\n",
            "+-------+-----------+\n",
            "\n",
            "La probabilidad de que un cliente de género femenino y nivel socioeconómico C tenga un rango de gasto bajo es del 47.26 %\n",
            "\n",
            "La probabilidad de que un cliente de género femenino y nivel socioeconómico C tenga un rango de gasto medio es del 21.76 %\n"
          ]
        }
      ]
    },
    {
      "cell_type": "markdown",
      "source": [
        "6. Para los clientes de una edad entre 16 - 25 años que ¿cuáles son las probabilidades que compren con rangos de gasto bajo y medio a través del canal de compra web?"
      ],
      "metadata": {
        "id": "N5S0BQ0-mfbK"
      }
    },
    {
      "cell_type": "code",
      "source": [
        "p_rg_ecc = inference.query(variables=['RG'], evidence={'E':0,'CC':1})\n",
        "print(p_rg_ecc)\n",
        "print('\\nLa probabilidad de que un cliente de una edad entre 16 - 25 años y usa canal de compra web tenga un rango de gasto bajo es del',round(p_rg_ecc.values[0]*100,2), \"%\")\n",
        "print('\\nLa probabilidad de que un cliente de una edad entre 16 - 25 años y usa canal de compra web tenga un rango de gasto medio es del',round(p_rg_ecc.values[1]*100,2), \"%\")"
      ],
      "metadata": {
        "colab": {
          "base_uri": "https://localhost:8080/"
        },
        "id": "gJOIZozkmk0q",
        "outputId": "4bc4ee93-6116-4355-e994-bf9b107645e7"
      },
      "execution_count": 60,
      "outputs": [
        {
          "output_type": "stream",
          "name": "stdout",
          "text": [
            "+-------+-----------+\n",
            "| RG    |   phi(RG) |\n",
            "+=======+===========+\n",
            "| RG(0) |    0.2871 |\n",
            "+-------+-----------+\n",
            "| RG(1) |    0.1859 |\n",
            "+-------+-----------+\n",
            "| RG(2) |    0.5270 |\n",
            "+-------+-----------+\n",
            "\n",
            "La probabilidad de que un cliente de una edad entre 16 - 25 años y usa canal de compra web tenga un rango de gasto bajo es del 28.71 %\n",
            "\n",
            "La probabilidad de que un cliente de una edad entre 16 - 25 años y usa canal de compra web tenga un rango de gasto medio es del 18.59 %\n"
          ]
        }
      ]
    },
    {
      "cell_type": "markdown",
      "source": [
        "7. ¿Cuál es la probabilidad de que un cliente que tiene tarjeta del retail la use para el pago de la compra?"
      ],
      "metadata": {
        "id": "nfk0premmk-y"
      }
    },
    {
      "cell_type": "code",
      "source": [
        "p_ptr_tr = inference.query(variables=['PTR'], evidence={'TR':1})\n",
        "print(p_ptr_tr)\n",
        "print('\\nLa probabilidad de que un cliente que tiene tarjeta del retail la use para el pago de la compra es del',round(p_ptr_tr.values[1]*100,2), \"%\")"
      ],
      "metadata": {
        "colab": {
          "base_uri": "https://localhost:8080/"
        },
        "id": "v1ZYVZWnmn8L",
        "outputId": "b1bc6db0-4d3b-47bd-d62e-7f923dc2400d"
      },
      "execution_count": 61,
      "outputs": [
        {
          "output_type": "stream",
          "name": "stdout",
          "text": [
            "+--------+------------+\n",
            "| PTR    |   phi(PTR) |\n",
            "+========+============+\n",
            "| PTR(0) |     0.4918 |\n",
            "+--------+------------+\n",
            "| PTR(1) |     0.5082 |\n",
            "+--------+------------+\n",
            "\n",
            "La probabilidad de que un cliente que tiene tarjeta del retail la use para el pago de la compra es del 50.82 %\n"
          ]
        }
      ]
    },
    {
      "cell_type": "markdown",
      "source": [
        "8. Para los clientes que cuentan y no cuentan con tarjeta del retail ¿cuáles son las probabilidades de comprar con rango de gasto alto?"
      ],
      "metadata": {
        "id": "sGS0JZxTmosa"
      }
    },
    {
      "cell_type": "code",
      "source": [
        "p_rg_tr0 = inference.query(variables=['RG'], evidence={'TR':0})\n",
        "print(p_rg_tr0)\n",
        "print('\\nLa probabilidad de que un cliente que no tiene tarjeta de retail tenga un rango de gasto alto es del',round(p_rg_tr0.values[2]*100,2), \"%\")\n",
        "\n",
        "p_rg_tr1 = inference.query(variables=['RG'], evidence={'TR':1})\n",
        "print(p_rg_tr1)\n",
        "print('\\nLa probabilidad de que un cliente que tiene tarjeta de retail tenga un rango de gasto alto es del',round(p_rg_tr1.values[2]*100,2), \"%\")"
      ],
      "metadata": {
        "colab": {
          "base_uri": "https://localhost:8080/"
        },
        "id": "vm1uOrwDVg_s",
        "outputId": "2690eb50-992d-4ca9-85a0-5dc9e7c9f82d"
      },
      "execution_count": 62,
      "outputs": [
        {
          "output_type": "stream",
          "name": "stdout",
          "text": [
            "+-------+-----------+\n",
            "| RG    |   phi(RG) |\n",
            "+=======+===========+\n",
            "| RG(0) |    0.4829 |\n",
            "+-------+-----------+\n",
            "| RG(1) |    0.2165 |\n",
            "+-------+-----------+\n",
            "| RG(2) |    0.3005 |\n",
            "+-------+-----------+\n",
            "\n",
            "La probabilidad de que un cliente que no tiene tarjeta de retail tenga un rango de gasto alto es del 30.05 %\n",
            "+-------+-----------+\n",
            "| RG    |   phi(RG) |\n",
            "+=======+===========+\n",
            "| RG(0) |    0.4749 |\n",
            "+-------+-----------+\n",
            "| RG(1) |    0.2169 |\n",
            "+-------+-----------+\n",
            "| RG(2) |    0.3082 |\n",
            "+-------+-----------+\n",
            "\n",
            "La probabilidad de que un cliente que tiene tarjeta de retail tenga un rango de gasto alto es del 30.82 %\n"
          ]
        }
      ]
    },
    {
      "cell_type": "markdown",
      "source": [
        "9. Para los canales de compra tienda física y web ¿cuáles son las probabilidades de que se generen compras con rango de gasto alto ?"
      ],
      "metadata": {
        "id": "wWDhX2pyiz1A"
      }
    },
    {
      "cell_type": "code",
      "source": [
        "p_rg_cc0 = inference.query(variables=['RG'], evidence={'CC':0})\n",
        "print(p_rg_cc0)\n",
        "print('\\nLa probabilidad de que un cliente que compra en tienda fisica tenga un rango de gasto alto es del',round(p_rg_cc0.values[2]*100,2), \"%\")\n",
        "\n",
        "p_rg_cc1 = inference.query(variables=['RG'], evidence={'CC':1})\n",
        "print(p_rg_cc1)\n",
        "print('\\nLa probabilidad de que un cliente que compra mediante la web tenga un rango de gasto alto es del',round(p_rg_cc1.values[2]*100,2), \"%\")\n"
      ],
      "metadata": {
        "colab": {
          "base_uri": "https://localhost:8080/"
        },
        "id": "5Y2HWs8Fi0DK",
        "outputId": "07d473f2-bcfb-48fe-d344-d1c9de16ccf1"
      },
      "execution_count": 63,
      "outputs": [
        {
          "output_type": "stream",
          "name": "stdout",
          "text": [
            "+-------+-----------+\n",
            "| RG    |   phi(RG) |\n",
            "+=======+===========+\n",
            "| RG(0) |    0.5203 |\n",
            "+-------+-----------+\n",
            "| RG(1) |    0.2234 |\n",
            "+-------+-----------+\n",
            "| RG(2) |    0.2564 |\n",
            "+-------+-----------+\n",
            "\n",
            "La probabilidad de que un cliente que compra en tienda fisica tenga un rango de gasto alto es del 25.64 %\n",
            "+-------+-----------+\n",
            "| RG    |   phi(RG) |\n",
            "+=======+===========+\n",
            "| RG(0) |    0.2794 |\n",
            "+-------+-----------+\n",
            "| RG(1) |    0.1856 |\n",
            "+-------+-----------+\n",
            "| RG(2) |    0.5349 |\n",
            "+-------+-----------+\n",
            "\n",
            "La probabilidad de que un cliente que compra mediante la web tenga un rango de gasto alto es del 53.49 %\n"
          ]
        }
      ]
    },
    {
      "cell_type": "markdown",
      "source": [
        "10. ¿Cual es la probabilidad de que los clientes con estado civil soltero y casado compren con rango de gasto alto?"
      ],
      "metadata": {
        "id": "XuYx1OPSi0Pg"
      }
    },
    {
      "cell_type": "code",
      "source": [
        "p_rg_ec0 = inference.query(variables=['RG'], evidence={'EC':0})\n",
        "print(p_rg_ec0)\n",
        "print('\\nLa probabilidad de que un cliente soltero tenga un rango de gasto alto es del',round(p_rg_ec0.values[2]*100,2), \"%\")\n",
        "\n",
        "p_rg_ec1 = inference.query(variables=['RG'], evidence={'EC':1})\n",
        "print(p_rg_ec1)\n",
        "print('\\nLa probabilidad de que un cliente casado tenga un rango de gasto alto es del',round(p_rg_ec1.values[2]*100,2), \"%\")\n"
      ],
      "metadata": {
        "colab": {
          "base_uri": "https://localhost:8080/"
        },
        "id": "fxr7-KEHi0iK",
        "outputId": "3cf1c053-a782-4298-dfa4-4187a2adb346"
      },
      "execution_count": 64,
      "outputs": [
        {
          "output_type": "stream",
          "name": "stdout",
          "text": [
            "+-------+-----------+\n",
            "| RG    |   phi(RG) |\n",
            "+=======+===========+\n",
            "| RG(0) |    0.4770 |\n",
            "+-------+-----------+\n",
            "| RG(1) |    0.2169 |\n",
            "+-------+-----------+\n",
            "| RG(2) |    0.3061 |\n",
            "+-------+-----------+\n",
            "\n",
            "La probabilidad de que un cliente soltero tenga un rango de gasto alto es del 30.61 %\n",
            "+-------+-----------+\n",
            "| RG    |   phi(RG) |\n",
            "+=======+===========+\n",
            "| RG(0) |    0.4799 |\n",
            "+-------+-----------+\n",
            "| RG(1) |    0.2165 |\n",
            "+-------+-----------+\n",
            "| RG(2) |    0.3036 |\n",
            "+-------+-----------+\n",
            "\n",
            "La probabilidad de que un cliente casado tenga un rango de gasto alto es del 30.36 %\n"
          ]
        }
      ]
    },
    {
      "cell_type": "markdown",
      "source": [
        "# 4. Predicciones"
      ],
      "metadata": {
        "id": "ikTCdzgZXGLv"
      }
    },
    {
      "cell_type": "code",
      "source": [
        "# separar valores de la columna a predecir\n",
        "test = np.squeeze(df_model.iloc[:, -1].values)\n",
        "pred = df_model.iloc[:, :-1]"
      ],
      "metadata": {
        "id": "xE8yRVk2XFfX"
      },
      "execution_count": 73,
      "outputs": []
    },
    {
      "cell_type": "code",
      "source": [
        "# Modelo propuesto\n",
        "y_pred = model.predict(pred)\n",
        "print(accuracy_score(np.squeeze(y_pred.values), test))"
      ],
      "metadata": {
        "colab": {
          "base_uri": "https://localhost:8080/",
          "height": 66,
          "referenced_widgets": [
            "a2d7b8c0031c4bbea459137131b2268c",
            "cccd1537d9174198a0123a9992cdbb61",
            "e96301e8945d4bcaaf813af58525a954",
            "532c043ad8054c7098bd0f7356880e83",
            "a21000f9ab404e03b85600e7b344a7b3",
            "a92c1442af224553a55e3a585336cff1",
            "bc6568d676ad4abe874a634320b4b9f5",
            "8892f72ccb9f4dc9b449fc4c38042632",
            "c94f7a5ae8bd4846a74b087991358a45",
            "951f8f80625a435bbc7376da98932c2c",
            "9a1e7ace94694184b3b3ef288f56c5c9"
          ]
        },
        "id": "73P-lpXbNkDl",
        "outputId": "d36ac498-4240-4dc8-bc00-cc351b848abf"
      },
      "execution_count": 74,
      "outputs": [
        {
          "output_type": "display_data",
          "data": {
            "text/plain": [
              "  0%|          | 0/2559 [00:00<?, ?it/s]"
            ],
            "application/vnd.jupyter.widget-view+json": {
              "version_major": 2,
              "version_minor": 0,
              "model_id": "a2d7b8c0031c4bbea459137131b2268c"
            }
          },
          "metadata": {}
        },
        {
          "output_type": "stream",
          "name": "stdout",
          "text": [
            "0.5390168741266085\n"
          ]
        }
      ]
    },
    {
      "cell_type": "code",
      "source": [
        "# Modelo sugerido root_node = 'NSE'\n",
        "y_pred_ = bn_1.predict(pred)\n",
        "print(accuracy_score(np.squeeze(y_pred_.values), test))"
      ],
      "metadata": {
        "colab": {
          "base_uri": "https://localhost:8080/",
          "height": 66,
          "referenced_widgets": [
            "fda1d2918a9e4efc8fa3ff19f8904000",
            "af641415c1344c78aee5a1f8bf1a74d5",
            "fbf4d0c846b845abbb913212be1bc9eb",
            "5641b7f278204a79b4a6ebe1fbe3eccd",
            "7315278765ee418290ac46ea6bde3353",
            "ec64f1663a354c61a61a7149aff37410",
            "c2b48b76366447ca9fc11932bc6f07a9",
            "46a372c1654847fea68d5d62ac0e413b",
            "09ce2ff5e380472c91b7e05f12f0face",
            "26c63dcc4cbe4f7ba2fd072e39c0961d",
            "e26e9dd47f4b4137a615a508bc3b93c0"
          ]
        },
        "id": "ufVIU046X5Xf",
        "outputId": "399ddae5-ec79-4b10-d998-8bb77ee8a46e"
      },
      "execution_count": 75,
      "outputs": [
        {
          "output_type": "display_data",
          "data": {
            "text/plain": [
              "  0%|          | 0/2559 [00:00<?, ?it/s]"
            ],
            "application/vnd.jupyter.widget-view+json": {
              "version_major": 2,
              "version_minor": 0,
              "model_id": "fda1d2918a9e4efc8fa3ff19f8904000"
            }
          },
          "metadata": {}
        },
        {
          "output_type": "stream",
          "name": "stdout",
          "text": [
            "0.5391955912406401\n"
          ]
        }
      ]
    },
    {
      "cell_type": "code",
      "source": [
        "# Modelo sugerido root_node = 'G'\n",
        "y_pred_ = bn_2.predict(pred)\n",
        "print(accuracy_score(np.squeeze(y_pred_.values), test))"
      ],
      "metadata": {
        "colab": {
          "base_uri": "https://localhost:8080/",
          "height": 66,
          "referenced_widgets": [
            "ea8a2d59d66a4474b1488896a817d82f",
            "1643f3f57e63476b88d6899daf229c8c",
            "02b088d852e84896af71e8ad818344dc",
            "df5ebbc8d08d4316946cf0e007e8bc67",
            "e63ef7cbe9214e3c95a58d8ca7cea35f",
            "40c124d421a840939d8e6504a2ed320e",
            "648e594795724e3cac228e6b1667c39e",
            "9193c9905ca040d29b787abe7efe8148",
            "9ed0fc9802804d59ba1e97a98db202e3",
            "91fc20845c0b4f3ebc7a0e0f37e3565c",
            "7d68be22eec14cfa81bcd2b874e243dd"
          ]
        },
        "id": "TJ84GwGFQvLO",
        "outputId": "373e7b12-8be7-4df2-aac5-bb4d1756c672"
      },
      "execution_count": 76,
      "outputs": [
        {
          "output_type": "display_data",
          "data": {
            "text/plain": [
              "  0%|          | 0/2559 [00:00<?, ?it/s]"
            ],
            "application/vnd.jupyter.widget-view+json": {
              "version_major": 2,
              "version_minor": 0,
              "model_id": "ea8a2d59d66a4474b1488896a817d82f"
            }
          },
          "metadata": {}
        },
        {
          "output_type": "stream",
          "name": "stdout",
          "text": [
            "0.5391955912406401\n"
          ]
        }
      ]
    },
    {
      "cell_type": "code",
      "source": [
        "# Modelo sugerido root_node = 'E'\n",
        "y_pred_ = bn_3.predict(pred)\n",
        "print(accuracy_score(np.squeeze(y_pred_.values), test))"
      ],
      "metadata": {
        "colab": {
          "base_uri": "https://localhost:8080/",
          "height": 66,
          "referenced_widgets": [
            "c69e118b229d4cffbb0410ead8c13891",
            "013dedf8409848149f3361874246647d",
            "6f9284f08c0241d4a67dd3e8cfebd95e",
            "ef853cf1e91e43228a88c5688572ff18",
            "bfaf64f416634d8da63f9e14dcc9a0c6",
            "8db1b90a88c642a5bca1162e153c9444",
            "a325013d9e704352bec4fb357e158679",
            "539b92959f5c49a88edf861f8a07e4fe",
            "db3cdabfaa234bac92c1f2136f317380",
            "623d7caa78224fc0a1f40df1b8f6ccfe",
            "9e697a5f20fc410585f0c6abf91cb246"
          ]
        },
        "id": "_yGbPHnPQ9DE",
        "outputId": "4c53598a-e160-488f-9385-1032a9e0ccaa"
      },
      "execution_count": 77,
      "outputs": [
        {
          "output_type": "display_data",
          "data": {
            "text/plain": [
              "  0%|          | 0/2559 [00:00<?, ?it/s]"
            ],
            "application/vnd.jupyter.widget-view+json": {
              "version_major": 2,
              "version_minor": 0,
              "model_id": "c69e118b229d4cffbb0410ead8c13891"
            }
          },
          "metadata": {}
        },
        {
          "output_type": "stream",
          "name": "stdout",
          "text": [
            "0.5391955912406401\n"
          ]
        }
      ]
    }
  ]
}