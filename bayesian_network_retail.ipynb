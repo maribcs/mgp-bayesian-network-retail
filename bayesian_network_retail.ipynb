{
  "nbformat": 4,
  "nbformat_minor": 0,
  "metadata": {
    "colab": {
      "provenance": [],
      "toc_visible": true
    },
    "kernelspec": {
      "name": "python3",
      "display_name": "Python 3"
    },
    "language_info": {
      "name": "python"
    }
  },
  "cells": [
    {
      "cell_type": "markdown",
      "source": [
        "# 1. Dataset"
      ],
      "metadata": {
        "id": "bs16gcAz_4qg"
      }
    },
    {
      "cell_type": "code",
      "execution_count": 6,
      "metadata": {
        "id": "Q-D9_nhRZvTX"
      },
      "outputs": [],
      "source": [
        "import pandas as pd"
      ]
    },
    {
      "cell_type": "markdown",
      "source": [
        "## 1.1. Cargar el dataset"
      ],
      "metadata": {
        "id": "eSxwCXQvAZnD"
      }
    },
    {
      "cell_type": "code",
      "source": [
        "uri = 'https://raw.githubusercontent.com/maribcs/mgp-bayesian-network-retail/main/data/db_mgp_t1.csv'\n",
        "df = pd.read_csv(uri, sep=\",\")\n",
        "df"
      ],
      "metadata": {
        "colab": {
          "base_uri": "https://localhost:8080/",
          "height": 626
        },
        "id": "Jt2C7vbdADWQ",
        "outputId": "76de1d5a-34f8-42aa-bf86-68b35db857dd"
      },
      "execution_count": 7,
      "outputs": [
        {
          "output_type": "execute_result",
          "data": {
            "text/plain": [
              "        row_num  flag_nuevo  fl_omni  fl_fcom  fl_tienda  flag_tienetarjeta  \\\n",
              "0            27           1        0        0          1                  0   \n",
              "1            36           1        0        0          1                  0   \n",
              "2            62           1        0        0          1                  1   \n",
              "3            65           0        0        0          1                  0   \n",
              "4            99           0        0        0          1                  1   \n",
              "...         ...         ...      ...      ...        ...                ...   \n",
              "990387   989561           0        0        0          1                  1   \n",
              "990388   989578           1        0        0          1                  0   \n",
              "990389   990094           0        0        0          1                  1   \n",
              "990390   990174           0        0        0          1                  0   \n",
              "990391   990204           0        1        1          1                  1   \n",
              "\n",
              "        flag_metodopago  flag_tienepromocion Genero NSE  Rango_edad  \\\n",
              "0                     0                    0      M   C  26-35 AÑOS   \n",
              "1                     0                    0      F   B  36-45 AÑOS   \n",
              "2                     1                    0      F   B  26-35 AÑOS   \n",
              "3                     0                    0      M   C  36-45 AÑOS   \n",
              "4                     0                    0      F   B  36-45 AÑOS   \n",
              "...                 ...                  ...    ...  ..         ...   \n",
              "990387                0                    0      M   A  26-35 AÑOS   \n",
              "990388                0                    0      M   C    56 A MÁS   \n",
              "990389                1                    0      M   B    56 A MÁS   \n",
              "990390                0                    0      F   A  36-45 AÑOS   \n",
              "990391                0                    0      M   B  36-45 AÑOS   \n",
              "\n",
              "       estado_marital  flag_tiene_hijo  rango_gasto  \n",
              "0                   C                1   gasto bajo  \n",
              "1                   C                0   gasto alto  \n",
              "2                   S                0  gasto medio  \n",
              "3                   C                1   gasto bajo  \n",
              "4                   S                0   gasto alto  \n",
              "...               ...              ...          ...  \n",
              "990387              S                0   gasto alto  \n",
              "990388              C                0  gasto medio  \n",
              "990389              S                0   gasto alto  \n",
              "990390              C                0   gasto bajo  \n",
              "990391              S                1  gasto medio  \n",
              "\n",
              "[990392 rows x 14 columns]"
            ],
            "text/html": [
              "\n",
              "  <div id=\"df-a9925bfb-7c4b-4e24-a46e-c59804ea689b\">\n",
              "    <div class=\"colab-df-container\">\n",
              "      <div>\n",
              "<style scoped>\n",
              "    .dataframe tbody tr th:only-of-type {\n",
              "        vertical-align: middle;\n",
              "    }\n",
              "\n",
              "    .dataframe tbody tr th {\n",
              "        vertical-align: top;\n",
              "    }\n",
              "\n",
              "    .dataframe thead th {\n",
              "        text-align: right;\n",
              "    }\n",
              "</style>\n",
              "<table border=\"1\" class=\"dataframe\">\n",
              "  <thead>\n",
              "    <tr style=\"text-align: right;\">\n",
              "      <th></th>\n",
              "      <th>row_num</th>\n",
              "      <th>flag_nuevo</th>\n",
              "      <th>fl_omni</th>\n",
              "      <th>fl_fcom</th>\n",
              "      <th>fl_tienda</th>\n",
              "      <th>flag_tienetarjeta</th>\n",
              "      <th>flag_metodopago</th>\n",
              "      <th>flag_tienepromocion</th>\n",
              "      <th>Genero</th>\n",
              "      <th>NSE</th>\n",
              "      <th>Rango_edad</th>\n",
              "      <th>estado_marital</th>\n",
              "      <th>flag_tiene_hijo</th>\n",
              "      <th>rango_gasto</th>\n",
              "    </tr>\n",
              "  </thead>\n",
              "  <tbody>\n",
              "    <tr>\n",
              "      <th>0</th>\n",
              "      <td>27</td>\n",
              "      <td>1</td>\n",
              "      <td>0</td>\n",
              "      <td>0</td>\n",
              "      <td>1</td>\n",
              "      <td>0</td>\n",
              "      <td>0</td>\n",
              "      <td>0</td>\n",
              "      <td>M</td>\n",
              "      <td>C</td>\n",
              "      <td>26-35 AÑOS</td>\n",
              "      <td>C</td>\n",
              "      <td>1</td>\n",
              "      <td>gasto bajo</td>\n",
              "    </tr>\n",
              "    <tr>\n",
              "      <th>1</th>\n",
              "      <td>36</td>\n",
              "      <td>1</td>\n",
              "      <td>0</td>\n",
              "      <td>0</td>\n",
              "      <td>1</td>\n",
              "      <td>0</td>\n",
              "      <td>0</td>\n",
              "      <td>0</td>\n",
              "      <td>F</td>\n",
              "      <td>B</td>\n",
              "      <td>36-45 AÑOS</td>\n",
              "      <td>C</td>\n",
              "      <td>0</td>\n",
              "      <td>gasto alto</td>\n",
              "    </tr>\n",
              "    <tr>\n",
              "      <th>2</th>\n",
              "      <td>62</td>\n",
              "      <td>1</td>\n",
              "      <td>0</td>\n",
              "      <td>0</td>\n",
              "      <td>1</td>\n",
              "      <td>1</td>\n",
              "      <td>1</td>\n",
              "      <td>0</td>\n",
              "      <td>F</td>\n",
              "      <td>B</td>\n",
              "      <td>26-35 AÑOS</td>\n",
              "      <td>S</td>\n",
              "      <td>0</td>\n",
              "      <td>gasto medio</td>\n",
              "    </tr>\n",
              "    <tr>\n",
              "      <th>3</th>\n",
              "      <td>65</td>\n",
              "      <td>0</td>\n",
              "      <td>0</td>\n",
              "      <td>0</td>\n",
              "      <td>1</td>\n",
              "      <td>0</td>\n",
              "      <td>0</td>\n",
              "      <td>0</td>\n",
              "      <td>M</td>\n",
              "      <td>C</td>\n",
              "      <td>36-45 AÑOS</td>\n",
              "      <td>C</td>\n",
              "      <td>1</td>\n",
              "      <td>gasto bajo</td>\n",
              "    </tr>\n",
              "    <tr>\n",
              "      <th>4</th>\n",
              "      <td>99</td>\n",
              "      <td>0</td>\n",
              "      <td>0</td>\n",
              "      <td>0</td>\n",
              "      <td>1</td>\n",
              "      <td>1</td>\n",
              "      <td>0</td>\n",
              "      <td>0</td>\n",
              "      <td>F</td>\n",
              "      <td>B</td>\n",
              "      <td>36-45 AÑOS</td>\n",
              "      <td>S</td>\n",
              "      <td>0</td>\n",
              "      <td>gasto alto</td>\n",
              "    </tr>\n",
              "    <tr>\n",
              "      <th>...</th>\n",
              "      <td>...</td>\n",
              "      <td>...</td>\n",
              "      <td>...</td>\n",
              "      <td>...</td>\n",
              "      <td>...</td>\n",
              "      <td>...</td>\n",
              "      <td>...</td>\n",
              "      <td>...</td>\n",
              "      <td>...</td>\n",
              "      <td>...</td>\n",
              "      <td>...</td>\n",
              "      <td>...</td>\n",
              "      <td>...</td>\n",
              "      <td>...</td>\n",
              "    </tr>\n",
              "    <tr>\n",
              "      <th>990387</th>\n",
              "      <td>989561</td>\n",
              "      <td>0</td>\n",
              "      <td>0</td>\n",
              "      <td>0</td>\n",
              "      <td>1</td>\n",
              "      <td>1</td>\n",
              "      <td>0</td>\n",
              "      <td>0</td>\n",
              "      <td>M</td>\n",
              "      <td>A</td>\n",
              "      <td>26-35 AÑOS</td>\n",
              "      <td>S</td>\n",
              "      <td>0</td>\n",
              "      <td>gasto alto</td>\n",
              "    </tr>\n",
              "    <tr>\n",
              "      <th>990388</th>\n",
              "      <td>989578</td>\n",
              "      <td>1</td>\n",
              "      <td>0</td>\n",
              "      <td>0</td>\n",
              "      <td>1</td>\n",
              "      <td>0</td>\n",
              "      <td>0</td>\n",
              "      <td>0</td>\n",
              "      <td>M</td>\n",
              "      <td>C</td>\n",
              "      <td>56 A MÁS</td>\n",
              "      <td>C</td>\n",
              "      <td>0</td>\n",
              "      <td>gasto medio</td>\n",
              "    </tr>\n",
              "    <tr>\n",
              "      <th>990389</th>\n",
              "      <td>990094</td>\n",
              "      <td>0</td>\n",
              "      <td>0</td>\n",
              "      <td>0</td>\n",
              "      <td>1</td>\n",
              "      <td>1</td>\n",
              "      <td>1</td>\n",
              "      <td>0</td>\n",
              "      <td>M</td>\n",
              "      <td>B</td>\n",
              "      <td>56 A MÁS</td>\n",
              "      <td>S</td>\n",
              "      <td>0</td>\n",
              "      <td>gasto alto</td>\n",
              "    </tr>\n",
              "    <tr>\n",
              "      <th>990390</th>\n",
              "      <td>990174</td>\n",
              "      <td>0</td>\n",
              "      <td>0</td>\n",
              "      <td>0</td>\n",
              "      <td>1</td>\n",
              "      <td>0</td>\n",
              "      <td>0</td>\n",
              "      <td>0</td>\n",
              "      <td>F</td>\n",
              "      <td>A</td>\n",
              "      <td>36-45 AÑOS</td>\n",
              "      <td>C</td>\n",
              "      <td>0</td>\n",
              "      <td>gasto bajo</td>\n",
              "    </tr>\n",
              "    <tr>\n",
              "      <th>990391</th>\n",
              "      <td>990204</td>\n",
              "      <td>0</td>\n",
              "      <td>1</td>\n",
              "      <td>1</td>\n",
              "      <td>1</td>\n",
              "      <td>1</td>\n",
              "      <td>0</td>\n",
              "      <td>0</td>\n",
              "      <td>M</td>\n",
              "      <td>B</td>\n",
              "      <td>36-45 AÑOS</td>\n",
              "      <td>S</td>\n",
              "      <td>1</td>\n",
              "      <td>gasto medio</td>\n",
              "    </tr>\n",
              "  </tbody>\n",
              "</table>\n",
              "<p>990392 rows × 14 columns</p>\n",
              "</div>\n",
              "      <button class=\"colab-df-convert\" onclick=\"convertToInteractive('df-a9925bfb-7c4b-4e24-a46e-c59804ea689b')\"\n",
              "              title=\"Convert this dataframe to an interactive table.\"\n",
              "              style=\"display:none;\">\n",
              "        \n",
              "  <svg xmlns=\"http://www.w3.org/2000/svg\" height=\"24px\"viewBox=\"0 0 24 24\"\n",
              "       width=\"24px\">\n",
              "    <path d=\"M0 0h24v24H0V0z\" fill=\"none\"/>\n",
              "    <path d=\"M18.56 5.44l.94 2.06.94-2.06 2.06-.94-2.06-.94-.94-2.06-.94 2.06-2.06.94zm-11 1L8.5 8.5l.94-2.06 2.06-.94-2.06-.94L8.5 2.5l-.94 2.06-2.06.94zm10 10l.94 2.06.94-2.06 2.06-.94-2.06-.94-.94-2.06-.94 2.06-2.06.94z\"/><path d=\"M17.41 7.96l-1.37-1.37c-.4-.4-.92-.59-1.43-.59-.52 0-1.04.2-1.43.59L10.3 9.45l-7.72 7.72c-.78.78-.78 2.05 0 2.83L4 21.41c.39.39.9.59 1.41.59.51 0 1.02-.2 1.41-.59l7.78-7.78 2.81-2.81c.8-.78.8-2.07 0-2.86zM5.41 20L4 18.59l7.72-7.72 1.47 1.35L5.41 20z\"/>\n",
              "  </svg>\n",
              "      </button>\n",
              "      \n",
              "  <style>\n",
              "    .colab-df-container {\n",
              "      display:flex;\n",
              "      flex-wrap:wrap;\n",
              "      gap: 12px;\n",
              "    }\n",
              "\n",
              "    .colab-df-convert {\n",
              "      background-color: #E8F0FE;\n",
              "      border: none;\n",
              "      border-radius: 50%;\n",
              "      cursor: pointer;\n",
              "      display: none;\n",
              "      fill: #1967D2;\n",
              "      height: 32px;\n",
              "      padding: 0 0 0 0;\n",
              "      width: 32px;\n",
              "    }\n",
              "\n",
              "    .colab-df-convert:hover {\n",
              "      background-color: #E2EBFA;\n",
              "      box-shadow: 0px 1px 2px rgba(60, 64, 67, 0.3), 0px 1px 3px 1px rgba(60, 64, 67, 0.15);\n",
              "      fill: #174EA6;\n",
              "    }\n",
              "\n",
              "    [theme=dark] .colab-df-convert {\n",
              "      background-color: #3B4455;\n",
              "      fill: #D2E3FC;\n",
              "    }\n",
              "\n",
              "    [theme=dark] .colab-df-convert:hover {\n",
              "      background-color: #434B5C;\n",
              "      box-shadow: 0px 1px 3px 1px rgba(0, 0, 0, 0.15);\n",
              "      filter: drop-shadow(0px 1px 2px rgba(0, 0, 0, 0.3));\n",
              "      fill: #FFFFFF;\n",
              "    }\n",
              "  </style>\n",
              "\n",
              "      <script>\n",
              "        const buttonEl =\n",
              "          document.querySelector('#df-a9925bfb-7c4b-4e24-a46e-c59804ea689b button.colab-df-convert');\n",
              "        buttonEl.style.display =\n",
              "          google.colab.kernel.accessAllowed ? 'block' : 'none';\n",
              "\n",
              "        async function convertToInteractive(key) {\n",
              "          const element = document.querySelector('#df-a9925bfb-7c4b-4e24-a46e-c59804ea689b');\n",
              "          const dataTable =\n",
              "            await google.colab.kernel.invokeFunction('convertToInteractive',\n",
              "                                                     [key], {});\n",
              "          if (!dataTable) return;\n",
              "\n",
              "          const docLinkHtml = 'Like what you see? Visit the ' +\n",
              "            '<a target=\"_blank\" href=https://colab.research.google.com/notebooks/data_table.ipynb>data table notebook</a>'\n",
              "            + ' to learn more about interactive tables.';\n",
              "          element.innerHTML = '';\n",
              "          dataTable['output_type'] = 'display_data';\n",
              "          await google.colab.output.renderOutput(dataTable, element);\n",
              "          const docLink = document.createElement('div');\n",
              "          docLink.innerHTML = docLinkHtml;\n",
              "          element.appendChild(docLink);\n",
              "        }\n",
              "      </script>\n",
              "    </div>\n",
              "  </div>\n",
              "  "
            ]
          },
          "metadata": {},
          "execution_count": 7
        }
      ]
    },
    {
      "cell_type": "markdown",
      "source": [
        "## 1.2. Prepocesar el dataset"
      ],
      "metadata": {
        "id": "CXK7gt8XAx0g"
      }
    },
    {
      "cell_type": "code",
      "source": [
        "# Seleccionar columnas a utilizar\n",
        "df_modelo = df[['NSE','Rango_edad','Genero','estado_marital','flag_tienetarjeta','flag_nuevo','flag_metodopago','flag_tienepromocion','fl_fcom','rango_gasto']]"
      ],
      "metadata": {
        "id": "MFHutuXPA4tJ"
      },
      "execution_count": 8,
      "outputs": []
    },
    {
      "cell_type": "code",
      "source": [
        "# Renombrar columnas\n",
        "\n",
        "# 1. NSE: Nivel socioeconómico\n",
        "# 2. E: Edad\n",
        "# 3. G: Género\n",
        "# 4. EC: Estado civil\n",
        "# 5. TR: Tiene o no tarjeta del retail\n",
        "# 6. TC: Tipo de cliente\n",
        "# 7. MP: Método de pago\n",
        "# 8. PP: Producto en promoción o no\n",
        "# 9. CC: Canal de compra tienda / web\n",
        "# 10. C: Compra\n",
        "\n",
        "df_modelo.rename(columns = {'Rango_edad':'E','Genero':'G','estado_marital':'EC','flag_tienetarjeta':'TR','flag_nuevo':'TC','flag_metodopago':'MP','flag_tienepromocion':'PP','fl_fcom':'CC','rango_gasto':'C'}, inplace = True)\n",
        "df_modelo.head()"
      ],
      "metadata": {
        "colab": {
          "base_uri": "https://localhost:8080/",
          "height": 317
        },
        "id": "I0LP9MlqDnaY",
        "outputId": "23b2692f-4db1-4cbd-bc6c-a0e44c0e5d40"
      },
      "execution_count": 9,
      "outputs": [
        {
          "output_type": "stream",
          "name": "stderr",
          "text": [
            "<ipython-input-9-228b14a4bd5a>:14: SettingWithCopyWarning: \n",
            "A value is trying to be set on a copy of a slice from a DataFrame\n",
            "\n",
            "See the caveats in the documentation: https://pandas.pydata.org/pandas-docs/stable/user_guide/indexing.html#returning-a-view-versus-a-copy\n",
            "  df_modelo.rename(columns = {'Rango_edad':'E','Genero':'G','estado_marital':'EC','flag_tienetarjeta':'TR','flag_nuevo':'TC','flag_metodopago':'MP','flag_tienepromocion':'PP','fl_fcom':'CC','rango_gasto':'C'}, inplace = True)\n"
          ]
        },
        {
          "output_type": "execute_result",
          "data": {
            "text/plain": [
              "  NSE           E  G EC  TR  TC  MP  PP  CC            C\n",
              "0   C  26-35 AÑOS  M  C   0   1   0   0   0   gasto bajo\n",
              "1   B  36-45 AÑOS  F  C   0   1   0   0   0   gasto alto\n",
              "2   B  26-35 AÑOS  F  S   1   1   1   0   0  gasto medio\n",
              "3   C  36-45 AÑOS  M  C   0   0   0   0   0   gasto bajo\n",
              "4   B  36-45 AÑOS  F  S   1   0   0   0   0   gasto alto"
            ],
            "text/html": [
              "\n",
              "  <div id=\"df-11cf5dd5-a7cc-4a4a-8b59-f4f73a6270b9\">\n",
              "    <div class=\"colab-df-container\">\n",
              "      <div>\n",
              "<style scoped>\n",
              "    .dataframe tbody tr th:only-of-type {\n",
              "        vertical-align: middle;\n",
              "    }\n",
              "\n",
              "    .dataframe tbody tr th {\n",
              "        vertical-align: top;\n",
              "    }\n",
              "\n",
              "    .dataframe thead th {\n",
              "        text-align: right;\n",
              "    }\n",
              "</style>\n",
              "<table border=\"1\" class=\"dataframe\">\n",
              "  <thead>\n",
              "    <tr style=\"text-align: right;\">\n",
              "      <th></th>\n",
              "      <th>NSE</th>\n",
              "      <th>E</th>\n",
              "      <th>G</th>\n",
              "      <th>EC</th>\n",
              "      <th>TR</th>\n",
              "      <th>TC</th>\n",
              "      <th>MP</th>\n",
              "      <th>PP</th>\n",
              "      <th>CC</th>\n",
              "      <th>C</th>\n",
              "    </tr>\n",
              "  </thead>\n",
              "  <tbody>\n",
              "    <tr>\n",
              "      <th>0</th>\n",
              "      <td>C</td>\n",
              "      <td>26-35 AÑOS</td>\n",
              "      <td>M</td>\n",
              "      <td>C</td>\n",
              "      <td>0</td>\n",
              "      <td>1</td>\n",
              "      <td>0</td>\n",
              "      <td>0</td>\n",
              "      <td>0</td>\n",
              "      <td>gasto bajo</td>\n",
              "    </tr>\n",
              "    <tr>\n",
              "      <th>1</th>\n",
              "      <td>B</td>\n",
              "      <td>36-45 AÑOS</td>\n",
              "      <td>F</td>\n",
              "      <td>C</td>\n",
              "      <td>0</td>\n",
              "      <td>1</td>\n",
              "      <td>0</td>\n",
              "      <td>0</td>\n",
              "      <td>0</td>\n",
              "      <td>gasto alto</td>\n",
              "    </tr>\n",
              "    <tr>\n",
              "      <th>2</th>\n",
              "      <td>B</td>\n",
              "      <td>26-35 AÑOS</td>\n",
              "      <td>F</td>\n",
              "      <td>S</td>\n",
              "      <td>1</td>\n",
              "      <td>1</td>\n",
              "      <td>1</td>\n",
              "      <td>0</td>\n",
              "      <td>0</td>\n",
              "      <td>gasto medio</td>\n",
              "    </tr>\n",
              "    <tr>\n",
              "      <th>3</th>\n",
              "      <td>C</td>\n",
              "      <td>36-45 AÑOS</td>\n",
              "      <td>M</td>\n",
              "      <td>C</td>\n",
              "      <td>0</td>\n",
              "      <td>0</td>\n",
              "      <td>0</td>\n",
              "      <td>0</td>\n",
              "      <td>0</td>\n",
              "      <td>gasto bajo</td>\n",
              "    </tr>\n",
              "    <tr>\n",
              "      <th>4</th>\n",
              "      <td>B</td>\n",
              "      <td>36-45 AÑOS</td>\n",
              "      <td>F</td>\n",
              "      <td>S</td>\n",
              "      <td>1</td>\n",
              "      <td>0</td>\n",
              "      <td>0</td>\n",
              "      <td>0</td>\n",
              "      <td>0</td>\n",
              "      <td>gasto alto</td>\n",
              "    </tr>\n",
              "  </tbody>\n",
              "</table>\n",
              "</div>\n",
              "      <button class=\"colab-df-convert\" onclick=\"convertToInteractive('df-11cf5dd5-a7cc-4a4a-8b59-f4f73a6270b9')\"\n",
              "              title=\"Convert this dataframe to an interactive table.\"\n",
              "              style=\"display:none;\">\n",
              "        \n",
              "  <svg xmlns=\"http://www.w3.org/2000/svg\" height=\"24px\"viewBox=\"0 0 24 24\"\n",
              "       width=\"24px\">\n",
              "    <path d=\"M0 0h24v24H0V0z\" fill=\"none\"/>\n",
              "    <path d=\"M18.56 5.44l.94 2.06.94-2.06 2.06-.94-2.06-.94-.94-2.06-.94 2.06-2.06.94zm-11 1L8.5 8.5l.94-2.06 2.06-.94-2.06-.94L8.5 2.5l-.94 2.06-2.06.94zm10 10l.94 2.06.94-2.06 2.06-.94-2.06-.94-.94-2.06-.94 2.06-2.06.94z\"/><path d=\"M17.41 7.96l-1.37-1.37c-.4-.4-.92-.59-1.43-.59-.52 0-1.04.2-1.43.59L10.3 9.45l-7.72 7.72c-.78.78-.78 2.05 0 2.83L4 21.41c.39.39.9.59 1.41.59.51 0 1.02-.2 1.41-.59l7.78-7.78 2.81-2.81c.8-.78.8-2.07 0-2.86zM5.41 20L4 18.59l7.72-7.72 1.47 1.35L5.41 20z\"/>\n",
              "  </svg>\n",
              "      </button>\n",
              "      \n",
              "  <style>\n",
              "    .colab-df-container {\n",
              "      display:flex;\n",
              "      flex-wrap:wrap;\n",
              "      gap: 12px;\n",
              "    }\n",
              "\n",
              "    .colab-df-convert {\n",
              "      background-color: #E8F0FE;\n",
              "      border: none;\n",
              "      border-radius: 50%;\n",
              "      cursor: pointer;\n",
              "      display: none;\n",
              "      fill: #1967D2;\n",
              "      height: 32px;\n",
              "      padding: 0 0 0 0;\n",
              "      width: 32px;\n",
              "    }\n",
              "\n",
              "    .colab-df-convert:hover {\n",
              "      background-color: #E2EBFA;\n",
              "      box-shadow: 0px 1px 2px rgba(60, 64, 67, 0.3), 0px 1px 3px 1px rgba(60, 64, 67, 0.15);\n",
              "      fill: #174EA6;\n",
              "    }\n",
              "\n",
              "    [theme=dark] .colab-df-convert {\n",
              "      background-color: #3B4455;\n",
              "      fill: #D2E3FC;\n",
              "    }\n",
              "\n",
              "    [theme=dark] .colab-df-convert:hover {\n",
              "      background-color: #434B5C;\n",
              "      box-shadow: 0px 1px 3px 1px rgba(0, 0, 0, 0.15);\n",
              "      filter: drop-shadow(0px 1px 2px rgba(0, 0, 0, 0.3));\n",
              "      fill: #FFFFFF;\n",
              "    }\n",
              "  </style>\n",
              "\n",
              "      <script>\n",
              "        const buttonEl =\n",
              "          document.querySelector('#df-11cf5dd5-a7cc-4a4a-8b59-f4f73a6270b9 button.colab-df-convert');\n",
              "        buttonEl.style.display =\n",
              "          google.colab.kernel.accessAllowed ? 'block' : 'none';\n",
              "\n",
              "        async function convertToInteractive(key) {\n",
              "          const element = document.querySelector('#df-11cf5dd5-a7cc-4a4a-8b59-f4f73a6270b9');\n",
              "          const dataTable =\n",
              "            await google.colab.kernel.invokeFunction('convertToInteractive',\n",
              "                                                     [key], {});\n",
              "          if (!dataTable) return;\n",
              "\n",
              "          const docLinkHtml = 'Like what you see? Visit the ' +\n",
              "            '<a target=\"_blank\" href=https://colab.research.google.com/notebooks/data_table.ipynb>data table notebook</a>'\n",
              "            + ' to learn more about interactive tables.';\n",
              "          element.innerHTML = '';\n",
              "          dataTable['output_type'] = 'display_data';\n",
              "          await google.colab.output.renderOutput(dataTable, element);\n",
              "          const docLink = document.createElement('div');\n",
              "          docLink.innerHTML = docLinkHtml;\n",
              "          element.appendChild(docLink);\n",
              "        }\n",
              "      </script>\n",
              "    </div>\n",
              "  </div>\n",
              "  "
            ]
          },
          "metadata": {},
          "execution_count": 9
        }
      ]
    },
    {
      "cell_type": "markdown",
      "source": [
        "# 2. Modelo"
      ],
      "metadata": {
        "id": "6nK7k885DzUf"
      }
    },
    {
      "cell_type": "code",
      "source": [
        "!pip install pgmpy"
      ],
      "metadata": {
        "colab": {
          "base_uri": "https://localhost:8080/"
        },
        "id": "SZOKplT9jOX7",
        "outputId": "5e09360d-093b-47c4-8e25-23728fb3abcb"
      },
      "execution_count": 10,
      "outputs": [
        {
          "output_type": "stream",
          "name": "stdout",
          "text": [
            "Looking in indexes: https://pypi.org/simple, https://us-python.pkg.dev/colab-wheels/public/simple/\n",
            "Collecting pgmpy\n",
            "  Downloading pgmpy-0.1.22-py3-none-any.whl (1.9 MB)\n",
            "\u001b[2K     \u001b[90m━━━━━━━━━━━━━━━━━━━━━━━━━━━━━━━━━━━━━━━━\u001b[0m \u001b[32m1.9/1.9 MB\u001b[0m \u001b[31m25.1 MB/s\u001b[0m eta \u001b[36m0:00:00\u001b[0m\n",
            "\u001b[?25hRequirement already satisfied: networkx in /usr/local/lib/python3.10/dist-packages (from pgmpy) (3.1)\n",
            "Requirement already satisfied: numpy in /usr/local/lib/python3.10/dist-packages (from pgmpy) (1.22.4)\n",
            "Requirement already satisfied: scipy in /usr/local/lib/python3.10/dist-packages (from pgmpy) (1.10.1)\n",
            "Requirement already satisfied: scikit-learn in /usr/local/lib/python3.10/dist-packages (from pgmpy) (1.2.2)\n",
            "Requirement already satisfied: pandas in /usr/local/lib/python3.10/dist-packages (from pgmpy) (1.5.3)\n",
            "Requirement already satisfied: pyparsing in /usr/local/lib/python3.10/dist-packages (from pgmpy) (3.0.9)\n",
            "Requirement already satisfied: torch in /usr/local/lib/python3.10/dist-packages (from pgmpy) (2.0.1+cu118)\n",
            "Requirement already satisfied: statsmodels in /usr/local/lib/python3.10/dist-packages (from pgmpy) (0.13.5)\n",
            "Requirement already satisfied: tqdm in /usr/local/lib/python3.10/dist-packages (from pgmpy) (4.65.0)\n",
            "Requirement already satisfied: joblib in /usr/local/lib/python3.10/dist-packages (from pgmpy) (1.2.0)\n",
            "Requirement already satisfied: opt-einsum in /usr/local/lib/python3.10/dist-packages (from pgmpy) (3.3.0)\n",
            "Requirement already satisfied: python-dateutil>=2.8.1 in /usr/local/lib/python3.10/dist-packages (from pandas->pgmpy) (2.8.2)\n",
            "Requirement already satisfied: pytz>=2020.1 in /usr/local/lib/python3.10/dist-packages (from pandas->pgmpy) (2022.7.1)\n",
            "Requirement already satisfied: threadpoolctl>=2.0.0 in /usr/local/lib/python3.10/dist-packages (from scikit-learn->pgmpy) (3.1.0)\n",
            "Requirement already satisfied: patsy>=0.5.2 in /usr/local/lib/python3.10/dist-packages (from statsmodels->pgmpy) (0.5.3)\n",
            "Requirement already satisfied: packaging>=21.3 in /usr/local/lib/python3.10/dist-packages (from statsmodels->pgmpy) (23.1)\n",
            "Requirement already satisfied: filelock in /usr/local/lib/python3.10/dist-packages (from torch->pgmpy) (3.12.0)\n",
            "Requirement already satisfied: typing-extensions in /usr/local/lib/python3.10/dist-packages (from torch->pgmpy) (4.5.0)\n",
            "Requirement already satisfied: sympy in /usr/local/lib/python3.10/dist-packages (from torch->pgmpy) (1.11.1)\n",
            "Requirement already satisfied: jinja2 in /usr/local/lib/python3.10/dist-packages (from torch->pgmpy) (3.1.2)\n",
            "Requirement already satisfied: triton==2.0.0 in /usr/local/lib/python3.10/dist-packages (from torch->pgmpy) (2.0.0)\n",
            "Requirement already satisfied: cmake in /usr/local/lib/python3.10/dist-packages (from triton==2.0.0->torch->pgmpy) (3.25.2)\n",
            "Requirement already satisfied: lit in /usr/local/lib/python3.10/dist-packages (from triton==2.0.0->torch->pgmpy) (16.0.5)\n",
            "Requirement already satisfied: six in /usr/local/lib/python3.10/dist-packages (from patsy>=0.5.2->statsmodels->pgmpy) (1.16.0)\n",
            "Requirement already satisfied: MarkupSafe>=2.0 in /usr/local/lib/python3.10/dist-packages (from jinja2->torch->pgmpy) (2.1.2)\n",
            "Requirement already satisfied: mpmath>=0.19 in /usr/local/lib/python3.10/dist-packages (from sympy->torch->pgmpy) (1.3.0)\n",
            "Installing collected packages: pgmpy\n",
            "Successfully installed pgmpy-0.1.22\n"
          ]
        }
      ]
    },
    {
      "cell_type": "code",
      "source": [
        "from pgmpy.models import BayesianNetwork\n",
        "from pgmpy.estimators import ParameterEstimator\n",
        "from pgmpy.estimators import MaximumLikelihoodEstimator\n",
        "\n",
        "import networkx as nx\n",
        "import matplotlib.pyplot as plt"
      ],
      "metadata": {
        "id": "QGngEmo-ide_"
      },
      "execution_count": 12,
      "outputs": []
    },
    {
      "cell_type": "markdown",
      "source": [
        "## 2.1. Definición de nodos"
      ],
      "metadata": {
        "id": "3H2qCsrBHhTT"
      }
    },
    {
      "cell_type": "code",
      "source": [
        "model = BayesianNetwork([('NSE', 'TR'), ('TR', 'MP'), ('MP', 'PP'), ('CC', 'PP'),('PP', 'C'),('CC', 'C'),('E', 'TC'),('G', 'TC'),('EC', 'TC'),('TC', 'C')])"
      ],
      "metadata": {
        "id": "IYrpQNYHiVvw"
      },
      "execution_count": 13,
      "outputs": []
    },
    {
      "cell_type": "markdown",
      "source": [
        "## 2.2. DAG del modelo"
      ],
      "metadata": {
        "id": "gaNrtRL4Fikw"
      }
    },
    {
      "cell_type": "code",
      "source": [
        "pos = {'NSE': (1, 1), 'TR': (1, 0), 'MP': (1, -1), 'PP': (1.5, -1.5), 'CC': (2, -1), 'E': (2.5, 0),'G': (3, 0),'EC': (3.5, 0),'TC': (3, -1),'C': (2, -2)}\n",
        "\n",
        "nx.draw_networkx(model, pos=pos, with_labels=True, node_color='#3cd194',\n",
        "                 node_size=1800, font_size=12, font_weight='bold', edge_color='gray')\n",
        "\n",
        "plt.axis('off')\n",
        "plt.show()"
      ],
      "metadata": {
        "colab": {
          "base_uri": "https://localhost:8080/",
          "height": 406
        },
        "id": "xCTRKPaMjrJX",
        "outputId": "7747bef3-bd7f-47b2-aa28-c3c5afd9d590"
      },
      "execution_count": 14,
      "outputs": [
        {
          "output_type": "display_data",
          "data": {
            "text/plain": [
              "<Figure size 640x480 with 1 Axes>"
            ],
            "image/png": "[encoded data removed]"
          },
          "metadata": {}
        }
      ]
    },
    {
      "cell_type": "markdown",
      "source": [
        "## 2.3. Aprendizaje de parámetros"
      ],
      "metadata": {
        "id": "ZC26PocePE27"
      }
    },
    {
      "cell_type": "code",
      "source": [
        "pe = ParameterEstimator(model, df_modelo)"
      ],
      "metadata": {
        "id": "jaONNcFTPWTc"
      },
      "execution_count": 15,
      "outputs": []
    },
    {
      "cell_type": "markdown",
      "source": [
        "### 2.3.1. Frecuencia de estados"
      ],
      "metadata": {
        "id": "WtC-ZS64QnMi"
      }
    },
    {
      "cell_type": "code",
      "source": [
        "# 1. NSE: Nivel socioeconómico (Incondicional)\n",
        "print(pe.state_counts('NSE'))"
      ],
      "metadata": {
        "colab": {
          "base_uri": "https://localhost:8080/"
        },
        "id": "dp0eSrGLPf4L",
        "outputId": "5db6e874-2592-4b82-f216-ee8f75b2cf2a"
      },
      "execution_count": 16,
      "outputs": [
        {
          "output_type": "stream",
          "name": "stdout",
          "text": [
            "      NSE\n",
            "A  180269\n",
            "B  447575\n",
            "C  295641\n",
            "D   55556\n",
            "E   11351\n"
          ]
        }
      ]
    },
    {
      "cell_type": "code",
      "source": [
        "# 2. E: Edad (Incondicional)\n",
        "print(pe.state_counts('E'))"
      ],
      "metadata": {
        "colab": {
          "base_uri": "https://localhost:8080/"
        },
        "id": "_9RgKlGOPrB6",
        "outputId": "383a7430-3ed2-4ef5-fac5-dbed7d9c60e0"
      },
      "execution_count": 17,
      "outputs": [
        {
          "output_type": "stream",
          "name": "stdout",
          "text": [
            "                 E\n",
            "16-25 AÑOS    8247\n",
            "26-35 AÑOS  261838\n",
            "36-45 AÑOS  320229\n",
            "46-55 AÑOS  227152\n",
            "56 A MÁS    172926\n"
          ]
        }
      ]
    },
    {
      "cell_type": "code",
      "source": [
        "# 3. G: Género (Incondicional)\n",
        "print(pe.state_counts('G'))"
      ],
      "metadata": {
        "colab": {
          "base_uri": "https://localhost:8080/"
        },
        "id": "X1AZgU2TQXTa",
        "outputId": "a5ceb48d-93a2-4f70-c7e9-af8e72e2fb8f"
      },
      "execution_count": 18,
      "outputs": [
        {
          "output_type": "stream",
          "name": "stdout",
          "text": [
            "        G\n",
            "F  592960\n",
            "M  397432\n"
          ]
        }
      ]
    },
    {
      "cell_type": "code",
      "source": [
        "# 4. EC: Estado civil (Incondicional)\n",
        "print(pe.state_counts('EC'))"
      ],
      "metadata": {
        "colab": {
          "base_uri": "https://localhost:8080/"
        },
        "id": "KzCagQKPQXgE",
        "outputId": "2c08e8f9-e448-4614-a939-d8589953790c"
      },
      "execution_count": 19,
      "outputs": [
        {
          "output_type": "stream",
          "name": "stdout",
          "text": [
            "       EC\n",
            "C  409070\n",
            "S  581322\n"
          ]
        }
      ]
    },
    {
      "cell_type": "code",
      "source": [
        "# 5. TR: Tiene o no tarjeta del retail (Condicional)\n",
        "print(pe.state_counts('TR'))"
      ],
      "metadata": {
        "colab": {
          "base_uri": "https://localhost:8080/"
        },
        "id": "5LRT_99DQ8Cp",
        "outputId": "0e6500f7-eb2e-4874-8a09-829232910707"
      },
      "execution_count": 20,
      "outputs": [
        {
          "output_type": "stream",
          "name": "stdout",
          "text": [
            "NSE       A       B       C      D     E\n",
            "TR                                      \n",
            "0     72371  172164  126285  27136  5990\n",
            "1    107898  275411  169356  28420  5361\n"
          ]
        }
      ]
    },
    {
      "cell_type": "code",
      "source": [
        "# 6. TC: Tipo de cliente (Condicional)\n",
        "print(pe.state_counts('TC'))"
      ],
      "metadata": {
        "colab": {
          "base_uri": "https://localhost:8080/"
        },
        "id": "00ijjrgbRDF0",
        "outputId": "50313067-addf-41ac-9e84-c2ce9eb9f05b"
      },
      "execution_count": 21,
      "outputs": [
        {
          "output_type": "stream",
          "name": "stdout",
          "text": [
            "E  16-25 AÑOS                 26-35 AÑOS                     36-45 AÑOS  \\\n",
            "EC          C         S                C            S                 C   \n",
            "G           F   M     F     M          F     M      F      M          F   \n",
            "TC                                                                        \n",
            "0          23   6  3307  1984      10922  4496  95850  63538      45386   \n",
            "1          25  12  1455  1435       6327  3322  38635  38748      24353   \n",
            "\n",
            "E                       46-55 AÑOS                      56 A MÁS         \\\n",
            "EC             S                 C             S               C          \n",
            "G       M      F      M          F      M      F      M        F      M   \n",
            "TC                                                                        \n",
            "0   26081  77219  54271      52733  30547  34674  17180    48474  22021   \n",
            "1   19178  36967  36774      29704  25799  21603  14912    32713  26948   \n",
            "\n",
            "E                \n",
            "EC      S        \n",
            "G       F     M  \n",
            "TC               \n",
            "0   18050  4524  \n",
            "1   14540  5656  \n"
          ]
        }
      ]
    },
    {
      "cell_type": "code",
      "source": [
        "# 7. MP: Método de pago (Condicional)\n",
        "print(pe.state_counts('MP'))"
      ],
      "metadata": {
        "colab": {
          "base_uri": "https://localhost:8080/"
        },
        "id": "QZyN6a-wRDkZ",
        "outputId": "42d6a05e-ae73-497c-a608-767c4bc78b09"
      },
      "execution_count": 22,
      "outputs": [
        {
          "output_type": "stream",
          "name": "stdout",
          "text": [
            "TR       0       1\n",
            "MP                \n",
            "0   377676  288425\n",
            "1    26270  298021\n"
          ]
        }
      ]
    },
    {
      "cell_type": "code",
      "source": [
        "# 8. PP: Producto en promoción o no (Condicional)\n",
        "print(pe.state_counts('PP'))"
      ],
      "metadata": {
        "colab": {
          "base_uri": "https://localhost:8080/"
        },
        "id": "RPsNWypsREIy",
        "outputId": "044b1eb2-7f20-4722-c9b2-fc9380957f4d"
      },
      "execution_count": 23,
      "outputs": [
        {
          "output_type": "stream",
          "name": "stdout",
          "text": [
            "CC       0              1       \n",
            "MP       0       1      0      1\n",
            "PP                              \n",
            "0   580214  199949  73406  78375\n",
            "1     8744   28316   3737  17651\n"
          ]
        }
      ]
    },
    {
      "cell_type": "code",
      "source": [
        "# 9. CC: Canal de compra tienda / web (Incondicional)\n",
        "print(pe.state_counts('CC'))"
      ],
      "metadata": {
        "colab": {
          "base_uri": "https://localhost:8080/"
        },
        "id": "zVsQRjwXREgy",
        "outputId": "00e98b76-f879-4aab-ec19-e142b15fc076"
      },
      "execution_count": 24,
      "outputs": [
        {
          "output_type": "stream",
          "name": "stdout",
          "text": [
            "       CC\n",
            "0  817223\n",
            "1  173169\n"
          ]
        }
      ]
    },
    {
      "cell_type": "code",
      "source": [
        "# 10. C: Compra (Condicional)\n",
        "print(pe.state_counts('C'))"
      ],
      "metadata": {
        "colab": {
          "base_uri": "https://localhost:8080/"
        },
        "id": "lbctho0ZRE1i",
        "outputId": "9d0d0a3f-c181-471e-f44c-33c10646d89f"
      },
      "execution_count": 25,
      "outputs": [
        {
          "output_type": "stream",
          "name": "stdout",
          "text": [
            "CC                0                           1                    \n",
            "PP                0              1            0             1      \n",
            "TC                0       1      0     1      0      1      0     1\n",
            "C                                                                  \n",
            "gasto alto   133439   56630  14172  2131  68243  14578  14560  1126\n",
            "gasto bajo   206831  210555   8149  3773  27691  12711   2058   552\n",
            "gasto medio  104249   68459   6968  1867  22244   6314   2682   410\n"
          ]
        }
      ]
    },
    {
      "cell_type": "markdown",
      "source": [
        "### 2.3.1. Maxima Verosimilitud"
      ],
      "metadata": {
        "id": "UZLuculkPPWi"
      }
    },
    {
      "cell_type": "code",
      "source": [
        "mle = MaximumLikelihoodEstimator(model, df_modelo)"
      ],
      "metadata": {
        "id": "JixCx6qLX5XD"
      },
      "execution_count": 26,
      "outputs": []
    },
    {
      "cell_type": "code",
      "source": [
        "# 1. NSE: Nivel socioeconómico\n",
        "print(mle.estimate_cpd('NSE'))"
      ],
      "metadata": {
        "colab": {
          "base_uri": "https://localhost:8080/"
        },
        "id": "VUxhpHxe0bpX",
        "outputId": "ac8f24b9-b4d9-4a3a-ac8d-3632210064dc"
      },
      "execution_count": 27,
      "outputs": [
        {
          "output_type": "stream",
          "name": "stdout",
          "text": [
            "+--------+-----------+\n",
            "| NSE(A) | 0.182018  |\n",
            "+--------+-----------+\n",
            "| NSE(B) | 0.451917  |\n",
            "+--------+-----------+\n",
            "| NSE(C) | 0.298509  |\n",
            "+--------+-----------+\n",
            "| NSE(D) | 0.056095  |\n",
            "+--------+-----------+\n",
            "| NSE(E) | 0.0114611 |\n",
            "+--------+-----------+\n"
          ]
        }
      ]
    },
    {
      "cell_type": "code",
      "source": [
        "# 2. E: Edad\n",
        "print(mle.estimate_cpd('E'))"
      ],
      "metadata": {
        "colab": {
          "base_uri": "https://localhost:8080/"
        },
        "outputId": "39d0a8b7-4f7f-40a9-f28f-220cfe6f0440",
        "id": "RwZbaS9L0wOl"
      },
      "execution_count": 28,
      "outputs": [
        {
          "output_type": "stream",
          "name": "stdout",
          "text": [
            "+---------------+------------+\n",
            "| E(16-25 AÑOS) | 0.00832701 |\n",
            "+---------------+------------+\n",
            "| E(26-35 AÑOS) | 0.264378   |\n",
            "+---------------+------------+\n",
            "| E(36-45 AÑOS) | 0.323336   |\n",
            "+---------------+------------+\n",
            "| E(46-55 AÑOS) | 0.229356   |\n",
            "+---------------+------------+\n",
            "| E(56 A MÁS)   | 0.174604   |\n",
            "+---------------+------------+\n"
          ]
        }
      ]
    },
    {
      "cell_type": "code",
      "source": [
        "# 3. G: Género\n",
        "print(mle.estimate_cpd('G'))"
      ],
      "metadata": {
        "colab": {
          "base_uri": "https://localhost:8080/"
        },
        "outputId": "de915667-5d01-4bfe-cfda-8e4cf706f8f5",
        "id": "MGEurFT60wOm"
      },
      "execution_count": 29,
      "outputs": [
        {
          "output_type": "stream",
          "name": "stdout",
          "text": [
            "+------+----------+\n",
            "| G(F) | 0.598712 |\n",
            "+------+----------+\n",
            "| G(M) | 0.401288 |\n",
            "+------+----------+\n"
          ]
        }
      ]
    },
    {
      "cell_type": "code",
      "source": [
        "# 4. EC: Estado civil\n",
        "print(mle.estimate_cpd('EC'))"
      ],
      "metadata": {
        "colab": {
          "base_uri": "https://localhost:8080/"
        },
        "outputId": "e0927fdd-78ae-41f8-8a25-1c70a86f1ffc",
        "id": "zVBCULDc0wOm"
      },
      "execution_count": 30,
      "outputs": [
        {
          "output_type": "stream",
          "name": "stdout",
          "text": [
            "+-------+----------+\n",
            "| EC(C) | 0.413038 |\n",
            "+-------+----------+\n",
            "| EC(S) | 0.586962 |\n",
            "+-------+----------+\n"
          ]
        }
      ]
    },
    {
      "cell_type": "code",
      "source": [
        "# 5. TR: Tiene o no tarjeta del retail\n",
        "cpd_tr = mle.estimate_cpd('TR')\n",
        "print(cpd_tr)"
      ],
      "metadata": {
        "colab": {
          "base_uri": "https://localhost:8080/"
        },
        "outputId": "27ed796c-cb28-4a0e-e1bb-c4d12244aa2f",
        "id": "F1LgcBQT0wOn"
      },
      "execution_count": 31,
      "outputs": [
        {
          "output_type": "stream",
          "name": "stdout",
          "text": [
            "+-------+---------------------+-----+---------------------+\n",
            "| NSE   | NSE(A)              | ... | NSE(E)              |\n",
            "+-------+---------------------+-----+---------------------+\n",
            "| TR(0) | 0.40146114972624247 | ... | 0.5277068099726896  |\n",
            "+-------+---------------------+-----+---------------------+\n",
            "| TR(1) | 0.5985388502737575  | ... | 0.47229319002731035 |\n",
            "+-------+---------------------+-----+---------------------+\n"
          ]
        }
      ]
    },
    {
      "cell_type": "code",
      "source": [
        "for i in range(0, len(cpd_tr.values)):\n",
        "  for j in range(0, len(cpd_tr.values[i])):\n",
        "    print('tr_',i,'nse_',j,': ',cpd_tr.values[i][j])"
      ],
      "metadata": {
        "colab": {
          "base_uri": "https://localhost:8080/"
        },
        "id": "h_pdM2So2AWC",
        "outputId": "9a0f6be6-41d2-460f-e703-f806e6fcab2c"
      },
      "execution_count": 32,
      "outputs": [
        {
          "output_type": "stream",
          "name": "stdout",
          "text": [
            "tr_ 0 nse_ 0 :  0.40146114972624247\n",
            "tr_ 0 nse_ 1 :  0.3846595542646484\n",
            "tr_ 0 nse_ 2 :  0.4271565851827047\n",
            "tr_ 0 nse_ 3 :  0.48844409244726045\n",
            "tr_ 0 nse_ 4 :  0.5277068099726896\n",
            "tr_ 1 nse_ 0 :  0.5985388502737575\n",
            "tr_ 1 nse_ 1 :  0.6153404457353516\n",
            "tr_ 1 nse_ 2 :  0.5728434148172953\n",
            "tr_ 1 nse_ 3 :  0.5115559075527396\n",
            "tr_ 1 nse_ 4 :  0.47229319002731035\n"
          ]
        }
      ]
    },
    {
      "cell_type": "code",
      "source": [
        "# 6. TC: Tipo de cliente (Condicional)\n",
        "cpd_tc = mle.estimate_cpd('TC')\n",
        "print(cpd_tc)"
      ],
      "metadata": {
        "colab": {
          "base_uri": "https://localhost:8080/"
        },
        "outputId": "7cc7f721-e573-4052-e0ac-66f3e2dad959",
        "id": "kPgM3ywR0wOn"
      },
      "execution_count": 33,
      "outputs": [
        {
          "output_type": "stream",
          "name": "stdout",
          "text": [
            "+-------+--------------------+-----+--------------------+\n",
            "| E     | E(16-25 AÑOS)      | ... | E(56 A MÁS)        |\n",
            "+-------+--------------------+-----+--------------------+\n",
            "| EC    | EC(C)              | ... | EC(S)              |\n",
            "+-------+--------------------+-----+--------------------+\n",
            "| G     | G(F)               | ... | G(M)               |\n",
            "+-------+--------------------+-----+--------------------+\n",
            "| TC(0) | 0.4791666666666667 | ... | 0.4444007858546169 |\n",
            "+-------+--------------------+-----+--------------------+\n",
            "| TC(1) | 0.5208333333333334 | ... | 0.5555992141453832 |\n",
            "+-------+--------------------+-----+--------------------+\n"
          ]
        }
      ]
    },
    {
      "cell_type": "code",
      "source": [
        "for i in range(0, len(cpd_tc.values)):\n",
        "  for j in range(0, len(cpd_tc.values[i])):\n",
        "    for k in range(0, len(cpd_tc.values[i][j])):\n",
        "      for l in range(0, len(cpd_tc.values[i][j][k])):\n",
        "        print('tc_',i,'e_',j,'ec_',k,'g_',l,': ',cpd_tc.values[i][j][k][l])"
      ],
      "metadata": {
        "colab": {
          "base_uri": "https://localhost:8080/"
        },
        "id": "Lu9QbJ4V6Qt5",
        "outputId": "5d144c61-5c4b-4c4f-c43c-3dffa75d6ccd"
      },
      "execution_count": 34,
      "outputs": [
        {
          "output_type": "stream",
          "name": "stdout",
          "text": [
            "tc_ 0 e_ 0 ec_ 0 g_ 0 :  0.4791666666666667\n",
            "tc_ 0 e_ 0 ec_ 0 g_ 1 :  0.3333333333333333\n",
            "tc_ 0 e_ 0 ec_ 1 g_ 0 :  0.6944561108777825\n",
            "tc_ 0 e_ 0 ec_ 1 g_ 1 :  0.5802866335185727\n",
            "tc_ 0 e_ 1 ec_ 0 g_ 0 :  0.6331961273117283\n",
            "tc_ 0 e_ 1 ec_ 0 g_ 1 :  0.5750831414684062\n",
            "tc_ 0 e_ 1 ec_ 1 g_ 0 :  0.7127188905825929\n",
            "tc_ 0 e_ 1 ec_ 1 g_ 1 :  0.6211798291066226\n",
            "tc_ 0 e_ 2 ec_ 0 g_ 0 :  0.6507979753079338\n",
            "tc_ 0 e_ 2 ec_ 0 g_ 1 :  0.576261075145275\n",
            "tc_ 0 e_ 2 ec_ 1 g_ 0 :  0.6762562836074475\n",
            "tc_ 0 e_ 2 ec_ 1 g_ 1 :  0.5960898456807073\n",
            "tc_ 0 e_ 3 ec_ 0 g_ 0 :  0.639676358916506\n",
            "tc_ 0 e_ 3 ec_ 0 g_ 1 :  0.5421325382458382\n",
            "tc_ 0 e_ 3 ec_ 1 g_ 0 :  0.6161309238232315\n",
            "tc_ 0 e_ 3 ec_ 1 g_ 1 :  0.5353359092608749\n",
            "tc_ 0 e_ 4 ec_ 0 g_ 0 :  0.5970660327392316\n",
            "tc_ 0 e_ 4 ec_ 0 g_ 1 :  0.4496926627049766\n",
            "tc_ 0 e_ 4 ec_ 1 g_ 0 :  0.5538508745013808\n",
            "tc_ 0 e_ 4 ec_ 1 g_ 1 :  0.4444007858546169\n",
            "tc_ 1 e_ 0 ec_ 0 g_ 0 :  0.5208333333333334\n",
            "tc_ 1 e_ 0 ec_ 0 g_ 1 :  0.6666666666666666\n",
            "tc_ 1 e_ 0 ec_ 1 g_ 0 :  0.3055438891222176\n",
            "tc_ 1 e_ 0 ec_ 1 g_ 1 :  0.4197133664814273\n",
            "tc_ 1 e_ 1 ec_ 0 g_ 0 :  0.3668038726882718\n",
            "tc_ 1 e_ 1 ec_ 0 g_ 1 :  0.4249168585315938\n",
            "tc_ 1 e_ 1 ec_ 1 g_ 0 :  0.28728110941740714\n",
            "tc_ 1 e_ 1 ec_ 1 g_ 1 :  0.3788201708933774\n",
            "tc_ 1 e_ 2 ec_ 0 g_ 0 :  0.3492020246920661\n",
            "tc_ 1 e_ 2 ec_ 0 g_ 1 :  0.42373892485472503\n",
            "tc_ 1 e_ 2 ec_ 1 g_ 0 :  0.3237437163925525\n",
            "tc_ 1 e_ 2 ec_ 1 g_ 1 :  0.40391015431929267\n",
            "tc_ 1 e_ 3 ec_ 0 g_ 0 :  0.3603236410834941\n",
            "tc_ 1 e_ 3 ec_ 0 g_ 1 :  0.45786746175416176\n",
            "tc_ 1 e_ 3 ec_ 1 g_ 0 :  0.38386907617676846\n",
            "tc_ 1 e_ 3 ec_ 1 g_ 1 :  0.464664090739125\n",
            "tc_ 1 e_ 4 ec_ 0 g_ 0 :  0.40293396726076836\n",
            "tc_ 1 e_ 4 ec_ 0 g_ 1 :  0.5503073372950233\n",
            "tc_ 1 e_ 4 ec_ 1 g_ 0 :  0.4461491254986192\n",
            "tc_ 1 e_ 4 ec_ 1 g_ 1 :  0.5555992141453832\n"
          ]
        }
      ]
    },
    {
      "cell_type": "code",
      "source": [
        "# 7. MP: Método de pago\n",
        "print(mle.estimate_cpd('MP'))"
      ],
      "metadata": {
        "colab": {
          "base_uri": "https://localhost:8080/"
        },
        "outputId": "e4348103-9b76-4096-f076-cf1d4cbc8a5c",
        "id": "8BFJRNaX0wO3"
      },
      "execution_count": 35,
      "outputs": [
        {
          "output_type": "stream",
          "name": "stdout",
          "text": [
            "+-------+---------------------+---------------------+\n",
            "| TR    | TR(0)               | TR(1)               |\n",
            "+-------+---------------------+---------------------+\n",
            "| MP(0) | 0.9349665549355607  | 0.49181851355453016 |\n",
            "+-------+---------------------+---------------------+\n",
            "| MP(1) | 0.06503344506443931 | 0.5081814864454698  |\n",
            "+-------+---------------------+---------------------+\n"
          ]
        }
      ]
    },
    {
      "cell_type": "code",
      "source": [
        "# 8. PP: Producto en promoción o no\n",
        "cpd_pp = mle.estimate_cpd('PP')\n",
        "print(cpd_pp)"
      ],
      "metadata": {
        "colab": {
          "base_uri": "https://localhost:8080/"
        },
        "outputId": "d0a29cf4-8bab-4087-fc21-3d4641ad2edc",
        "id": "1bEHMSaU0wO3"
      },
      "execution_count": 36,
      "outputs": [
        {
          "output_type": "stream",
          "name": "stdout",
          "text": [
            "+-------+----------------------+-----+---------------------+\n",
            "| CC    | CC(0)                | ... | CC(1)               |\n",
            "+-------+----------------------+-----+---------------------+\n",
            "| MP    | MP(0)                | ... | MP(1)               |\n",
            "+-------+----------------------+-----+---------------------+\n",
            "| PP(0) | 0.9851534404830226   | ... | 0.8161851998417096  |\n",
            "+-------+----------------------+-----+---------------------+\n",
            "| PP(1) | 0.014846559516977442 | ... | 0.18381480015829046 |\n",
            "+-------+----------------------+-----+---------------------+\n"
          ]
        }
      ]
    },
    {
      "cell_type": "code",
      "source": [
        "for i in range(0, len(cpd_pp.values)):\n",
        "  for j in range(0, len(cpd_pp.values[i])):\n",
        "    for k in range(0, len(cpd_pp.values[i][j])):\n",
        "        print('pp_',i,'cc_',j,'mp_',k,': ',cpd_pp.values[i][j][k])"
      ],
      "metadata": {
        "colab": {
          "base_uri": "https://localhost:8080/"
        },
        "id": "0WP2_0xh89f7",
        "outputId": "fb1b757e-8152-4645-ee3b-149a3db0af58"
      },
      "execution_count": 37,
      "outputs": [
        {
          "output_type": "stream",
          "name": "stdout",
          "text": [
            "pp_ 0 cc_ 0 mp_ 0 :  0.9851534404830226\n",
            "pp_ 0 cc_ 0 mp_ 1 :  0.8759511970735767\n",
            "pp_ 0 cc_ 1 mp_ 0 :  0.9515574971157461\n",
            "pp_ 0 cc_ 1 mp_ 1 :  0.8161851998417096\n",
            "pp_ 1 cc_ 0 mp_ 0 :  0.014846559516977442\n",
            "pp_ 1 cc_ 0 mp_ 1 :  0.12404880292642323\n",
            "pp_ 1 cc_ 1 mp_ 0 :  0.04844250288425392\n",
            "pp_ 1 cc_ 1 mp_ 1 :  0.18381480015829046\n"
          ]
        }
      ]
    },
    {
      "cell_type": "code",
      "source": [
        "# 9. CC: Canal de compra tienda / web\n",
        "print(mle.estimate_cpd('CC'))"
      ],
      "metadata": {
        "colab": {
          "base_uri": "https://localhost:8080/"
        },
        "outputId": "5ccada15-1a50-4f49-8c33-561c0f82d6d7",
        "id": "OR8gd8Io0wO4"
      },
      "execution_count": 38,
      "outputs": [
        {
          "output_type": "stream",
          "name": "stdout",
          "text": [
            "+-------+----------+\n",
            "| CC(0) | 0.825151 |\n",
            "+-------+----------+\n",
            "| CC(1) | 0.174849 |\n",
            "+-------+----------+\n"
          ]
        }
      ]
    },
    {
      "cell_type": "code",
      "source": [
        "# 10. C: Compra\n",
        "cpd_c = mle.estimate_cpd('C')\n",
        "print(cpd_c)"
      ],
      "metadata": {
        "colab": {
          "base_uri": "https://localhost:8080/"
        },
        "outputId": "79b2ef83-7ee3-46e9-aed5-ce738e7bc75a",
        "id": "iMO-oep_0wO4"
      },
      "execution_count": 39,
      "outputs": [
        {
          "output_type": "stream",
          "name": "stdout",
          "text": [
            "+----------------+-----+---------------------+\n",
            "| CC             | ... | CC(1)               |\n",
            "+----------------+-----+---------------------+\n",
            "| PP             | ... | PP(1)               |\n",
            "+----------------+-----+---------------------+\n",
            "| TC             | ... | TC(1)               |\n",
            "+----------------+-----+---------------------+\n",
            "| C(gasto alto)  | ... | 0.539272030651341   |\n",
            "+----------------+-----+---------------------+\n",
            "| C(gasto bajo)  | ... | 0.26436781609195403 |\n",
            "+----------------+-----+---------------------+\n",
            "| C(gasto medio) | ... | 0.19636015325670497 |\n",
            "+----------------+-----+---------------------+\n"
          ]
        }
      ]
    },
    {
      "cell_type": "code",
      "source": [
        "for i in range(0, len(cpd_c.values)):\n",
        "  for j in range(0, len(cpd_c.values[i])):\n",
        "    for k in range(0, len(cpd_c.values[i][j])):\n",
        "      for l in range(0, len(cpd_c.values[i][j][k])):\n",
        "        print('c_',i,'cc_',j,'pp_',k,'tc_',l,': ',cpd_c.values[i][j][k][l])"
      ],
      "metadata": {
        "colab": {
          "base_uri": "https://localhost:8080/"
        },
        "id": "bJ0zzNih9wnD",
        "outputId": "f57ebd9a-0374-4ead-eced-5f1c2fd1dc41"
      },
      "execution_count": 40,
      "outputs": [
        {
          "output_type": "stream",
          "name": "stdout",
          "text": [
            "c_ 0 cc_ 0 pp_ 0 tc_ 0 :  0.3001873935647295\n",
            "c_ 0 cc_ 0 pp_ 0 tc_ 1 :  0.1687204299793829\n",
            "c_ 0 cc_ 0 pp_ 1 tc_ 0 :  0.4838676636279832\n",
            "c_ 0 cc_ 0 pp_ 1 tc_ 1 :  0.2742246815081714\n",
            "c_ 0 cc_ 1 pp_ 0 tc_ 0 :  0.5774594256122121\n",
            "c_ 0 cc_ 1 pp_ 0 tc_ 1 :  0.4338303127696932\n",
            "c_ 0 cc_ 1 pp_ 1 tc_ 0 :  0.7544041450777202\n",
            "c_ 0 cc_ 1 pp_ 1 tc_ 1 :  0.539272030651341\n",
            "c_ 1 cc_ 0 pp_ 0 tc_ 0 :  0.4652916973177749\n",
            "c_ 1 cc_ 0 pp_ 0 tc_ 1 :  0.6273164424211367\n",
            "c_ 1 cc_ 0 pp_ 1 tc_ 0 :  0.2782273208371744\n",
            "c_ 1 cc_ 0 pp_ 1 tc_ 1 :  0.485523098700296\n",
            "c_ 1 cc_ 1 pp_ 0 tc_ 0 :  0.23431603174871804\n",
            "c_ 1 cc_ 1 pp_ 0 tc_ 1 :  0.37826979733952326\n",
            "c_ 1 cc_ 1 pp_ 1 tc_ 0 :  0.1066321243523316\n",
            "c_ 1 cc_ 1 pp_ 1 tc_ 1 :  0.26436781609195403\n",
            "c_ 2 cc_ 0 pp_ 0 tc_ 0 :  0.23452090911749554\n",
            "c_ 2 cc_ 0 pp_ 0 tc_ 1 :  0.2039631275994804\n",
            "c_ 2 cc_ 0 pp_ 1 tc_ 0 :  0.23790501553484245\n",
            "c_ 2 cc_ 0 pp_ 1 tc_ 1 :  0.24025221979153263\n",
            "c_ 2 cc_ 1 pp_ 0 tc_ 0 :  0.18822454263906988\n",
            "c_ 2 cc_ 1 pp_ 0 tc_ 1 :  0.18789988989078357\n",
            "c_ 2 cc_ 1 pp_ 1 tc_ 0 :  0.13896373056994818\n",
            "c_ 2 cc_ 1 pp_ 1 tc_ 1 :  0.19636015325670497\n"
          ]
        }
      ]
    }
  ]
}