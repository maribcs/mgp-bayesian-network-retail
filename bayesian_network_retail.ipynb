{
  "nbformat": 4,
  "nbformat_minor": 0,
  "metadata": {
    "colab": {
      "provenance": [],
      "toc_visible": true
    },
    "kernelspec": {
      "name": "python3",
      "display_name": "Python 3"
    },
    "language_info": {
      "name": "python"
    },
    "widgets": {
      "application/vnd.jupyter.widget-state+json": {
        "426f9532573e4c1b89cf9b47f6a1ecbd": {
          "model_module": "@jupyter-widgets/controls",
          "model_name": "HBoxModel",
          "model_module_version": "1.5.0",
          "state": {
            "_dom_classes": [],
            "_model_module": "@jupyter-widgets/controls",
            "_model_module_version": "1.5.0",
            "_model_name": "HBoxModel",
            "_view_count": null,
            "_view_module": "@jupyter-widgets/controls",
            "_view_module_version": "1.5.0",
            "_view_name": "HBoxView",
            "box_style": "",
            "children": [
              "IPY_MODEL_7b207ec5c0fc4f0187a07f0dcbfb4b53",
              "IPY_MODEL_ba20e9949aa64216bcf31c1c840b0e81",
              "IPY_MODEL_2c985768505b41b6b564edfa7bc7211b"
            ],
            "layout": "IPY_MODEL_14c312bcb1c74978ae095e916ef78cbb"
          }
        },
        "7b207ec5c0fc4f0187a07f0dcbfb4b53": {
          "model_module": "@jupyter-widgets/controls",
          "model_name": "HTMLModel",
          "model_module_version": "1.5.0",
          "state": {
            "_dom_classes": [],
            "_model_module": "@jupyter-widgets/controls",
            "_model_module_version": "1.5.0",
            "_model_name": "HTMLModel",
            "_view_count": null,
            "_view_module": "@jupyter-widgets/controls",
            "_view_module_version": "1.5.0",
            "_view_name": "HTMLView",
            "description": "",
            "description_tooltip": null,
            "layout": "IPY_MODEL_42043396ceca4c978e27db12b6b18b6d",
            "placeholder": "​",
            "style": "IPY_MODEL_cc2fb2f845c44a7bac630f3d6246ef13",
            "value": "Building tree: 100%"
          }
        },
        "ba20e9949aa64216bcf31c1c840b0e81": {
          "model_module": "@jupyter-widgets/controls",
          "model_name": "FloatProgressModel",
          "model_module_version": "1.5.0",
          "state": {
            "_dom_classes": [],
            "_model_module": "@jupyter-widgets/controls",
            "_model_module_version": "1.5.0",
            "_model_name": "FloatProgressModel",
            "_view_count": null,
            "_view_module": "@jupyter-widgets/controls",
            "_view_module_version": "1.5.0",
            "_view_name": "ProgressView",
            "bar_style": "success",
            "description": "",
            "description_tooltip": null,
            "layout": "IPY_MODEL_1599e2f6229d46b793ad1902bd52f745",
            "max": 45,
            "min": 0,
            "orientation": "horizontal",
            "style": "IPY_MODEL_44707d4cdc6042749fb12ec65f779809",
            "value": 45
          }
        },
        "2c985768505b41b6b564edfa7bc7211b": {
          "model_module": "@jupyter-widgets/controls",
          "model_name": "HTMLModel",
          "model_module_version": "1.5.0",
          "state": {
            "_dom_classes": [],
            "_model_module": "@jupyter-widgets/controls",
            "_model_module_version": "1.5.0",
            "_model_name": "HTMLModel",
            "_view_count": null,
            "_view_module": "@jupyter-widgets/controls",
            "_view_module_version": "1.5.0",
            "_view_name": "HTMLView",
            "description": "",
            "description_tooltip": null,
            "layout": "IPY_MODEL_3cb60a4ae7464b488bc63f7a6dd800f6",
            "placeholder": "​",
            "style": "IPY_MODEL_37eb37f9e1dc494794b2b067a24122db",
            "value": " 45/45.0 [00:09&lt;00:00,  5.23it/s]"
          }
        },
        "14c312bcb1c74978ae095e916ef78cbb": {
          "model_module": "@jupyter-widgets/base",
          "model_name": "LayoutModel",
          "model_module_version": "1.2.0",
          "state": {
            "_model_module": "@jupyter-widgets/base",
            "_model_module_version": "1.2.0",
            "_model_name": "LayoutModel",
            "_view_count": null,
            "_view_module": "@jupyter-widgets/base",
            "_view_module_version": "1.2.0",
            "_view_name": "LayoutView",
            "align_content": null,
            "align_items": null,
            "align_self": null,
            "border": null,
            "bottom": null,
            "display": null,
            "flex": null,
            "flex_flow": null,
            "grid_area": null,
            "grid_auto_columns": null,
            "grid_auto_flow": null,
            "grid_auto_rows": null,
            "grid_column": null,
            "grid_gap": null,
            "grid_row": null,
            "grid_template_areas": null,
            "grid_template_columns": null,
            "grid_template_rows": null,
            "height": null,
            "justify_content": null,
            "justify_items": null,
            "left": null,
            "margin": null,
            "max_height": null,
            "max_width": null,
            "min_height": null,
            "min_width": null,
            "object_fit": null,
            "object_position": null,
            "order": null,
            "overflow": null,
            "overflow_x": null,
            "overflow_y": null,
            "padding": null,
            "right": null,
            "top": null,
            "visibility": null,
            "width": null
          }
        },
        "42043396ceca4c978e27db12b6b18b6d": {
          "model_module": "@jupyter-widgets/base",
          "model_name": "LayoutModel",
          "model_module_version": "1.2.0",
          "state": {
            "_model_module": "@jupyter-widgets/base",
            "_model_module_version": "1.2.0",
            "_model_name": "LayoutModel",
            "_view_count": null,
            "_view_module": "@jupyter-widgets/base",
            "_view_module_version": "1.2.0",
            "_view_name": "LayoutView",
            "align_content": null,
            "align_items": null,
            "align_self": null,
            "border": null,
            "bottom": null,
            "display": null,
            "flex": null,
            "flex_flow": null,
            "grid_area": null,
            "grid_auto_columns": null,
            "grid_auto_flow": null,
            "grid_auto_rows": null,
            "grid_column": null,
            "grid_gap": null,
            "grid_row": null,
            "grid_template_areas": null,
            "grid_template_columns": null,
            "grid_template_rows": null,
            "height": null,
            "justify_content": null,
            "justify_items": null,
            "left": null,
            "margin": null,
            "max_height": null,
            "max_width": null,
            "min_height": null,
            "min_width": null,
            "object_fit": null,
            "object_position": null,
            "order": null,
            "overflow": null,
            "overflow_x": null,
            "overflow_y": null,
            "padding": null,
            "right": null,
            "top": null,
            "visibility": null,
            "width": null
          }
        },
        "cc2fb2f845c44a7bac630f3d6246ef13": {
          "model_module": "@jupyter-widgets/controls",
          "model_name": "DescriptionStyleModel",
          "model_module_version": "1.5.0",
          "state": {
            "_model_module": "@jupyter-widgets/controls",
            "_model_module_version": "1.5.0",
            "_model_name": "DescriptionStyleModel",
            "_view_count": null,
            "_view_module": "@jupyter-widgets/base",
            "_view_module_version": "1.2.0",
            "_view_name": "StyleView",
            "description_width": ""
          }
        },
        "1599e2f6229d46b793ad1902bd52f745": {
          "model_module": "@jupyter-widgets/base",
          "model_name": "LayoutModel",
          "model_module_version": "1.2.0",
          "state": {
            "_model_module": "@jupyter-widgets/base",
            "_model_module_version": "1.2.0",
            "_model_name": "LayoutModel",
            "_view_count": null,
            "_view_module": "@jupyter-widgets/base",
            "_view_module_version": "1.2.0",
            "_view_name": "LayoutView",
            "align_content": null,
            "align_items": null,
            "align_self": null,
            "border": null,
            "bottom": null,
            "display": null,
            "flex": null,
            "flex_flow": null,
            "grid_area": null,
            "grid_auto_columns": null,
            "grid_auto_flow": null,
            "grid_auto_rows": null,
            "grid_column": null,
            "grid_gap": null,
            "grid_row": null,
            "grid_template_areas": null,
            "grid_template_columns": null,
            "grid_template_rows": null,
            "height": null,
            "justify_content": null,
            "justify_items": null,
            "left": null,
            "margin": null,
            "max_height": null,
            "max_width": null,
            "min_height": null,
            "min_width": null,
            "object_fit": null,
            "object_position": null,
            "order": null,
            "overflow": null,
            "overflow_x": null,
            "overflow_y": null,
            "padding": null,
            "right": null,
            "top": null,
            "visibility": null,
            "width": null
          }
        },
        "44707d4cdc6042749fb12ec65f779809": {
          "model_module": "@jupyter-widgets/controls",
          "model_name": "ProgressStyleModel",
          "model_module_version": "1.5.0",
          "state": {
            "_model_module": "@jupyter-widgets/controls",
            "_model_module_version": "1.5.0",
            "_model_name": "ProgressStyleModel",
            "_view_count": null,
            "_view_module": "@jupyter-widgets/base",
            "_view_module_version": "1.2.0",
            "_view_name": "StyleView",
            "bar_color": null,
            "description_width": ""
          }
        },
        "3cb60a4ae7464b488bc63f7a6dd800f6": {
          "model_module": "@jupyter-widgets/base",
          "model_name": "LayoutModel",
          "model_module_version": "1.2.0",
          "state": {
            "_model_module": "@jupyter-widgets/base",
            "_model_module_version": "1.2.0",
            "_model_name": "LayoutModel",
            "_view_count": null,
            "_view_module": "@jupyter-widgets/base",
            "_view_module_version": "1.2.0",
            "_view_name": "LayoutView",
            "align_content": null,
            "align_items": null,
            "align_self": null,
            "border": null,
            "bottom": null,
            "display": null,
            "flex": null,
            "flex_flow": null,
            "grid_area": null,
            "grid_auto_columns": null,
            "grid_auto_flow": null,
            "grid_auto_rows": null,
            "grid_column": null,
            "grid_gap": null,
            "grid_row": null,
            "grid_template_areas": null,
            "grid_template_columns": null,
            "grid_template_rows": null,
            "height": null,
            "justify_content": null,
            "justify_items": null,
            "left": null,
            "margin": null,
            "max_height": null,
            "max_width": null,
            "min_height": null,
            "min_width": null,
            "object_fit": null,
            "object_position": null,
            "order": null,
            "overflow": null,
            "overflow_x": null,
            "overflow_y": null,
            "padding": null,
            "right": null,
            "top": null,
            "visibility": null,
            "width": null
          }
        },
        "37eb37f9e1dc494794b2b067a24122db": {
          "model_module": "@jupyter-widgets/controls",
          "model_name": "DescriptionStyleModel",
          "model_module_version": "1.5.0",
          "state": {
            "_model_module": "@jupyter-widgets/controls",
            "_model_module_version": "1.5.0",
            "_model_name": "DescriptionStyleModel",
            "_view_count": null,
            "_view_module": "@jupyter-widgets/base",
            "_view_module_version": "1.2.0",
            "_view_name": "StyleView",
            "description_width": ""
          }
        },
        "17ca67fef5f54614b2f78e3460e873fe": {
          "model_module": "@jupyter-widgets/controls",
          "model_name": "HBoxModel",
          "model_module_version": "1.5.0",
          "state": {
            "_dom_classes": [],
            "_model_module": "@jupyter-widgets/controls",
            "_model_module_version": "1.5.0",
            "_model_name": "HBoxModel",
            "_view_count": null,
            "_view_module": "@jupyter-widgets/controls",
            "_view_module_version": "1.5.0",
            "_view_name": "HBoxView",
            "box_style": "",
            "children": [
              "IPY_MODEL_bbb661ee560b4427acb6fcc087905d9e",
              "IPY_MODEL_824e287c414c46089c58ee446821d18d",
              "IPY_MODEL_71c339367c8a49fd8a7b09df47d6940d"
            ],
            "layout": "IPY_MODEL_e311936291024773a924a9011e77c208"
          }
        },
        "bbb661ee560b4427acb6fcc087905d9e": {
          "model_module": "@jupyter-widgets/controls",
          "model_name": "HTMLModel",
          "model_module_version": "1.5.0",
          "state": {
            "_dom_classes": [],
            "_model_module": "@jupyter-widgets/controls",
            "_model_module_version": "1.5.0",
            "_model_name": "HTMLModel",
            "_view_count": null,
            "_view_module": "@jupyter-widgets/controls",
            "_view_module_version": "1.5.0",
            "_view_name": "HTMLView",
            "description": "",
            "description_tooltip": null,
            "layout": "IPY_MODEL_3b0b757ba9844ff1aec1baa5c93757a5",
            "placeholder": "​",
            "style": "IPY_MODEL_2626d170857a455a81786048f7ef8594",
            "value": "Building tree: 100%"
          }
        },
        "824e287c414c46089c58ee446821d18d": {
          "model_module": "@jupyter-widgets/controls",
          "model_name": "FloatProgressModel",
          "model_module_version": "1.5.0",
          "state": {
            "_dom_classes": [],
            "_model_module": "@jupyter-widgets/controls",
            "_model_module_version": "1.5.0",
            "_model_name": "FloatProgressModel",
            "_view_count": null,
            "_view_module": "@jupyter-widgets/controls",
            "_view_module_version": "1.5.0",
            "_view_name": "ProgressView",
            "bar_style": "success",
            "description": "",
            "description_tooltip": null,
            "layout": "IPY_MODEL_df02fd4ee63c42e9a5fc8d5c56e64294",
            "max": 45,
            "min": 0,
            "orientation": "horizontal",
            "style": "IPY_MODEL_8a228824d1bf49189eca519be33d6a56",
            "value": 45
          }
        },
        "71c339367c8a49fd8a7b09df47d6940d": {
          "model_module": "@jupyter-widgets/controls",
          "model_name": "HTMLModel",
          "model_module_version": "1.5.0",
          "state": {
            "_dom_classes": [],
            "_model_module": "@jupyter-widgets/controls",
            "_model_module_version": "1.5.0",
            "_model_name": "HTMLModel",
            "_view_count": null,
            "_view_module": "@jupyter-widgets/controls",
            "_view_module_version": "1.5.0",
            "_view_name": "HTMLView",
            "description": "",
            "description_tooltip": null,
            "layout": "IPY_MODEL_37fc916b38514723b891ab548218ad2f",
            "placeholder": "​",
            "style": "IPY_MODEL_25cf3c91e0af4abb8887eecc684cef4a",
            "value": " 45/45.0 [00:10&lt;00:00,  3.63it/s]"
          }
        },
        "e311936291024773a924a9011e77c208": {
          "model_module": "@jupyter-widgets/base",
          "model_name": "LayoutModel",
          "model_module_version": "1.2.0",
          "state": {
            "_model_module": "@jupyter-widgets/base",
            "_model_module_version": "1.2.0",
            "_model_name": "LayoutModel",
            "_view_count": null,
            "_view_module": "@jupyter-widgets/base",
            "_view_module_version": "1.2.0",
            "_view_name": "LayoutView",
            "align_content": null,
            "align_items": null,
            "align_self": null,
            "border": null,
            "bottom": null,
            "display": null,
            "flex": null,
            "flex_flow": null,
            "grid_area": null,
            "grid_auto_columns": null,
            "grid_auto_flow": null,
            "grid_auto_rows": null,
            "grid_column": null,
            "grid_gap": null,
            "grid_row": null,
            "grid_template_areas": null,
            "grid_template_columns": null,
            "grid_template_rows": null,
            "height": null,
            "justify_content": null,
            "justify_items": null,
            "left": null,
            "margin": null,
            "max_height": null,
            "max_width": null,
            "min_height": null,
            "min_width": null,
            "object_fit": null,
            "object_position": null,
            "order": null,
            "overflow": null,
            "overflow_x": null,
            "overflow_y": null,
            "padding": null,
            "right": null,
            "top": null,
            "visibility": null,
            "width": null
          }
        },
        "3b0b757ba9844ff1aec1baa5c93757a5": {
          "model_module": "@jupyter-widgets/base",
          "model_name": "LayoutModel",
          "model_module_version": "1.2.0",
          "state": {
            "_model_module": "@jupyter-widgets/base",
            "_model_module_version": "1.2.0",
            "_model_name": "LayoutModel",
            "_view_count": null,
            "_view_module": "@jupyter-widgets/base",
            "_view_module_version": "1.2.0",
            "_view_name": "LayoutView",
            "align_content": null,
            "align_items": null,
            "align_self": null,
            "border": null,
            "bottom": null,
            "display": null,
            "flex": null,
            "flex_flow": null,
            "grid_area": null,
            "grid_auto_columns": null,
            "grid_auto_flow": null,
            "grid_auto_rows": null,
            "grid_column": null,
            "grid_gap": null,
            "grid_row": null,
            "grid_template_areas": null,
            "grid_template_columns": null,
            "grid_template_rows": null,
            "height": null,
            "justify_content": null,
            "justify_items": null,
            "left": null,
            "margin": null,
            "max_height": null,
            "max_width": null,
            "min_height": null,
            "min_width": null,
            "object_fit": null,
            "object_position": null,
            "order": null,
            "overflow": null,
            "overflow_x": null,
            "overflow_y": null,
            "padding": null,
            "right": null,
            "top": null,
            "visibility": null,
            "width": null
          }
        },
        "2626d170857a455a81786048f7ef8594": {
          "model_module": "@jupyter-widgets/controls",
          "model_name": "DescriptionStyleModel",
          "model_module_version": "1.5.0",
          "state": {
            "_model_module": "@jupyter-widgets/controls",
            "_model_module_version": "1.5.0",
            "_model_name": "DescriptionStyleModel",
            "_view_count": null,
            "_view_module": "@jupyter-widgets/base",
            "_view_module_version": "1.2.0",
            "_view_name": "StyleView",
            "description_width": ""
          }
        },
        "df02fd4ee63c42e9a5fc8d5c56e64294": {
          "model_module": "@jupyter-widgets/base",
          "model_name": "LayoutModel",
          "model_module_version": "1.2.0",
          "state": {
            "_model_module": "@jupyter-widgets/base",
            "_model_module_version": "1.2.0",
            "_model_name": "LayoutModel",
            "_view_count": null,
            "_view_module": "@jupyter-widgets/base",
            "_view_module_version": "1.2.0",
            "_view_name": "LayoutView",
            "align_content": null,
            "align_items": null,
            "align_self": null,
            "border": null,
            "bottom": null,
            "display": null,
            "flex": null,
            "flex_flow": null,
            "grid_area": null,
            "grid_auto_columns": null,
            "grid_auto_flow": null,
            "grid_auto_rows": null,
            "grid_column": null,
            "grid_gap": null,
            "grid_row": null,
            "grid_template_areas": null,
            "grid_template_columns": null,
            "grid_template_rows": null,
            "height": null,
            "justify_content": null,
            "justify_items": null,
            "left": null,
            "margin": null,
            "max_height": null,
            "max_width": null,
            "min_height": null,
            "min_width": null,
            "object_fit": null,
            "object_position": null,
            "order": null,
            "overflow": null,
            "overflow_x": null,
            "overflow_y": null,
            "padding": null,
            "right": null,
            "top": null,
            "visibility": null,
            "width": null
          }
        },
        "8a228824d1bf49189eca519be33d6a56": {
          "model_module": "@jupyter-widgets/controls",
          "model_name": "ProgressStyleModel",
          "model_module_version": "1.5.0",
          "state": {
            "_model_module": "@jupyter-widgets/controls",
            "_model_module_version": "1.5.0",
            "_model_name": "ProgressStyleModel",
            "_view_count": null,
            "_view_module": "@jupyter-widgets/base",
            "_view_module_version": "1.2.0",
            "_view_name": "StyleView",
            "bar_color": null,
            "description_width": ""
          }
        },
        "37fc916b38514723b891ab548218ad2f": {
          "model_module": "@jupyter-widgets/base",
          "model_name": "LayoutModel",
          "model_module_version": "1.2.0",
          "state": {
            "_model_module": "@jupyter-widgets/base",
            "_model_module_version": "1.2.0",
            "_model_name": "LayoutModel",
            "_view_count": null,
            "_view_module": "@jupyter-widgets/base",
            "_view_module_version": "1.2.0",
            "_view_name": "LayoutView",
            "align_content": null,
            "align_items": null,
            "align_self": null,
            "border": null,
            "bottom": null,
            "display": null,
            "flex": null,
            "flex_flow": null,
            "grid_area": null,
            "grid_auto_columns": null,
            "grid_auto_flow": null,
            "grid_auto_rows": null,
            "grid_column": null,
            "grid_gap": null,
            "grid_row": null,
            "grid_template_areas": null,
            "grid_template_columns": null,
            "grid_template_rows": null,
            "height": null,
            "justify_content": null,
            "justify_items": null,
            "left": null,
            "margin": null,
            "max_height": null,
            "max_width": null,
            "min_height": null,
            "min_width": null,
            "object_fit": null,
            "object_position": null,
            "order": null,
            "overflow": null,
            "overflow_x": null,
            "overflow_y": null,
            "padding": null,
            "right": null,
            "top": null,
            "visibility": null,
            "width": null
          }
        },
        "25cf3c91e0af4abb8887eecc684cef4a": {
          "model_module": "@jupyter-widgets/controls",
          "model_name": "DescriptionStyleModel",
          "model_module_version": "1.5.0",
          "state": {
            "_model_module": "@jupyter-widgets/controls",
            "_model_module_version": "1.5.0",
            "_model_name": "DescriptionStyleModel",
            "_view_count": null,
            "_view_module": "@jupyter-widgets/base",
            "_view_module_version": "1.2.0",
            "_view_name": "StyleView",
            "description_width": ""
          }
        },
        "28ca44d6fa774ec78bd1c2d071f7a6b0": {
          "model_module": "@jupyter-widgets/controls",
          "model_name": "HBoxModel",
          "model_module_version": "1.5.0",
          "state": {
            "_dom_classes": [],
            "_model_module": "@jupyter-widgets/controls",
            "_model_module_version": "1.5.0",
            "_model_name": "HBoxModel",
            "_view_count": null,
            "_view_module": "@jupyter-widgets/controls",
            "_view_module_version": "1.5.0",
            "_view_name": "HBoxView",
            "box_style": "",
            "children": [
              "IPY_MODEL_90f18eb1cd974ef785f04a5edb9a23a3",
              "IPY_MODEL_ba26a6e9114a4cc8a806cafef4ce4d85",
              "IPY_MODEL_58cf6f3efd5a40838666cfd9506b5e8c"
            ],
            "layout": "IPY_MODEL_6fac2b033ae841238c0a9f3269879855"
          }
        },
        "90f18eb1cd974ef785f04a5edb9a23a3": {
          "model_module": "@jupyter-widgets/controls",
          "model_name": "HTMLModel",
          "model_module_version": "1.5.0",
          "state": {
            "_dom_classes": [],
            "_model_module": "@jupyter-widgets/controls",
            "_model_module_version": "1.5.0",
            "_model_name": "HTMLModel",
            "_view_count": null,
            "_view_module": "@jupyter-widgets/controls",
            "_view_module_version": "1.5.0",
            "_view_name": "HTMLView",
            "description": "",
            "description_tooltip": null,
            "layout": "IPY_MODEL_571f2a037c1b426a8cfe269e7ec32110",
            "placeholder": "​",
            "style": "IPY_MODEL_44784a52a47042efb57369c4a1533d17",
            "value": "Building tree: 100%"
          }
        },
        "ba26a6e9114a4cc8a806cafef4ce4d85": {
          "model_module": "@jupyter-widgets/controls",
          "model_name": "FloatProgressModel",
          "model_module_version": "1.5.0",
          "state": {
            "_dom_classes": [],
            "_model_module": "@jupyter-widgets/controls",
            "_model_module_version": "1.5.0",
            "_model_name": "FloatProgressModel",
            "_view_count": null,
            "_view_module": "@jupyter-widgets/controls",
            "_view_module_version": "1.5.0",
            "_view_name": "ProgressView",
            "bar_style": "success",
            "description": "",
            "description_tooltip": null,
            "layout": "IPY_MODEL_86d3fcb6f59c487683d7449668d5db6c",
            "max": 45,
            "min": 0,
            "orientation": "horizontal",
            "style": "IPY_MODEL_b03f1b8c407f4953b7ac61032df36007",
            "value": 45
          }
        },
        "58cf6f3efd5a40838666cfd9506b5e8c": {
          "model_module": "@jupyter-widgets/controls",
          "model_name": "HTMLModel",
          "model_module_version": "1.5.0",
          "state": {
            "_dom_classes": [],
            "_model_module": "@jupyter-widgets/controls",
            "_model_module_version": "1.5.0",
            "_model_name": "HTMLModel",
            "_view_count": null,
            "_view_module": "@jupyter-widgets/controls",
            "_view_module_version": "1.5.0",
            "_view_name": "HTMLView",
            "description": "",
            "description_tooltip": null,
            "layout": "IPY_MODEL_dad0fe12da534962a40fb92ccb88beaf",
            "placeholder": "​",
            "style": "IPY_MODEL_90d03f5efea34545958cea3c35b78080",
            "value": " 45/45.0 [00:14&lt;00:00,  3.23it/s]"
          }
        },
        "6fac2b033ae841238c0a9f3269879855": {
          "model_module": "@jupyter-widgets/base",
          "model_name": "LayoutModel",
          "model_module_version": "1.2.0",
          "state": {
            "_model_module": "@jupyter-widgets/base",
            "_model_module_version": "1.2.0",
            "_model_name": "LayoutModel",
            "_view_count": null,
            "_view_module": "@jupyter-widgets/base",
            "_view_module_version": "1.2.0",
            "_view_name": "LayoutView",
            "align_content": null,
            "align_items": null,
            "align_self": null,
            "border": null,
            "bottom": null,
            "display": null,
            "flex": null,
            "flex_flow": null,
            "grid_area": null,
            "grid_auto_columns": null,
            "grid_auto_flow": null,
            "grid_auto_rows": null,
            "grid_column": null,
            "grid_gap": null,
            "grid_row": null,
            "grid_template_areas": null,
            "grid_template_columns": null,
            "grid_template_rows": null,
            "height": null,
            "justify_content": null,
            "justify_items": null,
            "left": null,
            "margin": null,
            "max_height": null,
            "max_width": null,
            "min_height": null,
            "min_width": null,
            "object_fit": null,
            "object_position": null,
            "order": null,
            "overflow": null,
            "overflow_x": null,
            "overflow_y": null,
            "padding": null,
            "right": null,
            "top": null,
            "visibility": null,
            "width": null
          }
        },
        "571f2a037c1b426a8cfe269e7ec32110": {
          "model_module": "@jupyter-widgets/base",
          "model_name": "LayoutModel",
          "model_module_version": "1.2.0",
          "state": {
            "_model_module": "@jupyter-widgets/base",
            "_model_module_version": "1.2.0",
            "_model_name": "LayoutModel",
            "_view_count": null,
            "_view_module": "@jupyter-widgets/base",
            "_view_module_version": "1.2.0",
            "_view_name": "LayoutView",
            "align_content": null,
            "align_items": null,
            "align_self": null,
            "border": null,
            "bottom": null,
            "display": null,
            "flex": null,
            "flex_flow": null,
            "grid_area": null,
            "grid_auto_columns": null,
            "grid_auto_flow": null,
            "grid_auto_rows": null,
            "grid_column": null,
            "grid_gap": null,
            "grid_row": null,
            "grid_template_areas": null,
            "grid_template_columns": null,
            "grid_template_rows": null,
            "height": null,
            "justify_content": null,
            "justify_items": null,
            "left": null,
            "margin": null,
            "max_height": null,
            "max_width": null,
            "min_height": null,
            "min_width": null,
            "object_fit": null,
            "object_position": null,
            "order": null,
            "overflow": null,
            "overflow_x": null,
            "overflow_y": null,
            "padding": null,
            "right": null,
            "top": null,
            "visibility": null,
            "width": null
          }
        },
        "44784a52a47042efb57369c4a1533d17": {
          "model_module": "@jupyter-widgets/controls",
          "model_name": "DescriptionStyleModel",
          "model_module_version": "1.5.0",
          "state": {
            "_model_module": "@jupyter-widgets/controls",
            "_model_module_version": "1.5.0",
            "_model_name": "DescriptionStyleModel",
            "_view_count": null,
            "_view_module": "@jupyter-widgets/base",
            "_view_module_version": "1.2.0",
            "_view_name": "StyleView",
            "description_width": ""
          }
        },
        "86d3fcb6f59c487683d7449668d5db6c": {
          "model_module": "@jupyter-widgets/base",
          "model_name": "LayoutModel",
          "model_module_version": "1.2.0",
          "state": {
            "_model_module": "@jupyter-widgets/base",
            "_model_module_version": "1.2.0",
            "_model_name": "LayoutModel",
            "_view_count": null,
            "_view_module": "@jupyter-widgets/base",
            "_view_module_version": "1.2.0",
            "_view_name": "LayoutView",
            "align_content": null,
            "align_items": null,
            "align_self": null,
            "border": null,
            "bottom": null,
            "display": null,
            "flex": null,
            "flex_flow": null,
            "grid_area": null,
            "grid_auto_columns": null,
            "grid_auto_flow": null,
            "grid_auto_rows": null,
            "grid_column": null,
            "grid_gap": null,
            "grid_row": null,
            "grid_template_areas": null,
            "grid_template_columns": null,
            "grid_template_rows": null,
            "height": null,
            "justify_content": null,
            "justify_items": null,
            "left": null,
            "margin": null,
            "max_height": null,
            "max_width": null,
            "min_height": null,
            "min_width": null,
            "object_fit": null,
            "object_position": null,
            "order": null,
            "overflow": null,
            "overflow_x": null,
            "overflow_y": null,
            "padding": null,
            "right": null,
            "top": null,
            "visibility": null,
            "width": null
          }
        },
        "b03f1b8c407f4953b7ac61032df36007": {
          "model_module": "@jupyter-widgets/controls",
          "model_name": "ProgressStyleModel",
          "model_module_version": "1.5.0",
          "state": {
            "_model_module": "@jupyter-widgets/controls",
            "_model_module_version": "1.5.0",
            "_model_name": "ProgressStyleModel",
            "_view_count": null,
            "_view_module": "@jupyter-widgets/base",
            "_view_module_version": "1.2.0",
            "_view_name": "StyleView",
            "bar_color": null,
            "description_width": ""
          }
        },
        "dad0fe12da534962a40fb92ccb88beaf": {
          "model_module": "@jupyter-widgets/base",
          "model_name": "LayoutModel",
          "model_module_version": "1.2.0",
          "state": {
            "_model_module": "@jupyter-widgets/base",
            "_model_module_version": "1.2.0",
            "_model_name": "LayoutModel",
            "_view_count": null,
            "_view_module": "@jupyter-widgets/base",
            "_view_module_version": "1.2.0",
            "_view_name": "LayoutView",
            "align_content": null,
            "align_items": null,
            "align_self": null,
            "border": null,
            "bottom": null,
            "display": null,
            "flex": null,
            "flex_flow": null,
            "grid_area": null,
            "grid_auto_columns": null,
            "grid_auto_flow": null,
            "grid_auto_rows": null,
            "grid_column": null,
            "grid_gap": null,
            "grid_row": null,
            "grid_template_areas": null,
            "grid_template_columns": null,
            "grid_template_rows": null,
            "height": null,
            "justify_content": null,
            "justify_items": null,
            "left": null,
            "margin": null,
            "max_height": null,
            "max_width": null,
            "min_height": null,
            "min_width": null,
            "object_fit": null,
            "object_position": null,
            "order": null,
            "overflow": null,
            "overflow_x": null,
            "overflow_y": null,
            "padding": null,
            "right": null,
            "top": null,
            "visibility": null,
            "width": null
          }
        },
        "90d03f5efea34545958cea3c35b78080": {
          "model_module": "@jupyter-widgets/controls",
          "model_name": "DescriptionStyleModel",
          "model_module_version": "1.5.0",
          "state": {
            "_model_module": "@jupyter-widgets/controls",
            "_model_module_version": "1.5.0",
            "_model_name": "DescriptionStyleModel",
            "_view_count": null,
            "_view_module": "@jupyter-widgets/base",
            "_view_module_version": "1.2.0",
            "_view_name": "StyleView",
            "description_width": ""
          }
        },
        "999531f6e6ed4d5790cb40074c8a8193": {
          "model_module": "@jupyter-widgets/controls",
          "model_name": "HBoxModel",
          "model_module_version": "1.5.0",
          "state": {
            "_dom_classes": [],
            "_model_module": "@jupyter-widgets/controls",
            "_model_module_version": "1.5.0",
            "_model_name": "HBoxModel",
            "_view_count": null,
            "_view_module": "@jupyter-widgets/controls",
            "_view_module_version": "1.5.0",
            "_view_name": "HBoxView",
            "box_style": "",
            "children": [
              "IPY_MODEL_af90c2c5f33a4393abe68423a54e740b",
              "IPY_MODEL_2d1d9ef6cadb4d138e40eaf97b15f15e",
              "IPY_MODEL_c30f5c2c1f3146288909a344173c0369"
            ],
            "layout": "IPY_MODEL_416f1e8c8f04468485b9468e33c6ce4d"
          }
        },
        "af90c2c5f33a4393abe68423a54e740b": {
          "model_module": "@jupyter-widgets/controls",
          "model_name": "HTMLModel",
          "model_module_version": "1.5.0",
          "state": {
            "_dom_classes": [],
            "_model_module": "@jupyter-widgets/controls",
            "_model_module_version": "1.5.0",
            "_model_name": "HTMLModel",
            "_view_count": null,
            "_view_module": "@jupyter-widgets/controls",
            "_view_module_version": "1.5.0",
            "_view_name": "HTMLView",
            "description": "",
            "description_tooltip": null,
            "layout": "IPY_MODEL_d1268ba41aa74f5980264a86fb0b0301",
            "placeholder": "​",
            "style": "IPY_MODEL_6e871b64a3994b2db9a2a3dedeaf349e",
            "value": "100%"
          }
        },
        "2d1d9ef6cadb4d138e40eaf97b15f15e": {
          "model_module": "@jupyter-widgets/controls",
          "model_name": "FloatProgressModel",
          "model_module_version": "1.5.0",
          "state": {
            "_dom_classes": [],
            "_model_module": "@jupyter-widgets/controls",
            "_model_module_version": "1.5.0",
            "_model_name": "FloatProgressModel",
            "_view_count": null,
            "_view_module": "@jupyter-widgets/controls",
            "_view_module_version": "1.5.0",
            "_view_name": "ProgressView",
            "bar_style": "success",
            "description": "",
            "description_tooltip": null,
            "layout": "IPY_MODEL_f511008ff3ce4b59a90b8586881e5533",
            "max": 2559,
            "min": 0,
            "orientation": "horizontal",
            "style": "IPY_MODEL_50c8f5019f7746dd8541d9a7ecc61524",
            "value": 2559
          }
        },
        "c30f5c2c1f3146288909a344173c0369": {
          "model_module": "@jupyter-widgets/controls",
          "model_name": "HTMLModel",
          "model_module_version": "1.5.0",
          "state": {
            "_dom_classes": [],
            "_model_module": "@jupyter-widgets/controls",
            "_model_module_version": "1.5.0",
            "_model_name": "HTMLModel",
            "_view_count": null,
            "_view_module": "@jupyter-widgets/controls",
            "_view_module_version": "1.5.0",
            "_view_name": "HTMLView",
            "description": "",
            "description_tooltip": null,
            "layout": "IPY_MODEL_6f06ed94ed904c40bdf62ff31ec0ecef",
            "placeholder": "​",
            "style": "IPY_MODEL_90c071885cbf48a69d00c8cedb4d3bc7",
            "value": " 2559/2559 [00:19&lt;00:00, 237.21it/s]"
          }
        },
        "416f1e8c8f04468485b9468e33c6ce4d": {
          "model_module": "@jupyter-widgets/base",
          "model_name": "LayoutModel",
          "model_module_version": "1.2.0",
          "state": {
            "_model_module": "@jupyter-widgets/base",
            "_model_module_version": "1.2.0",
            "_model_name": "LayoutModel",
            "_view_count": null,
            "_view_module": "@jupyter-widgets/base",
            "_view_module_version": "1.2.0",
            "_view_name": "LayoutView",
            "align_content": null,
            "align_items": null,
            "align_self": null,
            "border": null,
            "bottom": null,
            "display": null,
            "flex": null,
            "flex_flow": null,
            "grid_area": null,
            "grid_auto_columns": null,
            "grid_auto_flow": null,
            "grid_auto_rows": null,
            "grid_column": null,
            "grid_gap": null,
            "grid_row": null,
            "grid_template_areas": null,
            "grid_template_columns": null,
            "grid_template_rows": null,
            "height": null,
            "justify_content": null,
            "justify_items": null,
            "left": null,
            "margin": null,
            "max_height": null,
            "max_width": null,
            "min_height": null,
            "min_width": null,
            "object_fit": null,
            "object_position": null,
            "order": null,
            "overflow": null,
            "overflow_x": null,
            "overflow_y": null,
            "padding": null,
            "right": null,
            "top": null,
            "visibility": null,
            "width": null
          }
        },
        "d1268ba41aa74f5980264a86fb0b0301": {
          "model_module": "@jupyter-widgets/base",
          "model_name": "LayoutModel",
          "model_module_version": "1.2.0",
          "state": {
            "_model_module": "@jupyter-widgets/base",
            "_model_module_version": "1.2.0",
            "_model_name": "LayoutModel",
            "_view_count": null,
            "_view_module": "@jupyter-widgets/base",
            "_view_module_version": "1.2.0",
            "_view_name": "LayoutView",
            "align_content": null,
            "align_items": null,
            "align_self": null,
            "border": null,
            "bottom": null,
            "display": null,
            "flex": null,
            "flex_flow": null,
            "grid_area": null,
            "grid_auto_columns": null,
            "grid_auto_flow": null,
            "grid_auto_rows": null,
            "grid_column": null,
            "grid_gap": null,
            "grid_row": null,
            "grid_template_areas": null,
            "grid_template_columns": null,
            "grid_template_rows": null,
            "height": null,
            "justify_content": null,
            "justify_items": null,
            "left": null,
            "margin": null,
            "max_height": null,
            "max_width": null,
            "min_height": null,
            "min_width": null,
            "object_fit": null,
            "object_position": null,
            "order": null,
            "overflow": null,
            "overflow_x": null,
            "overflow_y": null,
            "padding": null,
            "right": null,
            "top": null,
            "visibility": null,
            "width": null
          }
        },
        "6e871b64a3994b2db9a2a3dedeaf349e": {
          "model_module": "@jupyter-widgets/controls",
          "model_name": "DescriptionStyleModel",
          "model_module_version": "1.5.0",
          "state": {
            "_model_module": "@jupyter-widgets/controls",
            "_model_module_version": "1.5.0",
            "_model_name": "DescriptionStyleModel",
            "_view_count": null,
            "_view_module": "@jupyter-widgets/base",
            "_view_module_version": "1.2.0",
            "_view_name": "StyleView",
            "description_width": ""
          }
        },
        "f511008ff3ce4b59a90b8586881e5533": {
          "model_module": "@jupyter-widgets/base",
          "model_name": "LayoutModel",
          "model_module_version": "1.2.0",
          "state": {
            "_model_module": "@jupyter-widgets/base",
            "_model_module_version": "1.2.0",
            "_model_name": "LayoutModel",
            "_view_count": null,
            "_view_module": "@jupyter-widgets/base",
            "_view_module_version": "1.2.0",
            "_view_name": "LayoutView",
            "align_content": null,
            "align_items": null,
            "align_self": null,
            "border": null,
            "bottom": null,
            "display": null,
            "flex": null,
            "flex_flow": null,
            "grid_area": null,
            "grid_auto_columns": null,
            "grid_auto_flow": null,
            "grid_auto_rows": null,
            "grid_column": null,
            "grid_gap": null,
            "grid_row": null,
            "grid_template_areas": null,
            "grid_template_columns": null,
            "grid_template_rows": null,
            "height": null,
            "justify_content": null,
            "justify_items": null,
            "left": null,
            "margin": null,
            "max_height": null,
            "max_width": null,
            "min_height": null,
            "min_width": null,
            "object_fit": null,
            "object_position": null,
            "order": null,
            "overflow": null,
            "overflow_x": null,
            "overflow_y": null,
            "padding": null,
            "right": null,
            "top": null,
            "visibility": null,
            "width": null
          }
        },
        "50c8f5019f7746dd8541d9a7ecc61524": {
          "model_module": "@jupyter-widgets/controls",
          "model_name": "ProgressStyleModel",
          "model_module_version": "1.5.0",
          "state": {
            "_model_module": "@jupyter-widgets/controls",
            "_model_module_version": "1.5.0",
            "_model_name": "ProgressStyleModel",
            "_view_count": null,
            "_view_module": "@jupyter-widgets/base",
            "_view_module_version": "1.2.0",
            "_view_name": "StyleView",
            "bar_color": null,
            "description_width": ""
          }
        },
        "6f06ed94ed904c40bdf62ff31ec0ecef": {
          "model_module": "@jupyter-widgets/base",
          "model_name": "LayoutModel",
          "model_module_version": "1.2.0",
          "state": {
            "_model_module": "@jupyter-widgets/base",
            "_model_module_version": "1.2.0",
            "_model_name": "LayoutModel",
            "_view_count": null,
            "_view_module": "@jupyter-widgets/base",
            "_view_module_version": "1.2.0",
            "_view_name": "LayoutView",
            "align_content": null,
            "align_items": null,
            "align_self": null,
            "border": null,
            "bottom": null,
            "display": null,
            "flex": null,
            "flex_flow": null,
            "grid_area": null,
            "grid_auto_columns": null,
            "grid_auto_flow": null,
            "grid_auto_rows": null,
            "grid_column": null,
            "grid_gap": null,
            "grid_row": null,
            "grid_template_areas": null,
            "grid_template_columns": null,
            "grid_template_rows": null,
            "height": null,
            "justify_content": null,
            "justify_items": null,
            "left": null,
            "margin": null,
            "max_height": null,
            "max_width": null,
            "min_height": null,
            "min_width": null,
            "object_fit": null,
            "object_position": null,
            "order": null,
            "overflow": null,
            "overflow_x": null,
            "overflow_y": null,
            "padding": null,
            "right": null,
            "top": null,
            "visibility": null,
            "width": null
          }
        },
        "90c071885cbf48a69d00c8cedb4d3bc7": {
          "model_module": "@jupyter-widgets/controls",
          "model_name": "DescriptionStyleModel",
          "model_module_version": "1.5.0",
          "state": {
            "_model_module": "@jupyter-widgets/controls",
            "_model_module_version": "1.5.0",
            "_model_name": "DescriptionStyleModel",
            "_view_count": null,
            "_view_module": "@jupyter-widgets/base",
            "_view_module_version": "1.2.0",
            "_view_name": "StyleView",
            "description_width": ""
          }
        },
        "6fcaa47ef371451985245e31b575b0c7": {
          "model_module": "@jupyter-widgets/controls",
          "model_name": "HBoxModel",
          "model_module_version": "1.5.0",
          "state": {
            "_dom_classes": [],
            "_model_module": "@jupyter-widgets/controls",
            "_model_module_version": "1.5.0",
            "_model_name": "HBoxModel",
            "_view_count": null,
            "_view_module": "@jupyter-widgets/controls",
            "_view_module_version": "1.5.0",
            "_view_name": "HBoxView",
            "box_style": "",
            "children": [
              "IPY_MODEL_2346bc910ed24659aefe39cf591ca0ae",
              "IPY_MODEL_4f199f6540574b48b033e53b8e90e933",
              "IPY_MODEL_342f93be684b41fbbb198d05aca7db48"
            ],
            "layout": "IPY_MODEL_a1f548de62724d129fb93214d7fe33e6"
          }
        },
        "2346bc910ed24659aefe39cf591ca0ae": {
          "model_module": "@jupyter-widgets/controls",
          "model_name": "HTMLModel",
          "model_module_version": "1.5.0",
          "state": {
            "_dom_classes": [],
            "_model_module": "@jupyter-widgets/controls",
            "_model_module_version": "1.5.0",
            "_model_name": "HTMLModel",
            "_view_count": null,
            "_view_module": "@jupyter-widgets/controls",
            "_view_module_version": "1.5.0",
            "_view_name": "HTMLView",
            "description": "",
            "description_tooltip": null,
            "layout": "IPY_MODEL_166a415aa6ab49459fabd08402f6c8a5",
            "placeholder": "​",
            "style": "IPY_MODEL_0f19a00efe53439480aac185141bfcdb",
            "value": "100%"
          }
        },
        "4f199f6540574b48b033e53b8e90e933": {
          "model_module": "@jupyter-widgets/controls",
          "model_name": "FloatProgressModel",
          "model_module_version": "1.5.0",
          "state": {
            "_dom_classes": [],
            "_model_module": "@jupyter-widgets/controls",
            "_model_module_version": "1.5.0",
            "_model_name": "FloatProgressModel",
            "_view_count": null,
            "_view_module": "@jupyter-widgets/controls",
            "_view_module_version": "1.5.0",
            "_view_name": "ProgressView",
            "bar_style": "success",
            "description": "",
            "description_tooltip": null,
            "layout": "IPY_MODEL_f43e889e0ddd4a77938e8c7396c59b4a",
            "max": 2559,
            "min": 0,
            "orientation": "horizontal",
            "style": "IPY_MODEL_00c37261273442b2942abb572e5f16a3",
            "value": 2559
          }
        },
        "342f93be684b41fbbb198d05aca7db48": {
          "model_module": "@jupyter-widgets/controls",
          "model_name": "HTMLModel",
          "model_module_version": "1.5.0",
          "state": {
            "_dom_classes": [],
            "_model_module": "@jupyter-widgets/controls",
            "_model_module_version": "1.5.0",
            "_model_name": "HTMLModel",
            "_view_count": null,
            "_view_module": "@jupyter-widgets/controls",
            "_view_module_version": "1.5.0",
            "_view_name": "HTMLView",
            "description": "",
            "description_tooltip": null,
            "layout": "IPY_MODEL_cbff9cbdbc0645859eaecfadee05f361",
            "placeholder": "​",
            "style": "IPY_MODEL_8e37eb28c2b34a2c8f8265e606605b8e",
            "value": " 2559/2559 [00:17&lt;00:00, 254.30it/s]"
          }
        },
        "a1f548de62724d129fb93214d7fe33e6": {
          "model_module": "@jupyter-widgets/base",
          "model_name": "LayoutModel",
          "model_module_version": "1.2.0",
          "state": {
            "_model_module": "@jupyter-widgets/base",
            "_model_module_version": "1.2.0",
            "_model_name": "LayoutModel",
            "_view_count": null,
            "_view_module": "@jupyter-widgets/base",
            "_view_module_version": "1.2.0",
            "_view_name": "LayoutView",
            "align_content": null,
            "align_items": null,
            "align_self": null,
            "border": null,
            "bottom": null,
            "display": null,
            "flex": null,
            "flex_flow": null,
            "grid_area": null,
            "grid_auto_columns": null,
            "grid_auto_flow": null,
            "grid_auto_rows": null,
            "grid_column": null,
            "grid_gap": null,
            "grid_row": null,
            "grid_template_areas": null,
            "grid_template_columns": null,
            "grid_template_rows": null,
            "height": null,
            "justify_content": null,
            "justify_items": null,
            "left": null,
            "margin": null,
            "max_height": null,
            "max_width": null,
            "min_height": null,
            "min_width": null,
            "object_fit": null,
            "object_position": null,
            "order": null,
            "overflow": null,
            "overflow_x": null,
            "overflow_y": null,
            "padding": null,
            "right": null,
            "top": null,
            "visibility": null,
            "width": null
          }
        },
        "166a415aa6ab49459fabd08402f6c8a5": {
          "model_module": "@jupyter-widgets/base",
          "model_name": "LayoutModel",
          "model_module_version": "1.2.0",
          "state": {
            "_model_module": "@jupyter-widgets/base",
            "_model_module_version": "1.2.0",
            "_model_name": "LayoutModel",
            "_view_count": null,
            "_view_module": "@jupyter-widgets/base",
            "_view_module_version": "1.2.0",
            "_view_name": "LayoutView",
            "align_content": null,
            "align_items": null,
            "align_self": null,
            "border": null,
            "bottom": null,
            "display": null,
            "flex": null,
            "flex_flow": null,
            "grid_area": null,
            "grid_auto_columns": null,
            "grid_auto_flow": null,
            "grid_auto_rows": null,
            "grid_column": null,
            "grid_gap": null,
            "grid_row": null,
            "grid_template_areas": null,
            "grid_template_columns": null,
            "grid_template_rows": null,
            "height": null,
            "justify_content": null,
            "justify_items": null,
            "left": null,
            "margin": null,
            "max_height": null,
            "max_width": null,
            "min_height": null,
            "min_width": null,
            "object_fit": null,
            "object_position": null,
            "order": null,
            "overflow": null,
            "overflow_x": null,
            "overflow_y": null,
            "padding": null,
            "right": null,
            "top": null,
            "visibility": null,
            "width": null
          }
        },
        "0f19a00efe53439480aac185141bfcdb": {
          "model_module": "@jupyter-widgets/controls",
          "model_name": "DescriptionStyleModel",
          "model_module_version": "1.5.0",
          "state": {
            "_model_module": "@jupyter-widgets/controls",
            "_model_module_version": "1.5.0",
            "_model_name": "DescriptionStyleModel",
            "_view_count": null,
            "_view_module": "@jupyter-widgets/base",
            "_view_module_version": "1.2.0",
            "_view_name": "StyleView",
            "description_width": ""
          }
        },
        "f43e889e0ddd4a77938e8c7396c59b4a": {
          "model_module": "@jupyter-widgets/base",
          "model_name": "LayoutModel",
          "model_module_version": "1.2.0",
          "state": {
            "_model_module": "@jupyter-widgets/base",
            "_model_module_version": "1.2.0",
            "_model_name": "LayoutModel",
            "_view_count": null,
            "_view_module": "@jupyter-widgets/base",
            "_view_module_version": "1.2.0",
            "_view_name": "LayoutView",
            "align_content": null,
            "align_items": null,
            "align_self": null,
            "border": null,
            "bottom": null,
            "display": null,
            "flex": null,
            "flex_flow": null,
            "grid_area": null,
            "grid_auto_columns": null,
            "grid_auto_flow": null,
            "grid_auto_rows": null,
            "grid_column": null,
            "grid_gap": null,
            "grid_row": null,
            "grid_template_areas": null,
            "grid_template_columns": null,
            "grid_template_rows": null,
            "height": null,
            "justify_content": null,
            "justify_items": null,
            "left": null,
            "margin": null,
            "max_height": null,
            "max_width": null,
            "min_height": null,
            "min_width": null,
            "object_fit": null,
            "object_position": null,
            "order": null,
            "overflow": null,
            "overflow_x": null,
            "overflow_y": null,
            "padding": null,
            "right": null,
            "top": null,
            "visibility": null,
            "width": null
          }
        },
        "00c37261273442b2942abb572e5f16a3": {
          "model_module": "@jupyter-widgets/controls",
          "model_name": "ProgressStyleModel",
          "model_module_version": "1.5.0",
          "state": {
            "_model_module": "@jupyter-widgets/controls",
            "_model_module_version": "1.5.0",
            "_model_name": "ProgressStyleModel",
            "_view_count": null,
            "_view_module": "@jupyter-widgets/base",
            "_view_module_version": "1.2.0",
            "_view_name": "StyleView",
            "bar_color": null,
            "description_width": ""
          }
        },
        "cbff9cbdbc0645859eaecfadee05f361": {
          "model_module": "@jupyter-widgets/base",
          "model_name": "LayoutModel",
          "model_module_version": "1.2.0",
          "state": {
            "_model_module": "@jupyter-widgets/base",
            "_model_module_version": "1.2.0",
            "_model_name": "LayoutModel",
            "_view_count": null,
            "_view_module": "@jupyter-widgets/base",
            "_view_module_version": "1.2.0",
            "_view_name": "LayoutView",
            "align_content": null,
            "align_items": null,
            "align_self": null,
            "border": null,
            "bottom": null,
            "display": null,
            "flex": null,
            "flex_flow": null,
            "grid_area": null,
            "grid_auto_columns": null,
            "grid_auto_flow": null,
            "grid_auto_rows": null,
            "grid_column": null,
            "grid_gap": null,
            "grid_row": null,
            "grid_template_areas": null,
            "grid_template_columns": null,
            "grid_template_rows": null,
            "height": null,
            "justify_content": null,
            "justify_items": null,
            "left": null,
            "margin": null,
            "max_height": null,
            "max_width": null,
            "min_height": null,
            "min_width": null,
            "object_fit": null,
            "object_position": null,
            "order": null,
            "overflow": null,
            "overflow_x": null,
            "overflow_y": null,
            "padding": null,
            "right": null,
            "top": null,
            "visibility": null,
            "width": null
          }
        },
        "8e37eb28c2b34a2c8f8265e606605b8e": {
          "model_module": "@jupyter-widgets/controls",
          "model_name": "DescriptionStyleModel",
          "model_module_version": "1.5.0",
          "state": {
            "_model_module": "@jupyter-widgets/controls",
            "_model_module_version": "1.5.0",
            "_model_name": "DescriptionStyleModel",
            "_view_count": null,
            "_view_module": "@jupyter-widgets/base",
            "_view_module_version": "1.2.0",
            "_view_name": "StyleView",
            "description_width": ""
          }
        }
      }
    }
  },
  "cells": [
    {
      "cell_type": "markdown",
      "source": [
        "# 1. Dataset"
      ],
      "metadata": {
        "id": "bs16gcAz_4qg"
      }
    },
    {
      "cell_type": "code",
      "execution_count": 2,
      "metadata": {
        "id": "Q-D9_nhRZvTX"
      },
      "outputs": [],
      "source": [
        "import pandas as pd"
      ]
    },
    {
      "cell_type": "markdown",
      "source": [
        "## 1.1. Carga del dataset"
      ],
      "metadata": {
        "id": "eSxwCXQvAZnD"
      }
    },
    {
      "cell_type": "code",
      "source": [
        "uri = 'https://raw.githubusercontent.com/maribcs/mgp-bayesian-network-retail/main/data/db_mgp_t1.csv'\n",
        "df = pd.read_csv(uri, sep=',')\n",
        "df.head()"
      ],
      "metadata": {
        "colab": {
          "base_uri": "https://localhost:8080/",
          "height": 357
        },
        "id": "Jt2C7vbdADWQ",
        "outputId": "7a769a8e-a159-4cbc-e5ba-54cbe1a613fe"
      },
      "execution_count": 5,
      "outputs": [
        {
          "output_type": "execute_result",
          "data": {
            "text/plain": [
              "   row_num  flag_nuevo  fl_omni  fl_fcom  fl_tienda  flag_tienetarjeta  \\\n",
              "0       27           1        0        0          1                  0   \n",
              "1       36           1        0        0          1                  0   \n",
              "2       62           1        0        0          1                  1   \n",
              "3       65           0        0        0          1                  0   \n",
              "4       99           0        0        0          1                  1   \n",
              "\n",
              "   flag_metodopago  flag_tienepromocion Genero NSE  Rango_edad estado_marital  \\\n",
              "0                0                    0      M   C  26-35 AÑOS              C   \n",
              "1                0                    0      F   B  36-45 AÑOS              C   \n",
              "2                1                    0      F   B  26-35 AÑOS              S   \n",
              "3                0                    0      M   C  36-45 AÑOS              C   \n",
              "4                0                    0      F   B  36-45 AÑOS              S   \n",
              "\n",
              "   flag_tiene_hijo  rango_gasto  \n",
              "0                1   gasto bajo  \n",
              "1                0   gasto alto  \n",
              "2                0  gasto medio  \n",
              "3                1   gasto bajo  \n",
              "4                0   gasto alto  "
            ],
            "text/html": [
              "\n",
              "  <div id=\"df-f982261f-161c-47d5-9ffe-94189bf0617a\">\n",
              "    <div class=\"colab-df-container\">\n",
              "      <div>\n",
              "<style scoped>\n",
              "    .dataframe tbody tr th:only-of-type {\n",
              "        vertical-align: middle;\n",
              "    }\n",
              "\n",
              "    .dataframe tbody tr th {\n",
              "        vertical-align: top;\n",
              "    }\n",
              "\n",
              "    .dataframe thead th {\n",
              "        text-align: right;\n",
              "    }\n",
              "</style>\n",
              "<table border=\"1\" class=\"dataframe\">\n",
              "  <thead>\n",
              "    <tr style=\"text-align: right;\">\n",
              "      <th></th>\n",
              "      <th>row_num</th>\n",
              "      <th>flag_nuevo</th>\n",
              "      <th>fl_omni</th>\n",
              "      <th>fl_fcom</th>\n",
              "      <th>fl_tienda</th>\n",
              "      <th>flag_tienetarjeta</th>\n",
              "      <th>flag_metodopago</th>\n",
              "      <th>flag_tienepromocion</th>\n",
              "      <th>Genero</th>\n",
              "      <th>NSE</th>\n",
              "      <th>Rango_edad</th>\n",
              "      <th>estado_marital</th>\n",
              "      <th>flag_tiene_hijo</th>\n",
              "      <th>rango_gasto</th>\n",
              "    </tr>\n",
              "  </thead>\n",
              "  <tbody>\n",
              "    <tr>\n",
              "      <th>0</th>\n",
              "      <td>27</td>\n",
              "      <td>1</td>\n",
              "      <td>0</td>\n",
              "      <td>0</td>\n",
              "      <td>1</td>\n",
              "      <td>0</td>\n",
              "      <td>0</td>\n",
              "      <td>0</td>\n",
              "      <td>M</td>\n",
              "      <td>C</td>\n",
              "      <td>26-35 AÑOS</td>\n",
              "      <td>C</td>\n",
              "      <td>1</td>\n",
              "      <td>gasto bajo</td>\n",
              "    </tr>\n",
              "    <tr>\n",
              "      <th>1</th>\n",
              "      <td>36</td>\n",
              "      <td>1</td>\n",
              "      <td>0</td>\n",
              "      <td>0</td>\n",
              "      <td>1</td>\n",
              "      <td>0</td>\n",
              "      <td>0</td>\n",
              "      <td>0</td>\n",
              "      <td>F</td>\n",
              "      <td>B</td>\n",
              "      <td>36-45 AÑOS</td>\n",
              "      <td>C</td>\n",
              "      <td>0</td>\n",
              "      <td>gasto alto</td>\n",
              "    </tr>\n",
              "    <tr>\n",
              "      <th>2</th>\n",
              "      <td>62</td>\n",
              "      <td>1</td>\n",
              "      <td>0</td>\n",
              "      <td>0</td>\n",
              "      <td>1</td>\n",
              "      <td>1</td>\n",
              "      <td>1</td>\n",
              "      <td>0</td>\n",
              "      <td>F</td>\n",
              "      <td>B</td>\n",
              "      <td>26-35 AÑOS</td>\n",
              "      <td>S</td>\n",
              "      <td>0</td>\n",
              "      <td>gasto medio</td>\n",
              "    </tr>\n",
              "    <tr>\n",
              "      <th>3</th>\n",
              "      <td>65</td>\n",
              "      <td>0</td>\n",
              "      <td>0</td>\n",
              "      <td>0</td>\n",
              "      <td>1</td>\n",
              "      <td>0</td>\n",
              "      <td>0</td>\n",
              "      <td>0</td>\n",
              "      <td>M</td>\n",
              "      <td>C</td>\n",
              "      <td>36-45 AÑOS</td>\n",
              "      <td>C</td>\n",
              "      <td>1</td>\n",
              "      <td>gasto bajo</td>\n",
              "    </tr>\n",
              "    <tr>\n",
              "      <th>4</th>\n",
              "      <td>99</td>\n",
              "      <td>0</td>\n",
              "      <td>0</td>\n",
              "      <td>0</td>\n",
              "      <td>1</td>\n",
              "      <td>1</td>\n",
              "      <td>0</td>\n",
              "      <td>0</td>\n",
              "      <td>F</td>\n",
              "      <td>B</td>\n",
              "      <td>36-45 AÑOS</td>\n",
              "      <td>S</td>\n",
              "      <td>0</td>\n",
              "      <td>gasto alto</td>\n",
              "    </tr>\n",
              "  </tbody>\n",
              "</table>\n",
              "</div>\n",
              "      <button class=\"colab-df-convert\" onclick=\"convertToInteractive('df-f982261f-161c-47d5-9ffe-94189bf0617a')\"\n",
              "              title=\"Convert this dataframe to an interactive table.\"\n",
              "              style=\"display:none;\">\n",
              "        \n",
              "  <svg xmlns=\"http://www.w3.org/2000/svg\" height=\"24px\"viewBox=\"0 0 24 24\"\n",
              "       width=\"24px\">\n",
              "    <path d=\"M0 0h24v24H0V0z\" fill=\"none\"/>\n",
              "    <path d=\"M18.56 5.44l.94 2.06.94-2.06 2.06-.94-2.06-.94-.94-2.06-.94 2.06-2.06.94zm-11 1L8.5 8.5l.94-2.06 2.06-.94-2.06-.94L8.5 2.5l-.94 2.06-2.06.94zm10 10l.94 2.06.94-2.06 2.06-.94-2.06-.94-.94-2.06-.94 2.06-2.06.94z\"/><path d=\"M17.41 7.96l-1.37-1.37c-.4-.4-.92-.59-1.43-.59-.52 0-1.04.2-1.43.59L10.3 9.45l-7.72 7.72c-.78.78-.78 2.05 0 2.83L4 21.41c.39.39.9.59 1.41.59.51 0 1.02-.2 1.41-.59l7.78-7.78 2.81-2.81c.8-.78.8-2.07 0-2.86zM5.41 20L4 18.59l7.72-7.72 1.47 1.35L5.41 20z\"/>\n",
              "  </svg>\n",
              "      </button>\n",
              "      \n",
              "  <style>\n",
              "    .colab-df-container {\n",
              "      display:flex;\n",
              "      flex-wrap:wrap;\n",
              "      gap: 12px;\n",
              "    }\n",
              "\n",
              "    .colab-df-convert {\n",
              "      background-color: #E8F0FE;\n",
              "      border: none;\n",
              "      border-radius: 50%;\n",
              "      cursor: pointer;\n",
              "      display: none;\n",
              "      fill: #1967D2;\n",
              "      height: 32px;\n",
              "      padding: 0 0 0 0;\n",
              "      width: 32px;\n",
              "    }\n",
              "\n",
              "    .colab-df-convert:hover {\n",
              "      background-color: #E2EBFA;\n",
              "      box-shadow: 0px 1px 2px rgba(60, 64, 67, 0.3), 0px 1px 3px 1px rgba(60, 64, 67, 0.15);\n",
              "      fill: #174EA6;\n",
              "    }\n",
              "\n",
              "    [theme=dark] .colab-df-convert {\n",
              "      background-color: #3B4455;\n",
              "      fill: #D2E3FC;\n",
              "    }\n",
              "\n",
              "    [theme=dark] .colab-df-convert:hover {\n",
              "      background-color: #434B5C;\n",
              "      box-shadow: 0px 1px 3px 1px rgba(0, 0, 0, 0.15);\n",
              "      filter: drop-shadow(0px 1px 2px rgba(0, 0, 0, 0.3));\n",
              "      fill: #FFFFFF;\n",
              "    }\n",
              "  </style>\n",
              "\n",
              "      <script>\n",
              "        const buttonEl =\n",
              "          document.querySelector('#df-f982261f-161c-47d5-9ffe-94189bf0617a button.colab-df-convert');\n",
              "        buttonEl.style.display =\n",
              "          google.colab.kernel.accessAllowed ? 'block' : 'none';\n",
              "\n",
              "        async function convertToInteractive(key) {\n",
              "          const element = document.querySelector('#df-f982261f-161c-47d5-9ffe-94189bf0617a');\n",
              "          const dataTable =\n",
              "            await google.colab.kernel.invokeFunction('convertToInteractive',\n",
              "                                                     [key], {});\n",
              "          if (!dataTable) return;\n",
              "\n",
              "          const docLinkHtml = 'Like what you see? Visit the ' +\n",
              "            '<a target=\"_blank\" href=https://colab.research.google.com/notebooks/data_table.ipynb>data table notebook</a>'\n",
              "            + ' to learn more about interactive tables.';\n",
              "          element.innerHTML = '';\n",
              "          dataTable['output_type'] = 'display_data';\n",
              "          await google.colab.output.renderOutput(dataTable, element);\n",
              "          const docLink = document.createElement('div');\n",
              "          docLink.innerHTML = docLinkHtml;\n",
              "          element.appendChild(docLink);\n",
              "        }\n",
              "      </script>\n",
              "    </div>\n",
              "  </div>\n",
              "  "
            ]
          },
          "metadata": {},
          "execution_count": 5
        }
      ]
    },
    {
      "cell_type": "code",
      "source": [
        "# Tamaño del dataset\n",
        "df.shape"
      ],
      "metadata": {
        "colab": {
          "base_uri": "https://localhost:8080/"
        },
        "id": "J32qvegub4wb",
        "outputId": "a3ef4594-c5d2-40ed-8ca0-72f2be142905"
      },
      "execution_count": 6,
      "outputs": [
        {
          "output_type": "execute_result",
          "data": {
            "text/plain": [
              "(990392, 14)"
            ]
          },
          "metadata": {},
          "execution_count": 6
        }
      ]
    },
    {
      "cell_type": "markdown",
      "source": [
        "## 1.2. Pre pocesamiento del dataset"
      ],
      "metadata": {
        "id": "CXK7gt8XAx0g"
      }
    },
    {
      "cell_type": "code",
      "source": [
        "# Seleccionar columnas a utilizar\n",
        "df_model = df[['NSE','Rango_edad','Genero','estado_marital','flag_tienetarjeta','flag_nuevo','flag_metodopago','flag_tienepromocion','fl_fcom','rango_gasto']]"
      ],
      "metadata": {
        "id": "MFHutuXPA4tJ"
      },
      "execution_count": 10,
      "outputs": []
    },
    {
      "cell_type": "code",
      "source": [
        "# Renombrar columnas\n",
        "\n",
        "# 1. NSE: Nivel socioeconómico\n",
        "# 2. E: Rango de edad\n",
        "# 3. G: Género\n",
        "# 4. EC: Estado civil\n",
        "# 5. TR: Tiene tarjeta del retail\n",
        "# 6. TC: Tipo de cliente\n",
        "# 7. PTR: Usa tarjeta del retail\n",
        "# 8. PP: Producto en promoción\n",
        "# 9. CC: Canal de compra\n",
        "# 10. C: Rango de compra\n",
        "\n",
        "df_model = df_model.rename(columns = {'Rango_edad':'E','Genero':'G','estado_marital':'EC','flag_tienetarjeta':'TR','flag_nuevo':'TC','flag_metodopago':'PTR','flag_tienepromocion':'PP','fl_fcom':'CC','rango_gasto':'C'})\n",
        "df_model.head()"
      ],
      "metadata": {
        "colab": {
          "base_uri": "https://localhost:8080/",
          "height": 206
        },
        "id": "I0LP9MlqDnaY",
        "outputId": "044d10b8-d363-4e58-d5c4-33101909f431"
      },
      "execution_count": 11,
      "outputs": [
        {
          "output_type": "execute_result",
          "data": {
            "text/plain": [
              "  NSE           E  G EC  TR  TC  PTR  PP  CC            C\n",
              "0   C  26-35 AÑOS  M  C   0   1    0   0   0   gasto bajo\n",
              "1   B  36-45 AÑOS  F  C   0   1    0   0   0   gasto alto\n",
              "2   B  26-35 AÑOS  F  S   1   1    1   0   0  gasto medio\n",
              "3   C  36-45 AÑOS  M  C   0   0    0   0   0   gasto bajo\n",
              "4   B  36-45 AÑOS  F  S   1   0    0   0   0   gasto alto"
            ],
            "text/html": [
              "\n",
              "  <div id=\"df-79956869-8b22-4ed1-af6c-fa48cf234432\">\n",
              "    <div class=\"colab-df-container\">\n",
              "      <div>\n",
              "<style scoped>\n",
              "    .dataframe tbody tr th:only-of-type {\n",
              "        vertical-align: middle;\n",
              "    }\n",
              "\n",
              "    .dataframe tbody tr th {\n",
              "        vertical-align: top;\n",
              "    }\n",
              "\n",
              "    .dataframe thead th {\n",
              "        text-align: right;\n",
              "    }\n",
              "</style>\n",
              "<table border=\"1\" class=\"dataframe\">\n",
              "  <thead>\n",
              "    <tr style=\"text-align: right;\">\n",
              "      <th></th>\n",
              "      <th>NSE</th>\n",
              "      <th>E</th>\n",
              "      <th>G</th>\n",
              "      <th>EC</th>\n",
              "      <th>TR</th>\n",
              "      <th>TC</th>\n",
              "      <th>PTR</th>\n",
              "      <th>PP</th>\n",
              "      <th>CC</th>\n",
              "      <th>C</th>\n",
              "    </tr>\n",
              "  </thead>\n",
              "  <tbody>\n",
              "    <tr>\n",
              "      <th>0</th>\n",
              "      <td>C</td>\n",
              "      <td>26-35 AÑOS</td>\n",
              "      <td>M</td>\n",
              "      <td>C</td>\n",
              "      <td>0</td>\n",
              "      <td>1</td>\n",
              "      <td>0</td>\n",
              "      <td>0</td>\n",
              "      <td>0</td>\n",
              "      <td>gasto bajo</td>\n",
              "    </tr>\n",
              "    <tr>\n",
              "      <th>1</th>\n",
              "      <td>B</td>\n",
              "      <td>36-45 AÑOS</td>\n",
              "      <td>F</td>\n",
              "      <td>C</td>\n",
              "      <td>0</td>\n",
              "      <td>1</td>\n",
              "      <td>0</td>\n",
              "      <td>0</td>\n",
              "      <td>0</td>\n",
              "      <td>gasto alto</td>\n",
              "    </tr>\n",
              "    <tr>\n",
              "      <th>2</th>\n",
              "      <td>B</td>\n",
              "      <td>26-35 AÑOS</td>\n",
              "      <td>F</td>\n",
              "      <td>S</td>\n",
              "      <td>1</td>\n",
              "      <td>1</td>\n",
              "      <td>1</td>\n",
              "      <td>0</td>\n",
              "      <td>0</td>\n",
              "      <td>gasto medio</td>\n",
              "    </tr>\n",
              "    <tr>\n",
              "      <th>3</th>\n",
              "      <td>C</td>\n",
              "      <td>36-45 AÑOS</td>\n",
              "      <td>M</td>\n",
              "      <td>C</td>\n",
              "      <td>0</td>\n",
              "      <td>0</td>\n",
              "      <td>0</td>\n",
              "      <td>0</td>\n",
              "      <td>0</td>\n",
              "      <td>gasto bajo</td>\n",
              "    </tr>\n",
              "    <tr>\n",
              "      <th>4</th>\n",
              "      <td>B</td>\n",
              "      <td>36-45 AÑOS</td>\n",
              "      <td>F</td>\n",
              "      <td>S</td>\n",
              "      <td>1</td>\n",
              "      <td>0</td>\n",
              "      <td>0</td>\n",
              "      <td>0</td>\n",
              "      <td>0</td>\n",
              "      <td>gasto alto</td>\n",
              "    </tr>\n",
              "  </tbody>\n",
              "</table>\n",
              "</div>\n",
              "      <button class=\"colab-df-convert\" onclick=\"convertToInteractive('df-79956869-8b22-4ed1-af6c-fa48cf234432')\"\n",
              "              title=\"Convert this dataframe to an interactive table.\"\n",
              "              style=\"display:none;\">\n",
              "        \n",
              "  <svg xmlns=\"http://www.w3.org/2000/svg\" height=\"24px\"viewBox=\"0 0 24 24\"\n",
              "       width=\"24px\">\n",
              "    <path d=\"M0 0h24v24H0V0z\" fill=\"none\"/>\n",
              "    <path d=\"M18.56 5.44l.94 2.06.94-2.06 2.06-.94-2.06-.94-.94-2.06-.94 2.06-2.06.94zm-11 1L8.5 8.5l.94-2.06 2.06-.94-2.06-.94L8.5 2.5l-.94 2.06-2.06.94zm10 10l.94 2.06.94-2.06 2.06-.94-2.06-.94-.94-2.06-.94 2.06-2.06.94z\"/><path d=\"M17.41 7.96l-1.37-1.37c-.4-.4-.92-.59-1.43-.59-.52 0-1.04.2-1.43.59L10.3 9.45l-7.72 7.72c-.78.78-.78 2.05 0 2.83L4 21.41c.39.39.9.59 1.41.59.51 0 1.02-.2 1.41-.59l7.78-7.78 2.81-2.81c.8-.78.8-2.07 0-2.86zM5.41 20L4 18.59l7.72-7.72 1.47 1.35L5.41 20z\"/>\n",
              "  </svg>\n",
              "      </button>\n",
              "      \n",
              "  <style>\n",
              "    .colab-df-container {\n",
              "      display:flex;\n",
              "      flex-wrap:wrap;\n",
              "      gap: 12px;\n",
              "    }\n",
              "\n",
              "    .colab-df-convert {\n",
              "      background-color: #E8F0FE;\n",
              "      border: none;\n",
              "      border-radius: 50%;\n",
              "      cursor: pointer;\n",
              "      display: none;\n",
              "      fill: #1967D2;\n",
              "      height: 32px;\n",
              "      padding: 0 0 0 0;\n",
              "      width: 32px;\n",
              "    }\n",
              "\n",
              "    .colab-df-convert:hover {\n",
              "      background-color: #E2EBFA;\n",
              "      box-shadow: 0px 1px 2px rgba(60, 64, 67, 0.3), 0px 1px 3px 1px rgba(60, 64, 67, 0.15);\n",
              "      fill: #174EA6;\n",
              "    }\n",
              "\n",
              "    [theme=dark] .colab-df-convert {\n",
              "      background-color: #3B4455;\n",
              "      fill: #D2E3FC;\n",
              "    }\n",
              "\n",
              "    [theme=dark] .colab-df-convert:hover {\n",
              "      background-color: #434B5C;\n",
              "      box-shadow: 0px 1px 3px 1px rgba(0, 0, 0, 0.15);\n",
              "      filter: drop-shadow(0px 1px 2px rgba(0, 0, 0, 0.3));\n",
              "      fill: #FFFFFF;\n",
              "    }\n",
              "  </style>\n",
              "\n",
              "      <script>\n",
              "        const buttonEl =\n",
              "          document.querySelector('#df-79956869-8b22-4ed1-af6c-fa48cf234432 button.colab-df-convert');\n",
              "        buttonEl.style.display =\n",
              "          google.colab.kernel.accessAllowed ? 'block' : 'none';\n",
              "\n",
              "        async function convertToInteractive(key) {\n",
              "          const element = document.querySelector('#df-79956869-8b22-4ed1-af6c-fa48cf234432');\n",
              "          const dataTable =\n",
              "            await google.colab.kernel.invokeFunction('convertToInteractive',\n",
              "                                                     [key], {});\n",
              "          if (!dataTable) return;\n",
              "\n",
              "          const docLinkHtml = 'Like what you see? Visit the ' +\n",
              "            '<a target=\"_blank\" href=https://colab.research.google.com/notebooks/data_table.ipynb>data table notebook</a>'\n",
              "            + ' to learn more about interactive tables.';\n",
              "          element.innerHTML = '';\n",
              "          dataTable['output_type'] = 'display_data';\n",
              "          await google.colab.output.renderOutput(dataTable, element);\n",
              "          const docLink = document.createElement('div');\n",
              "          docLink.innerHTML = docLinkHtml;\n",
              "          element.appendChild(docLink);\n",
              "        }\n",
              "      </script>\n",
              "    </div>\n",
              "  </div>\n",
              "  "
            ]
          },
          "metadata": {},
          "execution_count": 11
        }
      ]
    },
    {
      "cell_type": "code",
      "source": [
        "# Estandarizar valores\n",
        "# NSE\n",
        "df_model['NSE'] = df_model['NSE'].replace({'A':0,'B':1,'C':2,'D':3,'E':4})\n",
        "# Rango de edad\n",
        "df_model['E'] = df_model['E'].replace({'16-25 AÑOS':0,'26-35 AÑOS':1,'36-45 AÑOS':2,'46-55 AÑOS':3,'56 A MÁS':4})\n",
        "# Género\n",
        "df_model['G'] = df_model['G'].replace({'M':0,'F':1})\n",
        "# Estado civil\n",
        "df_model['EC'] = df_model['EC'].replace({'S':0,'C':1})\n",
        "# Rango compra\n",
        "df_model['C'] = df_model['C'].replace({'gasto bajo':0,'gasto medio':1,'gasto alto':2})\n"
      ],
      "metadata": {
        "id": "4J4mHkC-ayy_"
      },
      "execution_count": 12,
      "outputs": []
    },
    {
      "cell_type": "markdown",
      "source": [
        "# 2. Construcción del modelo"
      ],
      "metadata": {
        "id": "6nK7k885DzUf"
      }
    },
    {
      "cell_type": "code",
      "source": [
        "!pip install pgmpy"
      ],
      "metadata": {
        "colab": {
          "base_uri": "https://localhost:8080/"
        },
        "id": "SZOKplT9jOX7",
        "outputId": "a63c4ac1-72f4-4ea0-d2fe-fcb047f85325"
      },
      "execution_count": 13,
      "outputs": [
        {
          "output_type": "stream",
          "name": "stdout",
          "text": [
            "Looking in indexes: https://pypi.org/simple, https://us-python.pkg.dev/colab-wheels/public/simple/\n",
            "Collecting pgmpy\n",
            "  Downloading pgmpy-0.1.22-py3-none-any.whl (1.9 MB)\n",
            "\u001b[2K     \u001b[90m━━━━━━━━━━━━━━━━━━━━━━━━━━━━━━━━━━━━━━━━\u001b[0m \u001b[32m1.9/1.9 MB\u001b[0m \u001b[31m21.5 MB/s\u001b[0m eta \u001b[36m0:00:00\u001b[0m\n",
            "\u001b[?25hRequirement already satisfied: networkx in /usr/local/lib/python3.10/dist-packages (from pgmpy) (3.1)\n",
            "Requirement already satisfied: numpy in /usr/local/lib/python3.10/dist-packages (from pgmpy) (1.22.4)\n",
            "Requirement already satisfied: scipy in /usr/local/lib/python3.10/dist-packages (from pgmpy) (1.10.1)\n",
            "Requirement already satisfied: scikit-learn in /usr/local/lib/python3.10/dist-packages (from pgmpy) (1.2.2)\n",
            "Requirement already satisfied: pandas in /usr/local/lib/python3.10/dist-packages (from pgmpy) (1.5.3)\n",
            "Requirement already satisfied: pyparsing in /usr/local/lib/python3.10/dist-packages (from pgmpy) (3.1.0)\n",
            "Requirement already satisfied: torch in /usr/local/lib/python3.10/dist-packages (from pgmpy) (2.0.1+cu118)\n",
            "Requirement already satisfied: statsmodels in /usr/local/lib/python3.10/dist-packages (from pgmpy) (0.13.5)\n",
            "Requirement already satisfied: tqdm in /usr/local/lib/python3.10/dist-packages (from pgmpy) (4.65.0)\n",
            "Requirement already satisfied: joblib in /usr/local/lib/python3.10/dist-packages (from pgmpy) (1.2.0)\n",
            "Requirement already satisfied: opt-einsum in /usr/local/lib/python3.10/dist-packages (from pgmpy) (3.3.0)\n",
            "Requirement already satisfied: python-dateutil>=2.8.1 in /usr/local/lib/python3.10/dist-packages (from pandas->pgmpy) (2.8.2)\n",
            "Requirement already satisfied: pytz>=2020.1 in /usr/local/lib/python3.10/dist-packages (from pandas->pgmpy) (2022.7.1)\n",
            "Requirement already satisfied: threadpoolctl>=2.0.0 in /usr/local/lib/python3.10/dist-packages (from scikit-learn->pgmpy) (3.1.0)\n",
            "Requirement already satisfied: patsy>=0.5.2 in /usr/local/lib/python3.10/dist-packages (from statsmodels->pgmpy) (0.5.3)\n",
            "Requirement already satisfied: packaging>=21.3 in /usr/local/lib/python3.10/dist-packages (from statsmodels->pgmpy) (23.1)\n",
            "Requirement already satisfied: filelock in /usr/local/lib/python3.10/dist-packages (from torch->pgmpy) (3.12.2)\n",
            "Requirement already satisfied: typing-extensions in /usr/local/lib/python3.10/dist-packages (from torch->pgmpy) (4.6.3)\n",
            "Requirement already satisfied: sympy in /usr/local/lib/python3.10/dist-packages (from torch->pgmpy) (1.11.1)\n",
            "Requirement already satisfied: jinja2 in /usr/local/lib/python3.10/dist-packages (from torch->pgmpy) (3.1.2)\n",
            "Requirement already satisfied: triton==2.0.0 in /usr/local/lib/python3.10/dist-packages (from torch->pgmpy) (2.0.0)\n",
            "Requirement already satisfied: cmake in /usr/local/lib/python3.10/dist-packages (from triton==2.0.0->torch->pgmpy) (3.25.2)\n",
            "Requirement already satisfied: lit in /usr/local/lib/python3.10/dist-packages (from triton==2.0.0->torch->pgmpy) (16.0.6)\n",
            "Requirement already satisfied: six in /usr/local/lib/python3.10/dist-packages (from patsy>=0.5.2->statsmodels->pgmpy) (1.16.0)\n",
            "Requirement already satisfied: MarkupSafe>=2.0 in /usr/local/lib/python3.10/dist-packages (from jinja2->torch->pgmpy) (2.1.3)\n",
            "Requirement already satisfied: mpmath>=0.19 in /usr/local/lib/python3.10/dist-packages (from sympy->torch->pgmpy) (1.3.0)\n",
            "Installing collected packages: pgmpy\n",
            "Successfully installed pgmpy-0.1.22\n"
          ]
        }
      ]
    },
    {
      "cell_type": "code",
      "source": [
        "from pgmpy.models import BayesianNetwork\n",
        "from pgmpy.estimators import ParameterEstimator\n",
        "from pgmpy.estimators import MaximumLikelihoodEstimator\n",
        "from pgmpy.estimators import BayesianEstimator\n",
        "from pgmpy.estimators import TreeSearch\n",
        "from pgmpy.inference import VariableElimination\n",
        "\n",
        "from sklearn.feature_selection import SelectKBest, chi2\n",
        "from sklearn.metrics import accuracy_score\n",
        "\n",
        "import networkx as nx\n",
        "import matplotlib.pyplot as plt\n",
        "import numpy as np"
      ],
      "metadata": {
        "id": "QGngEmo-ide_"
      },
      "execution_count": 14,
      "outputs": []
    },
    {
      "cell_type": "markdown",
      "source": [
        "## 2.1. Definición de nodos"
      ],
      "metadata": {
        "id": "3H2qCsrBHhTT"
      }
    },
    {
      "cell_type": "code",
      "source": [
        "model = BayesianNetwork([('NSE', 'TR'), ('TR', 'PTR'), ('PTR', 'PP'), ('CC', 'PP'),('PP', 'C'),('CC', 'C'),('E', 'TC'),('G', 'TC'),('EC', 'TC'),('TC', 'C')])"
      ],
      "metadata": {
        "id": "IYrpQNYHiVvw"
      },
      "execution_count": 16,
      "outputs": []
    },
    {
      "cell_type": "markdown",
      "source": [
        "## 2.2. DAG del modelo"
      ],
      "metadata": {
        "id": "gaNrtRL4Fikw"
      }
    },
    {
      "cell_type": "code",
      "source": [
        "pos = {'NSE': (1, 0), 'TR': (1, -2), 'PTR': (1, -4), 'PP': (2, -6), 'CC': (3, -4), 'E': (3.5, -1),'G': (5, -1),'EC': (6.5, -1),'TC': (5, -4),'C': (3, -8)}\n",
        "\n",
        "nx.draw_networkx(model, pos=pos, with_labels=True, node_color='#3cd194',\n",
        "                 node_size=1500, font_size=11, font_weight='bold', edge_color='gray')\n",
        "\n",
        "plt.axis('off')\n",
        "plt.show()"
      ],
      "metadata": {
        "colab": {
          "base_uri": "https://localhost:8080/",
          "height": 406
        },
        "id": "xCTRKPaMjrJX",
        "outputId": "5951c678-4b5a-4292-dfa6-02debcf34ebd"
      },
      "execution_count": 50,
      "outputs": [
        {
          "output_type": "display_data",
          "data": {
            "text/plain": [
              "<Figure size 640x480 with 1 Axes>"
            ],
            "image/png": "[encoded data removed]"
          },
          "metadata": {}
        }
      ]
    },
    {
      "cell_type": "markdown",
      "source": [
        "## 2.3. Aprendizaje de parámetros"
      ],
      "metadata": {
        "id": "ZC26PocePE27"
      }
    },
    {
      "cell_type": "code",
      "source": [
        "pe = ParameterEstimator(model, df_model)"
      ],
      "metadata": {
        "id": "jaONNcFTPWTc"
      },
      "execution_count": 51,
      "outputs": []
    },
    {
      "cell_type": "markdown",
      "source": [
        "### 2.3.1. Frecuencia de estados"
      ],
      "metadata": {
        "id": "WtC-ZS64QnMi"
      }
    },
    {
      "cell_type": "code",
      "source": [
        "# 1. NSE: Nivel socioeconómico (Incondicional)\n",
        "print(pe.state_counts('NSE'))"
      ],
      "metadata": {
        "colab": {
          "base_uri": "https://localhost:8080/"
        },
        "id": "dp0eSrGLPf4L",
        "outputId": "4a1b2085-0e1b-4c8e-f136-47dd2274f4f1"
      },
      "execution_count": 52,
      "outputs": [
        {
          "output_type": "stream",
          "name": "stdout",
          "text": [
            "      NSE\n",
            "0  180269\n",
            "1  447575\n",
            "2  295641\n",
            "3   55556\n",
            "4   11351\n"
          ]
        }
      ]
    },
    {
      "cell_type": "code",
      "source": [
        "# 2. E: Rango de edad (Incondicional)\n",
        "print(pe.state_counts('E'))"
      ],
      "metadata": {
        "colab": {
          "base_uri": "https://localhost:8080/"
        },
        "id": "_9RgKlGOPrB6",
        "outputId": "deb9f921-6b48-44a3-a194-e9be33ea0444"
      },
      "execution_count": 55,
      "outputs": [
        {
          "output_type": "stream",
          "name": "stdout",
          "text": [
            "        E\n",
            "0    8247\n",
            "1  261838\n",
            "2  320229\n",
            "3  227152\n",
            "4  172926\n"
          ]
        }
      ]
    },
    {
      "cell_type": "code",
      "source": [
        "# 3. G: Género (Incondicional)\n",
        "print(pe.state_counts('G'))"
      ],
      "metadata": {
        "colab": {
          "base_uri": "https://localhost:8080/"
        },
        "id": "X1AZgU2TQXTa",
        "outputId": "5360fceb-00ac-47fd-990f-48906a7daf21"
      },
      "execution_count": 54,
      "outputs": [
        {
          "output_type": "stream",
          "name": "stdout",
          "text": [
            "        G\n",
            "0  397432\n",
            "1  592960\n"
          ]
        }
      ]
    },
    {
      "cell_type": "code",
      "source": [
        "# 4. EC: Estado civil (Incondicional)\n",
        "print(pe.state_counts('EC'))"
      ],
      "metadata": {
        "colab": {
          "base_uri": "https://localhost:8080/"
        },
        "id": "KzCagQKPQXgE",
        "outputId": "d3d13a7d-fe1b-47c4-8fd1-72d300ebabdc"
      },
      "execution_count": 56,
      "outputs": [
        {
          "output_type": "stream",
          "name": "stdout",
          "text": [
            "       EC\n",
            "0  581322\n",
            "1  409070\n"
          ]
        }
      ]
    },
    {
      "cell_type": "code",
      "source": [
        "# 5. TR: Tiene tarjeta del retail (Condicional)\n",
        "print(pe.state_counts('TR'))"
      ],
      "metadata": {
        "colab": {
          "base_uri": "https://localhost:8080/"
        },
        "id": "5LRT_99DQ8Cp",
        "outputId": "d1f4e685-dc90-4364-856d-7dc32978a3ee"
      },
      "execution_count": 57,
      "outputs": [
        {
          "output_type": "stream",
          "name": "stdout",
          "text": [
            "NSE       0       1       2      3     4\n",
            "TR                                      \n",
            "0     72371  172164  126285  27136  5990\n",
            "1    107898  275411  169356  28420  5361\n"
          ]
        }
      ]
    },
    {
      "cell_type": "code",
      "source": [
        "# 6. TC: Tipo de cliente (Condicional)\n",
        "print(pe.state_counts('TC'))"
      ],
      "metadata": {
        "colab": {
          "base_uri": "https://localhost:8080/"
        },
        "id": "00ijjrgbRDF0",
        "outputId": "69e67c77-d4fa-472a-9450-1a83959f1243"
      },
      "execution_count": 58,
      "outputs": [
        {
          "output_type": "stream",
          "name": "stdout",
          "text": [
            "E      0                    1                          2                       \\\n",
            "EC     0         1          0            1             0             1          \n",
            "G      0     1   0   1      0      1     0      1      0      1      0      1   \n",
            "TC                                                                              \n",
            "0   1984  3307   6  23  63538  95850  4496  10922  54271  77219  26081  45386   \n",
            "1   1435  1455  12  25  38748  38635  3322   6327  36774  36967  19178  24353   \n",
            "\n",
            "E       3                          4                       \n",
            "EC      0             1            0             1         \n",
            "G       0      1      0      1     0      1      0      1  \n",
            "TC                                                         \n",
            "0   17180  34674  30547  52733  4524  18050  22021  48474  \n",
            "1   14912  21603  25799  29704  5656  14540  26948  32713  \n"
          ]
        }
      ]
    },
    {
      "cell_type": "code",
      "source": [
        "# 7. PTR: Usa tarjeta del retail (Condicional)\n",
        "print(pe.state_counts('PTR'))"
      ],
      "metadata": {
        "colab": {
          "base_uri": "https://localhost:8080/"
        },
        "id": "QZyN6a-wRDkZ",
        "outputId": "3abf9050-a75f-426b-9a85-89d319af6591"
      },
      "execution_count": 59,
      "outputs": [
        {
          "output_type": "stream",
          "name": "stdout",
          "text": [
            "TR        0       1\n",
            "PTR                \n",
            "0    377676  288425\n",
            "1     26270  298021\n"
          ]
        }
      ]
    },
    {
      "cell_type": "code",
      "source": [
        "# 8. PP: Producto en promoción o no (Condicional)\n",
        "print(pe.state_counts('PP'))"
      ],
      "metadata": {
        "colab": {
          "base_uri": "https://localhost:8080/"
        },
        "id": "RPsNWypsREIy",
        "outputId": "5386349d-603a-4ffb-9853-3b8a62f5fc27"
      },
      "execution_count": 60,
      "outputs": [
        {
          "output_type": "stream",
          "name": "stdout",
          "text": [
            "CC        0              1       \n",
            "PTR       0       1      0      1\n",
            "PP                               \n",
            "0    580214  199949  73406  78375\n",
            "1      8744   28316   3737  17651\n"
          ]
        }
      ]
    },
    {
      "cell_type": "code",
      "source": [
        "# 9. CC: Canal de compra (Incondicional)\n",
        "print(pe.state_counts('CC'))"
      ],
      "metadata": {
        "colab": {
          "base_uri": "https://localhost:8080/"
        },
        "id": "zVsQRjwXREgy",
        "outputId": "518162fb-9a36-41c3-fcbd-cbff6ebf86f9"
      },
      "execution_count": 61,
      "outputs": [
        {
          "output_type": "stream",
          "name": "stdout",
          "text": [
            "       CC\n",
            "0  817223\n",
            "1  173169\n"
          ]
        }
      ]
    },
    {
      "cell_type": "code",
      "source": [
        "# 10. C: Rango de compra (Condicional)\n",
        "print(pe.state_counts('C'))"
      ],
      "metadata": {
        "colab": {
          "base_uri": "https://localhost:8080/"
        },
        "id": "lbctho0ZRE1i",
        "outputId": "05fab6e3-9d30-40b6-e37e-fab29fcf7ff4"
      },
      "execution_count": 62,
      "outputs": [
        {
          "output_type": "stream",
          "name": "stdout",
          "text": [
            "CC       0                           1                    \n",
            "PP       0              1            0             1      \n",
            "TC       0       1      0     1      0      1      0     1\n",
            "C                                                         \n",
            "0   206831  210555   8149  3773  27691  12711   2058   552\n",
            "1   104249   68459   6968  1867  22244   6314   2682   410\n",
            "2   133439   56630  14172  2131  68243  14578  14560  1126\n"
          ]
        }
      ]
    },
    {
      "cell_type": "markdown",
      "source": [
        "### 2.3.2. Maxima Verosimilitud"
      ],
      "metadata": {
        "id": "UZLuculkPPWi"
      }
    },
    {
      "cell_type": "code",
      "source": [
        "mle = MaximumLikelihoodEstimator(model, df_model)"
      ],
      "metadata": {
        "id": "JixCx6qLX5XD"
      },
      "execution_count": 63,
      "outputs": []
    },
    {
      "cell_type": "code",
      "source": [
        "# 1. NSE: Nivel socioeconómico\n",
        "print(mle.estimate_cpd('NSE'))"
      ],
      "metadata": {
        "colab": {
          "base_uri": "https://localhost:8080/"
        },
        "id": "VUxhpHxe0bpX",
        "outputId": "42537320-c7ca-4d5e-faf5-7a12bd1b01aa"
      },
      "execution_count": 64,
      "outputs": [
        {
          "output_type": "stream",
          "name": "stdout",
          "text": [
            "+--------+-----------+\n",
            "| NSE(0) | 0.182018  |\n",
            "+--------+-----------+\n",
            "| NSE(1) | 0.451917  |\n",
            "+--------+-----------+\n",
            "| NSE(2) | 0.298509  |\n",
            "+--------+-----------+\n",
            "| NSE(3) | 0.056095  |\n",
            "+--------+-----------+\n",
            "| NSE(4) | 0.0114611 |\n",
            "+--------+-----------+\n"
          ]
        }
      ]
    },
    {
      "cell_type": "code",
      "source": [
        "# 2. E: Rango d Edad\n",
        "print(mle.estimate_cpd('E'))"
      ],
      "metadata": {
        "colab": {
          "base_uri": "https://localhost:8080/"
        },
        "outputId": "b0d34aab-74cb-45f6-bc7e-fe4aca5be9e9",
        "id": "RwZbaS9L0wOl"
      },
      "execution_count": 65,
      "outputs": [
        {
          "output_type": "stream",
          "name": "stdout",
          "text": [
            "+------+------------+\n",
            "| E(0) | 0.00832701 |\n",
            "+------+------------+\n",
            "| E(1) | 0.264378   |\n",
            "+------+------------+\n",
            "| E(2) | 0.323336   |\n",
            "+------+------------+\n",
            "| E(3) | 0.229356   |\n",
            "+------+------------+\n",
            "| E(4) | 0.174604   |\n",
            "+------+------------+\n"
          ]
        }
      ]
    },
    {
      "cell_type": "code",
      "source": [
        "# 3. G: Género\n",
        "print(mle.estimate_cpd('G'))"
      ],
      "metadata": {
        "colab": {
          "base_uri": "https://localhost:8080/"
        },
        "outputId": "1f3fd51d-0d1d-47ce-d086-854ea808af54",
        "id": "MGEurFT60wOm"
      },
      "execution_count": 66,
      "outputs": [
        {
          "output_type": "stream",
          "name": "stdout",
          "text": [
            "+------+----------+\n",
            "| G(0) | 0.401288 |\n",
            "+------+----------+\n",
            "| G(1) | 0.598712 |\n",
            "+------+----------+\n"
          ]
        }
      ]
    },
    {
      "cell_type": "code",
      "source": [
        "# 4. EC: Estado civil\n",
        "print(mle.estimate_cpd('EC'))"
      ],
      "metadata": {
        "colab": {
          "base_uri": "https://localhost:8080/"
        },
        "outputId": "f6cb2a3d-4d9b-440b-e89d-cdffcad5e6d7",
        "id": "zVBCULDc0wOm"
      },
      "execution_count": 67,
      "outputs": [
        {
          "output_type": "stream",
          "name": "stdout",
          "text": [
            "+-------+----------+\n",
            "| EC(0) | 0.586962 |\n",
            "+-------+----------+\n",
            "| EC(1) | 0.413038 |\n",
            "+-------+----------+\n"
          ]
        }
      ]
    },
    {
      "cell_type": "code",
      "source": [
        "# 5. TR: Tiene o no tarjeta del retail\n",
        "cpd_tr = mle.estimate_cpd('TR')\n",
        "print(cpd_tr)"
      ],
      "metadata": {
        "colab": {
          "base_uri": "https://localhost:8080/"
        },
        "outputId": "c068bb22-642f-4cd6-d105-d1ecea29ea0b",
        "id": "F1LgcBQT0wOn"
      },
      "execution_count": 68,
      "outputs": [
        {
          "output_type": "stream",
          "name": "stdout",
          "text": [
            "+-------+---------------------+-----+---------------------+\n",
            "| NSE   | NSE(0)              | ... | NSE(4)              |\n",
            "+-------+---------------------+-----+---------------------+\n",
            "| TR(0) | 0.40146114972624247 | ... | 0.5277068099726896  |\n",
            "+-------+---------------------+-----+---------------------+\n",
            "| TR(1) | 0.5985388502737575  | ... | 0.47229319002731035 |\n",
            "+-------+---------------------+-----+---------------------+\n"
          ]
        }
      ]
    },
    {
      "cell_type": "code",
      "source": [
        "# 6. TC: Tipo de cliente (Condicional)\n",
        "cpd_tc = mle.estimate_cpd('TC')\n",
        "print(cpd_tc)"
      ],
      "metadata": {
        "colab": {
          "base_uri": "https://localhost:8080/"
        },
        "outputId": "26539318-8cdd-4c04-a713-ea0e2fd6adc1",
        "id": "kPgM3ywR0wOn"
      },
      "execution_count": 71,
      "outputs": [
        {
          "output_type": "stream",
          "name": "stdout",
          "text": [
            "+-------+--------------------+-----+---------------------+\n",
            "| E     | E(0)               | ... | E(4)                |\n",
            "+-------+--------------------+-----+---------------------+\n",
            "| EC    | EC(0)              | ... | EC(1)               |\n",
            "+-------+--------------------+-----+---------------------+\n",
            "| G     | G(0)               | ... | G(1)                |\n",
            "+-------+--------------------+-----+---------------------+\n",
            "| TC(0) | 0.5802866335185727 | ... | 0.5970660327392316  |\n",
            "+-------+--------------------+-----+---------------------+\n",
            "| TC(1) | 0.4197133664814273 | ... | 0.40293396726076836 |\n",
            "+-------+--------------------+-----+---------------------+\n"
          ]
        }
      ]
    },
    {
      "cell_type": "code",
      "source": [
        "# 7. PTR: Usa tarjeta del retail\n",
        "print(mle.estimate_cpd('PTR'))"
      ],
      "metadata": {
        "colab": {
          "base_uri": "https://localhost:8080/"
        },
        "outputId": "07fe57b0-29fc-4679-9f48-c34561b866f0",
        "id": "8BFJRNaX0wO3"
      },
      "execution_count": 73,
      "outputs": [
        {
          "output_type": "stream",
          "name": "stdout",
          "text": [
            "+--------+---------------------+---------------------+\n",
            "| TR     | TR(0)               | TR(1)               |\n",
            "+--------+---------------------+---------------------+\n",
            "| PTR(0) | 0.9349665549355607  | 0.49181851355453016 |\n",
            "+--------+---------------------+---------------------+\n",
            "| PTR(1) | 0.06503344506443931 | 0.5081814864454698  |\n",
            "+--------+---------------------+---------------------+\n"
          ]
        }
      ]
    },
    {
      "cell_type": "code",
      "source": [
        "# 8. PP: Producto en promoción\n",
        "cpd_pp = mle.estimate_cpd('PP')\n",
        "print(cpd_pp)"
      ],
      "metadata": {
        "colab": {
          "base_uri": "https://localhost:8080/"
        },
        "outputId": "bebae0be-422c-44ec-8703-9893043e9c70",
        "id": "1bEHMSaU0wO3"
      },
      "execution_count": 74,
      "outputs": [
        {
          "output_type": "stream",
          "name": "stdout",
          "text": [
            "+-------+----------------------+-----+---------------------+\n",
            "| CC    | CC(0)                | ... | CC(1)               |\n",
            "+-------+----------------------+-----+---------------------+\n",
            "| PTR   | PTR(0)               | ... | PTR(1)              |\n",
            "+-------+----------------------+-----+---------------------+\n",
            "| PP(0) | 0.9851534404830226   | ... | 0.8161851998417096  |\n",
            "+-------+----------------------+-----+---------------------+\n",
            "| PP(1) | 0.014846559516977442 | ... | 0.18381480015829046 |\n",
            "+-------+----------------------+-----+---------------------+\n"
          ]
        }
      ]
    },
    {
      "cell_type": "code",
      "source": [
        "# 9. CC: Canal de compra\n",
        "print(mle.estimate_cpd('CC'))"
      ],
      "metadata": {
        "colab": {
          "base_uri": "https://localhost:8080/"
        },
        "outputId": "bbd146a0-b3f8-4759-fec8-40415512f0d6",
        "id": "OR8gd8Io0wO4"
      },
      "execution_count": 78,
      "outputs": [
        {
          "output_type": "stream",
          "name": "stdout",
          "text": [
            "+-------+----------+\n",
            "| CC(0) | 0.825151 |\n",
            "+-------+----------+\n",
            "| CC(1) | 0.174849 |\n",
            "+-------+----------+\n"
          ]
        }
      ]
    },
    {
      "cell_type": "code",
      "source": [
        "# 10. C: Rango de compra\n",
        "cpd_c = mle.estimate_cpd('C')\n",
        "print(cpd_c)"
      ],
      "metadata": {
        "colab": {
          "base_uri": "https://localhost:8080/"
        },
        "outputId": "7c63b330-170b-41f8-af15-b2d4d28acc1d",
        "id": "iMO-oep_0wO4"
      },
      "execution_count": 79,
      "outputs": [
        {
          "output_type": "stream",
          "name": "stdout",
          "text": [
            "+------+---------------------+-----+---------------------+\n",
            "| CC   | CC(0)               | ... | CC(1)               |\n",
            "+------+---------------------+-----+---------------------+\n",
            "| PP   | PP(0)               | ... | PP(1)               |\n",
            "+------+---------------------+-----+---------------------+\n",
            "| TC   | TC(0)               | ... | TC(1)               |\n",
            "+------+---------------------+-----+---------------------+\n",
            "| C(0) | 0.4652916973177749  | ... | 0.26436781609195403 |\n",
            "+------+---------------------+-----+---------------------+\n",
            "| C(1) | 0.23452090911749554 | ... | 0.19636015325670497 |\n",
            "+------+---------------------+-----+---------------------+\n",
            "| C(2) | 0.3001873935647295  | ... | 0.539272030651341   |\n",
            "+------+---------------------+-----+---------------------+\n"
          ]
        }
      ]
    },
    {
      "cell_type": "markdown",
      "source": [
        "### 2.3.2. Estimar los parámetros bayesianos"
      ],
      "metadata": {
        "id": "wTekhy8kuBUD"
      }
    },
    {
      "cell_type": "code",
      "source": [
        "be = BayesianEstimator(model, df_model)"
      ],
      "metadata": {
        "id": "fxNyRItft-I7"
      },
      "execution_count": 81,
      "outputs": []
    },
    {
      "cell_type": "code",
      "source": [
        "# 1. NSE: Nivel socioeconómico\n",
        "cpd_nse = be.estimate_cpd('NSE', prior_type='BDeu')\n",
        "print(cpd_nse)"
      ],
      "metadata": {
        "id": "GUsE76W_vON7",
        "outputId": "48570c2f-a039-4553-dee2-7f0efc53123e",
        "colab": {
          "base_uri": "https://localhost:8080/"
        }
      },
      "execution_count": 84,
      "outputs": [
        {
          "output_type": "stream",
          "name": "stdout",
          "text": [
            "+--------+-----------+\n",
            "| NSE(0) | 0.182018  |\n",
            "+--------+-----------+\n",
            "| NSE(1) | 0.451916  |\n",
            "+--------+-----------+\n",
            "| NSE(2) | 0.298509  |\n",
            "+--------+-----------+\n",
            "| NSE(3) | 0.0560957 |\n",
            "+--------+-----------+\n",
            "| NSE(4) | 0.0114621 |\n",
            "+--------+-----------+\n"
          ]
        }
      ]
    },
    {
      "cell_type": "code",
      "source": [
        "# 2. E: Rango de edad\n",
        "cpd_e = be.estimate_cpd('E', prior_type='BDeu')\n",
        "print(cpd_e)"
      ],
      "metadata": {
        "id": "cZywucfcvQ62",
        "outputId": "98d75aeb-b637-4dd6-f0f4-cf38f30c0f96",
        "colab": {
          "base_uri": "https://localhost:8080/"
        }
      },
      "execution_count": 91,
      "outputs": [
        {
          "output_type": "stream",
          "name": "stdout",
          "text": [
            "+------+------------+\n",
            "| E(0) | 0.00832894 |\n",
            "+------+------------+\n",
            "| E(1) | 0.264377   |\n",
            "+------+------------+\n",
            "| E(2) | 0.323334   |\n",
            "+------+------------+\n",
            "| E(3) | 0.229355   |\n",
            "+------+------------+\n",
            "| E(4) | 0.174604   |\n",
            "+------+------------+\n"
          ]
        }
      ]
    },
    {
      "cell_type": "code",
      "source": [
        "# 3. G: Género\n",
        "cpd_g = be.estimate_cpd('G', prior_type='BDeu')\n",
        "print(cpd_g)"
      ],
      "metadata": {
        "id": "0tZwYNAivf6j",
        "outputId": "e088f7e0-74f3-4cec-ddb5-bc1d18452d3f",
        "colab": {
          "base_uri": "https://localhost:8080/"
        }
      },
      "execution_count": 85,
      "outputs": [
        {
          "output_type": "stream",
          "name": "stdout",
          "text": [
            "+------+----------+\n",
            "| G(0) | 0.401288 |\n",
            "+------+----------+\n",
            "| G(1) | 0.598712 |\n",
            "+------+----------+\n"
          ]
        }
      ]
    },
    {
      "cell_type": "code",
      "source": [
        "# 4. EC: Estado civil\n",
        "cpd_ec = be.estimate_cpd('EC', prior_type='BDeu')\n",
        "print(cpd_ec)"
      ],
      "metadata": {
        "id": "Tkq0aQ4jvtWz",
        "outputId": "41769862-c445-4cfc-d5f6-36f6a463a418",
        "colab": {
          "base_uri": "https://localhost:8080/"
        }
      },
      "execution_count": 86,
      "outputs": [
        {
          "output_type": "stream",
          "name": "stdout",
          "text": [
            "+-------+----------+\n",
            "| EC(0) | 0.586961 |\n",
            "+-------+----------+\n",
            "| EC(1) | 0.413039 |\n",
            "+-------+----------+\n"
          ]
        }
      ]
    },
    {
      "cell_type": "code",
      "source": [
        "# 5. TR: Tiene tarjeta del retail\n",
        "cpd_tr = be.estimate_cpd('TR', prior_type='BDeu')\n",
        "print(cpd_tr)"
      ],
      "metadata": {
        "id": "-nTpUX8lv6WL",
        "outputId": "42353fee-cd0e-4261-b2b7-2a96eb9710fa",
        "colab": {
          "base_uri": "https://localhost:8080/"
        }
      },
      "execution_count": 101,
      "outputs": [
        {
          "output_type": "stream",
          "name": "stdout",
          "text": [
            "+-------+---------------------+-----+--------------------+\n",
            "| NSE   | NSE(0)              | ... | NSE(4)             |\n",
            "+-------+---------------------+-----+--------------------+\n",
            "| TR(0) | 0.40146169634437234 | ... | 0.5277043692741367 |\n",
            "+-------+---------------------+-----+--------------------+\n",
            "| TR(1) | 0.5985383036556277  | ... | 0.4722956307258633 |\n",
            "+-------+---------------------+-----+--------------------+\n"
          ]
        }
      ]
    },
    {
      "cell_type": "code",
      "source": [
        "for i in range(0, len(cpd_tr.values)):\n",
        "  for j in range(0, len(cpd_tr.values[i])):\n",
        "    print('tr_',i,'nse_',j,': ',cpd_tr.values[i][j])"
      ],
      "metadata": {
        "colab": {
          "base_uri": "https://localhost:8080/"
        },
        "id": "ghf_6lHbyQXL",
        "outputId": "ef97c212-a330-47db-9e1b-4182bf3fbf8a"
      },
      "execution_count": 102,
      "outputs": [
        {
          "output_type": "stream",
          "name": "stdout",
          "text": [
            "tr_ 0 nse_ 0 :  0.40146169634437234\n",
            "tr_ 0 nse_ 1 :  0.38465981196489535\n",
            "tr_ 0 nse_ 2 :  0.4271568315733218\n",
            "tr_ 0 nse_ 3 :  0.4884443004481884\n",
            "tr_ 0 nse_ 4 :  0.5277043692741367\n",
            "tr_ 1 nse_ 0 :  0.5985383036556277\n",
            "tr_ 1 nse_ 1 :  0.6153401880351047\n",
            "tr_ 1 nse_ 2 :  0.5728431684266783\n",
            "tr_ 1 nse_ 3 :  0.5115556995518117\n",
            "tr_ 1 nse_ 4 :  0.4722956307258633\n"
          ]
        }
      ]
    },
    {
      "cell_type": "code",
      "source": [
        "# 6. TC: Tipo de cliente (Condicional)\n",
        "cpd_tc = be.estimate_cpd('TC', prior_type='BDeu')\n",
        "print(cpd_tc)"
      ],
      "metadata": {
        "id": "CVbSbLfjv8TK",
        "outputId": "d8d1a1f4-0d95-4fc3-c898-24ece7ba5670",
        "colab": {
          "base_uri": "https://localhost:8080/"
        }
      },
      "execution_count": 103,
      "outputs": [
        {
          "output_type": "stream",
          "name": "stdout",
          "text": [
            "+-------+---------------------+-----+---------------------+\n",
            "| E     | E(0)                | ... | E(4)                |\n",
            "+-------+---------------------+-----+---------------------+\n",
            "| EC    | EC(0)               | ... | EC(1)               |\n",
            "+-------+---------------------+-----+---------------------+\n",
            "| G     | G(0)                | ... | G(1)                |\n",
            "+-------+---------------------+-----+---------------------+\n",
            "| TC(0) | 0.5802807633252907  | ... | 0.5970657338436762  |\n",
            "+-------+---------------------+-----+---------------------+\n",
            "| TC(1) | 0.41971923667470934 | ... | 0.40293426615632383 |\n",
            "+-------+---------------------+-----+---------------------+\n"
          ]
        }
      ]
    },
    {
      "cell_type": "code",
      "source": [
        "for i in range(0, len(cpd_tc.values)):\n",
        "  for j in range(0, len(cpd_tc.values[i])):\n",
        "    for k in range(0, len(cpd_tc.values[i][j])):\n",
        "      for l in range(0, len(cpd_tc.values[i][j][k])):\n",
        "        print('tc_',i,'e_',j,'ec_',k,'g_',l,': ',cpd_tc.values[i][j][k][l])"
      ],
      "metadata": {
        "colab": {
          "base_uri": "https://localhost:8080/"
        },
        "id": "y6zVABrayI1z",
        "outputId": "0e4df7c8-6b05-4fe7-c30a-d44e539a8220"
      },
      "execution_count": 104,
      "outputs": [
        {
          "output_type": "stream",
          "name": "stdout",
          "text": [
            "tc_ 0 e_ 0 ec_ 0 g_ 0 :  0.5802807633252907\n",
            "tc_ 0 e_ 0 ec_ 0 g_ 1 :  0.6944459026720563\n",
            "tc_ 0 e_ 0 ec_ 1 g_ 0 :  0.3356164383561644\n",
            "tc_ 0 e_ 0 ec_ 1 g_ 1 :  0.4792746113989637\n",
            "tc_ 0 e_ 1 ec_ 0 g_ 0 :  0.6211795329284239\n",
            "tc_ 0 e_ 1 ec_ 0 g_ 1 :  0.7127184951509552\n",
            "tc_ 0 e_ 1 ec_ 1 g_ 0 :  0.5750807405749369\n",
            "tc_ 0 e_ 1 ec_ 1 g_ 1 :  0.6331941968491384\n",
            "tc_ 0 e_ 2 ec_ 0 g_ 0 :  0.5960895818288159\n",
            "tc_ 0 e_ 2 ec_ 0 g_ 1 :  0.6762558977109766\n",
            "tc_ 0 e_ 2 ec_ 1 g_ 0 :  0.5762606538994791\n",
            "tc_ 0 e_ 2 ec_ 1 g_ 1 :  0.6507974347300839\n",
            "tc_ 0 e_ 3 ec_ 0 g_ 0 :  0.5353356339926306\n",
            "tc_ 0 e_ 3 ec_ 0 g_ 1 :  0.6161304079357112\n",
            "tc_ 0 e_ 3 ec_ 1 g_ 0 :  0.5421323513099807\n",
            "tc_ 0 e_ 3 ec_ 1 g_ 1 :  0.6396759353326318\n",
            "tc_ 0 e_ 4 ec_ 0 g_ 0 :  0.4444021512241841\n",
            "tc_ 0 e_ 4 ec_ 0 g_ 1 :  0.5538504614110048\n",
            "tc_ 0 e_ 4 ec_ 1 g_ 0 :  0.4496929195362396\n",
            "tc_ 0 e_ 4 ec_ 1 g_ 1 :  0.5970657338436762\n",
            "tc_ 1 e_ 0 ec_ 0 g_ 0 :  0.41971923667470934\n",
            "tc_ 1 e_ 0 ec_ 0 g_ 1 :  0.3055540973279437\n",
            "tc_ 1 e_ 0 ec_ 1 g_ 0 :  0.6643835616438356\n",
            "tc_ 1 e_ 0 ec_ 1 g_ 1 :  0.5207253886010362\n",
            "tc_ 1 e_ 1 ec_ 0 g_ 0 :  0.3788204670715761\n",
            "tc_ 1 e_ 1 ec_ 0 g_ 1 :  0.2872815048490448\n",
            "tc_ 1 e_ 1 ec_ 1 g_ 0 :  0.42491925942506314\n",
            "tc_ 1 e_ 1 ec_ 1 g_ 1 :  0.36680580315086164\n",
            "tc_ 1 e_ 2 ec_ 0 g_ 0 :  0.4039104181711841\n",
            "tc_ 1 e_ 2 ec_ 0 g_ 1 :  0.3237441022890234\n",
            "tc_ 1 e_ 2 ec_ 1 g_ 0 :  0.4237393461005209\n",
            "tc_ 1 e_ 2 ec_ 1 g_ 1 :  0.34920256526991617\n",
            "tc_ 1 e_ 3 ec_ 0 g_ 0 :  0.4646643660073694\n",
            "tc_ 1 e_ 3 ec_ 0 g_ 1 :  0.38386959206428883\n",
            "tc_ 1 e_ 3 ec_ 1 g_ 0 :  0.4578676486900193\n",
            "tc_ 1 e_ 3 ec_ 1 g_ 1 :  0.3603240646673682\n",
            "tc_ 1 e_ 4 ec_ 0 g_ 0 :  0.555597848775816\n",
            "tc_ 1 e_ 4 ec_ 0 g_ 1 :  0.4461495385889952\n",
            "tc_ 1 e_ 4 ec_ 1 g_ 0 :  0.5503070804637604\n",
            "tc_ 1 e_ 4 ec_ 1 g_ 1 :  0.40293426615632383\n"
          ]
        }
      ]
    },
    {
      "cell_type": "code",
      "source": [
        "# 7. PTR: Usa tarjeta del retail\n",
        "cpd_ptr = be.estimate_cpd('PTR', prior_type='BDeu')\n",
        "print(cpd_ptr)"
      ],
      "metadata": {
        "id": "NFKbsiT2v-OJ",
        "outputId": "460b3be8-85ea-4532-dafe-cd896340fcf1",
        "colab": {
          "base_uri": "https://localhost:8080/"
        }
      },
      "execution_count": 105,
      "outputs": [
        {
          "output_type": "stream",
          "name": "stdout",
          "text": [
            "+--------+---------------------+---------------------+\n",
            "| TR     | TR(0)               | TR(1)               |\n",
            "+--------+---------------------+---------------------+\n",
            "| PTR(0) | 0.9349638629676803  | 0.49181854843178896 |\n",
            "+--------+---------------------+---------------------+\n",
            "| PTR(1) | 0.06503613703231971 | 0.508181451568211   |\n",
            "+--------+---------------------+---------------------+\n"
          ]
        }
      ]
    },
    {
      "cell_type": "code",
      "source": [
        "# 8. PP: Producto en promoción\n",
        "cpd_pp = be.estimate_cpd('PP', prior_type='BDeu')\n",
        "print(cpd_pp)"
      ],
      "metadata": {
        "id": "E02fimt0v-Vh",
        "outputId": "a7ecf79e-d0e7-4b49-86a0-683eb888cd8f",
        "colab": {
          "base_uri": "https://localhost:8080/"
        }
      },
      "execution_count": 106,
      "outputs": [
        {
          "output_type": "stream",
          "name": "stdout",
          "text": [
            "+-------+----------------------+-----+---------------------+\n",
            "| CC    | CC(0)                | ... | CC(1)               |\n",
            "+-------+----------------------+-----+---------------------+\n",
            "| PTR   | PTR(0)               | ... | PTR(1)              |\n",
            "+-------+----------------------+-----+---------------------+\n",
            "| PP(0) | 0.9851524107992191   | ... | 0.8161810840152144  |\n",
            "+-------+----------------------+-----+---------------------+\n",
            "| PP(1) | 0.014847589200780869 | ... | 0.18381891598478556 |\n",
            "+-------+----------------------+-----+---------------------+\n"
          ]
        }
      ]
    },
    {
      "cell_type": "code",
      "source": [
        "for i in range(0, len(cpd_pp.values)):\n",
        "  for j in range(0, len(cpd_pp.values[i])):\n",
        "    for k in range(0, len(cpd_pp.values[i][j])):\n",
        "        print('pp_',i,'cc_',j,'ptr_',k,': ',cpd_pp.values[i][j][k])"
      ],
      "metadata": {
        "colab": {
          "base_uri": "https://localhost:8080/"
        },
        "id": "o-b09ndyx_ir",
        "outputId": "c5ee29c0-83cd-4e67-cd9b-e5bb1119f58e"
      },
      "execution_count": 107,
      "outputs": [
        {
          "output_type": "stream",
          "name": "stdout",
          "text": [
            "pp_ 0 cc_ 0 ptr_ 0 :  0.9851524107992191\n",
            "pp_ 0 cc_ 0 ptr_ 1 :  0.875949138341739\n",
            "pp_ 0 cc_ 1 ptr_ 0 :  0.951550180343966\n",
            "pp_ 0 cc_ 1 ptr_ 1 :  0.8161810840152144\n",
            "pp_ 1 cc_ 0 ptr_ 0 :  0.014847589200780869\n",
            "pp_ 1 cc_ 0 ptr_ 1 :  0.12405086165826092\n",
            "pp_ 1 cc_ 1 ptr_ 0 :  0.04844981965603399\n",
            "pp_ 1 cc_ 1 ptr_ 1 :  0.18381891598478556\n"
          ]
        }
      ]
    },
    {
      "cell_type": "code",
      "source": [
        "# 9. CC: Canal de compra\n",
        "cpd_cc = be.estimate_cpd('CC', prior_type='BDeu')\n",
        "print(cpd_cc)"
      ],
      "metadata": {
        "id": "h3OdPxeHwC1Q",
        "outputId": "11276c8a-451f-45a1-c736-593cba1530b8",
        "colab": {
          "base_uri": "https://localhost:8080/"
        }
      },
      "execution_count": 108,
      "outputs": [
        {
          "output_type": "stream",
          "name": "stdout",
          "text": [
            "+-------+----------+\n",
            "| CC(0) | 0.825149 |\n",
            "+-------+----------+\n",
            "| CC(1) | 0.174851 |\n",
            "+-------+----------+\n"
          ]
        }
      ]
    },
    {
      "cell_type": "code",
      "source": [
        "# 10. C: Rango de compra\n",
        "cpd_c = be.estimate_cpd('C', prior_type='BDeu')\n",
        "print(cpd_c)"
      ],
      "metadata": {
        "id": "scrKu-KBwGRB",
        "outputId": "4123dd97-6fd2-409f-c0d2-62f25073c159",
        "colab": {
          "base_uri": "https://localhost:8080/"
        }
      },
      "execution_count": 109,
      "outputs": [
        {
          "output_type": "stream",
          "name": "stdout",
          "text": [
            "+------+---------------------+-----+---------------------+\n",
            "| CC   | CC(0)               | ... | CC(1)               |\n",
            "+------+---------------------+-----+---------------------+\n",
            "| PP   | PP(0)               | ... | PP(1)               |\n",
            "+------+---------------------+-----+---------------------+\n",
            "| TC   | TC(0)               | ... | TC(1)               |\n",
            "+------+---------------------+-----+---------------------+\n",
            "| C(0) | 0.46529151178271005 | ... | 0.2643884533285455  |\n",
            "+------+---------------------+-----+---------------------+\n",
            "| C(1) | 0.23452104804896595 | ... | 0.19640114110160192 |\n",
            "+------+---------------------+-----+---------------------+\n",
            "| C(2) | 0.30018744016832405 | ... | 0.5392104055698526  |\n",
            "+------+---------------------+-----+---------------------+\n"
          ]
        }
      ]
    },
    {
      "cell_type": "code",
      "source": [
        "for i in range(0, len(cpd_c.values)):\n",
        "  for j in range(0, len(cpd_c.values[i])):\n",
        "    for k in range(0, len(cpd_c.values[i][j])):\n",
        "      for l in range(0, len(cpd_c.values[i][j][k])):\n",
        "        print('c_',i,'cc_',j,'pp_',k,'tc_',l,': ',cpd_c.values[i][j][k][l])"
      ],
      "metadata": {
        "colab": {
          "base_uri": "https://localhost:8080/"
        },
        "id": "5q5PvwSdx5eC",
        "outputId": "13f93207-0434-4e0b-dd95-54adfdc2fc8b"
      },
      "execution_count": 110,
      "outputs": [
        {
          "output_type": "stream",
          "name": "stdout",
          "text": [
            "c_ 0 cc_ 0 pp_ 0 tc_ 0 :  0.46529151178271005\n",
            "c_ 0 cc_ 0 pp_ 0 tc_ 1 :  0.6273158949985669\n",
            "c_ 0 cc_ 0 pp_ 1 tc_ 0 :  0.2782284967231002\n",
            "c_ 0 cc_ 0 pp_ 1 tc_ 1 :  0.48551085948348427\n",
            "c_ 0 cc_ 1 pp_ 0 tc_ 0 :  0.2343165554120581\n",
            "c_ 0 cc_ 1 pp_ 0 tc_ 1 :  0.37826896155796685\n",
            "c_ 0 cc_ 1 pp_ 1 tc_ 0 :  0.10663946547499542\n",
            "c_ 0 cc_ 1 pp_ 1 tc_ 1 :  0.2643884533285455\n",
            "c_ 1 cc_ 0 pp_ 0 tc_ 0 :  0.23452104804896595\n",
            "c_ 1 cc_ 0 pp_ 0 tc_ 1 :  0.20396336849825417\n",
            "c_ 1 cc_ 0 pp_ 1 tc_ 0 :  0.2379070518428738\n",
            "c_ 1 cc_ 0 pp_ 1 tc_ 1 :  0.2402597054455578\n",
            "c_ 1 cc_ 1 pp_ 0 tc_ 0 :  0.18822531006206353\n",
            "c_ 1 cc_ 1 pp_ 0 tc_ 1 :  0.18790259483413868\n",
            "c_ 1 cc_ 1 pp_ 1 tc_ 0 :  0.13897002471854322\n",
            "c_ 1 cc_ 1 pp_ 1 tc_ 1 :  0.19640114110160192\n",
            "c_ 2 cc_ 0 pp_ 0 tc_ 0 :  0.30018744016832405\n",
            "c_ 2 cc_ 0 pp_ 0 tc_ 1 :  0.16872073650317904\n",
            "c_ 2 cc_ 0 pp_ 1 tc_ 0 :  0.483864451434026\n",
            "c_ 2 cc_ 0 pp_ 1 tc_ 1 :  0.2742294350709579\n",
            "c_ 2 cc_ 1 pp_ 0 tc_ 0 :  0.5774581345258784\n",
            "c_ 2 cc_ 1 pp_ 0 tc_ 1 :  0.4338284436078945\n",
            "c_ 2 cc_ 1 pp_ 1 tc_ 0 :  0.7543905098064614\n",
            "c_ 2 cc_ 1 pp_ 1 tc_ 1 :  0.5392104055698526\n"
          ]
        }
      ]
    },
    {
      "cell_type": "code",
      "source": [
        "model.fit(df_model, estimator=BayesianEstimator, prior_type='BDeu')"
      ],
      "metadata": {
        "id": "5DEFkKC72-yz"
      },
      "execution_count": 122,
      "outputs": []
    },
    {
      "cell_type": "code",
      "source": [
        "for cpd in model.get_cpds():\n",
        "    print(cpd)"
      ],
      "metadata": {
        "colab": {
          "base_uri": "https://localhost:8080/"
        },
        "id": "e-YBSKlQ3EYr",
        "outputId": "af81f76d-c09f-4261-b7a8-2e58b0d9c0af"
      },
      "execution_count": 123,
      "outputs": [
        {
          "output_type": "stream",
          "name": "stdout",
          "text": [
            "+--------+-----------+\n",
            "| NSE(0) | 0.182018  |\n",
            "+--------+-----------+\n",
            "| NSE(1) | 0.451916  |\n",
            "+--------+-----------+\n",
            "| NSE(2) | 0.298509  |\n",
            "+--------+-----------+\n",
            "| NSE(3) | 0.0560957 |\n",
            "+--------+-----------+\n",
            "| NSE(4) | 0.0114621 |\n",
            "+--------+-----------+\n",
            "+-------+---------------------+-----+--------------------+\n",
            "| NSE   | NSE(0)              | ... | NSE(4)             |\n",
            "+-------+---------------------+-----+--------------------+\n",
            "| TR(0) | 0.40146169634437234 | ... | 0.5277043692741367 |\n",
            "+-------+---------------------+-----+--------------------+\n",
            "| TR(1) | 0.5985383036556277  | ... | 0.4722956307258633 |\n",
            "+-------+---------------------+-----+--------------------+\n",
            "+--------+---------------------+---------------------+\n",
            "| TR     | TR(0)               | TR(1)               |\n",
            "+--------+---------------------+---------------------+\n",
            "| PTR(0) | 0.9349638629676803  | 0.49181854843178896 |\n",
            "+--------+---------------------+---------------------+\n",
            "| PTR(1) | 0.06503613703231971 | 0.508181451568211   |\n",
            "+--------+---------------------+---------------------+\n",
            "+-------+----------------------+-----+---------------------+\n",
            "| CC    | CC(0)                | ... | CC(1)               |\n",
            "+-------+----------------------+-----+---------------------+\n",
            "| PTR   | PTR(0)               | ... | PTR(1)              |\n",
            "+-------+----------------------+-----+---------------------+\n",
            "| PP(0) | 0.9851524107992191   | ... | 0.8161810840152144  |\n",
            "+-------+----------------------+-----+---------------------+\n",
            "| PP(1) | 0.014847589200780869 | ... | 0.18381891598478556 |\n",
            "+-------+----------------------+-----+---------------------+\n",
            "+-------+----------+\n",
            "| CC(0) | 0.825149 |\n",
            "+-------+----------+\n",
            "| CC(1) | 0.174851 |\n",
            "+-------+----------+\n",
            "+------+---------------------+-----+---------------------+\n",
            "| CC   | CC(0)               | ... | CC(1)               |\n",
            "+------+---------------------+-----+---------------------+\n",
            "| PP   | PP(0)               | ... | PP(1)               |\n",
            "+------+---------------------+-----+---------------------+\n",
            "| TC   | TC(0)               | ... | TC(1)               |\n",
            "+------+---------------------+-----+---------------------+\n",
            "| C(0) | 0.46529151178271005 | ... | 0.2643884533285455  |\n",
            "+------+---------------------+-----+---------------------+\n",
            "| C(1) | 0.23452104804896595 | ... | 0.19640114110160192 |\n",
            "+------+---------------------+-----+---------------------+\n",
            "| C(2) | 0.30018744016832405 | ... | 0.5392104055698526  |\n",
            "+------+---------------------+-----+---------------------+\n",
            "+------+------------+\n",
            "| E(0) | 0.00832797 |\n",
            "+------+------------+\n",
            "| E(1) | 0.264378   |\n",
            "+------+------------+\n",
            "| E(2) | 0.323335   |\n",
            "+------+------------+\n",
            "| E(3) | 0.229356   |\n",
            "+------+------------+\n",
            "| E(4) | 0.174604   |\n",
            "+------+------------+\n",
            "+-------+---------------------+-----+---------------------+\n",
            "| E     | E(0)                | ... | E(4)                |\n",
            "+-------+---------------------+-----+---------------------+\n",
            "| EC    | EC(0)               | ... | EC(1)               |\n",
            "+-------+---------------------+-----+---------------------+\n",
            "| G     | G(0)                | ... | G(1)                |\n",
            "+-------+---------------------+-----+---------------------+\n",
            "| TC(0) | 0.5802807633252907  | ... | 0.5970657338436762  |\n",
            "+-------+---------------------+-----+---------------------+\n",
            "| TC(1) | 0.41971923667470934 | ... | 0.40293426615632383 |\n",
            "+-------+---------------------+-----+---------------------+\n",
            "+------+----------+\n",
            "| G(0) | 0.401288 |\n",
            "+------+----------+\n",
            "| G(1) | 0.598712 |\n",
            "+------+----------+\n",
            "+-------+----------+\n",
            "| EC(0) | 0.586961 |\n",
            "+-------+----------+\n",
            "| EC(1) | 0.413039 |\n",
            "+-------+----------+\n"
          ]
        }
      ]
    },
    {
      "cell_type": "markdown",
      "source": [
        "## 2.4. Aprendizaje estructurado"
      ],
      "metadata": {
        "id": "PVhMwUKgarFv"
      }
    },
    {
      "cell_type": "markdown",
      "source": [
        "### 2.4.2. Grafico aciciclo dirigido"
      ],
      "metadata": {
        "id": "p0Qbwvs1iH5S"
      }
    },
    {
      "cell_type": "code",
      "source": [
        "# NSE\n",
        "ts = TreeSearch(df_model, root_node='NSE')\n",
        "dag = ts.estimate(estimator_type='chow-liu')\n",
        "pos = {'NSE': (1, 1), 'TR': (1, 0), 'PTR': (1, -1), 'PP': (1, -2), 'CC': (2, -1), 'E': (2.5, 0),'G': (0, 0),'EC': (3.5, 0),'TC': (0, -1),'C': (2, -2)}\n",
        "nx.draw(dag, pos=pos, with_labels=True, node_size=1200, node_color='#6e6edb', font_size=11, font_weight='bold', alpha=0.8)\n",
        "plt.show()"
      ],
      "metadata": {
        "colab": {
          "base_uri": "https://localhost:8080/",
          "height": 548,
          "referenced_widgets": [
            "426f9532573e4c1b89cf9b47f6a1ecbd",
            "7b207ec5c0fc4f0187a07f0dcbfb4b53",
            "ba20e9949aa64216bcf31c1c840b0e81",
            "2c985768505b41b6b564edfa7bc7211b",
            "14c312bcb1c74978ae095e916ef78cbb",
            "42043396ceca4c978e27db12b6b18b6d",
            "cc2fb2f845c44a7bac630f3d6246ef13",
            "1599e2f6229d46b793ad1902bd52f745",
            "44707d4cdc6042749fb12ec65f779809",
            "3cb60a4ae7464b488bc63f7a6dd800f6",
            "37eb37f9e1dc494794b2b067a24122db"
          ]
        },
        "id": "J547Ot5CiHJQ",
        "outputId": "d794b78c-156b-4f65-99c0-f423a730b59b"
      },
      "execution_count": 114,
      "outputs": [
        {
          "output_type": "display_data",
          "data": {
            "text/plain": [
              "Building tree:   0%|          | 0/45.0 [00:00<?, ?it/s]"
            ],
            "application/vnd.jupyter.widget-view+json": {
              "version_major": 2,
              "version_minor": 0,
              "model_id": "426f9532573e4c1b89cf9b47f6a1ecbd"
            }
          },
          "metadata": {}
        },
        {
          "output_type": "display_data",
          "data": {
            "text/plain": [
              "<Figure size 640x480 with 1 Axes>"
            ],
            "image/png": "[encoded data removed]"
          },
          "metadata": {}
        }
      ]
    },
    {
      "cell_type": "code",
      "source": [
        "# Género\n",
        "ts = TreeSearch(df_model, root_node='G')\n",
        "dag = ts.estimate(estimator_type='chow-liu')\n",
        "pos = {'NSE': (1, 1), 'TR': (1, 0), 'PTR': (1, -1), 'PP': (1, -2), 'CC': (2, -1), 'E': (2.5, 0),'G': (0, 0),'EC': (3.5, 0),'TC': (0, -1),'C': (2, -2)}\n",
        "nx.draw(dag, pos=pos, with_labels=True, node_size=1200, node_color='#6e6edb', font_size=11, font_weight='bold', alpha=0.8)\n",
        "plt.show()"
      ],
      "metadata": {
        "colab": {
          "base_uri": "https://localhost:8080/",
          "height": 548,
          "referenced_widgets": [
            "17ca67fef5f54614b2f78e3460e873fe",
            "bbb661ee560b4427acb6fcc087905d9e",
            "824e287c414c46089c58ee446821d18d",
            "71c339367c8a49fd8a7b09df47d6940d",
            "e311936291024773a924a9011e77c208",
            "3b0b757ba9844ff1aec1baa5c93757a5",
            "2626d170857a455a81786048f7ef8594",
            "df02fd4ee63c42e9a5fc8d5c56e64294",
            "8a228824d1bf49189eca519be33d6a56",
            "37fc916b38514723b891ab548218ad2f",
            "25cf3c91e0af4abb8887eecc684cef4a"
          ]
        },
        "id": "vnHgcjNEzB5T",
        "outputId": "492358e3-bab5-4a85-9314-e477d15222e6"
      },
      "execution_count": 115,
      "outputs": [
        {
          "output_type": "display_data",
          "data": {
            "text/plain": [
              "Building tree:   0%|          | 0/45.0 [00:00<?, ?it/s]"
            ],
            "application/vnd.jupyter.widget-view+json": {
              "version_major": 2,
              "version_minor": 0,
              "model_id": "17ca67fef5f54614b2f78e3460e873fe"
            }
          },
          "metadata": {}
        },
        {
          "output_type": "display_data",
          "data": {
            "text/plain": [
              "<Figure size 640x480 with 1 Axes>"
            ],
            "image/png": "[encoded data removed]"
          },
          "metadata": {}
        }
      ]
    },
    {
      "cell_type": "code",
      "source": [
        "# Rango edad\n",
        "ts = TreeSearch(df_model, root_node='E')\n",
        "dag = ts.estimate(estimator_type='chow-liu')\n",
        "pos = {'NSE': (1, 1), 'TR': (1, 0), 'PTR': (1, -1), 'PP': (1, -2), 'CC': (2, -1), 'E': (2.5, 0),'G': (0, 0),'EC': (3.5, 0),'TC': (0, -1),'C': (2, -2)}\n",
        "nx.draw(dag, pos=pos, with_labels=True, node_size=1200, node_color='#6e6edb', font_size=11, font_weight='bold', alpha=0.8)\n",
        "plt.show()"
      ],
      "metadata": {
        "colab": {
          "base_uri": "https://localhost:8080/",
          "height": 548,
          "referenced_widgets": [
            "28ca44d6fa774ec78bd1c2d071f7a6b0",
            "90f18eb1cd974ef785f04a5edb9a23a3",
            "ba26a6e9114a4cc8a806cafef4ce4d85",
            "58cf6f3efd5a40838666cfd9506b5e8c",
            "6fac2b033ae841238c0a9f3269879855",
            "571f2a037c1b426a8cfe269e7ec32110",
            "44784a52a47042efb57369c4a1533d17",
            "86d3fcb6f59c487683d7449668d5db6c",
            "b03f1b8c407f4953b7ac61032df36007",
            "dad0fe12da534962a40fb92ccb88beaf",
            "90d03f5efea34545958cea3c35b78080"
          ]
        },
        "id": "SHd98h5gzxx7",
        "outputId": "90ee7adc-9df3-409b-a2ac-bd31c939b355"
      },
      "execution_count": 116,
      "outputs": [
        {
          "output_type": "display_data",
          "data": {
            "text/plain": [
              "Building tree:   0%|          | 0/45.0 [00:00<?, ?it/s]"
            ],
            "application/vnd.jupyter.widget-view+json": {
              "version_major": 2,
              "version_minor": 0,
              "model_id": "28ca44d6fa774ec78bd1c2d071f7a6b0"
            }
          },
          "metadata": {}
        },
        {
          "output_type": "display_data",
          "data": {
            "text/plain": [
              "<Figure size 640x480 with 1 Axes>"
            ],
            "image/png": "[encoded data removed]"
          },
          "metadata": {}
        }
      ]
    },
    {
      "cell_type": "markdown",
      "source": [
        "### 2.4.3. CPDs"
      ],
      "metadata": {
        "id": "zwrngPWTkfOi"
      }
    },
    {
      "cell_type": "code",
      "source": [
        "bn_ = BayesianNetwork(dag)\n",
        "bn_.fit(df_model)\n",
        "\n",
        "for i in df_model.columns:\n",
        "  print(i,'\\n',bn_.get_cpds(i),'\\n')"
      ],
      "metadata": {
        "colab": {
          "base_uri": "https://localhost:8080/"
        },
        "id": "VOwn6tWuhZgb",
        "outputId": "7f809c34-cb7f-493e-ee04-c75db86544e0"
      },
      "execution_count": 117,
      "outputs": [
        {
          "output_type": "stream",
          "name": "stdout",
          "text": [
            "NSE \n",
            " +--------+----------------------+-----+----------------------+\n",
            "| E      | E(0)                 | ... | E(4)                 |\n",
            "+--------+----------------------+-----+----------------------+\n",
            "| NSE(0) | 0.053110221898872316 | ... | 0.23499647247955774  |\n",
            "+--------+----------------------+-----+----------------------+\n",
            "| NSE(1) | 0.3629198496422942   | ... | 0.5023651735424401   |\n",
            "+--------+----------------------+-----+----------------------+\n",
            "| NSE(2) | 0.45737844064508304  | ... | 0.21789667256514347  |\n",
            "+--------+----------------------+-----+----------------------+\n",
            "| NSE(3) | 0.1092518491572693   | ... | 0.03696957079907012  |\n",
            "+--------+----------------------+-----+----------------------+\n",
            "| NSE(4) | 0.017339638656481145 | ... | 0.007772110613788557 |\n",
            "+--------+----------------------+-----+----------------------+ \n",
            "\n",
            "E \n",
            " +------+------------+\n",
            "| E(0) | 0.00832701 |\n",
            "+------+------------+\n",
            "| E(1) | 0.264378   |\n",
            "+------+------------+\n",
            "| E(2) | 0.323336   |\n",
            "+------+------------+\n",
            "| E(3) | 0.229356   |\n",
            "+------+------------+\n",
            "| E(4) | 0.174604   |\n",
            "+------+------------+ \n",
            "\n",
            "G \n",
            " +------+---------------------+--------------------+\n",
            "| TC   | TC(0)               | TC(1)              |\n",
            "+------+---------------------+--------------------+\n",
            "| G(0) | 0.36750064617871175 | 0.4557669886522503 |\n",
            "+------+---------------------+--------------------+\n",
            "| G(1) | 0.6324993538212882  | 0.5442330113477497 |\n",
            "+------+---------------------+--------------------+ \n",
            "\n",
            "EC \n",
            " +-------+----------------------+-----+---------------------+\n",
            "| E     | E(0)                 | ... | E(4)                |\n",
            "+-------+----------------------+-----+---------------------+\n",
            "| EC(0) | 0.9919970898508549   | ... | 0.24733122838670876 |\n",
            "+-------+----------------------+-----+---------------------+\n",
            "| EC(1) | 0.008002910149145144 | ... | 0.7526687716132913  |\n",
            "+-------+----------------------+-----+---------------------+ \n",
            "\n",
            "TR \n",
            " +-------+---------------------+---------------------+\n",
            "| PTR   | PTR(0)              | PTR(1)              |\n",
            "+-------+---------------------+---------------------+\n",
            "| TR(0) | 0.5669950953383947  | 0.08100749018628331 |\n",
            "+-------+---------------------+---------------------+\n",
            "| TR(1) | 0.43300490466160535 | 0.9189925098137167  |\n",
            "+-------+---------------------+---------------------+ \n",
            "\n",
            "TC \n",
            " +-------+---------------------+---------------------+\n",
            "| PTR   | PTR(0)              | PTR(1)              |\n",
            "+-------+---------------------+---------------------+\n",
            "| TC(0) | 0.5353347315196945  | 0.7854026167855414  |\n",
            "+-------+---------------------+---------------------+\n",
            "| TC(1) | 0.46466526848030554 | 0.21459738321445862 |\n",
            "+-------+---------------------+---------------------+ \n",
            "\n",
            "PTR \n",
            " +--------+--------------------+---------------------+--------------------+\n",
            "| C      | C(0)               | C(1)                | C(2)               |\n",
            "+--------+--------------------+---------------------+--------------------+\n",
            "| PTR(0) | 0.7896045054200542 | 0.6618275459325588  | 0.4987486839041062 |\n",
            "+--------+--------------------+---------------------+--------------------+\n",
            "| PTR(1) | 0.2103954945799458 | 0.33817245406744123 | 0.5012513160958938 |\n",
            "+--------+--------------------+---------------------+--------------------+ \n",
            "\n",
            "PP \n",
            " +-------+---------------------+---------------------+\n",
            "| PTR   | PTR(0)              | PTR(1)              |\n",
            "+-------+---------------------+---------------------+\n",
            "| PP(0) | 0.9812626013172177  | 0.8582538522499854  |\n",
            "+-------+---------------------+---------------------+\n",
            "| PP(1) | 0.01873739868278234 | 0.14174614775001465 |\n",
            "+-------+---------------------+---------------------+ \n",
            "\n",
            "CC \n",
            " +-------+---------------------+-----+---------------------+\n",
            "| E     | E(0)                | ... | E(4)                |\n",
            "+-------+---------------------+-----+---------------------+\n",
            "| CC(0) | 0.7331150721474475  | ... | 0.9156980442501417  |\n",
            "+-------+---------------------+-----+---------------------+\n",
            "| CC(1) | 0.26688492785255247 | ... | 0.08430195574985833 |\n",
            "+-------+---------------------+-----+---------------------+ \n",
            "\n",
            "C \n",
            " +------+---------------------+---------------------+\n",
            "| CC   | CC(0)               | CC(1)               |\n",
            "+------+---------------------+---------------------+\n",
            "| C(0) | 0.5253254007780006  | 0.24838163874596492 |\n",
            "+------+---------------------+---------------------+\n",
            "| C(1) | 0.22214621957531788 | 0.1827694333281361  |\n",
            "+------+---------------------+---------------------+\n",
            "| C(2) | 0.2525283796466815  | 0.568848927925899   |\n",
            "+------+---------------------+---------------------+ \n",
            "\n"
          ]
        }
      ]
    },
    {
      "cell_type": "markdown",
      "source": [
        "# Inferencias"
      ],
      "metadata": {
        "id": "sLhheoUflBvS"
      }
    },
    {
      "cell_type": "code",
      "source": [
        "inference = VariableElimination(model)"
      ],
      "metadata": {
        "id": "iWDnd_KEFWec"
      },
      "execution_count": 124,
      "outputs": []
    },
    {
      "cell_type": "markdown",
      "source": [
        "1. ¿Cuál es la probabilidad de contar con un cliente en el nivel socioeconómico A y otro cliente en el E? (marginal)"
      ],
      "metadata": {
        "id": "0JWSrrvWlHGV"
      }
    },
    {
      "cell_type": "code",
      "source": [
        "p_nse = inference.query(variables=['NSE'])\n",
        "print(p_nse)\n",
        "print('\\nLa probabilidad de que un cliente sea del NSE A es del ',round(p_nse.values[0]*100,2), \"%\")\n",
        "print('\\nLa probabilidad de que un cliente sea del NSE E es del ',round(p_nse.values[4]*100,2), \"%\")"
      ],
      "metadata": {
        "colab": {
          "base_uri": "https://localhost:8080/"
        },
        "id": "PiZvME1UlAKi",
        "outputId": "ac059ffe-088f-4052-8f4d-2204672ca217"
      },
      "execution_count": 125,
      "outputs": [
        {
          "output_type": "stream",
          "name": "stdout",
          "text": [
            "+--------+------------+\n",
            "| NSE    |   phi(NSE) |\n",
            "+========+============+\n",
            "| NSE(0) |     0.1820 |\n",
            "+--------+------------+\n",
            "| NSE(1) |     0.4519 |\n",
            "+--------+------------+\n",
            "| NSE(2) |     0.2985 |\n",
            "+--------+------------+\n",
            "| NSE(3) |     0.0561 |\n",
            "+--------+------------+\n",
            "| NSE(4) |     0.0115 |\n",
            "+--------+------------+\n",
            "\n",
            "La probabilidad de que un cliente sea del NSE A es del  18.2 %\n",
            "\n",
            "La probabilidad de que un cliente sea del NSE E es del  1.15 %\n"
          ]
        }
      ]
    },
    {
      "cell_type": "markdown",
      "source": [
        "2. ¿Cuál es la probabilidad de que un cliente se encuentre en una edad entre 36 y 45 años? (marginal)"
      ],
      "metadata": {
        "id": "hta8lL5amHPi"
      }
    },
    {
      "cell_type": "code",
      "source": [
        "p_e = inference.query(variables=['E'])\n",
        "print(p_e)\n",
        "print('\\nLa probabilidad de que un cliente tenga entre 36-45 años es del ',round(p_e.values[2]*100,2), \"%\")"
      ],
      "metadata": {
        "colab": {
          "base_uri": "https://localhost:8080/"
        },
        "id": "p1d_r7qKmLRC",
        "outputId": "6204c69d-e9a1-460f-cc9d-16537f5997d7"
      },
      "execution_count": 126,
      "outputs": [
        {
          "output_type": "stream",
          "name": "stdout",
          "text": [
            "+------+----------+\n",
            "| E    |   phi(E) |\n",
            "+======+==========+\n",
            "| E(0) |   0.0083 |\n",
            "+------+----------+\n",
            "| E(1) |   0.2644 |\n",
            "+------+----------+\n",
            "| E(2) |   0.3233 |\n",
            "+------+----------+\n",
            "| E(3) |   0.2294 |\n",
            "+------+----------+\n",
            "| E(4) |   0.1746 |\n",
            "+------+----------+\n",
            "\n",
            "La probabilidad de que un cliente tenga entre 36-45 años es del  32.33 %\n"
          ]
        }
      ]
    },
    {
      "cell_type": "markdown",
      "source": [
        "3. ¿Cuáles son las probabilidades de que una persona del nivel socioeconómico A, B, C, D o E cuente con una tarjeta del retail? (condicional)"
      ],
      "metadata": {
        "id": "_3wngsG3mLZ7"
      }
    },
    {
      "cell_type": "code",
      "source": [
        "nse_list = ['A', 'B', 'C', 'D','E']\n",
        "\n",
        "for index,value in enumerate(nse_list):\n",
        "  p_nse_tr = inference.query(variables=['TR'], evidence={'NSE':index})\n",
        "  print(p_nse_tr)\n",
        "  print('\\nLa probabilidad de que un cliente de NSE ',value,' tenga tarjeta del retail es del ',round(p_nse_tr.values[1]*100,2), '%\\n')"
      ],
      "metadata": {
        "colab": {
          "base_uri": "https://localhost:8080/"
        },
        "id": "FUVJIS_imOZS",
        "outputId": "4b13bdd3-6572-423d-913a-f729e3d228df"
      },
      "execution_count": 129,
      "outputs": [
        {
          "output_type": "stream",
          "name": "stdout",
          "text": [
            "+-------+-----------+\n",
            "| TR    |   phi(TR) |\n",
            "+=======+===========+\n",
            "| TR(0) |    0.4015 |\n",
            "+-------+-----------+\n",
            "| TR(1) |    0.5985 |\n",
            "+-------+-----------+\n",
            "\n",
            "La probabilidad de que un cliente de NSE  A  tenga tarjeta del retail es del  59.85 %\n",
            "\n",
            "+-------+-----------+\n",
            "| TR    |   phi(TR) |\n",
            "+=======+===========+\n",
            "| TR(0) |    0.3847 |\n",
            "+-------+-----------+\n",
            "| TR(1) |    0.6153 |\n",
            "+-------+-----------+\n",
            "\n",
            "La probabilidad de que un cliente de NSE  B  tenga tarjeta del retail es del  61.53 %\n",
            "\n",
            "+-------+-----------+\n",
            "| TR    |   phi(TR) |\n",
            "+=======+===========+\n",
            "| TR(0) |    0.4272 |\n",
            "+-------+-----------+\n",
            "| TR(1) |    0.5728 |\n",
            "+-------+-----------+\n",
            "\n",
            "La probabilidad de que un cliente de NSE  C  tenga tarjeta del retail es del  57.28 %\n",
            "\n",
            "+-------+-----------+\n",
            "| TR    |   phi(TR) |\n",
            "+=======+===========+\n",
            "| TR(0) |    0.4884 |\n",
            "+-------+-----------+\n",
            "| TR(1) |    0.5116 |\n",
            "+-------+-----------+\n",
            "\n",
            "La probabilidad de que un cliente de NSE  D  tenga tarjeta del retail es del  51.16 %\n",
            "\n",
            "+-------+-----------+\n",
            "| TR    |   phi(TR) |\n",
            "+=======+===========+\n",
            "| TR(0) |    0.5277 |\n",
            "+-------+-----------+\n",
            "| TR(1) |    0.4723 |\n",
            "+-------+-----------+\n",
            "\n",
            "La probabilidad de que un cliente de NSE  E  tenga tarjeta del retail es del  47.23 %\n",
            "\n"
          ]
        }
      ]
    },
    {
      "cell_type": "markdown",
      "source": [
        "4. ¿Cuál es la probabilidad de que un cliente que tiene tarjeta del retail la use? (condicional)"
      ],
      "metadata": {
        "id": "gAlPHrjLmOmS"
      }
    },
    {
      "cell_type": "code",
      "source": [
        "p_mp_tr = inference.query(variables=['PTR'], evidence={'TR':1})\n",
        "print(p_mp_tr)\n",
        "print('\\nLa probabilidad de que un cliente que tiene tarjeta del retail lo use como medio de pago es del ',round(p_mp_tr.values[1]*100,2), \"%\")"
      ],
      "metadata": {
        "colab": {
          "base_uri": "https://localhost:8080/"
        },
        "id": "iOTCATKZmRKU",
        "outputId": "5f41ac6a-fa3e-45fc-e76b-95ffff980299"
      },
      "execution_count": 130,
      "outputs": [
        {
          "output_type": "stream",
          "name": "stdout",
          "text": [
            "+--------+------------+\n",
            "| PTR    |   phi(PTR) |\n",
            "+========+============+\n",
            "| PTR(0) |     0.4918 |\n",
            "+--------+------------+\n",
            "| PTR(1) |     0.5082 |\n",
            "+--------+------------+\n",
            "\n",
            "La probabilidad de que un cliente que tiene tarjeta del retail lo use como medio de pago es del  50.82 %\n"
          ]
        }
      ]
    },
    {
      "cell_type": "markdown",
      "source": [
        "5. ¿Cuál es la probabilidad de que los clientes con una edad entre 36 y 45 años sean nuevos? (condicional)"
      ],
      "metadata": {
        "id": "CLrm5WrHmRbT"
      }
    },
    {
      "cell_type": "code",
      "source": [
        "p_tp_e = inference.query(variables=['TC'], evidence={'E':2})\n",
        "print(p_tp_e)\n",
        "print('\\nLa probabilidad de que un cliente que tiene entre 36 y 45 años sea nuevo es del',round(p_tp_e.values[0]*100,2), \"%\")"
      ],
      "metadata": {
        "colab": {
          "base_uri": "https://localhost:8080/"
        },
        "id": "g-J27i8lme90",
        "outputId": "63e0c8fc-01ff-4943-edfc-83c9c832ee16"
      },
      "execution_count": 131,
      "outputs": [
        {
          "output_type": "stream",
          "name": "stdout",
          "text": [
            "+-------+-----------+\n",
            "| TC    |   phi(TC) |\n",
            "+=======+===========+\n",
            "| TC(0) |    0.6345 |\n",
            "+-------+-----------+\n",
            "| TC(1) |    0.3655 |\n",
            "+-------+-----------+\n",
            "\n",
            "La probabilidad de que un cliente que tiene entre 36 y 45 años sea nuevo es del 63.45 %\n"
          ]
        }
      ]
    },
    {
      "cell_type": "markdown",
      "source": [
        "6. ¿Cuál es la probabilidad de que un cliente que compró através del canal de compra tienda física tenga un monto de compra alto? (condicional)"
      ],
      "metadata": {
        "id": "N5S0BQ0-mfbK"
      }
    },
    {
      "cell_type": "code",
      "source": [
        "p_c_cc = inference.query(variables=['C'], evidence={'CC':0})\n",
        "print(p_c_cc)\n",
        "print('\\nLa probabilidad de que un cliente que compró en una tienda física tenga un monto de compra alto es del',round(p_c_cc.values[2]*100,2), \"%\")"
      ],
      "metadata": {
        "colab": {
          "base_uri": "https://localhost:8080/"
        },
        "id": "gJOIZozkmk0q",
        "outputId": "759cc3f5-bb82-4cba-938c-6bc98805be75"
      },
      "execution_count": 132,
      "outputs": [
        {
          "output_type": "stream",
          "name": "stdout",
          "text": [
            "+------+----------+\n",
            "| C    |   phi(C) |\n",
            "+======+==========+\n",
            "| C(0) |   0.5203 |\n",
            "+------+----------+\n",
            "| C(1) |   0.2234 |\n",
            "+------+----------+\n",
            "| C(2) |   0.2564 |\n",
            "+------+----------+\n",
            "\n",
            "La probabilidad de que un cliente que compró en una tienda física tenga un monto de compra alto es del 25.64 %\n"
          ]
        }
      ]
    },
    {
      "cell_type": "markdown",
      "source": [
        "7. ¿Cuál es la probabilidad de que un cliente de género masculino, con estado civil soltero y con una edad entre 26 y 35 años vuelva a comprar ? (conjunta)"
      ],
      "metadata": {
        "id": "nfk0premmk-y"
      }
    },
    {
      "cell_type": "code",
      "source": [
        "p_tc_gece = inference.query(variables=['TC'], evidence={'G':0,'EC':0,'E':1})\n",
        "print(p_tc_gece)\n",
        "print('\\nLa probabilidad de que un cliente de género masculino, con estado civil soltero y con una edad entre 26 y 35 años vuelva a comprar es del',round(p_tc_gece.values[1]*100,2), \"%\")"
      ],
      "metadata": {
        "colab": {
          "base_uri": "https://localhost:8080/"
        },
        "id": "v1ZYVZWnmn8L",
        "outputId": "c1ac947c-6173-4033-8a23-40fabec9485d"
      },
      "execution_count": 133,
      "outputs": [
        {
          "output_type": "stream",
          "name": "stdout",
          "text": [
            "+-------+-----------+\n",
            "| TC    |   phi(TC) |\n",
            "+=======+===========+\n",
            "| TC(0) |    0.6212 |\n",
            "+-------+-----------+\n",
            "| TC(1) |    0.3788 |\n",
            "+-------+-----------+\n",
            "\n",
            "La probabilidad de que un cliente de género masculino, con estado civil soltero y con una edad entre 26 y 35 años vuelva a comprar es del 37.88 %\n"
          ]
        }
      ]
    },
    {
      "cell_type": "markdown",
      "source": [
        "8. ¿Cuál es la probabilidad de que un cliente de nivel socioeconómico B con tarjeta de retail y con una edad entre 36 a 45 años vuelva a comprar con un rango de gasto medio? (conjunta)"
      ],
      "metadata": {
        "id": "sGS0JZxTmosa"
      }
    },
    {
      "cell_type": "code",
      "source": [
        "p_c_nte = inference.query(variables=['C'], evidence={'NSE':1,'TR':1,'E':2,'TC':1})\n",
        "print(p_c_nte)\n",
        "print('\\nLa probabilidad de que un cliente de NSE B con tarjeta de retail, con una edad entre 36 a 45 años y que ha vuelto comprar con un rango de gasto medio es del',round(p_c_nte.values[1]*100,2), \"%\")"
      ],
      "metadata": {
        "colab": {
          "base_uri": "https://localhost:8080/"
        },
        "id": "vm1uOrwDVg_s",
        "outputId": "8480aa94-3e5e-4f26-fa25-6f9dcbc143ed"
      },
      "execution_count": 135,
      "outputs": [
        {
          "output_type": "stream",
          "name": "stdout",
          "text": [
            "+------+----------+\n",
            "| C    |   phi(C) |\n",
            "+======+==========+\n",
            "| C(0) |   0.5732 |\n",
            "+------+----------+\n",
            "| C(1) |   0.2034 |\n",
            "+------+----------+\n",
            "| C(2) |   0.2234 |\n",
            "+------+----------+\n",
            "\n",
            "La probabilidad de que un cliente de NSE B con tarjeta de retail, con una edad entre 36 a 45 años y que ha vuelto comprar con un rango de gasto medio es del 20.34 %\n"
          ]
        }
      ]
    },
    {
      "cell_type": "markdown",
      "source": [
        "# Predicciones"
      ],
      "metadata": {
        "id": "ikTCdzgZXGLv"
      }
    },
    {
      "cell_type": "code",
      "source": [
        "test = np.squeeze(df_model.iloc[:, -1].values)\n",
        "pred = df_model.iloc[:, :-1]\n",
        "\n",
        "y_pred = model.predict(pred)\n",
        "print(accuracy_score(np.squeeze(y_pred.values), test))"
      ],
      "metadata": {
        "colab": {
          "base_uri": "https://localhost:8080/",
          "height": 66,
          "referenced_widgets": [
            "999531f6e6ed4d5790cb40074c8a8193",
            "af90c2c5f33a4393abe68423a54e740b",
            "2d1d9ef6cadb4d138e40eaf97b15f15e",
            "c30f5c2c1f3146288909a344173c0369",
            "416f1e8c8f04468485b9468e33c6ce4d",
            "d1268ba41aa74f5980264a86fb0b0301",
            "6e871b64a3994b2db9a2a3dedeaf349e",
            "f511008ff3ce4b59a90b8586881e5533",
            "50c8f5019f7746dd8541d9a7ecc61524",
            "6f06ed94ed904c40bdf62ff31ec0ecef",
            "90c071885cbf48a69d00c8cedb4d3bc7"
          ]
        },
        "id": "xE8yRVk2XFfX",
        "outputId": "0cae4829-8099-41bf-8b87-aeb414543a0b"
      },
      "execution_count": 134,
      "outputs": [
        {
          "output_type": "display_data",
          "data": {
            "text/plain": [
              "  0%|          | 0/2559 [00:00<?, ?it/s]"
            ],
            "application/vnd.jupyter.widget-view+json": {
              "version_major": 2,
              "version_minor": 0,
              "model_id": "999531f6e6ed4d5790cb40074c8a8193"
            }
          },
          "metadata": {}
        },
        {
          "output_type": "stream",
          "name": "stdout",
          "text": [
            "0.5390168741266085\n"
          ]
        }
      ]
    },
    {
      "cell_type": "code",
      "source": [
        "y_pred_ = bn_.predict(pred)\n",
        "print(accuracy_score(np.squeeze(y_pred_.values), test))"
      ],
      "metadata": {
        "colab": {
          "base_uri": "https://localhost:8080/",
          "height": 66,
          "referenced_widgets": [
            "6fcaa47ef371451985245e31b575b0c7",
            "2346bc910ed24659aefe39cf591ca0ae",
            "4f199f6540574b48b033e53b8e90e933",
            "342f93be684b41fbbb198d05aca7db48",
            "a1f548de62724d129fb93214d7fe33e6",
            "166a415aa6ab49459fabd08402f6c8a5",
            "0f19a00efe53439480aac185141bfcdb",
            "f43e889e0ddd4a77938e8c7396c59b4a",
            "00c37261273442b2942abb572e5f16a3",
            "cbff9cbdbc0645859eaecfadee05f361",
            "8e37eb28c2b34a2c8f8265e606605b8e"
          ]
        },
        "id": "ufVIU046X5Xf",
        "outputId": "04bf5a97-f4ea-4485-d7e6-e67fc62aa5b2"
      },
      "execution_count": 136,
      "outputs": [
        {
          "output_type": "display_data",
          "data": {
            "text/plain": [
              "  0%|          | 0/2559 [00:00<?, ?it/s]"
            ],
            "application/vnd.jupyter.widget-view+json": {
              "version_major": 2,
              "version_minor": 0,
              "model_id": "6fcaa47ef371451985245e31b575b0c7"
            }
          },
          "metadata": {}
        },
        {
          "output_type": "stream",
          "name": "stdout",
          "text": [
            "0.5391955912406401\n"
          ]
        }
      ]
    }
  ]
}