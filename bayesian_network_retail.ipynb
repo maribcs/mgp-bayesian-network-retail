{
  "nbformat": 4,
  "nbformat_minor": 0,
  "metadata": {
    "colab": {
      "provenance": [],
      "toc_visible": true
    },
    "kernelspec": {
      "name": "python3",
      "display_name": "Python 3"
    },
    "language_info": {
      "name": "python"
    },
    "widgets": {
      "application/vnd.jupyter.widget-state+json": {
        "012864687360450a8ce6c27d1b305d1e": {
          "model_module": "@jupyter-widgets/controls",
          "model_name": "HBoxModel",
          "model_module_version": "1.5.0",
          "state": {
            "_dom_classes": [],
            "_model_module": "@jupyter-widgets/controls",
            "_model_module_version": "1.5.0",
            "_model_name": "HBoxModel",
            "_view_count": null,
            "_view_module": "@jupyter-widgets/controls",
            "_view_module_version": "1.5.0",
            "_view_name": "HBoxView",
            "box_style": "",
            "children": [
              "IPY_MODEL_c67e46e9a69543c9b9235af7e7abf1d8",
              "IPY_MODEL_279ea7f0eb0f4a7c96006ec4ba8b6a59",
              "IPY_MODEL_fea5ae544de64c01a346e1a86d3d1ced"
            ],
            "layout": "IPY_MODEL_4b52f68c049f45c9825aa5c27df64a17"
          }
        },
        "c67e46e9a69543c9b9235af7e7abf1d8": {
          "model_module": "@jupyter-widgets/controls",
          "model_name": "HTMLModel",
          "model_module_version": "1.5.0",
          "state": {
            "_dom_classes": [],
            "_model_module": "@jupyter-widgets/controls",
            "_model_module_version": "1.5.0",
            "_model_name": "HTMLModel",
            "_view_count": null,
            "_view_module": "@jupyter-widgets/controls",
            "_view_module_version": "1.5.0",
            "_view_name": "HTMLView",
            "description": "",
            "description_tooltip": null,
            "layout": "IPY_MODEL_2c242ac41eaa47e3816166bf4639f34f",
            "placeholder": "​",
            "style": "IPY_MODEL_14662ea82f214c71a8f47df18461ddbf",
            "value": "Building tree: 100%"
          }
        },
        "279ea7f0eb0f4a7c96006ec4ba8b6a59": {
          "model_module": "@jupyter-widgets/controls",
          "model_name": "FloatProgressModel",
          "model_module_version": "1.5.0",
          "state": {
            "_dom_classes": [],
            "_model_module": "@jupyter-widgets/controls",
            "_model_module_version": "1.5.0",
            "_model_name": "FloatProgressModel",
            "_view_count": null,
            "_view_module": "@jupyter-widgets/controls",
            "_view_module_version": "1.5.0",
            "_view_name": "ProgressView",
            "bar_style": "success",
            "description": "",
            "description_tooltip": null,
            "layout": "IPY_MODEL_0b7eaaa0ec7e4b12ad319c0fb10d99d7",
            "max": 45,
            "min": 0,
            "orientation": "horizontal",
            "style": "IPY_MODEL_1b050e0b0f6f4570ab8062a66cd6a224",
            "value": 45
          }
        },
        "fea5ae544de64c01a346e1a86d3d1ced": {
          "model_module": "@jupyter-widgets/controls",
          "model_name": "HTMLModel",
          "model_module_version": "1.5.0",
          "state": {
            "_dom_classes": [],
            "_model_module": "@jupyter-widgets/controls",
            "_model_module_version": "1.5.0",
            "_model_name": "HTMLModel",
            "_view_count": null,
            "_view_module": "@jupyter-widgets/controls",
            "_view_module_version": "1.5.0",
            "_view_name": "HTMLView",
            "description": "",
            "description_tooltip": null,
            "layout": "IPY_MODEL_e91d1694160944b788549e857b94f1ce",
            "placeholder": "​",
            "style": "IPY_MODEL_d33e637df4514f9bb8c9e16b57793700",
            "value": " 45/45.0 [00:08&lt;00:00,  6.39it/s]"
          }
        },
        "4b52f68c049f45c9825aa5c27df64a17": {
          "model_module": "@jupyter-widgets/base",
          "model_name": "LayoutModel",
          "model_module_version": "1.2.0",
          "state": {
            "_model_module": "@jupyter-widgets/base",
            "_model_module_version": "1.2.0",
            "_model_name": "LayoutModel",
            "_view_count": null,
            "_view_module": "@jupyter-widgets/base",
            "_view_module_version": "1.2.0",
            "_view_name": "LayoutView",
            "align_content": null,
            "align_items": null,
            "align_self": null,
            "border": null,
            "bottom": null,
            "display": null,
            "flex": null,
            "flex_flow": null,
            "grid_area": null,
            "grid_auto_columns": null,
            "grid_auto_flow": null,
            "grid_auto_rows": null,
            "grid_column": null,
            "grid_gap": null,
            "grid_row": null,
            "grid_template_areas": null,
            "grid_template_columns": null,
            "grid_template_rows": null,
            "height": null,
            "justify_content": null,
            "justify_items": null,
            "left": null,
            "margin": null,
            "max_height": null,
            "max_width": null,
            "min_height": null,
            "min_width": null,
            "object_fit": null,
            "object_position": null,
            "order": null,
            "overflow": null,
            "overflow_x": null,
            "overflow_y": null,
            "padding": null,
            "right": null,
            "top": null,
            "visibility": null,
            "width": null
          }
        },
        "2c242ac41eaa47e3816166bf4639f34f": {
          "model_module": "@jupyter-widgets/base",
          "model_name": "LayoutModel",
          "model_module_version": "1.2.0",
          "state": {
            "_model_module": "@jupyter-widgets/base",
            "_model_module_version": "1.2.0",
            "_model_name": "LayoutModel",
            "_view_count": null,
            "_view_module": "@jupyter-widgets/base",
            "_view_module_version": "1.2.0",
            "_view_name": "LayoutView",
            "align_content": null,
            "align_items": null,
            "align_self": null,
            "border": null,
            "bottom": null,
            "display": null,
            "flex": null,
            "flex_flow": null,
            "grid_area": null,
            "grid_auto_columns": null,
            "grid_auto_flow": null,
            "grid_auto_rows": null,
            "grid_column": null,
            "grid_gap": null,
            "grid_row": null,
            "grid_template_areas": null,
            "grid_template_columns": null,
            "grid_template_rows": null,
            "height": null,
            "justify_content": null,
            "justify_items": null,
            "left": null,
            "margin": null,
            "max_height": null,
            "max_width": null,
            "min_height": null,
            "min_width": null,
            "object_fit": null,
            "object_position": null,
            "order": null,
            "overflow": null,
            "overflow_x": null,
            "overflow_y": null,
            "padding": null,
            "right": null,
            "top": null,
            "visibility": null,
            "width": null
          }
        },
        "14662ea82f214c71a8f47df18461ddbf": {
          "model_module": "@jupyter-widgets/controls",
          "model_name": "DescriptionStyleModel",
          "model_module_version": "1.5.0",
          "state": {
            "_model_module": "@jupyter-widgets/controls",
            "_model_module_version": "1.5.0",
            "_model_name": "DescriptionStyleModel",
            "_view_count": null,
            "_view_module": "@jupyter-widgets/base",
            "_view_module_version": "1.2.0",
            "_view_name": "StyleView",
            "description_width": ""
          }
        },
        "0b7eaaa0ec7e4b12ad319c0fb10d99d7": {
          "model_module": "@jupyter-widgets/base",
          "model_name": "LayoutModel",
          "model_module_version": "1.2.0",
          "state": {
            "_model_module": "@jupyter-widgets/base",
            "_model_module_version": "1.2.0",
            "_model_name": "LayoutModel",
            "_view_count": null,
            "_view_module": "@jupyter-widgets/base",
            "_view_module_version": "1.2.0",
            "_view_name": "LayoutView",
            "align_content": null,
            "align_items": null,
            "align_self": null,
            "border": null,
            "bottom": null,
            "display": null,
            "flex": null,
            "flex_flow": null,
            "grid_area": null,
            "grid_auto_columns": null,
            "grid_auto_flow": null,
            "grid_auto_rows": null,
            "grid_column": null,
            "grid_gap": null,
            "grid_row": null,
            "grid_template_areas": null,
            "grid_template_columns": null,
            "grid_template_rows": null,
            "height": null,
            "justify_content": null,
            "justify_items": null,
            "left": null,
            "margin": null,
            "max_height": null,
            "max_width": null,
            "min_height": null,
            "min_width": null,
            "object_fit": null,
            "object_position": null,
            "order": null,
            "overflow": null,
            "overflow_x": null,
            "overflow_y": null,
            "padding": null,
            "right": null,
            "top": null,
            "visibility": null,
            "width": null
          }
        },
        "1b050e0b0f6f4570ab8062a66cd6a224": {
          "model_module": "@jupyter-widgets/controls",
          "model_name": "ProgressStyleModel",
          "model_module_version": "1.5.0",
          "state": {
            "_model_module": "@jupyter-widgets/controls",
            "_model_module_version": "1.5.0",
            "_model_name": "ProgressStyleModel",
            "_view_count": null,
            "_view_module": "@jupyter-widgets/base",
            "_view_module_version": "1.2.0",
            "_view_name": "StyleView",
            "bar_color": null,
            "description_width": ""
          }
        },
        "e91d1694160944b788549e857b94f1ce": {
          "model_module": "@jupyter-widgets/base",
          "model_name": "LayoutModel",
          "model_module_version": "1.2.0",
          "state": {
            "_model_module": "@jupyter-widgets/base",
            "_model_module_version": "1.2.0",
            "_model_name": "LayoutModel",
            "_view_count": null,
            "_view_module": "@jupyter-widgets/base",
            "_view_module_version": "1.2.0",
            "_view_name": "LayoutView",
            "align_content": null,
            "align_items": null,
            "align_self": null,
            "border": null,
            "bottom": null,
            "display": null,
            "flex": null,
            "flex_flow": null,
            "grid_area": null,
            "grid_auto_columns": null,
            "grid_auto_flow": null,
            "grid_auto_rows": null,
            "grid_column": null,
            "grid_gap": null,
            "grid_row": null,
            "grid_template_areas": null,
            "grid_template_columns": null,
            "grid_template_rows": null,
            "height": null,
            "justify_content": null,
            "justify_items": null,
            "left": null,
            "margin": null,
            "max_height": null,
            "max_width": null,
            "min_height": null,
            "min_width": null,
            "object_fit": null,
            "object_position": null,
            "order": null,
            "overflow": null,
            "overflow_x": null,
            "overflow_y": null,
            "padding": null,
            "right": null,
            "top": null,
            "visibility": null,
            "width": null
          }
        },
        "d33e637df4514f9bb8c9e16b57793700": {
          "model_module": "@jupyter-widgets/controls",
          "model_name": "DescriptionStyleModel",
          "model_module_version": "1.5.0",
          "state": {
            "_model_module": "@jupyter-widgets/controls",
            "_model_module_version": "1.5.0",
            "_model_name": "DescriptionStyleModel",
            "_view_count": null,
            "_view_module": "@jupyter-widgets/base",
            "_view_module_version": "1.2.0",
            "_view_name": "StyleView",
            "description_width": ""
          }
        },
        "0dfba40d5c8a4773af986bb327eb33f2": {
          "model_module": "@jupyter-widgets/controls",
          "model_name": "HBoxModel",
          "model_module_version": "1.5.0",
          "state": {
            "_dom_classes": [],
            "_model_module": "@jupyter-widgets/controls",
            "_model_module_version": "1.5.0",
            "_model_name": "HBoxModel",
            "_view_count": null,
            "_view_module": "@jupyter-widgets/controls",
            "_view_module_version": "1.5.0",
            "_view_name": "HBoxView",
            "box_style": "",
            "children": [
              "IPY_MODEL_4bc575383c0f4c7a8f9ff7b946e52303",
              "IPY_MODEL_ebbdc86f78ff4942a64937d19b6c8914",
              "IPY_MODEL_2a41189cddfc4f518619e7228e2218fa"
            ],
            "layout": "IPY_MODEL_f8a4b1048af649e7a44b8c93092d0af7"
          }
        },
        "4bc575383c0f4c7a8f9ff7b946e52303": {
          "model_module": "@jupyter-widgets/controls",
          "model_name": "HTMLModel",
          "model_module_version": "1.5.0",
          "state": {
            "_dom_classes": [],
            "_model_module": "@jupyter-widgets/controls",
            "_model_module_version": "1.5.0",
            "_model_name": "HTMLModel",
            "_view_count": null,
            "_view_module": "@jupyter-widgets/controls",
            "_view_module_version": "1.5.0",
            "_view_name": "HTMLView",
            "description": "",
            "description_tooltip": null,
            "layout": "IPY_MODEL_5a288efaa6584e29a103653fe93cfd50",
            "placeholder": "​",
            "style": "IPY_MODEL_cdf12bcb07604cedbb6e7915d0c107ec",
            "value": "100%"
          }
        },
        "ebbdc86f78ff4942a64937d19b6c8914": {
          "model_module": "@jupyter-widgets/controls",
          "model_name": "FloatProgressModel",
          "model_module_version": "1.5.0",
          "state": {
            "_dom_classes": [],
            "_model_module": "@jupyter-widgets/controls",
            "_model_module_version": "1.5.0",
            "_model_name": "FloatProgressModel",
            "_view_count": null,
            "_view_module": "@jupyter-widgets/controls",
            "_view_module_version": "1.5.0",
            "_view_name": "ProgressView",
            "bar_style": "success",
            "description": "",
            "description_tooltip": null,
            "layout": "IPY_MODEL_8473471da84e4f458351765046235e48",
            "max": 2559,
            "min": 0,
            "orientation": "horizontal",
            "style": "IPY_MODEL_96adaeee334a40cc8af26a0f55c05f8a",
            "value": 2559
          }
        },
        "2a41189cddfc4f518619e7228e2218fa": {
          "model_module": "@jupyter-widgets/controls",
          "model_name": "HTMLModel",
          "model_module_version": "1.5.0",
          "state": {
            "_dom_classes": [],
            "_model_module": "@jupyter-widgets/controls",
            "_model_module_version": "1.5.0",
            "_model_name": "HTMLModel",
            "_view_count": null,
            "_view_module": "@jupyter-widgets/controls",
            "_view_module_version": "1.5.0",
            "_view_name": "HTMLView",
            "description": "",
            "description_tooltip": null,
            "layout": "IPY_MODEL_517ac38c6b1c4c0fbdb9759cdd50b5d8",
            "placeholder": "​",
            "style": "IPY_MODEL_3f55b74a536043a0bad9d1f9ca8e843a",
            "value": " 2559/2559 [00:18&lt;00:00, 255.48it/s]"
          }
        },
        "f8a4b1048af649e7a44b8c93092d0af7": {
          "model_module": "@jupyter-widgets/base",
          "model_name": "LayoutModel",
          "model_module_version": "1.2.0",
          "state": {
            "_model_module": "@jupyter-widgets/base",
            "_model_module_version": "1.2.0",
            "_model_name": "LayoutModel",
            "_view_count": null,
            "_view_module": "@jupyter-widgets/base",
            "_view_module_version": "1.2.0",
            "_view_name": "LayoutView",
            "align_content": null,
            "align_items": null,
            "align_self": null,
            "border": null,
            "bottom": null,
            "display": null,
            "flex": null,
            "flex_flow": null,
            "grid_area": null,
            "grid_auto_columns": null,
            "grid_auto_flow": null,
            "grid_auto_rows": null,
            "grid_column": null,
            "grid_gap": null,
            "grid_row": null,
            "grid_template_areas": null,
            "grid_template_columns": null,
            "grid_template_rows": null,
            "height": null,
            "justify_content": null,
            "justify_items": null,
            "left": null,
            "margin": null,
            "max_height": null,
            "max_width": null,
            "min_height": null,
            "min_width": null,
            "object_fit": null,
            "object_position": null,
            "order": null,
            "overflow": null,
            "overflow_x": null,
            "overflow_y": null,
            "padding": null,
            "right": null,
            "top": null,
            "visibility": null,
            "width": null
          }
        },
        "5a288efaa6584e29a103653fe93cfd50": {
          "model_module": "@jupyter-widgets/base",
          "model_name": "LayoutModel",
          "model_module_version": "1.2.0",
          "state": {
            "_model_module": "@jupyter-widgets/base",
            "_model_module_version": "1.2.0",
            "_model_name": "LayoutModel",
            "_view_count": null,
            "_view_module": "@jupyter-widgets/base",
            "_view_module_version": "1.2.0",
            "_view_name": "LayoutView",
            "align_content": null,
            "align_items": null,
            "align_self": null,
            "border": null,
            "bottom": null,
            "display": null,
            "flex": null,
            "flex_flow": null,
            "grid_area": null,
            "grid_auto_columns": null,
            "grid_auto_flow": null,
            "grid_auto_rows": null,
            "grid_column": null,
            "grid_gap": null,
            "grid_row": null,
            "grid_template_areas": null,
            "grid_template_columns": null,
            "grid_template_rows": null,
            "height": null,
            "justify_content": null,
            "justify_items": null,
            "left": null,
            "margin": null,
            "max_height": null,
            "max_width": null,
            "min_height": null,
            "min_width": null,
            "object_fit": null,
            "object_position": null,
            "order": null,
            "overflow": null,
            "overflow_x": null,
            "overflow_y": null,
            "padding": null,
            "right": null,
            "top": null,
            "visibility": null,
            "width": null
          }
        },
        "cdf12bcb07604cedbb6e7915d0c107ec": {
          "model_module": "@jupyter-widgets/controls",
          "model_name": "DescriptionStyleModel",
          "model_module_version": "1.5.0",
          "state": {
            "_model_module": "@jupyter-widgets/controls",
            "_model_module_version": "1.5.0",
            "_model_name": "DescriptionStyleModel",
            "_view_count": null,
            "_view_module": "@jupyter-widgets/base",
            "_view_module_version": "1.2.0",
            "_view_name": "StyleView",
            "description_width": ""
          }
        },
        "8473471da84e4f458351765046235e48": {
          "model_module": "@jupyter-widgets/base",
          "model_name": "LayoutModel",
          "model_module_version": "1.2.0",
          "state": {
            "_model_module": "@jupyter-widgets/base",
            "_model_module_version": "1.2.0",
            "_model_name": "LayoutModel",
            "_view_count": null,
            "_view_module": "@jupyter-widgets/base",
            "_view_module_version": "1.2.0",
            "_view_name": "LayoutView",
            "align_content": null,
            "align_items": null,
            "align_self": null,
            "border": null,
            "bottom": null,
            "display": null,
            "flex": null,
            "flex_flow": null,
            "grid_area": null,
            "grid_auto_columns": null,
            "grid_auto_flow": null,
            "grid_auto_rows": null,
            "grid_column": null,
            "grid_gap": null,
            "grid_row": null,
            "grid_template_areas": null,
            "grid_template_columns": null,
            "grid_template_rows": null,
            "height": null,
            "justify_content": null,
            "justify_items": null,
            "left": null,
            "margin": null,
            "max_height": null,
            "max_width": null,
            "min_height": null,
            "min_width": null,
            "object_fit": null,
            "object_position": null,
            "order": null,
            "overflow": null,
            "overflow_x": null,
            "overflow_y": null,
            "padding": null,
            "right": null,
            "top": null,
            "visibility": null,
            "width": null
          }
        },
        "96adaeee334a40cc8af26a0f55c05f8a": {
          "model_module": "@jupyter-widgets/controls",
          "model_name": "ProgressStyleModel",
          "model_module_version": "1.5.0",
          "state": {
            "_model_module": "@jupyter-widgets/controls",
            "_model_module_version": "1.5.0",
            "_model_name": "ProgressStyleModel",
            "_view_count": null,
            "_view_module": "@jupyter-widgets/base",
            "_view_module_version": "1.2.0",
            "_view_name": "StyleView",
            "bar_color": null,
            "description_width": ""
          }
        },
        "517ac38c6b1c4c0fbdb9759cdd50b5d8": {
          "model_module": "@jupyter-widgets/base",
          "model_name": "LayoutModel",
          "model_module_version": "1.2.0",
          "state": {
            "_model_module": "@jupyter-widgets/base",
            "_model_module_version": "1.2.0",
            "_model_name": "LayoutModel",
            "_view_count": null,
            "_view_module": "@jupyter-widgets/base",
            "_view_module_version": "1.2.0",
            "_view_name": "LayoutView",
            "align_content": null,
            "align_items": null,
            "align_self": null,
            "border": null,
            "bottom": null,
            "display": null,
            "flex": null,
            "flex_flow": null,
            "grid_area": null,
            "grid_auto_columns": null,
            "grid_auto_flow": null,
            "grid_auto_rows": null,
            "grid_column": null,
            "grid_gap": null,
            "grid_row": null,
            "grid_template_areas": null,
            "grid_template_columns": null,
            "grid_template_rows": null,
            "height": null,
            "justify_content": null,
            "justify_items": null,
            "left": null,
            "margin": null,
            "max_height": null,
            "max_width": null,
            "min_height": null,
            "min_width": null,
            "object_fit": null,
            "object_position": null,
            "order": null,
            "overflow": null,
            "overflow_x": null,
            "overflow_y": null,
            "padding": null,
            "right": null,
            "top": null,
            "visibility": null,
            "width": null
          }
        },
        "3f55b74a536043a0bad9d1f9ca8e843a": {
          "model_module": "@jupyter-widgets/controls",
          "model_name": "DescriptionStyleModel",
          "model_module_version": "1.5.0",
          "state": {
            "_model_module": "@jupyter-widgets/controls",
            "_model_module_version": "1.5.0",
            "_model_name": "DescriptionStyleModel",
            "_view_count": null,
            "_view_module": "@jupyter-widgets/base",
            "_view_module_version": "1.2.0",
            "_view_name": "StyleView",
            "description_width": ""
          }
        },
        "9ad2add0dbfc4156a5924c3661c1140b": {
          "model_module": "@jupyter-widgets/controls",
          "model_name": "HBoxModel",
          "model_module_version": "1.5.0",
          "state": {
            "_dom_classes": [],
            "_model_module": "@jupyter-widgets/controls",
            "_model_module_version": "1.5.0",
            "_model_name": "HBoxModel",
            "_view_count": null,
            "_view_module": "@jupyter-widgets/controls",
            "_view_module_version": "1.5.0",
            "_view_name": "HBoxView",
            "box_style": "",
            "children": [
              "IPY_MODEL_68843a24779546d5a5284ecf021411b7",
              "IPY_MODEL_83e1bdc68c6d48d396c6cf97c42050b1",
              "IPY_MODEL_8b1deab5c4fd4e1d804335151346e6e1"
            ],
            "layout": "IPY_MODEL_b28f29b0cb4e459095b29d902e4b3a2a"
          }
        },
        "68843a24779546d5a5284ecf021411b7": {
          "model_module": "@jupyter-widgets/controls",
          "model_name": "HTMLModel",
          "model_module_version": "1.5.0",
          "state": {
            "_dom_classes": [],
            "_model_module": "@jupyter-widgets/controls",
            "_model_module_version": "1.5.0",
            "_model_name": "HTMLModel",
            "_view_count": null,
            "_view_module": "@jupyter-widgets/controls",
            "_view_module_version": "1.5.0",
            "_view_name": "HTMLView",
            "description": "",
            "description_tooltip": null,
            "layout": "IPY_MODEL_f7b8d8ed1430437db92602c655eff30c",
            "placeholder": "​",
            "style": "IPY_MODEL_07e3ab01e3674a67b8b0bc5274b5a7fe",
            "value": "100%"
          }
        },
        "83e1bdc68c6d48d396c6cf97c42050b1": {
          "model_module": "@jupyter-widgets/controls",
          "model_name": "FloatProgressModel",
          "model_module_version": "1.5.0",
          "state": {
            "_dom_classes": [],
            "_model_module": "@jupyter-widgets/controls",
            "_model_module_version": "1.5.0",
            "_model_name": "FloatProgressModel",
            "_view_count": null,
            "_view_module": "@jupyter-widgets/controls",
            "_view_module_version": "1.5.0",
            "_view_name": "ProgressView",
            "bar_style": "success",
            "description": "",
            "description_tooltip": null,
            "layout": "IPY_MODEL_beced9dd837048fc8100055d1c147114",
            "max": 2559,
            "min": 0,
            "orientation": "horizontal",
            "style": "IPY_MODEL_50a759df1c0b4ef186cf560539c9751c",
            "value": 2559
          }
        },
        "8b1deab5c4fd4e1d804335151346e6e1": {
          "model_module": "@jupyter-widgets/controls",
          "model_name": "HTMLModel",
          "model_module_version": "1.5.0",
          "state": {
            "_dom_classes": [],
            "_model_module": "@jupyter-widgets/controls",
            "_model_module_version": "1.5.0",
            "_model_name": "HTMLModel",
            "_view_count": null,
            "_view_module": "@jupyter-widgets/controls",
            "_view_module_version": "1.5.0",
            "_view_name": "HTMLView",
            "description": "",
            "description_tooltip": null,
            "layout": "IPY_MODEL_31b657559fda42139abf79da7e5f26c4",
            "placeholder": "​",
            "style": "IPY_MODEL_98585e83a11e4e9eac745ca5366e2d94",
            "value": " 2559/2559 [00:12&lt;00:00, 264.69it/s]"
          }
        },
        "b28f29b0cb4e459095b29d902e4b3a2a": {
          "model_module": "@jupyter-widgets/base",
          "model_name": "LayoutModel",
          "model_module_version": "1.2.0",
          "state": {
            "_model_module": "@jupyter-widgets/base",
            "_model_module_version": "1.2.0",
            "_model_name": "LayoutModel",
            "_view_count": null,
            "_view_module": "@jupyter-widgets/base",
            "_view_module_version": "1.2.0",
            "_view_name": "LayoutView",
            "align_content": null,
            "align_items": null,
            "align_self": null,
            "border": null,
            "bottom": null,
            "display": null,
            "flex": null,
            "flex_flow": null,
            "grid_area": null,
            "grid_auto_columns": null,
            "grid_auto_flow": null,
            "grid_auto_rows": null,
            "grid_column": null,
            "grid_gap": null,
            "grid_row": null,
            "grid_template_areas": null,
            "grid_template_columns": null,
            "grid_template_rows": null,
            "height": null,
            "justify_content": null,
            "justify_items": null,
            "left": null,
            "margin": null,
            "max_height": null,
            "max_width": null,
            "min_height": null,
            "min_width": null,
            "object_fit": null,
            "object_position": null,
            "order": null,
            "overflow": null,
            "overflow_x": null,
            "overflow_y": null,
            "padding": null,
            "right": null,
            "top": null,
            "visibility": null,
            "width": null
          }
        },
        "f7b8d8ed1430437db92602c655eff30c": {
          "model_module": "@jupyter-widgets/base",
          "model_name": "LayoutModel",
          "model_module_version": "1.2.0",
          "state": {
            "_model_module": "@jupyter-widgets/base",
            "_model_module_version": "1.2.0",
            "_model_name": "LayoutModel",
            "_view_count": null,
            "_view_module": "@jupyter-widgets/base",
            "_view_module_version": "1.2.0",
            "_view_name": "LayoutView",
            "align_content": null,
            "align_items": null,
            "align_self": null,
            "border": null,
            "bottom": null,
            "display": null,
            "flex": null,
            "flex_flow": null,
            "grid_area": null,
            "grid_auto_columns": null,
            "grid_auto_flow": null,
            "grid_auto_rows": null,
            "grid_column": null,
            "grid_gap": null,
            "grid_row": null,
            "grid_template_areas": null,
            "grid_template_columns": null,
            "grid_template_rows": null,
            "height": null,
            "justify_content": null,
            "justify_items": null,
            "left": null,
            "margin": null,
            "max_height": null,
            "max_width": null,
            "min_height": null,
            "min_width": null,
            "object_fit": null,
            "object_position": null,
            "order": null,
            "overflow": null,
            "overflow_x": null,
            "overflow_y": null,
            "padding": null,
            "right": null,
            "top": null,
            "visibility": null,
            "width": null
          }
        },
        "07e3ab01e3674a67b8b0bc5274b5a7fe": {
          "model_module": "@jupyter-widgets/controls",
          "model_name": "DescriptionStyleModel",
          "model_module_version": "1.5.0",
          "state": {
            "_model_module": "@jupyter-widgets/controls",
            "_model_module_version": "1.5.0",
            "_model_name": "DescriptionStyleModel",
            "_view_count": null,
            "_view_module": "@jupyter-widgets/base",
            "_view_module_version": "1.2.0",
            "_view_name": "StyleView",
            "description_width": ""
          }
        },
        "beced9dd837048fc8100055d1c147114": {
          "model_module": "@jupyter-widgets/base",
          "model_name": "LayoutModel",
          "model_module_version": "1.2.0",
          "state": {
            "_model_module": "@jupyter-widgets/base",
            "_model_module_version": "1.2.0",
            "_model_name": "LayoutModel",
            "_view_count": null,
            "_view_module": "@jupyter-widgets/base",
            "_view_module_version": "1.2.0",
            "_view_name": "LayoutView",
            "align_content": null,
            "align_items": null,
            "align_self": null,
            "border": null,
            "bottom": null,
            "display": null,
            "flex": null,
            "flex_flow": null,
            "grid_area": null,
            "grid_auto_columns": null,
            "grid_auto_flow": null,
            "grid_auto_rows": null,
            "grid_column": null,
            "grid_gap": null,
            "grid_row": null,
            "grid_template_areas": null,
            "grid_template_columns": null,
            "grid_template_rows": null,
            "height": null,
            "justify_content": null,
            "justify_items": null,
            "left": null,
            "margin": null,
            "max_height": null,
            "max_width": null,
            "min_height": null,
            "min_width": null,
            "object_fit": null,
            "object_position": null,
            "order": null,
            "overflow": null,
            "overflow_x": null,
            "overflow_y": null,
            "padding": null,
            "right": null,
            "top": null,
            "visibility": null,
            "width": null
          }
        },
        "50a759df1c0b4ef186cf560539c9751c": {
          "model_module": "@jupyter-widgets/controls",
          "model_name": "ProgressStyleModel",
          "model_module_version": "1.5.0",
          "state": {
            "_model_module": "@jupyter-widgets/controls",
            "_model_module_version": "1.5.0",
            "_model_name": "ProgressStyleModel",
            "_view_count": null,
            "_view_module": "@jupyter-widgets/base",
            "_view_module_version": "1.2.0",
            "_view_name": "StyleView",
            "bar_color": null,
            "description_width": ""
          }
        },
        "31b657559fda42139abf79da7e5f26c4": {
          "model_module": "@jupyter-widgets/base",
          "model_name": "LayoutModel",
          "model_module_version": "1.2.0",
          "state": {
            "_model_module": "@jupyter-widgets/base",
            "_model_module_version": "1.2.0",
            "_model_name": "LayoutModel",
            "_view_count": null,
            "_view_module": "@jupyter-widgets/base",
            "_view_module_version": "1.2.0",
            "_view_name": "LayoutView",
            "align_content": null,
            "align_items": null,
            "align_self": null,
            "border": null,
            "bottom": null,
            "display": null,
            "flex": null,
            "flex_flow": null,
            "grid_area": null,
            "grid_auto_columns": null,
            "grid_auto_flow": null,
            "grid_auto_rows": null,
            "grid_column": null,
            "grid_gap": null,
            "grid_row": null,
            "grid_template_areas": null,
            "grid_template_columns": null,
            "grid_template_rows": null,
            "height": null,
            "justify_content": null,
            "justify_items": null,
            "left": null,
            "margin": null,
            "max_height": null,
            "max_width": null,
            "min_height": null,
            "min_width": null,
            "object_fit": null,
            "object_position": null,
            "order": null,
            "overflow": null,
            "overflow_x": null,
            "overflow_y": null,
            "padding": null,
            "right": null,
            "top": null,
            "visibility": null,
            "width": null
          }
        },
        "98585e83a11e4e9eac745ca5366e2d94": {
          "model_module": "@jupyter-widgets/controls",
          "model_name": "DescriptionStyleModel",
          "model_module_version": "1.5.0",
          "state": {
            "_model_module": "@jupyter-widgets/controls",
            "_model_module_version": "1.5.0",
            "_model_name": "DescriptionStyleModel",
            "_view_count": null,
            "_view_module": "@jupyter-widgets/base",
            "_view_module_version": "1.2.0",
            "_view_name": "StyleView",
            "description_width": ""
          }
        }
      }
    }
  },
  "cells": [
    {
      "cell_type": "markdown",
      "source": [
        "# 1. Dataset"
      ],
      "metadata": {
        "id": "bs16gcAz_4qg"
      }
    },
    {
      "cell_type": "code",
      "execution_count": 1,
      "metadata": {
        "id": "Q-D9_nhRZvTX"
      },
      "outputs": [],
      "source": [
        "import pandas as pd"
      ]
    },
    {
      "cell_type": "markdown",
      "source": [
        "## 1.1. Cargar el dataset"
      ],
      "metadata": {
        "id": "eSxwCXQvAZnD"
      }
    },
    {
      "cell_type": "code",
      "source": [
        "uri = 'https://raw.githubusercontent.com/maribcs/mgp-bayesian-network-retail/main/data/db_mgp_t1.csv'\n",
        "df = pd.read_csv(uri, sep=\",\")\n",
        "df.head()"
      ],
      "metadata": {
        "colab": {
          "base_uri": "https://localhost:8080/",
          "height": 357
        },
        "id": "Jt2C7vbdADWQ",
        "outputId": "4ccf1b64-9452-4145-81c8-6c235bd9847a"
      },
      "execution_count": 2,
      "outputs": [
        {
          "output_type": "execute_result",
          "data": {
            "text/plain": [
              "   row_num  flag_nuevo  fl_omni  fl_fcom  fl_tienda  flag_tienetarjeta  \\\n",
              "0       27           1        0        0          1                  0   \n",
              "1       36           1        0        0          1                  0   \n",
              "2       62           1        0        0          1                  1   \n",
              "3       65           0        0        0          1                  0   \n",
              "4       99           0        0        0          1                  1   \n",
              "\n",
              "   flag_metodopago  flag_tienepromocion Genero NSE  Rango_edad estado_marital  \\\n",
              "0                0                    0      M   C  26-35 AÑOS              C   \n",
              "1                0                    0      F   B  36-45 AÑOS              C   \n",
              "2                1                    0      F   B  26-35 AÑOS              S   \n",
              "3                0                    0      M   C  36-45 AÑOS              C   \n",
              "4                0                    0      F   B  36-45 AÑOS              S   \n",
              "\n",
              "   flag_tiene_hijo  rango_gasto  \n",
              "0                1   gasto bajo  \n",
              "1                0   gasto alto  \n",
              "2                0  gasto medio  \n",
              "3                1   gasto bajo  \n",
              "4                0   gasto alto  "
            ],
            "text/html": [
              "\n",
              "  <div id=\"df-b6db3472-6685-4018-8be9-bddb6e89f964\">\n",
              "    <div class=\"colab-df-container\">\n",
              "      <div>\n",
              "<style scoped>\n",
              "    .dataframe tbody tr th:only-of-type {\n",
              "        vertical-align: middle;\n",
              "    }\n",
              "\n",
              "    .dataframe tbody tr th {\n",
              "        vertical-align: top;\n",
              "    }\n",
              "\n",
              "    .dataframe thead th {\n",
              "        text-align: right;\n",
              "    }\n",
              "</style>\n",
              "<table border=\"1\" class=\"dataframe\">\n",
              "  <thead>\n",
              "    <tr style=\"text-align: right;\">\n",
              "      <th></th>\n",
              "      <th>row_num</th>\n",
              "      <th>flag_nuevo</th>\n",
              "      <th>fl_omni</th>\n",
              "      <th>fl_fcom</th>\n",
              "      <th>fl_tienda</th>\n",
              "      <th>flag_tienetarjeta</th>\n",
              "      <th>flag_metodopago</th>\n",
              "      <th>flag_tienepromocion</th>\n",
              "      <th>Genero</th>\n",
              "      <th>NSE</th>\n",
              "      <th>Rango_edad</th>\n",
              "      <th>estado_marital</th>\n",
              "      <th>flag_tiene_hijo</th>\n",
              "      <th>rango_gasto</th>\n",
              "    </tr>\n",
              "  </thead>\n",
              "  <tbody>\n",
              "    <tr>\n",
              "      <th>0</th>\n",
              "      <td>27</td>\n",
              "      <td>1</td>\n",
              "      <td>0</td>\n",
              "      <td>0</td>\n",
              "      <td>1</td>\n",
              "      <td>0</td>\n",
              "      <td>0</td>\n",
              "      <td>0</td>\n",
              "      <td>M</td>\n",
              "      <td>C</td>\n",
              "      <td>26-35 AÑOS</td>\n",
              "      <td>C</td>\n",
              "      <td>1</td>\n",
              "      <td>gasto bajo</td>\n",
              "    </tr>\n",
              "    <tr>\n",
              "      <th>1</th>\n",
              "      <td>36</td>\n",
              "      <td>1</td>\n",
              "      <td>0</td>\n",
              "      <td>0</td>\n",
              "      <td>1</td>\n",
              "      <td>0</td>\n",
              "      <td>0</td>\n",
              "      <td>0</td>\n",
              "      <td>F</td>\n",
              "      <td>B</td>\n",
              "      <td>36-45 AÑOS</td>\n",
              "      <td>C</td>\n",
              "      <td>0</td>\n",
              "      <td>gasto alto</td>\n",
              "    </tr>\n",
              "    <tr>\n",
              "      <th>2</th>\n",
              "      <td>62</td>\n",
              "      <td>1</td>\n",
              "      <td>0</td>\n",
              "      <td>0</td>\n",
              "      <td>1</td>\n",
              "      <td>1</td>\n",
              "      <td>1</td>\n",
              "      <td>0</td>\n",
              "      <td>F</td>\n",
              "      <td>B</td>\n",
              "      <td>26-35 AÑOS</td>\n",
              "      <td>S</td>\n",
              "      <td>0</td>\n",
              "      <td>gasto medio</td>\n",
              "    </tr>\n",
              "    <tr>\n",
              "      <th>3</th>\n",
              "      <td>65</td>\n",
              "      <td>0</td>\n",
              "      <td>0</td>\n",
              "      <td>0</td>\n",
              "      <td>1</td>\n",
              "      <td>0</td>\n",
              "      <td>0</td>\n",
              "      <td>0</td>\n",
              "      <td>M</td>\n",
              "      <td>C</td>\n",
              "      <td>36-45 AÑOS</td>\n",
              "      <td>C</td>\n",
              "      <td>1</td>\n",
              "      <td>gasto bajo</td>\n",
              "    </tr>\n",
              "    <tr>\n",
              "      <th>4</th>\n",
              "      <td>99</td>\n",
              "      <td>0</td>\n",
              "      <td>0</td>\n",
              "      <td>0</td>\n",
              "      <td>1</td>\n",
              "      <td>1</td>\n",
              "      <td>0</td>\n",
              "      <td>0</td>\n",
              "      <td>F</td>\n",
              "      <td>B</td>\n",
              "      <td>36-45 AÑOS</td>\n",
              "      <td>S</td>\n",
              "      <td>0</td>\n",
              "      <td>gasto alto</td>\n",
              "    </tr>\n",
              "  </tbody>\n",
              "</table>\n",
              "</div>\n",
              "      <button class=\"colab-df-convert\" onclick=\"convertToInteractive('df-b6db3472-6685-4018-8be9-bddb6e89f964')\"\n",
              "              title=\"Convert this dataframe to an interactive table.\"\n",
              "              style=\"display:none;\">\n",
              "        \n",
              "  <svg xmlns=\"http://www.w3.org/2000/svg\" height=\"24px\"viewBox=\"0 0 24 24\"\n",
              "       width=\"24px\">\n",
              "    <path d=\"M0 0h24v24H0V0z\" fill=\"none\"/>\n",
              "    <path d=\"M18.56 5.44l.94 2.06.94-2.06 2.06-.94-2.06-.94-.94-2.06-.94 2.06-2.06.94zm-11 1L8.5 8.5l.94-2.06 2.06-.94-2.06-.94L8.5 2.5l-.94 2.06-2.06.94zm10 10l.94 2.06.94-2.06 2.06-.94-2.06-.94-.94-2.06-.94 2.06-2.06.94z\"/><path d=\"M17.41 7.96l-1.37-1.37c-.4-.4-.92-.59-1.43-.59-.52 0-1.04.2-1.43.59L10.3 9.45l-7.72 7.72c-.78.78-.78 2.05 0 2.83L4 21.41c.39.39.9.59 1.41.59.51 0 1.02-.2 1.41-.59l7.78-7.78 2.81-2.81c.8-.78.8-2.07 0-2.86zM5.41 20L4 18.59l7.72-7.72 1.47 1.35L5.41 20z\"/>\n",
              "  </svg>\n",
              "      </button>\n",
              "      \n",
              "  <style>\n",
              "    .colab-df-container {\n",
              "      display:flex;\n",
              "      flex-wrap:wrap;\n",
              "      gap: 12px;\n",
              "    }\n",
              "\n",
              "    .colab-df-convert {\n",
              "      background-color: #E8F0FE;\n",
              "      border: none;\n",
              "      border-radius: 50%;\n",
              "      cursor: pointer;\n",
              "      display: none;\n",
              "      fill: #1967D2;\n",
              "      height: 32px;\n",
              "      padding: 0 0 0 0;\n",
              "      width: 32px;\n",
              "    }\n",
              "\n",
              "    .colab-df-convert:hover {\n",
              "      background-color: #E2EBFA;\n",
              "      box-shadow: 0px 1px 2px rgba(60, 64, 67, 0.3), 0px 1px 3px 1px rgba(60, 64, 67, 0.15);\n",
              "      fill: #174EA6;\n",
              "    }\n",
              "\n",
              "    [theme=dark] .colab-df-convert {\n",
              "      background-color: #3B4455;\n",
              "      fill: #D2E3FC;\n",
              "    }\n",
              "\n",
              "    [theme=dark] .colab-df-convert:hover {\n",
              "      background-color: #434B5C;\n",
              "      box-shadow: 0px 1px 3px 1px rgba(0, 0, 0, 0.15);\n",
              "      filter: drop-shadow(0px 1px 2px rgba(0, 0, 0, 0.3));\n",
              "      fill: #FFFFFF;\n",
              "    }\n",
              "  </style>\n",
              "\n",
              "      <script>\n",
              "        const buttonEl =\n",
              "          document.querySelector('#df-b6db3472-6685-4018-8be9-bddb6e89f964 button.colab-df-convert');\n",
              "        buttonEl.style.display =\n",
              "          google.colab.kernel.accessAllowed ? 'block' : 'none';\n",
              "\n",
              "        async function convertToInteractive(key) {\n",
              "          const element = document.querySelector('#df-b6db3472-6685-4018-8be9-bddb6e89f964');\n",
              "          const dataTable =\n",
              "            await google.colab.kernel.invokeFunction('convertToInteractive',\n",
              "                                                     [key], {});\n",
              "          if (!dataTable) return;\n",
              "\n",
              "          const docLinkHtml = 'Like what you see? Visit the ' +\n",
              "            '<a target=\"_blank\" href=https://colab.research.google.com/notebooks/data_table.ipynb>data table notebook</a>'\n",
              "            + ' to learn more about interactive tables.';\n",
              "          element.innerHTML = '';\n",
              "          dataTable['output_type'] = 'display_data';\n",
              "          await google.colab.output.renderOutput(dataTable, element);\n",
              "          const docLink = document.createElement('div');\n",
              "          docLink.innerHTML = docLinkHtml;\n",
              "          element.appendChild(docLink);\n",
              "        }\n",
              "      </script>\n",
              "    </div>\n",
              "  </div>\n",
              "  "
            ]
          },
          "metadata": {},
          "execution_count": 2
        }
      ]
    },
    {
      "cell_type": "code",
      "source": [
        "# Tamaño del dataset\n",
        "df.shape"
      ],
      "metadata": {
        "colab": {
          "base_uri": "https://localhost:8080/"
        },
        "id": "J32qvegub4wb",
        "outputId": "a8aad8bf-481b-49fa-acc2-8c7be3d632ae"
      },
      "execution_count": 4,
      "outputs": [
        {
          "output_type": "execute_result",
          "data": {
            "text/plain": [
              "(990392, 14)"
            ]
          },
          "metadata": {},
          "execution_count": 4
        }
      ]
    },
    {
      "cell_type": "markdown",
      "source": [
        "## 1.2. Prepocesar el dataset"
      ],
      "metadata": {
        "id": "CXK7gt8XAx0g"
      }
    },
    {
      "cell_type": "code",
      "source": [
        "# Seleccionar columnas a utilizar\n",
        "df_modelo = df[['NSE','Rango_edad','Genero','estado_marital','flag_tienetarjeta','flag_nuevo','flag_metodopago','flag_tienepromocion','fl_fcom','rango_gasto']]"
      ],
      "metadata": {
        "id": "MFHutuXPA4tJ"
      },
      "execution_count": 58,
      "outputs": []
    },
    {
      "cell_type": "code",
      "source": [
        "# Renombrar columnas\n",
        "\n",
        "# 1. NSE: Nivel socioeconómico\n",
        "# 2. E: Edad\n",
        "# 3. G: Género\n",
        "# 4. EC: Estado civil\n",
        "# 5. TR: Tiene o no tarjeta del retail\n",
        "# 6. TC: Tipo de cliente\n",
        "# 7. MP: Método de pago\n",
        "# 8. PP: Producto en promoción o no\n",
        "# 9. CC: Canal de compra tienda / web\n",
        "# 10. C: Compra\n",
        "\n",
        "df_modelo = df_modelo.rename(columns = {'Rango_edad':'E','Genero':'G','estado_marital':'EC','flag_tienetarjeta':'TR','flag_nuevo':'TC','flag_metodopago':'MP','flag_tienepromocion':'PP','fl_fcom':'CC','rango_gasto':'C'})\n",
        "df_modelo.head()"
      ],
      "metadata": {
        "colab": {
          "base_uri": "https://localhost:8080/",
          "height": 206
        },
        "id": "I0LP9MlqDnaY",
        "outputId": "981e9109-be89-4a6c-e37b-0a2fa757113c"
      },
      "execution_count": 59,
      "outputs": [
        {
          "output_type": "execute_result",
          "data": {
            "text/plain": [
              "  NSE           E  G EC  TR  TC  MP  PP  CC            C\n",
              "0   C  26-35 AÑOS  M  C   0   1   0   0   0   gasto bajo\n",
              "1   B  36-45 AÑOS  F  C   0   1   0   0   0   gasto alto\n",
              "2   B  26-35 AÑOS  F  S   1   1   1   0   0  gasto medio\n",
              "3   C  36-45 AÑOS  M  C   0   0   0   0   0   gasto bajo\n",
              "4   B  36-45 AÑOS  F  S   1   0   0   0   0   gasto alto"
            ],
            "text/html": [
              "\n",
              "  <div id=\"df-7a0ffa1f-9e63-422e-8e67-cb5e1b21a4bf\">\n",
              "    <div class=\"colab-df-container\">\n",
              "      <div>\n",
              "<style scoped>\n",
              "    .dataframe tbody tr th:only-of-type {\n",
              "        vertical-align: middle;\n",
              "    }\n",
              "\n",
              "    .dataframe tbody tr th {\n",
              "        vertical-align: top;\n",
              "    }\n",
              "\n",
              "    .dataframe thead th {\n",
              "        text-align: right;\n",
              "    }\n",
              "</style>\n",
              "<table border=\"1\" class=\"dataframe\">\n",
              "  <thead>\n",
              "    <tr style=\"text-align: right;\">\n",
              "      <th></th>\n",
              "      <th>NSE</th>\n",
              "      <th>E</th>\n",
              "      <th>G</th>\n",
              "      <th>EC</th>\n",
              "      <th>TR</th>\n",
              "      <th>TC</th>\n",
              "      <th>MP</th>\n",
              "      <th>PP</th>\n",
              "      <th>CC</th>\n",
              "      <th>C</th>\n",
              "    </tr>\n",
              "  </thead>\n",
              "  <tbody>\n",
              "    <tr>\n",
              "      <th>0</th>\n",
              "      <td>C</td>\n",
              "      <td>26-35 AÑOS</td>\n",
              "      <td>M</td>\n",
              "      <td>C</td>\n",
              "      <td>0</td>\n",
              "      <td>1</td>\n",
              "      <td>0</td>\n",
              "      <td>0</td>\n",
              "      <td>0</td>\n",
              "      <td>gasto bajo</td>\n",
              "    </tr>\n",
              "    <tr>\n",
              "      <th>1</th>\n",
              "      <td>B</td>\n",
              "      <td>36-45 AÑOS</td>\n",
              "      <td>F</td>\n",
              "      <td>C</td>\n",
              "      <td>0</td>\n",
              "      <td>1</td>\n",
              "      <td>0</td>\n",
              "      <td>0</td>\n",
              "      <td>0</td>\n",
              "      <td>gasto alto</td>\n",
              "    </tr>\n",
              "    <tr>\n",
              "      <th>2</th>\n",
              "      <td>B</td>\n",
              "      <td>26-35 AÑOS</td>\n",
              "      <td>F</td>\n",
              "      <td>S</td>\n",
              "      <td>1</td>\n",
              "      <td>1</td>\n",
              "      <td>1</td>\n",
              "      <td>0</td>\n",
              "      <td>0</td>\n",
              "      <td>gasto medio</td>\n",
              "    </tr>\n",
              "    <tr>\n",
              "      <th>3</th>\n",
              "      <td>C</td>\n",
              "      <td>36-45 AÑOS</td>\n",
              "      <td>M</td>\n",
              "      <td>C</td>\n",
              "      <td>0</td>\n",
              "      <td>0</td>\n",
              "      <td>0</td>\n",
              "      <td>0</td>\n",
              "      <td>0</td>\n",
              "      <td>gasto bajo</td>\n",
              "    </tr>\n",
              "    <tr>\n",
              "      <th>4</th>\n",
              "      <td>B</td>\n",
              "      <td>36-45 AÑOS</td>\n",
              "      <td>F</td>\n",
              "      <td>S</td>\n",
              "      <td>1</td>\n",
              "      <td>0</td>\n",
              "      <td>0</td>\n",
              "      <td>0</td>\n",
              "      <td>0</td>\n",
              "      <td>gasto alto</td>\n",
              "    </tr>\n",
              "  </tbody>\n",
              "</table>\n",
              "</div>\n",
              "      <button class=\"colab-df-convert\" onclick=\"convertToInteractive('df-7a0ffa1f-9e63-422e-8e67-cb5e1b21a4bf')\"\n",
              "              title=\"Convert this dataframe to an interactive table.\"\n",
              "              style=\"display:none;\">\n",
              "        \n",
              "  <svg xmlns=\"http://www.w3.org/2000/svg\" height=\"24px\"viewBox=\"0 0 24 24\"\n",
              "       width=\"24px\">\n",
              "    <path d=\"M0 0h24v24H0V0z\" fill=\"none\"/>\n",
              "    <path d=\"M18.56 5.44l.94 2.06.94-2.06 2.06-.94-2.06-.94-.94-2.06-.94 2.06-2.06.94zm-11 1L8.5 8.5l.94-2.06 2.06-.94-2.06-.94L8.5 2.5l-.94 2.06-2.06.94zm10 10l.94 2.06.94-2.06 2.06-.94-2.06-.94-.94-2.06-.94 2.06-2.06.94z\"/><path d=\"M17.41 7.96l-1.37-1.37c-.4-.4-.92-.59-1.43-.59-.52 0-1.04.2-1.43.59L10.3 9.45l-7.72 7.72c-.78.78-.78 2.05 0 2.83L4 21.41c.39.39.9.59 1.41.59.51 0 1.02-.2 1.41-.59l7.78-7.78 2.81-2.81c.8-.78.8-2.07 0-2.86zM5.41 20L4 18.59l7.72-7.72 1.47 1.35L5.41 20z\"/>\n",
              "  </svg>\n",
              "      </button>\n",
              "      \n",
              "  <style>\n",
              "    .colab-df-container {\n",
              "      display:flex;\n",
              "      flex-wrap:wrap;\n",
              "      gap: 12px;\n",
              "    }\n",
              "\n",
              "    .colab-df-convert {\n",
              "      background-color: #E8F0FE;\n",
              "      border: none;\n",
              "      border-radius: 50%;\n",
              "      cursor: pointer;\n",
              "      display: none;\n",
              "      fill: #1967D2;\n",
              "      height: 32px;\n",
              "      padding: 0 0 0 0;\n",
              "      width: 32px;\n",
              "    }\n",
              "\n",
              "    .colab-df-convert:hover {\n",
              "      background-color: #E2EBFA;\n",
              "      box-shadow: 0px 1px 2px rgba(60, 64, 67, 0.3), 0px 1px 3px 1px rgba(60, 64, 67, 0.15);\n",
              "      fill: #174EA6;\n",
              "    }\n",
              "\n",
              "    [theme=dark] .colab-df-convert {\n",
              "      background-color: #3B4455;\n",
              "      fill: #D2E3FC;\n",
              "    }\n",
              "\n",
              "    [theme=dark] .colab-df-convert:hover {\n",
              "      background-color: #434B5C;\n",
              "      box-shadow: 0px 1px 3px 1px rgba(0, 0, 0, 0.15);\n",
              "      filter: drop-shadow(0px 1px 2px rgba(0, 0, 0, 0.3));\n",
              "      fill: #FFFFFF;\n",
              "    }\n",
              "  </style>\n",
              "\n",
              "      <script>\n",
              "        const buttonEl =\n",
              "          document.querySelector('#df-7a0ffa1f-9e63-422e-8e67-cb5e1b21a4bf button.colab-df-convert');\n",
              "        buttonEl.style.display =\n",
              "          google.colab.kernel.accessAllowed ? 'block' : 'none';\n",
              "\n",
              "        async function convertToInteractive(key) {\n",
              "          const element = document.querySelector('#df-7a0ffa1f-9e63-422e-8e67-cb5e1b21a4bf');\n",
              "          const dataTable =\n",
              "            await google.colab.kernel.invokeFunction('convertToInteractive',\n",
              "                                                     [key], {});\n",
              "          if (!dataTable) return;\n",
              "\n",
              "          const docLinkHtml = 'Like what you see? Visit the ' +\n",
              "            '<a target=\"_blank\" href=https://colab.research.google.com/notebooks/data_table.ipynb>data table notebook</a>'\n",
              "            + ' to learn more about interactive tables.';\n",
              "          element.innerHTML = '';\n",
              "          dataTable['output_type'] = 'display_data';\n",
              "          await google.colab.output.renderOutput(dataTable, element);\n",
              "          const docLink = document.createElement('div');\n",
              "          docLink.innerHTML = docLinkHtml;\n",
              "          element.appendChild(docLink);\n",
              "        }\n",
              "      </script>\n",
              "    </div>\n",
              "  </div>\n",
              "  "
            ]
          },
          "metadata": {},
          "execution_count": 59
        }
      ]
    },
    {
      "cell_type": "code",
      "source": [
        "# NSE\n",
        "df_modelo['NSE'] = df_modelo['NSE'].replace({'A':0,'B':1,'C':2,'D':3,'E':4})\n",
        "# Edad\n",
        "df_modelo['E'] = df_modelo['E'].replace({'16-25 AÑOS':0,'26-35 AÑOS':1,'36-45 AÑOS':2,'46-55 AÑOS':3,'56 A MÁS':4})\n",
        "# Genero\n",
        "df_modelo['G'] = df_modelo['G'].replace({'M':0,'F':1})\n",
        "# Estado civil\n",
        "df_modelo['EC'] = df_modelo['EC'].replace({'S':0,'C':1})\n",
        "# Monto compra\n",
        "df_modelo['C'] = df_modelo['C'].replace({'gasto bajo':0,'gasto medio':1,'gasto alto':2})\n"
      ],
      "metadata": {
        "id": "4J4mHkC-ayy_"
      },
      "execution_count": 60,
      "outputs": []
    },
    {
      "cell_type": "markdown",
      "source": [
        "# 2. Modelo"
      ],
      "metadata": {
        "id": "6nK7k885DzUf"
      }
    },
    {
      "cell_type": "code",
      "source": [
        "!pip install pgmpy"
      ],
      "metadata": {
        "colab": {
          "base_uri": "https://localhost:8080/"
        },
        "id": "SZOKplT9jOX7",
        "outputId": "b273f423-8219-48f4-b9f5-803b6eedee6d"
      },
      "execution_count": 11,
      "outputs": [
        {
          "output_type": "stream",
          "name": "stdout",
          "text": [
            "Looking in indexes: https://pypi.org/simple, https://us-python.pkg.dev/colab-wheels/public/simple/\n",
            "Collecting pgmpy\n",
            "  Downloading pgmpy-0.1.22-py3-none-any.whl (1.9 MB)\n",
            "\u001b[2K     \u001b[90m━━━━━━━━━━━━━━━━━━━━━━━━━━━━━━━━━━━━━━━━\u001b[0m \u001b[32m1.9/1.9 MB\u001b[0m \u001b[31m27.6 MB/s\u001b[0m eta \u001b[36m0:00:00\u001b[0m\n",
            "\u001b[?25hRequirement already satisfied: networkx in /usr/local/lib/python3.10/dist-packages (from pgmpy) (3.1)\n",
            "Requirement already satisfied: numpy in /usr/local/lib/python3.10/dist-packages (from pgmpy) (1.22.4)\n",
            "Requirement already satisfied: scipy in /usr/local/lib/python3.10/dist-packages (from pgmpy) (1.10.1)\n",
            "Requirement already satisfied: scikit-learn in /usr/local/lib/python3.10/dist-packages (from pgmpy) (1.2.2)\n",
            "Requirement already satisfied: pandas in /usr/local/lib/python3.10/dist-packages (from pgmpy) (1.5.3)\n",
            "Requirement already satisfied: pyparsing in /usr/local/lib/python3.10/dist-packages (from pgmpy) (3.1.0)\n",
            "Requirement already satisfied: torch in /usr/local/lib/python3.10/dist-packages (from pgmpy) (2.0.1+cu118)\n",
            "Requirement already satisfied: statsmodels in /usr/local/lib/python3.10/dist-packages (from pgmpy) (0.13.5)\n",
            "Requirement already satisfied: tqdm in /usr/local/lib/python3.10/dist-packages (from pgmpy) (4.65.0)\n",
            "Requirement already satisfied: joblib in /usr/local/lib/python3.10/dist-packages (from pgmpy) (1.2.0)\n",
            "Requirement already satisfied: opt-einsum in /usr/local/lib/python3.10/dist-packages (from pgmpy) (3.3.0)\n",
            "Requirement already satisfied: python-dateutil>=2.8.1 in /usr/local/lib/python3.10/dist-packages (from pandas->pgmpy) (2.8.2)\n",
            "Requirement already satisfied: pytz>=2020.1 in /usr/local/lib/python3.10/dist-packages (from pandas->pgmpy) (2022.7.1)\n",
            "Requirement already satisfied: threadpoolctl>=2.0.0 in /usr/local/lib/python3.10/dist-packages (from scikit-learn->pgmpy) (3.1.0)\n",
            "Requirement already satisfied: patsy>=0.5.2 in /usr/local/lib/python3.10/dist-packages (from statsmodels->pgmpy) (0.5.3)\n",
            "Requirement already satisfied: packaging>=21.3 in /usr/local/lib/python3.10/dist-packages (from statsmodels->pgmpy) (23.1)\n",
            "Requirement already satisfied: filelock in /usr/local/lib/python3.10/dist-packages (from torch->pgmpy) (3.12.2)\n",
            "Requirement already satisfied: typing-extensions in /usr/local/lib/python3.10/dist-packages (from torch->pgmpy) (4.6.3)\n",
            "Requirement already satisfied: sympy in /usr/local/lib/python3.10/dist-packages (from torch->pgmpy) (1.11.1)\n",
            "Requirement already satisfied: jinja2 in /usr/local/lib/python3.10/dist-packages (from torch->pgmpy) (3.1.2)\n",
            "Requirement already satisfied: triton==2.0.0 in /usr/local/lib/python3.10/dist-packages (from torch->pgmpy) (2.0.0)\n",
            "Requirement already satisfied: cmake in /usr/local/lib/python3.10/dist-packages (from triton==2.0.0->torch->pgmpy) (3.25.2)\n",
            "Requirement already satisfied: lit in /usr/local/lib/python3.10/dist-packages (from triton==2.0.0->torch->pgmpy) (16.0.6)\n",
            "Requirement already satisfied: six in /usr/local/lib/python3.10/dist-packages (from patsy>=0.5.2->statsmodels->pgmpy) (1.16.0)\n",
            "Requirement already satisfied: MarkupSafe>=2.0 in /usr/local/lib/python3.10/dist-packages (from jinja2->torch->pgmpy) (2.1.3)\n",
            "Requirement already satisfied: mpmath>=0.19 in /usr/local/lib/python3.10/dist-packages (from sympy->torch->pgmpy) (1.3.0)\n",
            "Installing collected packages: pgmpy\n",
            "Successfully installed pgmpy-0.1.22\n"
          ]
        }
      ]
    },
    {
      "cell_type": "code",
      "source": [
        "from pgmpy.models import BayesianNetwork\n",
        "from pgmpy.estimators import ParameterEstimator\n",
        "from pgmpy.estimators import MaximumLikelihoodEstimator\n",
        "from pgmpy.estimators import BayesianEstimator\n",
        "from pgmpy.estimators import TreeSearch\n",
        "from pgmpy.inference import VariableElimination\n",
        "\n",
        "from sklearn.feature_selection import SelectKBest, chi2\n",
        "from sklearn.metrics import accuracy_score\n",
        "\n",
        "import networkx as nx\n",
        "import matplotlib.pyplot as plt\n",
        "import numpy as np"
      ],
      "metadata": {
        "id": "QGngEmo-ide_"
      },
      "execution_count": 166,
      "outputs": []
    },
    {
      "cell_type": "markdown",
      "source": [
        "## 2.1. Definición de nodos"
      ],
      "metadata": {
        "id": "3H2qCsrBHhTT"
      }
    },
    {
      "cell_type": "code",
      "source": [
        "model = BayesianNetwork([('NSE', 'TR'), ('TR', 'MP'), ('MP', 'PP'), ('CC', 'PP'),('PP', 'C'),('CC', 'C'),('E', 'TC'),('G', 'TC'),('EC', 'TC'),('TC', 'C')])"
      ],
      "metadata": {
        "id": "IYrpQNYHiVvw"
      },
      "execution_count": 61,
      "outputs": []
    },
    {
      "cell_type": "markdown",
      "source": [
        "## 2.2. DAG del modelo"
      ],
      "metadata": {
        "id": "gaNrtRL4Fikw"
      }
    },
    {
      "cell_type": "code",
      "source": [
        "pos = {'NSE': (1, 1), 'TR': (1, 0), 'MP': (1, -1), 'PP': (1.5, -1.5), 'CC': (2, -1), 'E': (2.5, 0),'G': (3, 0),'EC': (3.5, 0),'TC': (3, -1),'C': (2, -2)}\n",
        "\n",
        "nx.draw_networkx(model, pos=pos, with_labels=True, node_color='#3cd194',\n",
        "                 node_size=1800, font_size=12, font_weight='bold', edge_color='gray')\n",
        "\n",
        "plt.axis('off')\n",
        "plt.show()"
      ],
      "metadata": {
        "colab": {
          "base_uri": "https://localhost:8080/",
          "height": 406
        },
        "id": "xCTRKPaMjrJX",
        "outputId": "78c3fa45-5acd-4f2a-f16d-33c2df45c1c6"
      },
      "execution_count": 62,
      "outputs": [
        {
          "output_type": "display_data",
          "data": {
            "text/plain": [
              "<Figure size 640x480 with 1 Axes>"
            ],
            "image/png": "[encoded data removed]"
          },
          "metadata": {}
        }
      ]
    },
    {
      "cell_type": "markdown",
      "source": [
        "## 2.3. Aprendizaje de parámetros"
      ],
      "metadata": {
        "id": "ZC26PocePE27"
      }
    },
    {
      "cell_type": "code",
      "source": [
        "pe = ParameterEstimator(model, df_modelo)"
      ],
      "metadata": {
        "id": "jaONNcFTPWTc"
      },
      "execution_count": 130,
      "outputs": []
    },
    {
      "cell_type": "markdown",
      "source": [
        "### 2.3.1. Frecuencia de estados"
      ],
      "metadata": {
        "id": "WtC-ZS64QnMi"
      }
    },
    {
      "cell_type": "code",
      "source": [
        "# 1. NSE: Nivel socioeconómico (Incondicional)\n",
        "print(pe.state_counts('NSE'))"
      ],
      "metadata": {
        "colab": {
          "base_uri": "https://localhost:8080/"
        },
        "id": "dp0eSrGLPf4L",
        "outputId": "e9529eec-e1ee-4a0a-a039-a9047e3cc505"
      },
      "execution_count": 129,
      "outputs": [
        {
          "output_type": "stream",
          "name": "stdout",
          "text": [
            "      NSE\n",
            "0  180269\n",
            "1  447575\n",
            "2  295641\n",
            "3   55556\n",
            "4   11351\n"
          ]
        }
      ]
    },
    {
      "cell_type": "code",
      "source": [
        "# 2. E: Edad (Incondicional)\n",
        "print(pe.state_counts('E'))"
      ],
      "metadata": {
        "colab": {
          "base_uri": "https://localhost:8080/"
        },
        "id": "_9RgKlGOPrB6",
        "outputId": "64f3444c-9d44-4f35-d68d-07308bc42f40"
      },
      "execution_count": 65,
      "outputs": [
        {
          "output_type": "stream",
          "name": "stdout",
          "text": [
            "        E\n",
            "0    8247\n",
            "1  261838\n",
            "2  320229\n",
            "3  227152\n",
            "4  172926\n"
          ]
        }
      ]
    },
    {
      "cell_type": "code",
      "source": [
        "# 3. G: Género (Incondicional)\n",
        "print(pe.state_counts('G'))"
      ],
      "metadata": {
        "colab": {
          "base_uri": "https://localhost:8080/"
        },
        "id": "X1AZgU2TQXTa",
        "outputId": "b0b98744-3009-4d97-ec01-89be345253b5"
      },
      "execution_count": 66,
      "outputs": [
        {
          "output_type": "stream",
          "name": "stdout",
          "text": [
            "        G\n",
            "0  397432\n",
            "1  592960\n"
          ]
        }
      ]
    },
    {
      "cell_type": "code",
      "source": [
        "# 4. EC: Estado civil (Incondicional)\n",
        "print(pe.state_counts('EC'))"
      ],
      "metadata": {
        "colab": {
          "base_uri": "https://localhost:8080/"
        },
        "id": "KzCagQKPQXgE",
        "outputId": "108bec23-0cb5-4a50-f4c9-da4295f566b8"
      },
      "execution_count": 67,
      "outputs": [
        {
          "output_type": "stream",
          "name": "stdout",
          "text": [
            "       EC\n",
            "0  581322\n",
            "1  409070\n"
          ]
        }
      ]
    },
    {
      "cell_type": "code",
      "source": [
        "# 5. TR: Tiene o no tarjeta del retail (Condicional)\n",
        "print(pe.state_counts('TR'))"
      ],
      "metadata": {
        "colab": {
          "base_uri": "https://localhost:8080/"
        },
        "id": "5LRT_99DQ8Cp",
        "outputId": "2d095a50-23c7-40da-e994-a6ded1123f7d"
      },
      "execution_count": 68,
      "outputs": [
        {
          "output_type": "stream",
          "name": "stdout",
          "text": [
            "NSE       0       1       2      3     4\n",
            "TR                                      \n",
            "0     72371  172164  126285  27136  5990\n",
            "1    107898  275411  169356  28420  5361\n"
          ]
        }
      ]
    },
    {
      "cell_type": "code",
      "source": [
        "# 6. TC: Tipo de cliente (Condicional)\n",
        "print(pe.state_counts('TC'))"
      ],
      "metadata": {
        "colab": {
          "base_uri": "https://localhost:8080/"
        },
        "id": "00ijjrgbRDF0",
        "outputId": "aeaeaf50-920d-4614-8717-2a1935ffe95a"
      },
      "execution_count": 69,
      "outputs": [
        {
          "output_type": "stream",
          "name": "stdout",
          "text": [
            "E      0                    1                          2                       \\\n",
            "EC     0         1          0            1             0             1          \n",
            "G      0     1   0   1      0      1     0      1      0      1      0      1   \n",
            "TC                                                                              \n",
            "0   1984  3307   6  23  63538  95850  4496  10922  54271  77219  26081  45386   \n",
            "1   1435  1455  12  25  38748  38635  3322   6327  36774  36967  19178  24353   \n",
            "\n",
            "E       3                          4                       \n",
            "EC      0             1            0             1         \n",
            "G       0      1      0      1     0      1      0      1  \n",
            "TC                                                         \n",
            "0   17180  34674  30547  52733  4524  18050  22021  48474  \n",
            "1   14912  21603  25799  29704  5656  14540  26948  32713  \n"
          ]
        }
      ]
    },
    {
      "cell_type": "code",
      "source": [
        "# 7. MP: Método de pago (Condicional)\n",
        "print(pe.state_counts('MP'))"
      ],
      "metadata": {
        "colab": {
          "base_uri": "https://localhost:8080/"
        },
        "id": "QZyN6a-wRDkZ",
        "outputId": "d88ab1ad-b1f0-49b9-a256-0153623efd5b"
      },
      "execution_count": 70,
      "outputs": [
        {
          "output_type": "stream",
          "name": "stdout",
          "text": [
            "TR       0       1\n",
            "MP                \n",
            "0   377676  288425\n",
            "1    26270  298021\n"
          ]
        }
      ]
    },
    {
      "cell_type": "code",
      "source": [
        "# 8. PP: Producto en promoción o no (Condicional)\n",
        "print(pe.state_counts('PP'))"
      ],
      "metadata": {
        "colab": {
          "base_uri": "https://localhost:8080/"
        },
        "id": "RPsNWypsREIy",
        "outputId": "b20d1603-0a0c-4a39-c370-444a41b62865"
      },
      "execution_count": 71,
      "outputs": [
        {
          "output_type": "stream",
          "name": "stdout",
          "text": [
            "CC       0              1       \n",
            "MP       0       1      0      1\n",
            "PP                              \n",
            "0   580214  199949  73406  78375\n",
            "1     8744   28316   3737  17651\n"
          ]
        }
      ]
    },
    {
      "cell_type": "code",
      "source": [
        "# 9. CC: Canal de compra tienda / web (Incondicional)\n",
        "print(pe.state_counts('CC'))"
      ],
      "metadata": {
        "colab": {
          "base_uri": "https://localhost:8080/"
        },
        "id": "zVsQRjwXREgy",
        "outputId": "200f222f-d4a4-4c20-f522-b92c4ac3b1b4"
      },
      "execution_count": 72,
      "outputs": [
        {
          "output_type": "stream",
          "name": "stdout",
          "text": [
            "       CC\n",
            "0  817223\n",
            "1  173169\n"
          ]
        }
      ]
    },
    {
      "cell_type": "code",
      "source": [
        "# 10. C: Compra (Condicional)\n",
        "print(pe.state_counts('C'))"
      ],
      "metadata": {
        "colab": {
          "base_uri": "https://localhost:8080/"
        },
        "id": "lbctho0ZRE1i",
        "outputId": "f1761894-1c06-4046-f980-d2de9591705e"
      },
      "execution_count": 73,
      "outputs": [
        {
          "output_type": "stream",
          "name": "stdout",
          "text": [
            "CC       0                           1                    \n",
            "PP       0              1            0             1      \n",
            "TC       0       1      0     1      0      1      0     1\n",
            "C                                                         \n",
            "0   206831  210555   8149  3773  27691  12711   2058   552\n",
            "1   104249   68459   6968  1867  22244   6314   2682   410\n",
            "2   133439   56630  14172  2131  68243  14578  14560  1126\n"
          ]
        }
      ]
    },
    {
      "cell_type": "markdown",
      "source": [
        "### 2.3.2. Maxima Verosimilitud"
      ],
      "metadata": {
        "id": "UZLuculkPPWi"
      }
    },
    {
      "cell_type": "code",
      "source": [
        "mle = MaximumLikelihoodEstimator(model, df_modelo)"
      ],
      "metadata": {
        "id": "JixCx6qLX5XD"
      },
      "execution_count": 74,
      "outputs": []
    },
    {
      "cell_type": "code",
      "source": [
        "# 1. NSE: Nivel socioeconómico\n",
        "print(mle.estimate_cpd('NSE'))"
      ],
      "metadata": {
        "colab": {
          "base_uri": "https://localhost:8080/"
        },
        "id": "VUxhpHxe0bpX",
        "outputId": "7631c047-4a57-4e54-9b80-f43e8f56f093"
      },
      "execution_count": 75,
      "outputs": [
        {
          "output_type": "stream",
          "name": "stdout",
          "text": [
            "+--------+-----------+\n",
            "| NSE(0) | 0.182018  |\n",
            "+--------+-----------+\n",
            "| NSE(1) | 0.451917  |\n",
            "+--------+-----------+\n",
            "| NSE(2) | 0.298509  |\n",
            "+--------+-----------+\n",
            "| NSE(3) | 0.056095  |\n",
            "+--------+-----------+\n",
            "| NSE(4) | 0.0114611 |\n",
            "+--------+-----------+\n"
          ]
        }
      ]
    },
    {
      "cell_type": "code",
      "source": [
        "# 2. E: Edad\n",
        "print(mle.estimate_cpd('E'))"
      ],
      "metadata": {
        "colab": {
          "base_uri": "https://localhost:8080/"
        },
        "outputId": "bdbc0d70-54b2-4202-dc9c-3fd94c4622d1",
        "id": "RwZbaS9L0wOl"
      },
      "execution_count": 76,
      "outputs": [
        {
          "output_type": "stream",
          "name": "stdout",
          "text": [
            "+------+------------+\n",
            "| E(0) | 0.00832701 |\n",
            "+------+------------+\n",
            "| E(1) | 0.264378   |\n",
            "+------+------------+\n",
            "| E(2) | 0.323336   |\n",
            "+------+------------+\n",
            "| E(3) | 0.229356   |\n",
            "+------+------------+\n",
            "| E(4) | 0.174604   |\n",
            "+------+------------+\n"
          ]
        }
      ]
    },
    {
      "cell_type": "code",
      "source": [
        "# 3. G: Género\n",
        "print(mle.estimate_cpd('G'))"
      ],
      "metadata": {
        "colab": {
          "base_uri": "https://localhost:8080/"
        },
        "outputId": "53571ad9-f353-4c5d-872d-f7ead0c83a96",
        "id": "MGEurFT60wOm"
      },
      "execution_count": 77,
      "outputs": [
        {
          "output_type": "stream",
          "name": "stdout",
          "text": [
            "+------+----------+\n",
            "| G(0) | 0.401288 |\n",
            "+------+----------+\n",
            "| G(1) | 0.598712 |\n",
            "+------+----------+\n"
          ]
        }
      ]
    },
    {
      "cell_type": "code",
      "source": [
        "# 4. EC: Estado civil\n",
        "print(mle.estimate_cpd('EC'))"
      ],
      "metadata": {
        "colab": {
          "base_uri": "https://localhost:8080/"
        },
        "outputId": "30b44581-eb50-4f38-d201-6af9e8fc27d1",
        "id": "zVBCULDc0wOm"
      },
      "execution_count": 78,
      "outputs": [
        {
          "output_type": "stream",
          "name": "stdout",
          "text": [
            "+-------+----------+\n",
            "| EC(0) | 0.586962 |\n",
            "+-------+----------+\n",
            "| EC(1) | 0.413038 |\n",
            "+-------+----------+\n"
          ]
        }
      ]
    },
    {
      "cell_type": "code",
      "source": [
        "# 5. TR: Tiene o no tarjeta del retail\n",
        "cpd_tr = mle.estimate_cpd('TR')\n",
        "print(cpd_tr)"
      ],
      "metadata": {
        "colab": {
          "base_uri": "https://localhost:8080/"
        },
        "outputId": "33af48f9-28b9-4106-f381-915776d763e5",
        "id": "F1LgcBQT0wOn"
      },
      "execution_count": 79,
      "outputs": [
        {
          "output_type": "stream",
          "name": "stdout",
          "text": [
            "+-------+---------------------+-----+---------------------+\n",
            "| NSE   | NSE(0)              | ... | NSE(4)              |\n",
            "+-------+---------------------+-----+---------------------+\n",
            "| TR(0) | 0.40146114972624247 | ... | 0.5277068099726896  |\n",
            "+-------+---------------------+-----+---------------------+\n",
            "| TR(1) | 0.5985388502737575  | ... | 0.47229319002731035 |\n",
            "+-------+---------------------+-----+---------------------+\n"
          ]
        }
      ]
    },
    {
      "cell_type": "code",
      "source": [
        "for i in range(0, len(cpd_tr.values)):\n",
        "  for j in range(0, len(cpd_tr.values[i])):\n",
        "    print('tr_',i,'nse_',j,': ',cpd_tr.values[i][j])"
      ],
      "metadata": {
        "colab": {
          "base_uri": "https://localhost:8080/"
        },
        "id": "h_pdM2So2AWC",
        "outputId": "40b6b615-b19f-4e8e-d23c-dc22039203a6"
      },
      "execution_count": 80,
      "outputs": [
        {
          "output_type": "stream",
          "name": "stdout",
          "text": [
            "tr_ 0 nse_ 0 :  0.40146114972624247\n",
            "tr_ 0 nse_ 1 :  0.3846595542646484\n",
            "tr_ 0 nse_ 2 :  0.4271565851827047\n",
            "tr_ 0 nse_ 3 :  0.48844409244726045\n",
            "tr_ 0 nse_ 4 :  0.5277068099726896\n",
            "tr_ 1 nse_ 0 :  0.5985388502737575\n",
            "tr_ 1 nse_ 1 :  0.6153404457353516\n",
            "tr_ 1 nse_ 2 :  0.5728434148172953\n",
            "tr_ 1 nse_ 3 :  0.5115559075527396\n",
            "tr_ 1 nse_ 4 :  0.47229319002731035\n"
          ]
        }
      ]
    },
    {
      "cell_type": "code",
      "source": [
        "# 6. TC: Tipo de cliente (Condicional)\n",
        "cpd_tc = mle.estimate_cpd('TC')\n",
        "print(cpd_tc)"
      ],
      "metadata": {
        "colab": {
          "base_uri": "https://localhost:8080/"
        },
        "outputId": "7082ae58-da6e-4bd9-c1d4-bbb83ff32e10",
        "id": "kPgM3ywR0wOn"
      },
      "execution_count": 81,
      "outputs": [
        {
          "output_type": "stream",
          "name": "stdout",
          "text": [
            "+-------+--------------------+-----+---------------------+\n",
            "| E     | E(0)               | ... | E(4)                |\n",
            "+-------+--------------------+-----+---------------------+\n",
            "| EC    | EC(0)              | ... | EC(1)               |\n",
            "+-------+--------------------+-----+---------------------+\n",
            "| G     | G(0)               | ... | G(1)                |\n",
            "+-------+--------------------+-----+---------------------+\n",
            "| TC(0) | 0.5802866335185727 | ... | 0.5970660327392316  |\n",
            "+-------+--------------------+-----+---------------------+\n",
            "| TC(1) | 0.4197133664814273 | ... | 0.40293396726076836 |\n",
            "+-------+--------------------+-----+---------------------+\n"
          ]
        }
      ]
    },
    {
      "cell_type": "code",
      "source": [
        "for i in range(0, len(cpd_tc.values)):\n",
        "  for j in range(0, len(cpd_tc.values[i])):\n",
        "    for k in range(0, len(cpd_tc.values[i][j])):\n",
        "      for l in range(0, len(cpd_tc.values[i][j][k])):\n",
        "        print('tc_',i,'e_',j,'ec_',k,'g_',l,': ',cpd_tc.values[i][j][k][l])"
      ],
      "metadata": {
        "colab": {
          "base_uri": "https://localhost:8080/"
        },
        "id": "Lu9QbJ4V6Qt5",
        "outputId": "e9d4af0e-8efb-4e40-e760-8b4b850c0a0b"
      },
      "execution_count": 82,
      "outputs": [
        {
          "output_type": "stream",
          "name": "stdout",
          "text": [
            "tc_ 0 e_ 0 ec_ 0 g_ 0 :  0.5802866335185727\n",
            "tc_ 0 e_ 0 ec_ 0 g_ 1 :  0.6944561108777825\n",
            "tc_ 0 e_ 0 ec_ 1 g_ 0 :  0.3333333333333333\n",
            "tc_ 0 e_ 0 ec_ 1 g_ 1 :  0.4791666666666667\n",
            "tc_ 0 e_ 1 ec_ 0 g_ 0 :  0.6211798291066226\n",
            "tc_ 0 e_ 1 ec_ 0 g_ 1 :  0.7127188905825929\n",
            "tc_ 0 e_ 1 ec_ 1 g_ 0 :  0.5750831414684062\n",
            "tc_ 0 e_ 1 ec_ 1 g_ 1 :  0.6331961273117283\n",
            "tc_ 0 e_ 2 ec_ 0 g_ 0 :  0.5960898456807073\n",
            "tc_ 0 e_ 2 ec_ 0 g_ 1 :  0.6762562836074475\n",
            "tc_ 0 e_ 2 ec_ 1 g_ 0 :  0.576261075145275\n",
            "tc_ 0 e_ 2 ec_ 1 g_ 1 :  0.6507979753079338\n",
            "tc_ 0 e_ 3 ec_ 0 g_ 0 :  0.5353359092608749\n",
            "tc_ 0 e_ 3 ec_ 0 g_ 1 :  0.6161309238232315\n",
            "tc_ 0 e_ 3 ec_ 1 g_ 0 :  0.5421325382458382\n",
            "tc_ 0 e_ 3 ec_ 1 g_ 1 :  0.639676358916506\n",
            "tc_ 0 e_ 4 ec_ 0 g_ 0 :  0.4444007858546169\n",
            "tc_ 0 e_ 4 ec_ 0 g_ 1 :  0.5538508745013808\n",
            "tc_ 0 e_ 4 ec_ 1 g_ 0 :  0.4496926627049766\n",
            "tc_ 0 e_ 4 ec_ 1 g_ 1 :  0.5970660327392316\n",
            "tc_ 1 e_ 0 ec_ 0 g_ 0 :  0.4197133664814273\n",
            "tc_ 1 e_ 0 ec_ 0 g_ 1 :  0.3055438891222176\n",
            "tc_ 1 e_ 0 ec_ 1 g_ 0 :  0.6666666666666666\n",
            "tc_ 1 e_ 0 ec_ 1 g_ 1 :  0.5208333333333334\n",
            "tc_ 1 e_ 1 ec_ 0 g_ 0 :  0.3788201708933774\n",
            "tc_ 1 e_ 1 ec_ 0 g_ 1 :  0.28728110941740714\n",
            "tc_ 1 e_ 1 ec_ 1 g_ 0 :  0.4249168585315938\n",
            "tc_ 1 e_ 1 ec_ 1 g_ 1 :  0.3668038726882718\n",
            "tc_ 1 e_ 2 ec_ 0 g_ 0 :  0.40391015431929267\n",
            "tc_ 1 e_ 2 ec_ 0 g_ 1 :  0.3237437163925525\n",
            "tc_ 1 e_ 2 ec_ 1 g_ 0 :  0.42373892485472503\n",
            "tc_ 1 e_ 2 ec_ 1 g_ 1 :  0.3492020246920661\n",
            "tc_ 1 e_ 3 ec_ 0 g_ 0 :  0.464664090739125\n",
            "tc_ 1 e_ 3 ec_ 0 g_ 1 :  0.38386907617676846\n",
            "tc_ 1 e_ 3 ec_ 1 g_ 0 :  0.45786746175416176\n",
            "tc_ 1 e_ 3 ec_ 1 g_ 1 :  0.3603236410834941\n",
            "tc_ 1 e_ 4 ec_ 0 g_ 0 :  0.5555992141453832\n",
            "tc_ 1 e_ 4 ec_ 0 g_ 1 :  0.4461491254986192\n",
            "tc_ 1 e_ 4 ec_ 1 g_ 0 :  0.5503073372950233\n",
            "tc_ 1 e_ 4 ec_ 1 g_ 1 :  0.40293396726076836\n"
          ]
        }
      ]
    },
    {
      "cell_type": "code",
      "source": [
        "# 7. MP: Método de pago\n",
        "print(mle.estimate_cpd('MP'))"
      ],
      "metadata": {
        "colab": {
          "base_uri": "https://localhost:8080/"
        },
        "outputId": "27d6cb23-8f2a-4a23-c7f8-0480ea7abac7",
        "id": "8BFJRNaX0wO3"
      },
      "execution_count": 83,
      "outputs": [
        {
          "output_type": "stream",
          "name": "stdout",
          "text": [
            "+-------+---------------------+---------------------+\n",
            "| TR    | TR(0)               | TR(1)               |\n",
            "+-------+---------------------+---------------------+\n",
            "| MP(0) | 0.9349665549355607  | 0.49181851355453016 |\n",
            "+-------+---------------------+---------------------+\n",
            "| MP(1) | 0.06503344506443931 | 0.5081814864454698  |\n",
            "+-------+---------------------+---------------------+\n"
          ]
        }
      ]
    },
    {
      "cell_type": "code",
      "source": [
        "# 8. PP: Producto en promoción o no\n",
        "cpd_pp = mle.estimate_cpd('PP')\n",
        "print(cpd_pp)"
      ],
      "metadata": {
        "colab": {
          "base_uri": "https://localhost:8080/"
        },
        "outputId": "5b61b920-6db9-4c84-eee3-10dbed796879",
        "id": "1bEHMSaU0wO3"
      },
      "execution_count": 84,
      "outputs": [
        {
          "output_type": "stream",
          "name": "stdout",
          "text": [
            "+-------+----------------------+-----+---------------------+\n",
            "| CC    | CC(0)                | ... | CC(1)               |\n",
            "+-------+----------------------+-----+---------------------+\n",
            "| MP    | MP(0)                | ... | MP(1)               |\n",
            "+-------+----------------------+-----+---------------------+\n",
            "| PP(0) | 0.9851534404830226   | ... | 0.8161851998417096  |\n",
            "+-------+----------------------+-----+---------------------+\n",
            "| PP(1) | 0.014846559516977442 | ... | 0.18381480015829046 |\n",
            "+-------+----------------------+-----+---------------------+\n"
          ]
        }
      ]
    },
    {
      "cell_type": "code",
      "source": [
        "for i in range(0, len(cpd_pp.values)):\n",
        "  for j in range(0, len(cpd_pp.values[i])):\n",
        "    for k in range(0, len(cpd_pp.values[i][j])):\n",
        "        print('pp_',i,'cc_',j,'mp_',k,': ',cpd_pp.values[i][j][k])"
      ],
      "metadata": {
        "colab": {
          "base_uri": "https://localhost:8080/"
        },
        "id": "0WP2_0xh89f7",
        "outputId": "f16c5341-fbcd-4de6-d167-78954d6e146b"
      },
      "execution_count": 85,
      "outputs": [
        {
          "output_type": "stream",
          "name": "stdout",
          "text": [
            "pp_ 0 cc_ 0 mp_ 0 :  0.9851534404830226\n",
            "pp_ 0 cc_ 0 mp_ 1 :  0.8759511970735767\n",
            "pp_ 0 cc_ 1 mp_ 0 :  0.9515574971157461\n",
            "pp_ 0 cc_ 1 mp_ 1 :  0.8161851998417096\n",
            "pp_ 1 cc_ 0 mp_ 0 :  0.014846559516977442\n",
            "pp_ 1 cc_ 0 mp_ 1 :  0.12404880292642323\n",
            "pp_ 1 cc_ 1 mp_ 0 :  0.04844250288425392\n",
            "pp_ 1 cc_ 1 mp_ 1 :  0.18381480015829046\n"
          ]
        }
      ]
    },
    {
      "cell_type": "code",
      "source": [
        "# 9. CC: Canal de compra tienda / web\n",
        "print(mle.estimate_cpd('CC'))"
      ],
      "metadata": {
        "colab": {
          "base_uri": "https://localhost:8080/"
        },
        "outputId": "29ec7d9e-ac12-4103-de4e-1bebb14a7749",
        "id": "OR8gd8Io0wO4"
      },
      "execution_count": 86,
      "outputs": [
        {
          "output_type": "stream",
          "name": "stdout",
          "text": [
            "+-------+----------+\n",
            "| CC(0) | 0.825151 |\n",
            "+-------+----------+\n",
            "| CC(1) | 0.174849 |\n",
            "+-------+----------+\n"
          ]
        }
      ]
    },
    {
      "cell_type": "code",
      "source": [
        "# 10. C: Compra\n",
        "cpd_c = mle.estimate_cpd('C')\n",
        "print(cpd_c)"
      ],
      "metadata": {
        "colab": {
          "base_uri": "https://localhost:8080/"
        },
        "outputId": "1668860e-e5c1-45f9-c05c-ce27a1735bd2",
        "id": "iMO-oep_0wO4"
      },
      "execution_count": 87,
      "outputs": [
        {
          "output_type": "stream",
          "name": "stdout",
          "text": [
            "+------+---------------------+-----+---------------------+\n",
            "| CC   | CC(0)               | ... | CC(1)               |\n",
            "+------+---------------------+-----+---------------------+\n",
            "| PP   | PP(0)               | ... | PP(1)               |\n",
            "+------+---------------------+-----+---------------------+\n",
            "| TC   | TC(0)               | ... | TC(1)               |\n",
            "+------+---------------------+-----+---------------------+\n",
            "| C(0) | 0.4652916973177749  | ... | 0.26436781609195403 |\n",
            "+------+---------------------+-----+---------------------+\n",
            "| C(1) | 0.23452090911749554 | ... | 0.19636015325670497 |\n",
            "+------+---------------------+-----+---------------------+\n",
            "| C(2) | 0.3001873935647295  | ... | 0.539272030651341   |\n",
            "+------+---------------------+-----+---------------------+\n"
          ]
        }
      ]
    },
    {
      "cell_type": "code",
      "source": [
        "for i in range(0, len(cpd_c.values)):\n",
        "  for j in range(0, len(cpd_c.values[i])):\n",
        "    for k in range(0, len(cpd_c.values[i][j])):\n",
        "      for l in range(0, len(cpd_c.values[i][j][k])):\n",
        "        print('c_',i,'cc_',j,'pp_',k,'tc_',l,': ',cpd_c.values[i][j][k][l])"
      ],
      "metadata": {
        "colab": {
          "base_uri": "https://localhost:8080/"
        },
        "id": "bJ0zzNih9wnD",
        "outputId": "ca54f554-ee72-44d8-f009-d4a9d102b7fd"
      },
      "execution_count": 88,
      "outputs": [
        {
          "output_type": "stream",
          "name": "stdout",
          "text": [
            "c_ 0 cc_ 0 pp_ 0 tc_ 0 :  0.4652916973177749\n",
            "c_ 0 cc_ 0 pp_ 0 tc_ 1 :  0.6273164424211367\n",
            "c_ 0 cc_ 0 pp_ 1 tc_ 0 :  0.2782273208371744\n",
            "c_ 0 cc_ 0 pp_ 1 tc_ 1 :  0.485523098700296\n",
            "c_ 0 cc_ 1 pp_ 0 tc_ 0 :  0.23431603174871804\n",
            "c_ 0 cc_ 1 pp_ 0 tc_ 1 :  0.37826979733952326\n",
            "c_ 0 cc_ 1 pp_ 1 tc_ 0 :  0.1066321243523316\n",
            "c_ 0 cc_ 1 pp_ 1 tc_ 1 :  0.26436781609195403\n",
            "c_ 1 cc_ 0 pp_ 0 tc_ 0 :  0.23452090911749554\n",
            "c_ 1 cc_ 0 pp_ 0 tc_ 1 :  0.2039631275994804\n",
            "c_ 1 cc_ 0 pp_ 1 tc_ 0 :  0.23790501553484245\n",
            "c_ 1 cc_ 0 pp_ 1 tc_ 1 :  0.24025221979153263\n",
            "c_ 1 cc_ 1 pp_ 0 tc_ 0 :  0.18822454263906988\n",
            "c_ 1 cc_ 1 pp_ 0 tc_ 1 :  0.18789988989078357\n",
            "c_ 1 cc_ 1 pp_ 1 tc_ 0 :  0.13896373056994818\n",
            "c_ 1 cc_ 1 pp_ 1 tc_ 1 :  0.19636015325670497\n",
            "c_ 2 cc_ 0 pp_ 0 tc_ 0 :  0.3001873935647295\n",
            "c_ 2 cc_ 0 pp_ 0 tc_ 1 :  0.1687204299793829\n",
            "c_ 2 cc_ 0 pp_ 1 tc_ 0 :  0.4838676636279832\n",
            "c_ 2 cc_ 0 pp_ 1 tc_ 1 :  0.2742246815081714\n",
            "c_ 2 cc_ 1 pp_ 0 tc_ 0 :  0.5774594256122121\n",
            "c_ 2 cc_ 1 pp_ 0 tc_ 1 :  0.4338303127696932\n",
            "c_ 2 cc_ 1 pp_ 1 tc_ 0 :  0.7544041450777202\n",
            "c_ 2 cc_ 1 pp_ 1 tc_ 1 :  0.539272030651341\n"
          ]
        }
      ]
    },
    {
      "cell_type": "markdown",
      "source": [
        "### 2.3.2. Estimar los parámetros bayesianos"
      ],
      "metadata": {
        "id": "wTekhy8kuBUD"
      }
    },
    {
      "cell_type": "code",
      "source": [
        "be = BayesianEstimator(model, df_modelo)"
      ],
      "metadata": {
        "id": "fxNyRItft-I7"
      },
      "execution_count": 89,
      "outputs": []
    },
    {
      "cell_type": "code",
      "source": [
        "# 1. NSE: Nivel socioeconómico\n",
        "cpd_nse = be.estimate_cpd('NSE', prior_type='BDeu', equivalent_sample_size=10)\n",
        "print(cpd_nse)"
      ],
      "metadata": {
        "id": "GUsE76W_vON7",
        "outputId": "4c383ca9-61d0-45d2-c86c-c24e4ddf070c",
        "colab": {
          "base_uri": "https://localhost:8080/"
        }
      },
      "execution_count": 90,
      "outputs": [
        {
          "output_type": "stream",
          "name": "stdout",
          "text": [
            "+--------+-----------+\n",
            "| NSE(0) | 0.182018  |\n",
            "+--------+-----------+\n",
            "| NSE(1) | 0.451914  |\n",
            "+--------+-----------+\n",
            "| NSE(2) | 0.298508  |\n",
            "+--------+-----------+\n",
            "| NSE(3) | 0.0560964 |\n",
            "+--------+-----------+\n",
            "| NSE(4) | 0.011463  |\n",
            "+--------+-----------+\n"
          ]
        }
      ]
    },
    {
      "cell_type": "code",
      "source": [
        "# 2. E: Edad\n",
        "cpd_e = be.estimate_cpd('E', prior_type='BDeu', equivalent_sample_size=10)\n",
        "print(cpd_e)"
      ],
      "metadata": {
        "id": "cZywucfcvQ62",
        "outputId": "98d75aeb-b637-4dd6-f0f4-cf38f30c0f96",
        "colab": {
          "base_uri": "https://localhost:8080/"
        }
      },
      "execution_count": 91,
      "outputs": [
        {
          "output_type": "stream",
          "name": "stdout",
          "text": [
            "+------+------------+\n",
            "| E(0) | 0.00832894 |\n",
            "+------+------------+\n",
            "| E(1) | 0.264377   |\n",
            "+------+------------+\n",
            "| E(2) | 0.323334   |\n",
            "+------+------------+\n",
            "| E(3) | 0.229355   |\n",
            "+------+------------+\n",
            "| E(4) | 0.174604   |\n",
            "+------+------------+\n"
          ]
        }
      ]
    },
    {
      "cell_type": "code",
      "source": [
        "# 3. G: Género\n",
        "cpd_g = be.estimate_cpd('G', prior_type='BDeu', equivalent_sample_size=10)\n",
        "print(cpd_g)"
      ],
      "metadata": {
        "id": "0tZwYNAivf6j",
        "outputId": "46a35d95-4c3a-4065-edfe-347cc19e5ffc",
        "colab": {
          "base_uri": "https://localhost:8080/"
        }
      },
      "execution_count": 92,
      "outputs": [
        {
          "output_type": "stream",
          "name": "stdout",
          "text": [
            "+------+----------+\n",
            "| G(0) | 0.401289 |\n",
            "+------+----------+\n",
            "| G(1) | 0.598711 |\n",
            "+------+----------+\n"
          ]
        }
      ]
    },
    {
      "cell_type": "code",
      "source": [
        "# 4. EC: Estado civil\n",
        "cpd_ec = be.estimate_cpd('EC', prior_type='BDeu', equivalent_sample_size=10)\n",
        "print(cpd_ec)"
      ],
      "metadata": {
        "id": "Tkq0aQ4jvtWz",
        "outputId": "58ffbfd7-b938-47e4-bc97-43513810fe61",
        "colab": {
          "base_uri": "https://localhost:8080/"
        }
      },
      "execution_count": 93,
      "outputs": [
        {
          "output_type": "stream",
          "name": "stdout",
          "text": [
            "+-------+----------+\n",
            "| EC(0) | 0.586961 |\n",
            "+-------+----------+\n",
            "| EC(1) | 0.413039 |\n",
            "+-------+----------+\n"
          ]
        }
      ]
    },
    {
      "cell_type": "code",
      "source": [
        "# 5. TR: Tiene o no tarjeta del retail\n",
        "cpd_tr = be.estimate_cpd('TR', prior_type='BDeu', equivalent_sample_size=10)\n",
        "print(cpd_tr)"
      ],
      "metadata": {
        "id": "-nTpUX8lv6WL",
        "outputId": "42f5630c-c84f-46b9-c163-8c3ea56a6a66",
        "colab": {
          "base_uri": "https://localhost:8080/"
        }
      },
      "execution_count": 94,
      "outputs": [
        {
          "output_type": "stream",
          "name": "stdout",
          "text": [
            "+-------+--------------------+-----+--------------------+\n",
            "| NSE   | NSE(0)             | ... | NSE(4)             |\n",
            "+-------+--------------------+-----+--------------------+\n",
            "| TR(0) | 0.4014622429564378 | ... | 0.5277019290055492 |\n",
            "+-------+--------------------+-----+--------------------+\n",
            "| TR(1) | 0.5985377570435622 | ... | 0.4722980709944508 |\n",
            "+-------+--------------------+-----+--------------------+\n"
          ]
        }
      ]
    },
    {
      "cell_type": "code",
      "source": [
        "# 6. TC: Tipo de cliente (Condicional)\n",
        "cpd_tc = be.estimate_cpd('TC', prior_type='BDeu', equivalent_sample_size=10)\n",
        "print(cpd_tc)"
      ],
      "metadata": {
        "id": "CVbSbLfjv8TK",
        "outputId": "ea4c048e-92e7-4b7d-c823-1dd3f1177ca2",
        "colab": {
          "base_uri": "https://localhost:8080/"
        }
      },
      "execution_count": 95,
      "outputs": [
        {
          "output_type": "stream",
          "name": "stdout",
          "text": [
            "+-------+--------------------+-----+--------------------+\n",
            "| E     | E(0)               | ... | E(4)               |\n",
            "+-------+--------------------+-----+--------------------+\n",
            "| EC    | EC(0)              | ... | EC(1)              |\n",
            "+-------+--------------------+-----+--------------------+\n",
            "| G     | G(0)               | ... | G(1)               |\n",
            "+-------+--------------------+-----+--------------------+\n",
            "| TC(0) | 0.5802748939903495 | ... | 0.5970654349499616 |\n",
            "+-------+--------------------+-----+--------------------+\n",
            "| TC(1) | 0.4197251060096505 | ... | 0.4029345650500385 |\n",
            "+-------+--------------------+-----+--------------------+\n"
          ]
        }
      ]
    },
    {
      "cell_type": "code",
      "source": [
        "# 7. MP: Método de pago\n",
        "cpd_mp = be.estimate_cpd('MP', prior_type='BDeu', equivalent_sample_size=10)\n",
        "print(cpd_mp)"
      ],
      "metadata": {
        "id": "NFKbsiT2v-OJ",
        "outputId": "792f94c5-c8ae-4485-b2c0-1bc44fe729c8",
        "colab": {
          "base_uri": "https://localhost:8080/"
        }
      },
      "execution_count": 96,
      "outputs": [
        {
          "output_type": "stream",
          "name": "stdout",
          "text": [
            "+-------+---------------------+---------------------+\n",
            "| TR    | TR(0)               | TR(1)               |\n",
            "+-------+---------------------+---------------------+\n",
            "| MP(0) | 0.9349611710331204  | 0.49181858330875045 |\n",
            "+-------+---------------------+---------------------+\n",
            "| MP(1) | 0.06503882896687965 | 0.5081814166912496  |\n",
            "+-------+---------------------+---------------------+\n"
          ]
        }
      ]
    },
    {
      "cell_type": "code",
      "source": [
        "# 8. PP: Producto en promoción o no\n",
        "cpd_pp = be.estimate_cpd('PP', prior_type='BDeu', equivalent_sample_size=10)\n",
        "print(cpd_pp)"
      ],
      "metadata": {
        "id": "E02fimt0v-Vh",
        "outputId": "47634f42-c009-4a66-c6c9-47687d4b7ed3",
        "colab": {
          "base_uri": "https://localhost:8080/"
        }
      },
      "execution_count": 97,
      "outputs": [
        {
          "output_type": "stream",
          "name": "stdout",
          "text": [
            "+-------+----------------------+-----+--------------------+\n",
            "| CC    | CC(0)                | ... | CC(1)              |\n",
            "+-------+----------------------+-----+--------------------+\n",
            "| MP    | MP(0)                | ... | MP(1)              |\n",
            "+-------+----------------------+-----+--------------------+\n",
            "| PP(0) | 0.9851513811197865   | ... | 0.8161769682958705 |\n",
            "+-------+----------------------+-----+--------------------+\n",
            "| PP(1) | 0.014848618880213528 | ... | 0.1838230317041295 |\n",
            "+-------+----------------------+-----+--------------------+\n"
          ]
        }
      ]
    },
    {
      "cell_type": "code",
      "source": [
        "# 9. CC: Canal de compra tienda / web\n",
        "cpd_cc = be.estimate_cpd('CC', prior_type='BDeu', equivalent_sample_size=10)\n",
        "print(cpd_cc)"
      ],
      "metadata": {
        "id": "h3OdPxeHwC1Q",
        "outputId": "2ba58b37-9a31-4ac2-b996-cd731c556894",
        "colab": {
          "base_uri": "https://localhost:8080/"
        }
      },
      "execution_count": 98,
      "outputs": [
        {
          "output_type": "stream",
          "name": "stdout",
          "text": [
            "+-------+----------+\n",
            "| CC(0) | 0.825148 |\n",
            "+-------+----------+\n",
            "| CC(1) | 0.174852 |\n",
            "+-------+----------+\n"
          ]
        }
      ]
    },
    {
      "cell_type": "code",
      "source": [
        "# 10. C: Compra\n",
        "cpd_c = be.estimate_cpd('C', prior_type='BDeu', equivalent_sample_size=10)\n",
        "print(cpd_c)"
      ],
      "metadata": {
        "id": "scrKu-KBwGRB",
        "outputId": "c3d6ec10-cb1b-4858-d013-859697320146",
        "colab": {
          "base_uri": "https://localhost:8080/"
        }
      },
      "execution_count": 99,
      "outputs": [
        {
          "output_type": "stream",
          "name": "stdout",
          "text": [
            "+------+---------------------+-----+---------------------+\n",
            "| CC   | CC(0)               | ... | CC(1)               |\n",
            "+------+---------------------+-----+---------------------+\n",
            "| PP   | PP(0)               | ... | PP(1)               |\n",
            "+------+---------------------+-----+---------------------+\n",
            "| TC   | TC(0)               | ... | TC(1)               |\n",
            "+------+---------------------+-----+---------------------+\n",
            "| C(0) | 0.46529132624816677 | ... | 0.26440907821786125 |\n",
            "+------+---------------------+-----+---------------------+\n",
            "| C(1) | 0.23452118698004573 | ... | 0.19644210442343746 |\n",
            "+------+---------------------+-----+---------------------+\n",
            "| C(2) | 0.30018748677178747 | ... | 0.5391488173587013  |\n",
            "+------+---------------------+-----+---------------------+\n"
          ]
        }
      ]
    },
    {
      "cell_type": "code",
      "source": [
        "model.fit(df_modelo, estimator=BayesianEstimator, prior_type='BDeu')"
      ],
      "metadata": {
        "id": "_RcJzZvlHH6q"
      },
      "execution_count": 132,
      "outputs": []
    },
    {
      "cell_type": "code",
      "source": [
        "for cpd in model.get_cpds():\n",
        "    print(cpd)"
      ],
      "metadata": {
        "colab": {
          "base_uri": "https://localhost:8080/"
        },
        "id": "DPdXk1bJHcs9",
        "outputId": "ef72ee8d-506e-4dd5-ff94-f0ac302861a0"
      },
      "execution_count": 133,
      "outputs": [
        {
          "output_type": "stream",
          "name": "stdout",
          "text": [
            "+--------+-----------+\n",
            "| NSE(0) | 0.182018  |\n",
            "+--------+-----------+\n",
            "| NSE(1) | 0.451916  |\n",
            "+--------+-----------+\n",
            "| NSE(2) | 0.298509  |\n",
            "+--------+-----------+\n",
            "| NSE(3) | 0.0560957 |\n",
            "+--------+-----------+\n",
            "| NSE(4) | 0.0114621 |\n",
            "+--------+-----------+\n",
            "+-------+---------------------+-----+--------------------+\n",
            "| NSE   | NSE(0)              | ... | NSE(4)             |\n",
            "+-------+---------------------+-----+--------------------+\n",
            "| TR(0) | 0.40146169634437234 | ... | 0.5277043692741367 |\n",
            "+-------+---------------------+-----+--------------------+\n",
            "| TR(1) | 0.5985383036556277  | ... | 0.4722956307258633 |\n",
            "+-------+---------------------+-----+--------------------+\n",
            "+-------+---------------------+---------------------+\n",
            "| TR    | TR(0)               | TR(1)               |\n",
            "+-------+---------------------+---------------------+\n",
            "| MP(0) | 0.9349638629676803  | 0.49181854843178896 |\n",
            "+-------+---------------------+---------------------+\n",
            "| MP(1) | 0.06503613703231971 | 0.508181451568211   |\n",
            "+-------+---------------------+---------------------+\n",
            "+-------+----------------------+-----+---------------------+\n",
            "| CC    | CC(0)                | ... | CC(1)               |\n",
            "+-------+----------------------+-----+---------------------+\n",
            "| MP    | MP(0)                | ... | MP(1)               |\n",
            "+-------+----------------------+-----+---------------------+\n",
            "| PP(0) | 0.9851524107992191   | ... | 0.8161810840152144  |\n",
            "+-------+----------------------+-----+---------------------+\n",
            "| PP(1) | 0.014847589200780869 | ... | 0.18381891598478556 |\n",
            "+-------+----------------------+-----+---------------------+\n",
            "+-------+----------+\n",
            "| CC(0) | 0.825149 |\n",
            "+-------+----------+\n",
            "| CC(1) | 0.174851 |\n",
            "+-------+----------+\n",
            "+------+---------------------+-----+---------------------+\n",
            "| CC   | CC(0)               | ... | CC(1)               |\n",
            "+------+---------------------+-----+---------------------+\n",
            "| PP   | PP(0)               | ... | PP(1)               |\n",
            "+------+---------------------+-----+---------------------+\n",
            "| TC   | TC(0)               | ... | TC(1)               |\n",
            "+------+---------------------+-----+---------------------+\n",
            "| C(0) | 0.46529151178271005 | ... | 0.2643884533285455  |\n",
            "+------+---------------------+-----+---------------------+\n",
            "| C(1) | 0.23452104804896595 | ... | 0.19640114110160192 |\n",
            "+------+---------------------+-----+---------------------+\n",
            "| C(2) | 0.30018744016832405 | ... | 0.5392104055698526  |\n",
            "+------+---------------------+-----+---------------------+\n",
            "+------+------------+\n",
            "| E(0) | 0.00832797 |\n",
            "+------+------------+\n",
            "| E(1) | 0.264378   |\n",
            "+------+------------+\n",
            "| E(2) | 0.323335   |\n",
            "+------+------------+\n",
            "| E(3) | 0.229356   |\n",
            "+------+------------+\n",
            "| E(4) | 0.174604   |\n",
            "+------+------------+\n",
            "+-------+---------------------+-----+---------------------+\n",
            "| E     | E(0)                | ... | E(4)                |\n",
            "+-------+---------------------+-----+---------------------+\n",
            "| EC    | EC(0)               | ... | EC(1)               |\n",
            "+-------+---------------------+-----+---------------------+\n",
            "| G     | G(0)                | ... | G(1)                |\n",
            "+-------+---------------------+-----+---------------------+\n",
            "| TC(0) | 0.5802807633252907  | ... | 0.5970657338436762  |\n",
            "+-------+---------------------+-----+---------------------+\n",
            "| TC(1) | 0.41971923667470934 | ... | 0.40293426615632383 |\n",
            "+-------+---------------------+-----+---------------------+\n",
            "+------+----------+\n",
            "| G(0) | 0.401288 |\n",
            "+------+----------+\n",
            "| G(1) | 0.598712 |\n",
            "+------+----------+\n",
            "+-------+----------+\n",
            "| EC(0) | 0.586961 |\n",
            "+-------+----------+\n",
            "| EC(1) | 0.413039 |\n",
            "+-------+----------+\n"
          ]
        }
      ]
    },
    {
      "cell_type": "markdown",
      "source": [
        "## 2.4. Aprendizaje estructurado"
      ],
      "metadata": {
        "id": "PVhMwUKgarFv"
      }
    },
    {
      "cell_type": "markdown",
      "source": [
        "### 2.4.1. Ingeniería de características"
      ],
      "metadata": {
        "id": "dVxAQ7oAeL5w"
      }
    },
    {
      "cell_type": "code",
      "source": [
        "X = (df_modelo.iloc[:, :-1])\n",
        "X.head()"
      ],
      "metadata": {
        "colab": {
          "base_uri": "https://localhost:8080/",
          "height": 206
        },
        "id": "rvDPiA_cebdZ",
        "outputId": "8fa4244a-68a0-4b6b-85aa-cd83117f16d7"
      },
      "execution_count": 100,
      "outputs": [
        {
          "output_type": "execute_result",
          "data": {
            "text/plain": [
              "   NSE  E  G  EC  TR  TC  MP  PP  CC\n",
              "0    2  1  0   1   0   1   0   0   0\n",
              "1    1  2  1   1   0   1   0   0   0\n",
              "2    1  1  1   0   1   1   1   0   0\n",
              "3    2  2  0   1   0   0   0   0   0\n",
              "4    1  2  1   0   1   0   0   0   0"
            ],
            "text/html": [
              "\n",
              "  <div id=\"df-041113cd-f65b-419e-827e-3a648fa72e08\">\n",
              "    <div class=\"colab-df-container\">\n",
              "      <div>\n",
              "<style scoped>\n",
              "    .dataframe tbody tr th:only-of-type {\n",
              "        vertical-align: middle;\n",
              "    }\n",
              "\n",
              "    .dataframe tbody tr th {\n",
              "        vertical-align: top;\n",
              "    }\n",
              "\n",
              "    .dataframe thead th {\n",
              "        text-align: right;\n",
              "    }\n",
              "</style>\n",
              "<table border=\"1\" class=\"dataframe\">\n",
              "  <thead>\n",
              "    <tr style=\"text-align: right;\">\n",
              "      <th></th>\n",
              "      <th>NSE</th>\n",
              "      <th>E</th>\n",
              "      <th>G</th>\n",
              "      <th>EC</th>\n",
              "      <th>TR</th>\n",
              "      <th>TC</th>\n",
              "      <th>MP</th>\n",
              "      <th>PP</th>\n",
              "      <th>CC</th>\n",
              "    </tr>\n",
              "  </thead>\n",
              "  <tbody>\n",
              "    <tr>\n",
              "      <th>0</th>\n",
              "      <td>2</td>\n",
              "      <td>1</td>\n",
              "      <td>0</td>\n",
              "      <td>1</td>\n",
              "      <td>0</td>\n",
              "      <td>1</td>\n",
              "      <td>0</td>\n",
              "      <td>0</td>\n",
              "      <td>0</td>\n",
              "    </tr>\n",
              "    <tr>\n",
              "      <th>1</th>\n",
              "      <td>1</td>\n",
              "      <td>2</td>\n",
              "      <td>1</td>\n",
              "      <td>1</td>\n",
              "      <td>0</td>\n",
              "      <td>1</td>\n",
              "      <td>0</td>\n",
              "      <td>0</td>\n",
              "      <td>0</td>\n",
              "    </tr>\n",
              "    <tr>\n",
              "      <th>2</th>\n",
              "      <td>1</td>\n",
              "      <td>1</td>\n",
              "      <td>1</td>\n",
              "      <td>0</td>\n",
              "      <td>1</td>\n",
              "      <td>1</td>\n",
              "      <td>1</td>\n",
              "      <td>0</td>\n",
              "      <td>0</td>\n",
              "    </tr>\n",
              "    <tr>\n",
              "      <th>3</th>\n",
              "      <td>2</td>\n",
              "      <td>2</td>\n",
              "      <td>0</td>\n",
              "      <td>1</td>\n",
              "      <td>0</td>\n",
              "      <td>0</td>\n",
              "      <td>0</td>\n",
              "      <td>0</td>\n",
              "      <td>0</td>\n",
              "    </tr>\n",
              "    <tr>\n",
              "      <th>4</th>\n",
              "      <td>1</td>\n",
              "      <td>2</td>\n",
              "      <td>1</td>\n",
              "      <td>0</td>\n",
              "      <td>1</td>\n",
              "      <td>0</td>\n",
              "      <td>0</td>\n",
              "      <td>0</td>\n",
              "      <td>0</td>\n",
              "    </tr>\n",
              "  </tbody>\n",
              "</table>\n",
              "</div>\n",
              "      <button class=\"colab-df-convert\" onclick=\"convertToInteractive('df-041113cd-f65b-419e-827e-3a648fa72e08')\"\n",
              "              title=\"Convert this dataframe to an interactive table.\"\n",
              "              style=\"display:none;\">\n",
              "        \n",
              "  <svg xmlns=\"http://www.w3.org/2000/svg\" height=\"24px\"viewBox=\"0 0 24 24\"\n",
              "       width=\"24px\">\n",
              "    <path d=\"M0 0h24v24H0V0z\" fill=\"none\"/>\n",
              "    <path d=\"M18.56 5.44l.94 2.06.94-2.06 2.06-.94-2.06-.94-.94-2.06-.94 2.06-2.06.94zm-11 1L8.5 8.5l.94-2.06 2.06-.94-2.06-.94L8.5 2.5l-.94 2.06-2.06.94zm10 10l.94 2.06.94-2.06 2.06-.94-2.06-.94-.94-2.06-.94 2.06-2.06.94z\"/><path d=\"M17.41 7.96l-1.37-1.37c-.4-.4-.92-.59-1.43-.59-.52 0-1.04.2-1.43.59L10.3 9.45l-7.72 7.72c-.78.78-.78 2.05 0 2.83L4 21.41c.39.39.9.59 1.41.59.51 0 1.02-.2 1.41-.59l7.78-7.78 2.81-2.81c.8-.78.8-2.07 0-2.86zM5.41 20L4 18.59l7.72-7.72 1.47 1.35L5.41 20z\"/>\n",
              "  </svg>\n",
              "      </button>\n",
              "      \n",
              "  <style>\n",
              "    .colab-df-container {\n",
              "      display:flex;\n",
              "      flex-wrap:wrap;\n",
              "      gap: 12px;\n",
              "    }\n",
              "\n",
              "    .colab-df-convert {\n",
              "      background-color: #E8F0FE;\n",
              "      border: none;\n",
              "      border-radius: 50%;\n",
              "      cursor: pointer;\n",
              "      display: none;\n",
              "      fill: #1967D2;\n",
              "      height: 32px;\n",
              "      padding: 0 0 0 0;\n",
              "      width: 32px;\n",
              "    }\n",
              "\n",
              "    .colab-df-convert:hover {\n",
              "      background-color: #E2EBFA;\n",
              "      box-shadow: 0px 1px 2px rgba(60, 64, 67, 0.3), 0px 1px 3px 1px rgba(60, 64, 67, 0.15);\n",
              "      fill: #174EA6;\n",
              "    }\n",
              "\n",
              "    [theme=dark] .colab-df-convert {\n",
              "      background-color: #3B4455;\n",
              "      fill: #D2E3FC;\n",
              "    }\n",
              "\n",
              "    [theme=dark] .colab-df-convert:hover {\n",
              "      background-color: #434B5C;\n",
              "      box-shadow: 0px 1px 3px 1px rgba(0, 0, 0, 0.15);\n",
              "      filter: drop-shadow(0px 1px 2px rgba(0, 0, 0, 0.3));\n",
              "      fill: #FFFFFF;\n",
              "    }\n",
              "  </style>\n",
              "\n",
              "      <script>\n",
              "        const buttonEl =\n",
              "          document.querySelector('#df-041113cd-f65b-419e-827e-3a648fa72e08 button.colab-df-convert');\n",
              "        buttonEl.style.display =\n",
              "          google.colab.kernel.accessAllowed ? 'block' : 'none';\n",
              "\n",
              "        async function convertToInteractive(key) {\n",
              "          const element = document.querySelector('#df-041113cd-f65b-419e-827e-3a648fa72e08');\n",
              "          const dataTable =\n",
              "            await google.colab.kernel.invokeFunction('convertToInteractive',\n",
              "                                                     [key], {});\n",
              "          if (!dataTable) return;\n",
              "\n",
              "          const docLinkHtml = 'Like what you see? Visit the ' +\n",
              "            '<a target=\"_blank\" href=https://colab.research.google.com/notebooks/data_table.ipynb>data table notebook</a>'\n",
              "            + ' to learn more about interactive tables.';\n",
              "          element.innerHTML = '';\n",
              "          dataTable['output_type'] = 'display_data';\n",
              "          await google.colab.output.renderOutput(dataTable, element);\n",
              "          const docLink = document.createElement('div');\n",
              "          docLink.innerHTML = docLinkHtml;\n",
              "          element.appendChild(docLink);\n",
              "        }\n",
              "      </script>\n",
              "    </div>\n",
              "  </div>\n",
              "  "
            ]
          },
          "metadata": {},
          "execution_count": 100
        }
      ]
    },
    {
      "cell_type": "code",
      "source": [
        "y = (df_modelo.iloc[:, -1])\n",
        "y.head()"
      ],
      "metadata": {
        "colab": {
          "base_uri": "https://localhost:8080/"
        },
        "id": "gv5EkkLpemPQ",
        "outputId": "65c88f00-e76b-458a-d1fb-85ef1052f3f6"
      },
      "execution_count": 101,
      "outputs": [
        {
          "output_type": "execute_result",
          "data": {
            "text/plain": [
              "0    0\n",
              "1    2\n",
              "2    1\n",
              "3    0\n",
              "4    2\n",
              "Name: C, dtype: int64"
            ]
          },
          "metadata": {},
          "execution_count": 101
        }
      ]
    },
    {
      "cell_type": "code",
      "source": [
        "# Seleccionar las 8 mejores variables\n",
        "skb = SelectKBest(score_func=chi2, k=8)\n",
        "f_best = skb.fit_transform(X, y)\n",
        "\n",
        "top_features = sorted(zip(list(X.columns), skb.scores_), key=lambda x: x[1], reverse=True)\n",
        "top_features"
      ],
      "metadata": {
        "colab": {
          "base_uri": "https://localhost:8080/"
        },
        "id": "vc9jdyILawJg",
        "outputId": "7d69c12a-3020-47d0-8920-f2a828d71d8e"
      },
      "execution_count": 102,
      "outputs": [
        {
          "output_type": "execute_result",
          "data": {
            "text/plain": [
              "[('CC', 58135.64001704063),\n",
              " ('MP', 47965.17440914534),\n",
              " ('TC', 27652.95955955039),\n",
              " ('PP', 17308.3507386778),\n",
              " ('TR', 10222.724289715414),\n",
              " ('NSE', 2549.0238945347473),\n",
              " ('E', 777.1622315463358),\n",
              " ('EC', 67.32377520270178),\n",
              " ('G', 29.85555134650568)]"
            ]
          },
          "metadata": {},
          "execution_count": 102
        }
      ]
    },
    {
      "cell_type": "code",
      "source": [
        "data = pd.DataFrame(df_modelo, columns=[i[0] for i in top_features[:skb.k]])\n",
        "data[df_modelo.columns[-1]] = y\n",
        "data.head()"
      ],
      "metadata": {
        "colab": {
          "base_uri": "https://localhost:8080/",
          "height": 206
        },
        "id": "8ML8nH1fgQAi",
        "outputId": "94ecf2f7-72c0-4516-a749-33f528fe340e"
      },
      "execution_count": 104,
      "outputs": [
        {
          "output_type": "execute_result",
          "data": {
            "text/plain": [
              "   CC  MP  TC  PP  TR  NSE  E  EC  C\n",
              "0   0   0   1   0   0    2  1   1  0\n",
              "1   0   0   1   0   0    1  2   1  2\n",
              "2   0   1   1   0   1    1  1   0  1\n",
              "3   0   0   0   0   0    2  2   1  0\n",
              "4   0   0   0   0   1    1  2   0  2"
            ],
            "text/html": [
              "\n",
              "  <div id=\"df-8190980e-8f6e-4e47-8f47-6e0e093107dd\">\n",
              "    <div class=\"colab-df-container\">\n",
              "      <div>\n",
              "<style scoped>\n",
              "    .dataframe tbody tr th:only-of-type {\n",
              "        vertical-align: middle;\n",
              "    }\n",
              "\n",
              "    .dataframe tbody tr th {\n",
              "        vertical-align: top;\n",
              "    }\n",
              "\n",
              "    .dataframe thead th {\n",
              "        text-align: right;\n",
              "    }\n",
              "</style>\n",
              "<table border=\"1\" class=\"dataframe\">\n",
              "  <thead>\n",
              "    <tr style=\"text-align: right;\">\n",
              "      <th></th>\n",
              "      <th>CC</th>\n",
              "      <th>MP</th>\n",
              "      <th>TC</th>\n",
              "      <th>PP</th>\n",
              "      <th>TR</th>\n",
              "      <th>NSE</th>\n",
              "      <th>E</th>\n",
              "      <th>EC</th>\n",
              "      <th>C</th>\n",
              "    </tr>\n",
              "  </thead>\n",
              "  <tbody>\n",
              "    <tr>\n",
              "      <th>0</th>\n",
              "      <td>0</td>\n",
              "      <td>0</td>\n",
              "      <td>1</td>\n",
              "      <td>0</td>\n",
              "      <td>0</td>\n",
              "      <td>2</td>\n",
              "      <td>1</td>\n",
              "      <td>1</td>\n",
              "      <td>0</td>\n",
              "    </tr>\n",
              "    <tr>\n",
              "      <th>1</th>\n",
              "      <td>0</td>\n",
              "      <td>0</td>\n",
              "      <td>1</td>\n",
              "      <td>0</td>\n",
              "      <td>0</td>\n",
              "      <td>1</td>\n",
              "      <td>2</td>\n",
              "      <td>1</td>\n",
              "      <td>2</td>\n",
              "    </tr>\n",
              "    <tr>\n",
              "      <th>2</th>\n",
              "      <td>0</td>\n",
              "      <td>1</td>\n",
              "      <td>1</td>\n",
              "      <td>0</td>\n",
              "      <td>1</td>\n",
              "      <td>1</td>\n",
              "      <td>1</td>\n",
              "      <td>0</td>\n",
              "      <td>1</td>\n",
              "    </tr>\n",
              "    <tr>\n",
              "      <th>3</th>\n",
              "      <td>0</td>\n",
              "      <td>0</td>\n",
              "      <td>0</td>\n",
              "      <td>0</td>\n",
              "      <td>0</td>\n",
              "      <td>2</td>\n",
              "      <td>2</td>\n",
              "      <td>1</td>\n",
              "      <td>0</td>\n",
              "    </tr>\n",
              "    <tr>\n",
              "      <th>4</th>\n",
              "      <td>0</td>\n",
              "      <td>0</td>\n",
              "      <td>0</td>\n",
              "      <td>0</td>\n",
              "      <td>1</td>\n",
              "      <td>1</td>\n",
              "      <td>2</td>\n",
              "      <td>0</td>\n",
              "      <td>2</td>\n",
              "    </tr>\n",
              "  </tbody>\n",
              "</table>\n",
              "</div>\n",
              "      <button class=\"colab-df-convert\" onclick=\"convertToInteractive('df-8190980e-8f6e-4e47-8f47-6e0e093107dd')\"\n",
              "              title=\"Convert this dataframe to an interactive table.\"\n",
              "              style=\"display:none;\">\n",
              "        \n",
              "  <svg xmlns=\"http://www.w3.org/2000/svg\" height=\"24px\"viewBox=\"0 0 24 24\"\n",
              "       width=\"24px\">\n",
              "    <path d=\"M0 0h24v24H0V0z\" fill=\"none\"/>\n",
              "    <path d=\"M18.56 5.44l.94 2.06.94-2.06 2.06-.94-2.06-.94-.94-2.06-.94 2.06-2.06.94zm-11 1L8.5 8.5l.94-2.06 2.06-.94-2.06-.94L8.5 2.5l-.94 2.06-2.06.94zm10 10l.94 2.06.94-2.06 2.06-.94-2.06-.94-.94-2.06-.94 2.06-2.06.94z\"/><path d=\"M17.41 7.96l-1.37-1.37c-.4-.4-.92-.59-1.43-.59-.52 0-1.04.2-1.43.59L10.3 9.45l-7.72 7.72c-.78.78-.78 2.05 0 2.83L4 21.41c.39.39.9.59 1.41.59.51 0 1.02-.2 1.41-.59l7.78-7.78 2.81-2.81c.8-.78.8-2.07 0-2.86zM5.41 20L4 18.59l7.72-7.72 1.47 1.35L5.41 20z\"/>\n",
              "  </svg>\n",
              "      </button>\n",
              "      \n",
              "  <style>\n",
              "    .colab-df-container {\n",
              "      display:flex;\n",
              "      flex-wrap:wrap;\n",
              "      gap: 12px;\n",
              "    }\n",
              "\n",
              "    .colab-df-convert {\n",
              "      background-color: #E8F0FE;\n",
              "      border: none;\n",
              "      border-radius: 50%;\n",
              "      cursor: pointer;\n",
              "      display: none;\n",
              "      fill: #1967D2;\n",
              "      height: 32px;\n",
              "      padding: 0 0 0 0;\n",
              "      width: 32px;\n",
              "    }\n",
              "\n",
              "    .colab-df-convert:hover {\n",
              "      background-color: #E2EBFA;\n",
              "      box-shadow: 0px 1px 2px rgba(60, 64, 67, 0.3), 0px 1px 3px 1px rgba(60, 64, 67, 0.15);\n",
              "      fill: #174EA6;\n",
              "    }\n",
              "\n",
              "    [theme=dark] .colab-df-convert {\n",
              "      background-color: #3B4455;\n",
              "      fill: #D2E3FC;\n",
              "    }\n",
              "\n",
              "    [theme=dark] .colab-df-convert:hover {\n",
              "      background-color: #434B5C;\n",
              "      box-shadow: 0px 1px 3px 1px rgba(0, 0, 0, 0.15);\n",
              "      filter: drop-shadow(0px 1px 2px rgba(0, 0, 0, 0.3));\n",
              "      fill: #FFFFFF;\n",
              "    }\n",
              "  </style>\n",
              "\n",
              "      <script>\n",
              "        const buttonEl =\n",
              "          document.querySelector('#df-8190980e-8f6e-4e47-8f47-6e0e093107dd button.colab-df-convert');\n",
              "        buttonEl.style.display =\n",
              "          google.colab.kernel.accessAllowed ? 'block' : 'none';\n",
              "\n",
              "        async function convertToInteractive(key) {\n",
              "          const element = document.querySelector('#df-8190980e-8f6e-4e47-8f47-6e0e093107dd');\n",
              "          const dataTable =\n",
              "            await google.colab.kernel.invokeFunction('convertToInteractive',\n",
              "                                                     [key], {});\n",
              "          if (!dataTable) return;\n",
              "\n",
              "          const docLinkHtml = 'Like what you see? Visit the ' +\n",
              "            '<a target=\"_blank\" href=https://colab.research.google.com/notebooks/data_table.ipynb>data table notebook</a>'\n",
              "            + ' to learn more about interactive tables.';\n",
              "          element.innerHTML = '';\n",
              "          dataTable['output_type'] = 'display_data';\n",
              "          await google.colab.output.renderOutput(dataTable, element);\n",
              "          const docLink = document.createElement('div');\n",
              "          docLink.innerHTML = docLinkHtml;\n",
              "          element.appendChild(docLink);\n",
              "        }\n",
              "      </script>\n",
              "    </div>\n",
              "  </div>\n",
              "  "
            ]
          },
          "metadata": {},
          "execution_count": 104
        }
      ]
    },
    {
      "cell_type": "code",
      "source": [
        "# probbabilidad conjunta\n",
        "joint_probability = data.groupby([data.columns], axis=1).size()/data.shape[0]\n",
        "pd.DataFrame(joint_probability)"
      ],
      "metadata": {
        "colab": {
          "base_uri": "https://localhost:8080/",
          "height": 331
        },
        "id": "vOUhxXVWhXS5",
        "outputId": "ece27b88-4197-4565-9e31-937beeb743f4"
      },
      "execution_count": 107,
      "outputs": [
        {
          "output_type": "execute_result",
          "data": {
            "text/plain": [
              "            0\n",
              "C    0.000001\n",
              "CC   0.000001\n",
              "E    0.000001\n",
              "EC   0.000001\n",
              "MP   0.000001\n",
              "NSE  0.000001\n",
              "PP   0.000001\n",
              "TC   0.000001\n",
              "TR   0.000001"
            ],
            "text/html": [
              "\n",
              "  <div id=\"df-ab31995b-505b-46b4-a5d8-27bf0bf13a39\">\n",
              "    <div class=\"colab-df-container\">\n",
              "      <div>\n",
              "<style scoped>\n",
              "    .dataframe tbody tr th:only-of-type {\n",
              "        vertical-align: middle;\n",
              "    }\n",
              "\n",
              "    .dataframe tbody tr th {\n",
              "        vertical-align: top;\n",
              "    }\n",
              "\n",
              "    .dataframe thead th {\n",
              "        text-align: right;\n",
              "    }\n",
              "</style>\n",
              "<table border=\"1\" class=\"dataframe\">\n",
              "  <thead>\n",
              "    <tr style=\"text-align: right;\">\n",
              "      <th></th>\n",
              "      <th>0</th>\n",
              "    </tr>\n",
              "  </thead>\n",
              "  <tbody>\n",
              "    <tr>\n",
              "      <th>C</th>\n",
              "      <td>0.000001</td>\n",
              "    </tr>\n",
              "    <tr>\n",
              "      <th>CC</th>\n",
              "      <td>0.000001</td>\n",
              "    </tr>\n",
              "    <tr>\n",
              "      <th>E</th>\n",
              "      <td>0.000001</td>\n",
              "    </tr>\n",
              "    <tr>\n",
              "      <th>EC</th>\n",
              "      <td>0.000001</td>\n",
              "    </tr>\n",
              "    <tr>\n",
              "      <th>MP</th>\n",
              "      <td>0.000001</td>\n",
              "    </tr>\n",
              "    <tr>\n",
              "      <th>NSE</th>\n",
              "      <td>0.000001</td>\n",
              "    </tr>\n",
              "    <tr>\n",
              "      <th>PP</th>\n",
              "      <td>0.000001</td>\n",
              "    </tr>\n",
              "    <tr>\n",
              "      <th>TC</th>\n",
              "      <td>0.000001</td>\n",
              "    </tr>\n",
              "    <tr>\n",
              "      <th>TR</th>\n",
              "      <td>0.000001</td>\n",
              "    </tr>\n",
              "  </tbody>\n",
              "</table>\n",
              "</div>\n",
              "      <button class=\"colab-df-convert\" onclick=\"convertToInteractive('df-ab31995b-505b-46b4-a5d8-27bf0bf13a39')\"\n",
              "              title=\"Convert this dataframe to an interactive table.\"\n",
              "              style=\"display:none;\">\n",
              "        \n",
              "  <svg xmlns=\"http://www.w3.org/2000/svg\" height=\"24px\"viewBox=\"0 0 24 24\"\n",
              "       width=\"24px\">\n",
              "    <path d=\"M0 0h24v24H0V0z\" fill=\"none\"/>\n",
              "    <path d=\"M18.56 5.44l.94 2.06.94-2.06 2.06-.94-2.06-.94-.94-2.06-.94 2.06-2.06.94zm-11 1L8.5 8.5l.94-2.06 2.06-.94-2.06-.94L8.5 2.5l-.94 2.06-2.06.94zm10 10l.94 2.06.94-2.06 2.06-.94-2.06-.94-.94-2.06-.94 2.06-2.06.94z\"/><path d=\"M17.41 7.96l-1.37-1.37c-.4-.4-.92-.59-1.43-.59-.52 0-1.04.2-1.43.59L10.3 9.45l-7.72 7.72c-.78.78-.78 2.05 0 2.83L4 21.41c.39.39.9.59 1.41.59.51 0 1.02-.2 1.41-.59l7.78-7.78 2.81-2.81c.8-.78.8-2.07 0-2.86zM5.41 20L4 18.59l7.72-7.72 1.47 1.35L5.41 20z\"/>\n",
              "  </svg>\n",
              "      </button>\n",
              "      \n",
              "  <style>\n",
              "    .colab-df-container {\n",
              "      display:flex;\n",
              "      flex-wrap:wrap;\n",
              "      gap: 12px;\n",
              "    }\n",
              "\n",
              "    .colab-df-convert {\n",
              "      background-color: #E8F0FE;\n",
              "      border: none;\n",
              "      border-radius: 50%;\n",
              "      cursor: pointer;\n",
              "      display: none;\n",
              "      fill: #1967D2;\n",
              "      height: 32px;\n",
              "      padding: 0 0 0 0;\n",
              "      width: 32px;\n",
              "    }\n",
              "\n",
              "    .colab-df-convert:hover {\n",
              "      background-color: #E2EBFA;\n",
              "      box-shadow: 0px 1px 2px rgba(60, 64, 67, 0.3), 0px 1px 3px 1px rgba(60, 64, 67, 0.15);\n",
              "      fill: #174EA6;\n",
              "    }\n",
              "\n",
              "    [theme=dark] .colab-df-convert {\n",
              "      background-color: #3B4455;\n",
              "      fill: #D2E3FC;\n",
              "    }\n",
              "\n",
              "    [theme=dark] .colab-df-convert:hover {\n",
              "      background-color: #434B5C;\n",
              "      box-shadow: 0px 1px 3px 1px rgba(0, 0, 0, 0.15);\n",
              "      filter: drop-shadow(0px 1px 2px rgba(0, 0, 0, 0.3));\n",
              "      fill: #FFFFFF;\n",
              "    }\n",
              "  </style>\n",
              "\n",
              "      <script>\n",
              "        const buttonEl =\n",
              "          document.querySelector('#df-ab31995b-505b-46b4-a5d8-27bf0bf13a39 button.colab-df-convert');\n",
              "        buttonEl.style.display =\n",
              "          google.colab.kernel.accessAllowed ? 'block' : 'none';\n",
              "\n",
              "        async function convertToInteractive(key) {\n",
              "          const element = document.querySelector('#df-ab31995b-505b-46b4-a5d8-27bf0bf13a39');\n",
              "          const dataTable =\n",
              "            await google.colab.kernel.invokeFunction('convertToInteractive',\n",
              "                                                     [key], {});\n",
              "          if (!dataTable) return;\n",
              "\n",
              "          const docLinkHtml = 'Like what you see? Visit the ' +\n",
              "            '<a target=\"_blank\" href=https://colab.research.google.com/notebooks/data_table.ipynb>data table notebook</a>'\n",
              "            + ' to learn more about interactive tables.';\n",
              "          element.innerHTML = '';\n",
              "          dataTable['output_type'] = 'display_data';\n",
              "          await google.colab.output.renderOutput(dataTable, element);\n",
              "          const docLink = document.createElement('div');\n",
              "          docLink.innerHTML = docLinkHtml;\n",
              "          element.appendChild(docLink);\n",
              "        }\n",
              "      </script>\n",
              "    </div>\n",
              "  </div>\n",
              "  "
            ]
          },
          "metadata": {},
          "execution_count": 107
        }
      ]
    },
    {
      "cell_type": "markdown",
      "source": [
        "### 2.4.2. Grafico aciciclo dirigido"
      ],
      "metadata": {
        "id": "p0Qbwvs1iH5S"
      }
    },
    {
      "cell_type": "code",
      "source": [
        "ts = TreeSearch(df_modelo, root_node='NSE')\n",
        "dag = ts.estimate(estimator_type='chow-liu')\n",
        "pos = {'NSE': (1, 1), 'TR': (1, 0), 'MP': (1, -1), 'PP': (1, -2), 'CC': (2, -1), 'E': (2.5, 0),'G': (0, 0),'EC': (3.5, 0),'TC': (0, -1),'C': (2, -2)}\n",
        "nx.draw(dag, pos=pos, with_labels=True, node_size=1200, node_color='#6e6edb', font_size=11, font_weight='bold', alpha=0.8)\n",
        "plt.show()"
      ],
      "metadata": {
        "colab": {
          "base_uri": "https://localhost:8080/",
          "height": 548,
          "referenced_widgets": [
            "012864687360450a8ce6c27d1b305d1e",
            "c67e46e9a69543c9b9235af7e7abf1d8",
            "279ea7f0eb0f4a7c96006ec4ba8b6a59",
            "fea5ae544de64c01a346e1a86d3d1ced",
            "4b52f68c049f45c9825aa5c27df64a17",
            "2c242ac41eaa47e3816166bf4639f34f",
            "14662ea82f214c71a8f47df18461ddbf",
            "0b7eaaa0ec7e4b12ad319c0fb10d99d7",
            "1b050e0b0f6f4570ab8062a66cd6a224",
            "e91d1694160944b788549e857b94f1ce",
            "d33e637df4514f9bb8c9e16b57793700"
          ]
        },
        "id": "J547Ot5CiHJQ",
        "outputId": "6ee06b13-0fad-42b1-b76f-990641b70364"
      },
      "execution_count": 124,
      "outputs": [
        {
          "output_type": "display_data",
          "data": {
            "text/plain": [
              "Building tree:   0%|          | 0/45.0 [00:00<?, ?it/s]"
            ],
            "application/vnd.jupyter.widget-view+json": {
              "version_major": 2,
              "version_minor": 0,
              "model_id": "012864687360450a8ce6c27d1b305d1e"
            }
          },
          "metadata": {}
        },
        {
          "output_type": "display_data",
          "data": {
            "text/plain": [
              "<Figure size 640x480 with 1 Axes>"
            ],
            "image/png": "[encoded data removed]"
          },
          "metadata": {}
        }
      ]
    },
    {
      "cell_type": "markdown",
      "source": [
        "### 2.4.3. CPDs"
      ],
      "metadata": {
        "id": "zwrngPWTkfOi"
      }
    },
    {
      "cell_type": "code",
      "source": [
        "bn = BayesianNetwork(dag)\n",
        "bn.fit(df_modelo)\n",
        "\n",
        "for i in data.columns:\n",
        "  print(i,'\\n',bn.get_cpds(i),'\\n')"
      ],
      "metadata": {
        "colab": {
          "base_uri": "https://localhost:8080/"
        },
        "id": "VOwn6tWuhZgb",
        "outputId": "55cac209-fe25-44cb-a19a-19afbd3054d1"
      },
      "execution_count": 126,
      "outputs": [
        {
          "output_type": "stream",
          "name": "stdout",
          "text": [
            "CC \n",
            " +-------+---------------------+-----+---------------------+\n",
            "| E     | E(0)                | ... | E(4)                |\n",
            "+-------+---------------------+-----+---------------------+\n",
            "| CC(0) | 0.7331150721474475  | ... | 0.9156980442501417  |\n",
            "+-------+---------------------+-----+---------------------+\n",
            "| CC(1) | 0.26688492785255247 | ... | 0.08430195574985833 |\n",
            "+-------+---------------------+-----+---------------------+ \n",
            "\n",
            "MP \n",
            " +-------+--------------------+---------------------+--------------------+\n",
            "| C     | C(0)               | C(1)                | C(2)               |\n",
            "+-------+--------------------+---------------------+--------------------+\n",
            "| MP(0) | 0.7896045054200542 | 0.6618275459325588  | 0.4987486839041062 |\n",
            "+-------+--------------------+---------------------+--------------------+\n",
            "| MP(1) | 0.2103954945799458 | 0.33817245406744123 | 0.5012513160958938 |\n",
            "+-------+--------------------+---------------------+--------------------+ \n",
            "\n",
            "TC \n",
            " +-------+---------------------+---------------------+\n",
            "| MP    | MP(0)               | MP(1)               |\n",
            "+-------+---------------------+---------------------+\n",
            "| TC(0) | 0.5353347315196945  | 0.7854026167855414  |\n",
            "+-------+---------------------+---------------------+\n",
            "| TC(1) | 0.46466526848030554 | 0.21459738321445862 |\n",
            "+-------+---------------------+---------------------+ \n",
            "\n",
            "PP \n",
            " +-------+---------------------+---------------------+\n",
            "| MP    | MP(0)               | MP(1)               |\n",
            "+-------+---------------------+---------------------+\n",
            "| PP(0) | 0.9812626013172177  | 0.8582538522499854  |\n",
            "+-------+---------------------+---------------------+\n",
            "| PP(1) | 0.01873739868278234 | 0.14174614775001465 |\n",
            "+-------+---------------------+---------------------+ \n",
            "\n",
            "TR \n",
            " +-------+---------------------+---------------------+\n",
            "| MP    | MP(0)               | MP(1)               |\n",
            "+-------+---------------------+---------------------+\n",
            "| TR(0) | 0.5669950953383947  | 0.08100749018628331 |\n",
            "+-------+---------------------+---------------------+\n",
            "| TR(1) | 0.43300490466160535 | 0.9189925098137167  |\n",
            "+-------+---------------------+---------------------+ \n",
            "\n",
            "NSE \n",
            " +--------+-----------+\n",
            "| NSE(0) | 0.182018  |\n",
            "+--------+-----------+\n",
            "| NSE(1) | 0.451917  |\n",
            "+--------+-----------+\n",
            "| NSE(2) | 0.298509  |\n",
            "+--------+-----------+\n",
            "| NSE(3) | 0.056095  |\n",
            "+--------+-----------+\n",
            "| NSE(4) | 0.0114611 |\n",
            "+--------+-----------+ \n",
            "\n",
            "E \n",
            " +------+-----------------------+-----+----------------------+\n",
            "| NSE  | NSE(0)                | ... | NSE(4)               |\n",
            "+------+-----------------------+-----+----------------------+\n",
            "| E(0) | 0.0024297022782619306 | ... | 0.012598008985992424 |\n",
            "+------+-----------------------+-----+----------------------+\n",
            "| E(1) | 0.17082804031752546   | ... | 0.3700995507003788   |\n",
            "+------+-----------------------+-----+----------------------+\n",
            "| E(2) | 0.33842757212831936   | ... | 0.3062285261210466   |\n",
            "+------+-----------------------+-----+----------------------+\n",
            "| E(3) | 0.26289045814865564   | ... | 0.19267024931724078  |\n",
            "+------+-----------------------+-----+----------------------+\n",
            "| E(4) | 0.22542422712723764   | ... | 0.11840366487534137  |\n",
            "+------+-----------------------+-----+----------------------+ \n",
            "\n",
            "EC \n",
            " +-------+----------------------+-----+---------------------+\n",
            "| E     | E(0)                 | ... | E(4)                |\n",
            "+-------+----------------------+-----+---------------------+\n",
            "| EC(0) | 0.9919970898508549   | ... | 0.24733122838670876 |\n",
            "+-------+----------------------+-----+---------------------+\n",
            "| EC(1) | 0.008002910149145144 | ... | 0.7526687716132913  |\n",
            "+-------+----------------------+-----+---------------------+ \n",
            "\n",
            "C \n",
            " +------+---------------------+---------------------+\n",
            "| CC   | CC(0)               | CC(1)               |\n",
            "+------+---------------------+---------------------+\n",
            "| C(0) | 0.5253254007780006  | 0.24838163874596492 |\n",
            "+------+---------------------+---------------------+\n",
            "| C(1) | 0.22214621957531788 | 0.1827694333281361  |\n",
            "+------+---------------------+---------------------+\n",
            "| C(2) | 0.2525283796466815  | 0.568848927925899   |\n",
            "+------+---------------------+---------------------+ \n",
            "\n"
          ]
        }
      ]
    },
    {
      "cell_type": "markdown",
      "source": [
        "# Inferencias"
      ],
      "metadata": {
        "id": "sLhheoUflBvS"
      }
    },
    {
      "cell_type": "code",
      "source": [
        "inference = VariableElimination(model)"
      ],
      "metadata": {
        "id": "iWDnd_KEFWec"
      },
      "execution_count": 135,
      "outputs": []
    },
    {
      "cell_type": "markdown",
      "source": [
        "1. ¿Cuál es la probabilidad de contar con un cliente en el nivel socioeconómico A y otro cliente en el E? (marginal)"
      ],
      "metadata": {
        "id": "0JWSrrvWlHGV"
      }
    },
    {
      "cell_type": "code",
      "source": [
        "p_nse = inference.query(variables=['NSE'])\n",
        "print(p_nse)\n",
        "print('\\nLa probabilidad de que un cliente sea del NSE A es del ',round(p_nse.values[0]*100,2), \"%\")\n",
        "print('\\nLa probabilidad de que un cliente sea del NSE E es del ',round(p_nse.values[4]*100,2), \"%\")"
      ],
      "metadata": {
        "colab": {
          "base_uri": "https://localhost:8080/"
        },
        "id": "PiZvME1UlAKi",
        "outputId": "0b66edf6-4993-4af4-c89c-a40cf852e37d"
      },
      "execution_count": 146,
      "outputs": [
        {
          "output_type": "stream",
          "name": "stdout",
          "text": [
            "+--------+------------+\n",
            "| NSE    |   phi(NSE) |\n",
            "+========+============+\n",
            "| NSE(0) |     0.1820 |\n",
            "+--------+------------+\n",
            "| NSE(1) |     0.4519 |\n",
            "+--------+------------+\n",
            "| NSE(2) |     0.2985 |\n",
            "+--------+------------+\n",
            "| NSE(3) |     0.0561 |\n",
            "+--------+------------+\n",
            "| NSE(4) |     0.0115 |\n",
            "+--------+------------+\n",
            "\n",
            "La probabilidad de que un cliente sea del NSE A es del  18.2 %\n",
            "\n",
            "La probabilidad de que un cliente sea del NSE E es del  1.15 %\n"
          ]
        }
      ]
    },
    {
      "cell_type": "markdown",
      "source": [
        "2. ¿Cuál es la probabilidad de que un cliente se encuentre en una edad entre 36 y 45 años? (marginal)"
      ],
      "metadata": {
        "id": "hta8lL5amHPi"
      }
    },
    {
      "cell_type": "code",
      "source": [
        "p_e = inference.query(variables=['E'])\n",
        "print(p_e)\n",
        "print('\\nLa probabilidad de que un cliente tenga entre 36-45 años es del ',round(p_e.values[2]*100,2), \"%\")"
      ],
      "metadata": {
        "colab": {
          "base_uri": "https://localhost:8080/"
        },
        "id": "p1d_r7qKmLRC",
        "outputId": "bc808a3a-5a2e-416c-a1e3-e65ef036f949"
      },
      "execution_count": 148,
      "outputs": [
        {
          "output_type": "stream",
          "name": "stdout",
          "text": [
            "+------+----------+\n",
            "| E    |   phi(E) |\n",
            "+======+==========+\n",
            "| E(0) |   0.0083 |\n",
            "+------+----------+\n",
            "| E(1) |   0.2644 |\n",
            "+------+----------+\n",
            "| E(2) |   0.3233 |\n",
            "+------+----------+\n",
            "| E(3) |   0.2294 |\n",
            "+------+----------+\n",
            "| E(4) |   0.1746 |\n",
            "+------+----------+\n",
            "\n",
            "La probabilidad de que un cliente tenga entre 36-45 años es del  32.33 %\n"
          ]
        }
      ]
    },
    {
      "cell_type": "markdown",
      "source": [
        "3. ¿Cuáles son las probabilidades de que una persona del nivel socioeconómico A, B, C, D o E cuente con una tarjeta del retail? (condicional)"
      ],
      "metadata": {
        "id": "_3wngsG3mLZ7"
      }
    },
    {
      "cell_type": "code",
      "source": [
        "nse_list = ['A', 'B', 'C', 'D','E']\n",
        "\n",
        "for index,value in enumerate(nse_list):\n",
        "  p_nse_tr = inference.query(variables=['TR'], evidence={'NSE':index})\n",
        "  print(p_nse_tr)\n",
        "  print('\\nLa probabilidad de que un cliente de NSE ',value,' tenga tarjeta del retail es del ',round(p_nse_tr.values[1]*100,2), '%\\n')"
      ],
      "metadata": {
        "colab": {
          "base_uri": "https://localhost:8080/"
        },
        "id": "FUVJIS_imOZS",
        "outputId": "6202b3ba-e886-4df2-a939-9571dd3b8d5f"
      },
      "execution_count": 156,
      "outputs": [
        {
          "output_type": "stream",
          "name": "stdout",
          "text": [
            "+-------+-----------+\n",
            "| TR    |   phi(TR) |\n",
            "+=======+===========+\n",
            "| TR(0) |    0.4015 |\n",
            "+-------+-----------+\n",
            "| TR(1) |    0.5985 |\n",
            "+-------+-----------+\n",
            "\n",
            "La probabilidad de que un cliente de NSE  A  tenga tarjeta del retail es del  59.85 %\n",
            "\n",
            "+-------+-----------+\n",
            "| TR    |   phi(TR) |\n",
            "+=======+===========+\n",
            "| TR(0) |    0.3847 |\n",
            "+-------+-----------+\n",
            "| TR(1) |    0.6153 |\n",
            "+-------+-----------+\n",
            "\n",
            "La probabilidad de que un cliente de NSE  B  tenga tarjeta del retail es del  61.53 %\n",
            "\n",
            "+-------+-----------+\n",
            "| TR    |   phi(TR) |\n",
            "+=======+===========+\n",
            "| TR(0) |    0.4272 |\n",
            "+-------+-----------+\n",
            "| TR(1) |    0.5728 |\n",
            "+-------+-----------+\n",
            "\n",
            "La probabilidad de que un cliente de NSE  C  tenga tarjeta del retail es del  57.28 %\n",
            "\n",
            "+-------+-----------+\n",
            "| TR    |   phi(TR) |\n",
            "+=======+===========+\n",
            "| TR(0) |    0.4884 |\n",
            "+-------+-----------+\n",
            "| TR(1) |    0.5116 |\n",
            "+-------+-----------+\n",
            "\n",
            "La probabilidad de que un cliente de NSE  D  tenga tarjeta del retail es del  51.16 %\n",
            "\n",
            "+-------+-----------+\n",
            "| TR    |   phi(TR) |\n",
            "+=======+===========+\n",
            "| TR(0) |    0.5277 |\n",
            "+-------+-----------+\n",
            "| TR(1) |    0.4723 |\n",
            "+-------+-----------+\n",
            "\n",
            "La probabilidad de que un cliente de NSE  E  tenga tarjeta del retail es del  47.23 %\n",
            "\n"
          ]
        }
      ]
    },
    {
      "cell_type": "markdown",
      "source": [
        "4. ¿Cuál es la probabilidad de que un cliente que tiene tarjeta del retail la use? (condicional)"
      ],
      "metadata": {
        "id": "gAlPHrjLmOmS"
      }
    },
    {
      "cell_type": "code",
      "source": [
        "p_mp_tr = inference.query(variables=['MP'], evidence={'TR':1})\n",
        "print(p_mp_tr)\n",
        "print('\\nLa probabilidad de que un cliente que tiene tarjeta del retail lo use como medio de pago es del ',round(p_mp_tr.values[1]*100,2), \"%\")"
      ],
      "metadata": {
        "colab": {
          "base_uri": "https://localhost:8080/"
        },
        "id": "iOTCATKZmRKU",
        "outputId": "5802d13c-1667-4223-e0b7-1b09e028c92c"
      },
      "execution_count": 158,
      "outputs": [
        {
          "output_type": "stream",
          "name": "stdout",
          "text": [
            "+-------+-----------+\n",
            "| MP    |   phi(MP) |\n",
            "+=======+===========+\n",
            "| MP(0) |    0.4918 |\n",
            "+-------+-----------+\n",
            "| MP(1) |    0.5082 |\n",
            "+-------+-----------+\n",
            "\n",
            "La probabilidad de que un cliente que tiene tarjeta del retail lo use como médio de pago es del  50.82 %\n"
          ]
        }
      ]
    },
    {
      "cell_type": "markdown",
      "source": [
        "5. ¿Cuál es la probabilidad de que los clientes con una edad entre 36 y 45 años sean nuevos? (condicional)"
      ],
      "metadata": {
        "id": "CLrm5WrHmRbT"
      }
    },
    {
      "cell_type": "code",
      "source": [
        "p_tp_e = inference.query(variables=['TC'], evidence={'E':2})\n",
        "print(p_tp_e)\n",
        "print('\\nLa probabilidad de que un cliente que tiene entre 36 y 45 años sea nuevo es del',round(p_tp_e.values[0]*100,2), \"%\")"
      ],
      "metadata": {
        "colab": {
          "base_uri": "https://localhost:8080/"
        },
        "id": "g-J27i8lme90",
        "outputId": "82b00f55-0adf-44f3-efb7-11f57f4460d8"
      },
      "execution_count": 161,
      "outputs": [
        {
          "output_type": "stream",
          "name": "stdout",
          "text": [
            "+-------+-----------+\n",
            "| TC    |   phi(TC) |\n",
            "+=======+===========+\n",
            "| TC(0) |    0.6345 |\n",
            "+-------+-----------+\n",
            "| TC(1) |    0.3655 |\n",
            "+-------+-----------+\n",
            "\n",
            "La probabilidad de que un cliente que tiene entre 36 y 45 años sea nuevo es del 63.45 %\n"
          ]
        }
      ]
    },
    {
      "cell_type": "markdown",
      "source": [
        "6. ¿Cuál es la probabilidad de que un cliente que compró através del canal de compra tienda física tenga un monto de compra alto? (condicional)"
      ],
      "metadata": {
        "id": "N5S0BQ0-mfbK"
      }
    },
    {
      "cell_type": "code",
      "source": [
        "p_c_cc = inference.query(variables=['C'], evidence={'CC':0})\n",
        "print(p_c_cc)\n",
        "print('\\nLa probabilidad de que un cliente que compró en una tienda física tenga un monto de compra alto es del',round(p_c_cc.values[2]*100,2), \"%\")"
      ],
      "metadata": {
        "colab": {
          "base_uri": "https://localhost:8080/"
        },
        "id": "gJOIZozkmk0q",
        "outputId": "079dfa92-1a47-443b-f1ea-6c514c70c029"
      },
      "execution_count": 162,
      "outputs": [
        {
          "output_type": "stream",
          "name": "stdout",
          "text": [
            "+------+----------+\n",
            "| C    |   phi(C) |\n",
            "+======+==========+\n",
            "| C(0) |   0.5203 |\n",
            "+------+----------+\n",
            "| C(1) |   0.2234 |\n",
            "+------+----------+\n",
            "| C(2) |   0.2564 |\n",
            "+------+----------+\n",
            "\n",
            "La probabilidad de que un cliente que compró en una tienda física tenga un monto de compra alto es del 25.64 %\n"
          ]
        }
      ]
    },
    {
      "cell_type": "markdown",
      "source": [
        "7. ¿Cuál es la probabilidad de que un cliente de género masculino, con estado civil soltero y con una edad entre 26 y 35 años vuelva a comprar ? (conjunta)"
      ],
      "metadata": {
        "id": "nfk0premmk-y"
      }
    },
    {
      "cell_type": "code",
      "source": [
        "p_tc_gece = inference.query(variables=['TC'], evidence={'G':0,'EC':0,'E':1})\n",
        "print(p_tc_gece)\n",
        "print('\\nLa probabilidad de que un cliente de género masculino, con estado civil soltero y con una edad entre 26 y 35 años vuelva a comprar es del',round(p_tc_gece.values[1]*100,2), \"%\")"
      ],
      "metadata": {
        "colab": {
          "base_uri": "https://localhost:8080/"
        },
        "id": "v1ZYVZWnmn8L",
        "outputId": "61780716-8471-425a-d626-c79a464c9a4a"
      },
      "execution_count": 163,
      "outputs": [
        {
          "output_type": "stream",
          "name": "stdout",
          "text": [
            "+-------+-----------+\n",
            "| TC    |   phi(TC) |\n",
            "+=======+===========+\n",
            "| TC(0) |    0.6212 |\n",
            "+-------+-----------+\n",
            "| TC(1) |    0.3788 |\n",
            "+-------+-----------+\n",
            "\n",
            "La probabilidad de que un cliente de género masculino, con estado civil soltero y con una edad entre 26 y 35 años vuelva a comprar es del 37.88 %\n"
          ]
        }
      ]
    },
    {
      "cell_type": "markdown",
      "source": [
        "8. ¿Cuál es la probabilidad de que un cliente de nivel socioeconómico B con tarjeta de retail y con una edad entre 36 a 45 años realicé una compra con un rango de gasto medio? (conjunta)"
      ],
      "metadata": {
        "id": "sGS0JZxTmosa"
      }
    },
    {
      "cell_type": "code",
      "source": [
        "p_c_nte = inference.query(variables=['TC'], evidence={'NSE':1,'TR':1,'E':2})\n",
        "print(p_c_nte)\n",
        "print('\\nLa probabilidad de que un cliente de NSE B con tarjeta de retail y con una edad entre 36 a 45 años realicé una compra con un rango de gasto medio es del',round(p_c_nte.values[1]*100,2), \"%\")"
      ],
      "metadata": {
        "colab": {
          "base_uri": "https://localhost:8080/"
        },
        "id": "vm1uOrwDVg_s",
        "outputId": "44dc8337-8e93-4f41-ed02-e43bf31dcdac"
      },
      "execution_count": 164,
      "outputs": [
        {
          "output_type": "stream",
          "name": "stdout",
          "text": [
            "+-------+-----------+\n",
            "| TC    |   phi(TC) |\n",
            "+=======+===========+\n",
            "| TC(0) |    0.6345 |\n",
            "+-------+-----------+\n",
            "| TC(1) |    0.3655 |\n",
            "+-------+-----------+\n",
            "\n",
            "La probabilidad de que un cliente de NSE B con tarjeta de retail y con una edad entre 36 a 45 años realicé una compra con un rango de gasto medio es del 36.55 %\n"
          ]
        }
      ]
    },
    {
      "cell_type": "markdown",
      "source": [
        "# Predicciones"
      ],
      "metadata": {
        "id": "ikTCdzgZXGLv"
      }
    },
    {
      "cell_type": "code",
      "source": [
        "test = np.squeeze(df_modelo.iloc[:, -1].values)\n",
        "pred = df_modelo.iloc[:, :-1]\n",
        "\n",
        "y_pred = model.predict(pred)\n",
        "print(accuracy_score(np.squeeze(y_pred.values), test))"
      ],
      "metadata": {
        "colab": {
          "base_uri": "https://localhost:8080/",
          "height": 66,
          "referenced_widgets": [
            "0dfba40d5c8a4773af986bb327eb33f2",
            "4bc575383c0f4c7a8f9ff7b946e52303",
            "ebbdc86f78ff4942a64937d19b6c8914",
            "2a41189cddfc4f518619e7228e2218fa",
            "f8a4b1048af649e7a44b8c93092d0af7",
            "5a288efaa6584e29a103653fe93cfd50",
            "cdf12bcb07604cedbb6e7915d0c107ec",
            "8473471da84e4f458351765046235e48",
            "96adaeee334a40cc8af26a0f55c05f8a",
            "517ac38c6b1c4c0fbdb9759cdd50b5d8",
            "3f55b74a536043a0bad9d1f9ca8e843a"
          ]
        },
        "id": "xE8yRVk2XFfX",
        "outputId": "0d2719ad-38c5-46ef-82d3-be43a6d0339c"
      },
      "execution_count": 167,
      "outputs": [
        {
          "output_type": "display_data",
          "data": {
            "text/plain": [
              "  0%|          | 0/2559 [00:00<?, ?it/s]"
            ],
            "application/vnd.jupyter.widget-view+json": {
              "version_major": 2,
              "version_minor": 0,
              "model_id": "0dfba40d5c8a4773af986bb327eb33f2"
            }
          },
          "metadata": {}
        },
        {
          "output_type": "stream",
          "name": "stdout",
          "text": [
            "0.5390168741266085\n"
          ]
        }
      ]
    },
    {
      "cell_type": "code",
      "source": [
        "y_pred_ = bn.predict(pred)\n",
        "print(accuracy_score(np.squeeze(y_pred_.values), test))"
      ],
      "metadata": {
        "colab": {
          "base_uri": "https://localhost:8080/",
          "height": 66,
          "referenced_widgets": [
            "9ad2add0dbfc4156a5924c3661c1140b",
            "68843a24779546d5a5284ecf021411b7",
            "83e1bdc68c6d48d396c6cf97c42050b1",
            "8b1deab5c4fd4e1d804335151346e6e1",
            "b28f29b0cb4e459095b29d902e4b3a2a",
            "f7b8d8ed1430437db92602c655eff30c",
            "07e3ab01e3674a67b8b0bc5274b5a7fe",
            "beced9dd837048fc8100055d1c147114",
            "50a759df1c0b4ef186cf560539c9751c",
            "31b657559fda42139abf79da7e5f26c4",
            "98585e83a11e4e9eac745ca5366e2d94"
          ]
        },
        "id": "ufVIU046X5Xf",
        "outputId": "ef715589-5811-4155-b63d-a0397c8a48f2"
      },
      "execution_count": 168,
      "outputs": [
        {
          "output_type": "display_data",
          "data": {
            "text/plain": [
              "  0%|          | 0/2559 [00:00<?, ?it/s]"
            ],
            "application/vnd.jupyter.widget-view+json": {
              "version_major": 2,
              "version_minor": 0,
              "model_id": "9ad2add0dbfc4156a5924c3661c1140b"
            }
          },
          "metadata": {}
        },
        {
          "output_type": "stream",
          "name": "stdout",
          "text": [
            "0.5391955912406401\n"
          ]
        }
      ]
    }
  ]
}